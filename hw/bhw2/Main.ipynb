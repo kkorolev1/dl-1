{
 "cells": [
  {
   "cell_type": "code",
   "execution_count": 1,
   "id": "6eb87c76-d3c3-4b36-837c-f91a897ebcaf",
   "metadata": {},
   "outputs": [],
   "source": [
    "%load_ext autoreload\n",
    "%autoreload 2"
   ]
  },
  {
   "cell_type": "code",
   "execution_count": 2,
   "id": "f113deac-9808-41d6-8195-6ad52b9989d0",
   "metadata": {},
   "outputs": [],
   "source": [
    "import os\n",
    "import logging\n",
    "\n",
    "import torch\n",
    "from torch.utils.data import DataLoader\n",
    "\n",
    "from config import read_config, config_str\n",
    "from data import TextDataset\n",
    "from trainer import Trainer\n",
    "\n",
    "import gc"
   ]
  },
  {
   "cell_type": "code",
   "execution_count": 3,
   "id": "5b0235cf-b413-4797-9539-ce0ff477eff7",
   "metadata": {},
   "outputs": [],
   "source": [
    "logging.basicConfig(\n",
    "    handlers=[logging.FileHandler(\"debug.log\", mode='w'), logging.StreamHandler()],\n",
    "    level=logging.INFO, \n",
    "    format='[%(asctime)s] %(message)s',\n",
    "    datefmt='%Y-%m-%d %H:%M:%S'\n",
    " )\n",
    "\n",
    "os.environ[\"CUDA_VISIBLE_DEVICES\"] = \"0,1,2\""
   ]
  },
  {
   "cell_type": "code",
   "execution_count": 4,
   "id": "d6fe3118-0f8e-42d3-a3ba-b51383b52119",
   "metadata": {},
   "outputs": [
    {
     "name": "stderr",
     "output_type": "stream",
     "text": [
      "[2023-03-05 03:25:54] \n",
      "datadir: data\n",
      "vocabdir: vocab\n",
      "dataset: \n",
      "\ttrain: \n",
      "\t\tsrc: train.de-en.de\n",
      "\t\tdst: train.de-en.en\n",
      "\tval: \n",
      "\t\tsrc: val.de-en.de\n",
      "\t\tdst: val.de-en.en\n",
      "\ttest: \n",
      "\t\tsrc: test1.de-en.de\n",
      "language: \n",
      "\tsrc: de\n",
      "\tdst: en\n",
      "model: \n",
      "\tnum_encoder_layers: 3\n",
      "\tnum_decoder_layers: 3\n",
      "\tembedding_dim: 512\n",
      "\tnum_heads: 8\n",
      "\tfeedforward_dim: 512\n",
      "\tdropout: 0.1\n",
      "batch_size: 64\n",
      "num_workers: 4\n",
      "optimizer: \n",
      "\tlr: 1e-4\n",
      "\tbeta1: 0.9\n",
      "\tbeta2: 0.98\n",
      "\teps: 1e-9\n",
      "epochs: 10\n",
      "device_ids: [0, 1, 2]\n",
      "checkpoint: \n",
      "\tdir: checkpoints\n",
      "\tstep: 1\n",
      "[2023-03-05 03:25:56] Loaded vocab train de/en from vocab/vocab.pth\n",
      "[2023-03-05 03:25:56] Loaded vocab val de/en from vocab/vocab.pth\n",
      "[2023-03-05 03:25:56] Vocab sizes (123554, 56326)\n",
      "[2023-03-05 03:25:56] Device cuda:0\n"
     ]
    }
   ],
   "source": [
    "torch.cuda.empty_cache()\n",
    "gc.collect()\n",
    "\n",
    "config = read_config()\n",
    "\n",
    "logging.info(config_str(config))\n",
    "\n",
    "batch_size = config[\"batch_size\"]\n",
    "\n",
    "train_dataset = TextDataset(config, \"train\")\n",
    "train_loader = DataLoader(train_dataset, batch_size=batch_size, shuffle=True, collate_fn=TextDataset.get_collate_fn(), num_workers=config[\"num_workers\"], pin_memory=True)\n",
    "\n",
    "val_dataset = TextDataset(config, \"val\")\n",
    "val_loader = DataLoader(val_dataset, batch_size=batch_size, shuffle=False, collate_fn=TextDataset.get_collate_fn(), num_workers=config[\"num_workers\"], pin_memory=True)\n",
    "\n",
    "max_length = 128\n",
    "vocab_sizes = len(train_dataset.src_vocab), len(train_dataset.dst_vocab)     \n",
    "\n",
    "logging.info(\"Vocab sizes {}\".format(vocab_sizes))\n",
    "\n",
    "device = torch.device(f\"cuda:0\" if torch.cuda.is_available() else \"cpu\")\n",
    "logging.info(\"Device {}\".format(device))"
   ]
  },
  {
   "cell_type": "code",
   "execution_count": 5,
   "id": "f621c8fe-2df7-4463-bdd3-dfd1233457bb",
   "metadata": {},
   "outputs": [
    {
     "name": "stderr",
     "output_type": "stream",
     "text": [
      "[2023-03-05 03:26:33] Checkpoint is loaded from checkpoints/test/epoch_10.ckpt with val_loss 1.98711\n"
     ]
    }
   ],
   "source": [
    "trainer = Trainer(config, vocab_sizes, max_length, device, run_name=\"test\")\n",
    "trainer.load_from_checkpoint(epoch=10)\n",
    "#trainer.train(config, train_loader, val_loader)"
   ]
  },
  {
   "cell_type": "code",
   "execution_count": 8,
   "id": "1bd8148a-22f3-4e0b-984c-c36003e4b01a",
   "metadata": {},
   "outputs": [
    {
     "name": "stderr",
     "output_type": "stream",
     "text": [
      "[2023-03-05 03:29:15] Loaded vocab test de/* from vocab/vocab.pth\n"
     ]
    }
   ],
   "source": [
    "from model import translate\n",
    "from tqdm import tqdm\n",
    "\n",
    "test_dataset = TextDataset(config, \"test\")\n",
    "test_loader = DataLoader(test_dataset, batch_size=1, shuffle=False, collate_fn=TextDataset.get_collate_fn(is_test=True))\n",
    "dst_vocab = train_dataset.vocabs[\"en\"]"
   ]
  },
  {
   "cell_type": "code",
   "execution_count": 11,
   "id": "4dbe8c4e-9da3-4fb1-b701-94abd39535fd",
   "metadata": {},
   "outputs": [
    {
     "name": "stderr",
     "output_type": "stream",
     "text": [
      "100%|██████████| 2998/2998 [06:12<00:00,  8.04it/s]\n"
     ]
    }
   ],
   "source": [
    "translated = []\n",
    "\n",
    "for src, _ in tqdm(test_loader):\n",
    "    dst_tokens = list(translate(trainer.model, src[0], device).cpu().numpy())\n",
    "    sentence = \" \".join(dst_vocab.lookup_tokens(dst_tokens)).replace(\"<bos>\", \"\").replace(\"<eos>\", \"\").strip()\n",
    "    translated.append(sentence)"
   ]
  },
  {
   "cell_type": "code",
   "execution_count": 12,
   "id": "546aca23-27eb-4c07-a55a-60a2d426e2eb",
   "metadata": {},
   "outputs": [],
   "source": [
    "with open(\"prediction.txt\", \"w\") as f:\n",
    "    for sentence in translated:\n",
    "        f.write(sentence + \"\\n\")"
   ]
  },
  {
   "cell_type": "code",
   "execution_count": null,
   "id": "12bef67f-cf80-4a27-ac5e-c364eeb0c536",
   "metadata": {},
   "outputs": [],
   "source": []
  }
 ],
 "metadata": {
  "kernelspec": {
   "display_name": "Python 3",
   "language": "python",
   "name": "python3"
  },
  "language_info": {
   "codemirror_mode": {
    "name": "ipython",
    "version": 3
   },
   "file_extension": ".py",
   "mimetype": "text/x-python",
   "name": "python",
   "nbconvert_exporter": "python",
   "pygments_lexer": "ipython3",
   "version": "3.10.4"
  },
  "vscode": {
   "interpreter": {
    "hash": "7e1998ff7f8aa20ada591c520b972326324e5ea05489af9e422744c7c09f6dad"
   }
  }
 },
 "nbformat": 4,
 "nbformat_minor": 5
}
