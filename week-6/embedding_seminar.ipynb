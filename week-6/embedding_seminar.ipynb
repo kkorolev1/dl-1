{
 "cells": [
  {
   "cell_type": "code",
   "execution_count": 3,
   "id": "00e9c822",
   "metadata": {},
   "outputs": [
    {
     "name": "stderr",
     "output_type": "stream",
     "text": [
      "--2023-01-16 22:06:05--  https://s3.amazonaws.com/research.metamind.io/wikitext/wikitext-2-v1.zip\n",
      "Resolving s3.amazonaws.com (s3.amazonaws.com)... 52.217.90.22, 52.216.25.134, 52.217.104.22, ...\n",
      "Connecting to s3.amazonaws.com (s3.amazonaws.com)|52.217.90.22|:443... connected.\n",
      "HTTP request sent, awaiting response... 200 OK\n",
      "Length: 4475746 (4.3M) [application/zip]\n",
      "Saving to: ‘wikitext-2-v1.zip’\n",
      "\n",
      "     0K .......... .......... .......... .......... ..........  1%  386K 11s\n",
      "    50K .......... .......... .......... .......... ..........  2%  390K 11s\n",
      "   100K .......... .......... .......... .......... ..........  3%  396K 11s\n",
      "   150K .......... .......... .......... .......... ..........  4%  189K 14s\n",
      "   200K .......... .......... .......... .......... ..........  5%  107M 11s\n",
      "   250K .......... .......... .......... .......... ..........  6%  115M 9s\n",
      "   300K .......... .......... .......... .......... ..........  8%  117M 7s\n",
      "   350K .......... .......... .......... .......... ..........  9%  117M 6s\n",
      "   400K .......... .......... .......... .......... .......... 10%  114M 6s\n",
      "   450K .......... .......... .......... .......... .......... 11%  120M 5s\n",
      "   500K .......... .......... .......... .......... .......... 12%  429K 5s\n",
      "   550K .......... .......... .......... .......... .......... 13% 10.4M 5s\n",
      "   600K .......... .......... .......... .......... .......... 14% 10.5M 4s\n",
      "   650K .......... .......... .......... .......... .......... 16%  423K 5s\n",
      "   700K .......... .......... .......... .......... .......... 17% 10.5M 4s\n",
      "   750K .......... .......... .......... .......... .......... 18% 11.1M 4s\n",
      "   800K .......... .......... .......... .......... .......... 19%  425K 4s\n",
      "   850K .......... .......... .......... .......... .......... 20% 13.9M 4s\n",
      "   900K .......... .......... .......... .......... .......... 21% 11.1M 4s\n",
      "   950K .......... .......... .......... .......... .......... 22%  428K 4s\n",
      "  1000K .......... .......... .......... .......... .......... 24% 8.41M 4s\n",
      "  1050K .......... .......... .......... .......... .......... 25% 11.8M 3s\n",
      "  1100K .......... .......... .......... .......... .......... 26%  432K 4s\n",
      "  1150K .......... .......... .......... .......... .......... 27% 8.27M 3s\n",
      "  1200K .......... .......... .......... .......... .......... 28% 10.5M 3s\n",
      "  1250K .......... .......... .......... .......... .......... 29% 11.1M 3s\n",
      "  1300K .......... .......... .......... .......... .......... 30%  430K 3s\n",
      "  1350K .......... .......... .......... .......... .......... 32% 9.56M 3s\n",
      "  1400K .......... .......... .......... .......... .......... 33% 11.1M 3s\n",
      "  1450K .......... .......... .......... .......... .......... 34%  432K 3s\n",
      "  1500K .......... .......... .......... .......... .......... 35% 9.93M 3s\n",
      "  1550K .......... .......... .......... .......... .......... 36% 10.5M 3s\n",
      "  1600K .......... .......... .......... .......... .......... 37%  435K 3s\n",
      "  1650K .......... .......... .......... .......... .......... 38% 8.84M 3s\n",
      "  1700K .......... .......... .......... .......... .......... 40% 14.9M 2s\n",
      "  1750K .......... .......... .......... .......... .......... 41% 10.6M 2s\n",
      "  1800K .......... .......... .......... .......... .......... 42%  436K 2s\n",
      "  1850K .......... .......... .......... .......... .......... 43% 9.29M 2s\n",
      "  1900K .......... .......... .......... .......... .......... 44% 9.80M 2s\n",
      "  1950K .......... .......... .......... .......... .......... 45% 11.1M 2s\n",
      "  2000K .......... .......... .......... .......... .......... 46%  434K 2s\n",
      "  2050K .......... .......... .......... .......... .......... 48% 10.0M 2s\n",
      "  2100K .......... .......... .......... .......... .......... 49% 10.5M 2s\n",
      "  2150K .......... .......... .......... .......... .......... 50%  440K 2s\n",
      "  2200K .......... .......... .......... .......... .......... 51% 8.34M 2s\n",
      "  2250K .......... .......... .......... .......... .......... 52% 11.1M 2s\n",
      "  2300K .......... .......... .......... .......... .......... 53% 10.4M 2s\n",
      "  2350K .......... .......... .......... .......... .......... 54%  437K 2s\n",
      "  2400K .......... .......... .......... .......... .......... 56% 9.02M 2s\n",
      "  2450K .......... .......... .......... .......... .......... 57% 11.7M 2s\n",
      "  2500K .......... .......... .......... .......... .......... 58% 10.5M 2s\n",
      "  2550K .......... .......... .......... .......... .......... 59%  444K 2s\n",
      "  2600K .......... .......... .......... .......... .......... 60% 9.20M 1s\n",
      "  2650K .......... .......... .......... .......... .......... 61% 10.6M 1s\n",
      "  2700K .......... .......... .......... .......... .......... 62% 11.0M 1s\n",
      "  2750K .......... .......... .......... .......... .......... 64%  439K 1s\n",
      "  2800K .......... .......... .......... .......... .......... 65% 8.93M 1s\n",
      "  2850K .......... .......... .......... .......... .......... 66% 11.1M 1s\n",
      "  2900K .......... .......... .......... .......... .......... 67% 10.4M 1s\n",
      "  2950K .......... .......... .......... .......... .......... 68%  440K 1s\n",
      "  3000K .......... .......... .......... .......... .......... 69% 9.56M 1s\n",
      "  3050K .......... .......... .......... .......... .......... 70% 10.5M 1s\n",
      "  3100K .......... .......... .......... .......... .......... 72% 11.1M 1s\n",
      "  3150K .......... .......... .......... .......... .......... 73%  438K 1s\n",
      "  3200K .......... .......... .......... .......... .......... 74% 11.0M 1s\n",
      "  3250K .......... .......... .......... .......... .......... 75% 10.5M 1s\n",
      "  3300K .......... .......... .......... .......... .......... 76% 1.06M 1s\n",
      "  3350K .......... .......... .......... .......... .......... 77%  690K 1s\n",
      "  3400K .......... .......... .......... .......... .......... 78% 16.1M 1s\n",
      "  3450K .......... .......... .......... .......... .......... 80% 10.6M 1s\n",
      "  3500K .......... .......... .......... .......... .......... 81% 11.0M 1s\n",
      "  3550K .......... .......... .......... .......... .......... 82%  438K 1s\n",
      "  3600K .......... .......... .......... .......... .......... 83% 10.6M 1s\n",
      "  3650K .......... .......... .......... .......... .......... 84% 10.5M 1s\n",
      "  3700K .......... .......... .......... .......... .......... 85% 11.1M 0s\n",
      "  3750K .......... .......... .......... .......... .......... 86%  440K 0s\n",
      "  3800K .......... .......... .......... .......... .......... 88% 10.7M 0s\n",
      "  3850K .......... .......... .......... .......... .......... 89% 10.6M 0s\n",
      "  3900K .......... .......... .......... .......... .......... 90% 1.08M 0s\n",
      "  3950K .......... .......... .......... .......... .......... 91%  686K 0s\n",
      "  4000K .......... .......... .......... .......... .......... 92% 11.1M 0s\n",
      "  4050K .......... .......... .......... .......... .......... 93% 11.1M 0s\n",
      "  4100K .......... .......... .......... .......... .......... 94% 1.07M 0s\n",
      "  4150K .......... .......... .......... .......... .......... 96%  685K 0s\n",
      "  4200K .......... .......... .......... .......... .......... 97% 11.0M 0s\n",
      "  4250K .......... .......... .......... .......... .......... 98% 16.1M 0s\n",
      "  4300K .......... .......... .......... .......... .......... 99% 11.2M 0s\n",
      "  4350K .......... ..........                                 100%  491K=3.4s\n",
      "\n",
      "2023-01-16 22:06:09 (1.27 MB/s) - ‘wikitext-2-v1.zip’ saved [4475746/4475746]\n",
      "\n"
     ]
    },
    {
     "name": "stdout",
     "output_type": "stream",
     "text": [
      "Archive:  wikitext-2-v1.zip\n",
      "   creating: wikitext-2/\n",
      "  inflating: wikitext-2/wiki.test.tokens  \n",
      "  inflating: wikitext-2/wiki.valid.tokens  \n",
      "  inflating: wikitext-2/wiki.train.tokens  \n"
     ]
    }
   ],
   "source": [
    "%%bash\n",
    "wget https://s3.amazonaws.com/research.metamind.io/wikitext/wikitext-2-v1.zip\n",
    "unzip wikitext-2-v1.zip"
   ]
  },
  {
   "cell_type": "code",
   "execution_count": 1,
   "id": "crude-puzzle",
   "metadata": {},
   "outputs": [],
   "source": [
    "import torch\n",
    "import torch.nn as nn\n",
    "from torch.utils.data import Dataset, DataLoader\n",
    "\n",
    "import numpy as np\n",
    "\n",
    "from torchtext.data.utils import get_tokenizer\n",
    "from torchtext.vocab import build_vocab_from_iterator\n",
    "\n",
    "import matplotlib.pyplot as plt\n",
    "import seaborn as sns\n",
    "\n",
    "sns.set_style('whitegrid')\n",
    "plt.rcParams.update({'font.size': 14})"
   ]
  },
  {
   "cell_type": "code",
   "execution_count": 2,
   "id": "fallen-technical",
   "metadata": {},
   "outputs": [],
   "source": [
    "TRAIN_TOKENS = 'wikitext-2/wiki.train.tokens'\n",
    "VALID_TOKENS = 'wikitext-2/wiki.valid.tokens'\n",
    "\n",
    "SKIPGRAM_N_WORDS = 4\n",
    "MIN_WORD_FREQUENCY = 20\n",
    "MAX_SEQUENCE_LENGTH = 256\n",
    "\n",
    "EMBED_DIM = 256\n",
    "EMBED_MAX_NORM = 1\n",
    "BATCH_SIZE = 16\n",
    "NUM_EPOCHS = 20"
   ]
  },
  {
   "cell_type": "code",
   "execution_count": 3,
   "id": "8a9ea756",
   "metadata": {},
   "outputs": [],
   "source": [
    "tokenizer = get_tokenizer('basic_english', language='en')\n",
    "\n",
    "def load_and_preprocess_dataset(path):\n",
    "    with open(path, 'r') as file:\n",
    "        lines = file.readlines()\n",
    "    \n",
    "    data = list(filter(\n",
    "        lambda sent: len(sent) > SKIPGRAM_N_WORDS * 2,\n",
    "        map(tokenizer, lines)\n",
    "    ))\n",
    "\n",
    "    return data"
   ]
  },
  {
   "cell_type": "code",
   "execution_count": 4,
   "id": "cc00edb4",
   "metadata": {},
   "outputs": [
    {
     "name": "stdout",
     "output_type": "stream",
     "text": [
      "Num sentences: train - 17715, valid - 1892)\n",
      "Total tokens: train - 2014338, valid - 211057)\n",
      "Average tokens in sentence: 113.71\n"
     ]
    }
   ],
   "source": [
    "train_data = load_and_preprocess_dataset(TRAIN_TOKENS)\n",
    "valid_data = load_and_preprocess_dataset(VALID_TOKENS)\n",
    "\n",
    "total_train_tokens = sum(len(sent) for sent in train_data)\n",
    "total_valid_tokens = sum(len(sent) for sent in valid_data)\n",
    "\n",
    "print(f'Num sentences: train - {len(train_data)}, valid - {len(valid_data)})')\n",
    "print(f'Total tokens: train - {total_train_tokens}, valid - {total_valid_tokens})')\n",
    "print(f'Average tokens in sentence: {total_train_tokens / len(train_data):.2f}')"
   ]
  },
  {
   "cell_type": "code",
   "execution_count": 5,
   "id": "fc2d5391",
   "metadata": {},
   "outputs": [
    {
     "data": {
      "image/png": "[encoded data removed]",
      "text/plain": [
       "<Figure size 500x500 with 1 Axes>"
      ]
     },
     "metadata": {},
     "output_type": "display_data"
    }
   ],
   "source": [
    "_ = sns.displot([len(sent) for sent in train_data])"
   ]
  },
  {
   "cell_type": "code",
   "execution_count": 6,
   "id": "eb683b8e",
   "metadata": {},
   "outputs": [
    {
     "name": "stdout",
     "output_type": "stream",
     "text": [
      "Vocab size: 8076\n"
     ]
    }
   ],
   "source": [
    "vocab = build_vocab_from_iterator(train_data, specials=[\"<unk>\"], min_freq=MIN_WORD_FREQUENCY)\n",
    "vocab.set_default_index(vocab[\"<unk>\"])\n",
    "\n",
    "VOCAB_SIZE = len(vocab)\n",
    "print(f'Vocab size: {VOCAB_SIZE}')"
   ]
  },
  {
   "cell_type": "code",
   "execution_count": 7,
   "id": "aecca99b",
   "metadata": {},
   "outputs": [
    {
     "data": {
      "text/plain": [
       "['during',\n",
       " 'the',\n",
       " 'month',\n",
       " 'of',\n",
       " 'august',\n",
       " ',',\n",
       " '1862',\n",
       " ',',\n",
       " 'the',\n",
       " 'following',\n",
       " 'work',\n",
       " 'was',\n",
       " 'performed',\n",
       " '<unk>',\n",
       " 'one',\n",
       " 'pair',\n",
       " 'of',\n",
       " 'musket',\n",
       " 'bullet',\n",
       " 'moulds',\n",
       " '10',\n",
       " '@',\n",
       " ',',\n",
       " '@',\n",
       " '000',\n",
       " 'buck',\n",
       " '&',\n",
       " 'ball',\n",
       " 'shot',\n",
       " 'cartridges',\n",
       " 'repaired',\n",
       " '750',\n",
       " '<unk>',\n",
       " ',',\n",
       " 'shotguns',\n",
       " ',',\n",
       " 'and',\n",
       " 'rifles',\n",
       " 'received',\n",
       " 'and',\n",
       " 'repaired',\n",
       " 'ordnance',\n",
       " 'stores',\n",
       " 'and',\n",
       " '<unk>',\n",
       " 'performed',\n",
       " 'guard',\n",
       " ',',\n",
       " 'office',\n",
       " ',',\n",
       " 'and',\n",
       " 'police',\n",
       " 'duties',\n",
       " 'inspected',\n",
       " '<unk>',\n",
       " 'at',\n",
       " 'camden',\n",
       " 'and',\n",
       " 'arkadelphia',\n",
       " '.']"
      ]
     },
     "execution_count": 7,
     "metadata": {},
     "output_type": "execute_result"
    }
   ],
   "source": [
    "train_data[50]"
   ]
  },
  {
   "cell_type": "code",
   "execution_count": 8,
   "id": "c7a96566",
   "metadata": {},
   "outputs": [
    {
     "data": {
      "text/plain": [
       "[56,\n",
       " 1,\n",
       " 689,\n",
       " 4,\n",
       " 181,\n",
       " 2,\n",
       " 5892,\n",
       " 2,\n",
       " 1,\n",
       " 133,\n",
       " 138,\n",
       " 9,\n",
       " 469,\n",
       " 0,\n",
       " 40,\n",
       " 1457,\n",
       " 4,\n",
       " 0,\n",
       " 6904,\n",
       " 0,\n",
       " 160,\n",
       " 19,\n",
       " 2,\n",
       " 19,\n",
       " 98,\n",
       " 0,\n",
       " 379,\n",
       " 749,\n",
       " 788,\n",
       " 0,\n",
       " 6648,\n",
       " 7096,\n",
       " 0,\n",
       " 2,\n",
       " 0,\n",
       " 2,\n",
       " 5,\n",
       " 2668,\n",
       " 200,\n",
       " 5,\n",
       " 6648,\n",
       " 6450,\n",
       " 3980,\n",
       " 5,\n",
       " 0,\n",
       " 469,\n",
       " 2055,\n",
       " 2,\n",
       " 697,\n",
       " 2,\n",
       " 5,\n",
       " 714,\n",
       " 2964,\n",
       " 0,\n",
       " 0,\n",
       " 25,\n",
       " 0,\n",
       " 5,\n",
       " 0,\n",
       " 3]"
      ]
     },
     "execution_count": 8,
     "metadata": {},
     "output_type": "execute_result"
    }
   ],
   "source": [
    "vocab(train_data[50])"
   ]
  },
  {
   "cell_type": "code",
   "execution_count": 9,
   "id": "ced8f206",
   "metadata": {},
   "outputs": [],
   "source": [
    "def collate_fn(batch):\n",
    "    \"\"\"\n",
    "    Collate_fn for Skip-Gram model to be used with Dataloader.\n",
    "    `batch` is expected to be list of text paragrahs.\n",
    "\n",
    "    Context is represented as N=SKIPGRAM_N_WORDS past words \n",
    "    and N=SKIPGRAM_N_WORDS future words.\n",
    "\n",
    "    Long paragraphs will be truncated to contain\n",
    "    no more that MAX_SEQUENCE_LENGTH tokens.\n",
    "\n",
    "    Each element in `batch_input` is a middle word.\n",
    "    Each element in `batch_output` is a context word.\n",
    "    \"\"\"\n",
    "    batch_input, batch_output = [], []\n",
    "    for text in batch:\n",
    "        text_tokens_ids = vocab(text)\n",
    "\n",
    "        if MAX_SEQUENCE_LENGTH:\n",
    "            text_tokens_ids = text_tokens_ids[:MAX_SEQUENCE_LENGTH]\n",
    "\n",
    "        for idx in range(len(text_tokens_ids) - SKIPGRAM_N_WORDS * 2):\n",
    "            token_id_sequence = text_tokens_ids[idx : (idx + SKIPGRAM_N_WORDS * 2 + 1)]\n",
    "            input_ = token_id_sequence.pop(SKIPGRAM_N_WORDS)\n",
    "            outputs = token_id_sequence\n",
    "\n",
    "            batch_input += [input_] * len(outputs)\n",
    "            batch_output += outputs\n",
    "\n",
    "    batch_input = torch.tensor(batch_input, dtype=torch.long)\n",
    "    batch_output = torch.tensor(batch_output, dtype=torch.long)\n",
    "    return batch_input, batch_output"
   ]
  },
  {
   "cell_type": "code",
   "execution_count": 10,
   "id": "cb24c630",
   "metadata": {},
   "outputs": [],
   "source": [
    "train_loader = DataLoader(train_data, batch_size=BATCH_SIZE, num_workers=4,\n",
    "                          pin_memory=True, collate_fn=collate_fn, shuffle=True)\n",
    "valid_loader = DataLoader(valid_data, batch_size=BATCH_SIZE, num_workers=4,\n",
    "                          pin_memory=True, collate_fn=collate_fn)"
   ]
  },
  {
   "cell_type": "code",
   "execution_count": 12,
   "id": "4cab78c0",
   "metadata": {},
   "outputs": [
    {
     "data": {
      "text/plain": [
       "device(type='cuda', index=0)"
      ]
     },
     "execution_count": 12,
     "metadata": {},
     "output_type": "execute_result"
    }
   ],
   "source": [
    "device = torch.device('cuda:0' if torch.cuda.is_available() else 'cpu')\n",
    "device"
   ]
  },
  {
   "cell_type": "code",
   "execution_count": 13,
   "id": "a8e3ac90",
   "metadata": {},
   "outputs": [],
   "source": [
    "from IPython.display import clear_output\n",
    "from tqdm.notebook import tqdm\n",
    "\n",
    "\n",
    "def plot_losses(train_losses, valid_losses):\n",
    "    clear_output()\n",
    "    plt.figure(figsize=(6, 4))\n",
    "    plt.plot(range(1, len(train_losses) + 1), train_losses, label='train', color='deepskyblue', linewidth=2)\n",
    "    plt.plot(range(1, len(valid_losses) + 1), valid_losses, label='valid', color='springgreen', linewidth=2)\n",
    "    plt.ylabel('loss')\n",
    "    plt.xlabel('epoch')\n",
    "    plt.legend()\n",
    "    plt.show()"
   ]
  },
  {
   "cell_type": "code",
   "execution_count": 14,
   "id": "2b952232",
   "metadata": {},
   "outputs": [],
   "source": [
    "def training_epoch(model, optimizer, criterion, train_loader, tqdm_desc):\n",
    "    train_loss, num_batches = 0.0, 1\n",
    "    model.train()\n",
    "    for inputs, outputs in tqdm(train_loader, desc=tqdm_desc):\n",
    "        inputs = inputs.to(device)\n",
    "        outputs = outputs.to(device)\n",
    "\n",
    "        optimizer.zero_grad()\n",
    "        logits = model(inputs)\n",
    "        loss = criterion(logits, outputs)\n",
    "        loss.backward()\n",
    "        optimizer.step()\n",
    "\n",
    "        train_loss += loss.item()\n",
    "        num_batches += 1\n",
    "\n",
    "    train_loss /= num_batches\n",
    "    return train_loss\n",
    "\n",
    "\n",
    "@torch.no_grad()\n",
    "def validation_epoch(model, criterion, valid_loader, tqdm_desc):\n",
    "    valid_loss, num_batches = 0.0, 0\n",
    "    model.eval()\n",
    "    for inputs, outputs in tqdm(valid_loader, desc=tqdm_desc):\n",
    "        inputs = inputs.to(device)\n",
    "        outputs = outputs.to(device)\n",
    "\n",
    "        logits = model(inputs)\n",
    "        loss = criterion(logits, outputs)\n",
    "\n",
    "        valid_loss += loss.item()\n",
    "        num_batches += 1\n",
    "\n",
    "    valid_loss /= num_batches\n",
    "    return valid_loss\n",
    "\n",
    "\n",
    "def train(model, optimizer, scheduler, criterion, train_loader, valid_loader, num_epochs):\n",
    "    train_losses, valid_losses = [], []\n",
    "\n",
    "    for epoch in range(1, num_epochs + 1):\n",
    "        train_loss = training_epoch(\n",
    "            model, optimizer, criterion, train_loader,\n",
    "            tqdm_desc=f'Training {epoch}/{num_epochs}'\n",
    "        )\n",
    "        valid_loss = validation_epoch(\n",
    "            model, criterion, valid_loader,\n",
    "            tqdm_desc=f'Validating {epoch}/{num_epochs}'\n",
    "        )\n",
    "\n",
    "        if scheduler is not None:\n",
    "            scheduler.step()\n",
    "\n",
    "        train_losses += [train_loss]\n",
    "        valid_losses += [valid_loss]\n",
    "        plot_losses(train_losses, valid_losses)"
   ]
  },
  {
   "cell_type": "code",
   "execution_count": 15,
   "id": "e87f5a7c",
   "metadata": {},
   "outputs": [],
   "source": [
    "class Word2VecModel(nn.Module):\n",
    "    def __init__(self, embed_dim, embed_max_norm, vocab_size):\n",
    "        super().__init__()\n",
    "        self.embeds = nn.Embedding(num_embeddings=vocab_size, embedding_dim=embed_dim,\n",
    "                                   max_norm=embed_max_norm)\n",
    "        self.decoder = nn.Linear(embed_dim, vocab_size)\n",
    "        \n",
    "    def forward(self, tokens):\n",
    "        embeds = self.embeds(tokens)\n",
    "        logits = self.decoder(embeds)\n",
    "        return logits"
   ]
  },
  {
   "cell_type": "code",
   "execution_count": 16,
   "id": "094a0bdd",
   "metadata": {},
   "outputs": [],
   "source": [
    "model = Word2VecModel(embed_dim=EMBED_DIM, embed_max_norm=EMBED_MAX_NORM,\n",
    "                      vocab_size=VOCAB_SIZE).to(device)\n",
    "optimizer = torch.optim.Adam(model.parameters(), lr=1e-3)\n",
    "scheduler = torch.optim.lr_scheduler.CosineAnnealingLR(optimizer, NUM_EPOCHS)\n",
    "criterion = nn.CrossEntropyLoss()"
   ]
  },
  {
   "cell_type": "code",
   "execution_count": 18,
   "id": "9adf27e2",
   "metadata": {},
   "outputs": [],
   "source": [
    "from tqdm.notebook import tqdm"
   ]
  },
  {
   "cell_type": "code",
   "execution_count": 22,
   "id": "aa224f62",
   "metadata": {},
   "outputs": [
    {
     "data": {
      "application/vnd.jupyter.widget-view+json": {
       "model_id": "5a82c207dd2f41ecac493d6655b5a505",
       "version_major": 2,
       "version_minor": 0
      },
      "text/plain": [
       "Training 1/20:   0%|          | 0/1108 [00:00<?, ?it/s]"
      ]
     },
     "metadata": {},
     "output_type": "display_data"
    },
    {
     "ename": "OutOfMemoryError",
     "evalue": "CUDA out of memory. Tried to allocate 460.00 MiB (GPU 0; 11.77 GiB total capacity; 2.01 GiB already allocated; 406.19 MiB free; 3.41 GiB reserved in total by PyTorch) If reserved memory is >> allocated memory try setting max_split_size_mb to avoid fragmentation.  See documentation for Memory Management and PYTORCH_CUDA_ALLOC_CONF",
     "output_type": "error",
     "traceback": [
      "\u001b[0;31m---------------------------------------------------------------------------\u001b[0m",
      "\u001b[0;31mOutOfMemoryError\u001b[0m                          Traceback (most recent call last)",
      "Cell \u001b[0;32mIn[22], line 1\u001b[0m\n\u001b[0;32m----> 1\u001b[0m train(model, optimizer, scheduler, criterion, train_loader, valid_loader, NUM_EPOCHS)\n",
      "Cell \u001b[0;32mIn[14], line 43\u001b[0m, in \u001b[0;36mtrain\u001b[0;34m(model, optimizer, scheduler, criterion, train_loader, valid_loader, num_epochs)\u001b[0m\n\u001b[1;32m     40\u001b[0m train_losses, valid_losses \u001b[39m=\u001b[39m [], []\n\u001b[1;32m     42\u001b[0m \u001b[39mfor\u001b[39;00m epoch \u001b[39min\u001b[39;00m \u001b[39mrange\u001b[39m(\u001b[39m1\u001b[39m, num_epochs \u001b[39m+\u001b[39m \u001b[39m1\u001b[39m):\n\u001b[0;32m---> 43\u001b[0m     train_loss \u001b[39m=\u001b[39m training_epoch(\n\u001b[1;32m     44\u001b[0m         model, optimizer, criterion, train_loader,\n\u001b[1;32m     45\u001b[0m         tqdm_desc\u001b[39m=\u001b[39;49m\u001b[39mf\u001b[39;49m\u001b[39m'\u001b[39;49m\u001b[39mTraining \u001b[39;49m\u001b[39m{\u001b[39;49;00mepoch\u001b[39m}\u001b[39;49;00m\u001b[39m/\u001b[39;49m\u001b[39m{\u001b[39;49;00mnum_epochs\u001b[39m}\u001b[39;49;00m\u001b[39m'\u001b[39;49m\n\u001b[1;32m     46\u001b[0m     )\n\u001b[1;32m     47\u001b[0m     valid_loss \u001b[39m=\u001b[39m validation_epoch(\n\u001b[1;32m     48\u001b[0m         model, criterion, valid_loader,\n\u001b[1;32m     49\u001b[0m         tqdm_desc\u001b[39m=\u001b[39m\u001b[39mf\u001b[39m\u001b[39m'\u001b[39m\u001b[39mValidating \u001b[39m\u001b[39m{\u001b[39;00mepoch\u001b[39m}\u001b[39;00m\u001b[39m/\u001b[39m\u001b[39m{\u001b[39;00mnum_epochs\u001b[39m}\u001b[39;00m\u001b[39m'\u001b[39m\n\u001b[1;32m     50\u001b[0m     )\n\u001b[1;32m     52\u001b[0m     \u001b[39mif\u001b[39;00m scheduler \u001b[39mis\u001b[39;00m \u001b[39mnot\u001b[39;00m \u001b[39mNone\u001b[39;00m:\n",
      "Cell \u001b[0;32mIn[14], line 11\u001b[0m, in \u001b[0;36mtraining_epoch\u001b[0;34m(model, optimizer, criterion, train_loader, tqdm_desc)\u001b[0m\n\u001b[1;32m      9\u001b[0m logits \u001b[39m=\u001b[39m model(inputs)\n\u001b[1;32m     10\u001b[0m loss \u001b[39m=\u001b[39m criterion(logits, outputs)\n\u001b[0;32m---> 11\u001b[0m loss\u001b[39m.\u001b[39;49mbackward()\n\u001b[1;32m     12\u001b[0m optimizer\u001b[39m.\u001b[39mstep()\n\u001b[1;32m     14\u001b[0m train_loss \u001b[39m+\u001b[39m\u001b[39m=\u001b[39m loss\u001b[39m.\u001b[39mitem()\n",
      "File \u001b[0;32m~/.conda/envs/kkorolev/lib/python3.8/site-packages/torch/_tensor.py:488\u001b[0m, in \u001b[0;36mTensor.backward\u001b[0;34m(self, gradient, retain_graph, create_graph, inputs)\u001b[0m\n\u001b[1;32m    478\u001b[0m \u001b[39mif\u001b[39;00m has_torch_function_unary(\u001b[39mself\u001b[39m):\n\u001b[1;32m    479\u001b[0m     \u001b[39mreturn\u001b[39;00m handle_torch_function(\n\u001b[1;32m    480\u001b[0m         Tensor\u001b[39m.\u001b[39mbackward,\n\u001b[1;32m    481\u001b[0m         (\u001b[39mself\u001b[39m,),\n\u001b[0;32m   (...)\u001b[0m\n\u001b[1;32m    486\u001b[0m         inputs\u001b[39m=\u001b[39minputs,\n\u001b[1;32m    487\u001b[0m     )\n\u001b[0;32m--> 488\u001b[0m torch\u001b[39m.\u001b[39;49mautograd\u001b[39m.\u001b[39;49mbackward(\n\u001b[1;32m    489\u001b[0m     \u001b[39mself\u001b[39;49m, gradient, retain_graph, create_graph, inputs\u001b[39m=\u001b[39;49minputs\n\u001b[1;32m    490\u001b[0m )\n",
      "File \u001b[0;32m~/.conda/envs/kkorolev/lib/python3.8/site-packages/torch/autograd/__init__.py:197\u001b[0m, in \u001b[0;36mbackward\u001b[0;34m(tensors, grad_tensors, retain_graph, create_graph, grad_variables, inputs)\u001b[0m\n\u001b[1;32m    192\u001b[0m     retain_graph \u001b[39m=\u001b[39m create_graph\n\u001b[1;32m    194\u001b[0m \u001b[39m# The reason we repeat same the comment below is that\u001b[39;00m\n\u001b[1;32m    195\u001b[0m \u001b[39m# some Python versions print out the first line of a multi-line function\u001b[39;00m\n\u001b[1;32m    196\u001b[0m \u001b[39m# calls in the traceback and some print out the last line\u001b[39;00m\n\u001b[0;32m--> 197\u001b[0m Variable\u001b[39m.\u001b[39;49m_execution_engine\u001b[39m.\u001b[39;49mrun_backward(  \u001b[39m# Calls into the C++ engine to run the backward pass\u001b[39;49;00m\n\u001b[1;32m    198\u001b[0m     tensors, grad_tensors_, retain_graph, create_graph, inputs,\n\u001b[1;32m    199\u001b[0m     allow_unreachable\u001b[39m=\u001b[39;49m\u001b[39mTrue\u001b[39;49;00m, accumulate_grad\u001b[39m=\u001b[39;49m\u001b[39mTrue\u001b[39;49;00m)\n",
      "\u001b[0;31mOutOfMemoryError\u001b[0m: CUDA out of memory. Tried to allocate 460.00 MiB (GPU 0; 11.77 GiB total capacity; 2.01 GiB already allocated; 406.19 MiB free; 3.41 GiB reserved in total by PyTorch) If reserved memory is >> allocated memory try setting max_split_size_mb to avoid fragmentation.  See documentation for Memory Management and PYTORCH_CUDA_ALLOC_CONF"
     ]
    }
   ],
   "source": [
    "train(model, optimizer, scheduler, criterion, train_loader, valid_loader, NUM_EPOCHS)"
   ]
  },
  {
   "cell_type": "code",
   "execution_count": null,
   "id": "f35ecd6d",
   "metadata": {},
   "outputs": [],
   "source": []
  }
 ],
 "metadata": {
  "kernelspec": {
   "display_name": "kkorolev",
   "language": "python",
   "name": "python3"
  },
  "language_info": {
   "codemirror_mode": {
    "name": "ipython",
    "version": 3
   },
   "file_extension": ".py",
   "mimetype": "text/x-python",
   "name": "python",
   "nbconvert_exporter": "python",
   "pygments_lexer": "ipython3",
   "version": "3.8.15"
  },
  "vscode": {
   "interpreter": {
    "hash": "f404e0e273a4f0796c7e39d3cee33e66306a58991d52ed6c42396fee84b35bae"
   }
  }
 },
 "nbformat": 4,
 "nbformat_minor": 5
}
