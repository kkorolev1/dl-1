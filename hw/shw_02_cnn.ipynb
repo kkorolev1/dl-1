{
  "cells": [
    {
      "cell_type": "markdown",
      "metadata": {
        "id": "view-in-github",
        "colab_type": "text"
      },
      "source": [
        "<a href=\"https://colab.research.google.com/github/kkorolev1/dl-1/blob/master/hw/shw_02_cnn.ipynb\" target=\"_parent\"><img src=\"https://colab.research.google.com/assets/colab-badge.svg\" alt=\"Open In Colab\"/></a>"
      ]
    },
    {
      "cell_type": "markdown",
      "metadata": {
        "id": "w35Q6hOIy4sk"
      },
      "source": [
        "# Глубинное обучение 1 / Введение в глубинное обучение, ФКН ВШЭ\n",
        "\n",
        "## Домашнее задание 2: сверточный классификатор.\n",
        "\n",
        "### Общая информация\n",
        "\n",
        "Оценка после штрафа после мягкого дедлайна вычисляется по формуле $M_{\\text{penalty}} = M_{\\text{full}} \\cdot 0.85^{t/1440}$, где $M_{\\text{full}}$ — полная оценка за работу без учета штрафа, а $t$ — время в минутах, прошедшее после мягкого дедлайна (округление до двух цифр после запятой). Таким образом, спустя первые сутки после мягкого дедлайна вы не можете получить оценку выше 8.5, а если сдать через четыре дня после мягкого дедлайна, то ваш максимум — 5.22 балла.\n",
        "\n",
        "### Оценивание и штрафы\n",
        "\n",
        "Максимально допустимая оценка за работу — 10 баллов. Сдавать задание после указанного срока сдачи нельзя.\n",
        "\n",
        "Задание выполняется самостоятельно. «Похожие» решения считаются плагиатом и все задействованные студенты (в том числе те, у кого списали) не могут получить за него больше 0 баллов. Если вы нашли решение какого-то из заданий (или его часть) в открытом источнике, необходимо указать ссылку на этот источник в отдельном блоке в конце вашей работы (скорее всего вы будете не единственным, кто это нашел, поэтому чтобы исключить подозрение в плагиате, необходима ссылка на источник).\n",
        "\n",
        "Неэффективная реализация кода может негативно отразиться на оценке. Также оценка может быть снижена за плохо читаемый код и плохо оформленные графики. Все ответы должны сопровождаться кодом или комментариями о том, как они были получены.\n",
        "\n",
        "### О задании\n",
        "\n",
        "В этом задании вам предстоит познакомиться со сверточными сетями и их обучением для классификации изображений с использованием библиотеки PyTorch.\n"
      ]
    },
    {
      "cell_type": "code",
      "execution_count": 1,
      "metadata": {
        "id": "SaACifdX2QOo"
      },
      "outputs": [],
      "source": [
        "import torch\n",
        "import torch.nn as nn\n",
        "import torch.nn.functional as F\n",
        "import torch.optim as optim\n",
        "import torchvision\n",
        "import torchvision.transforms as transforms\n",
        "\n",
        "import matplotlib.pyplot as plt\n",
        "import numpy as np\n",
        "\n",
        "from sklearn.model_selection import train_test_split"
      ]
    },
    {
      "cell_type": "markdown",
      "metadata": {
        "id": "TIXaUYM-0JFl"
      },
      "source": [
        "## 0. Загрузка данных\n",
        "\n",
        "Работать мы будем с набором данных [CIFAR10](https://www.cs.toronto.edu/~kriz/cifar.html). CIFAR10 представляет собой набор изображений 32х32 пикселя, разделенных на 10 классов.\n",
        "\n",
        "![title](https://pytorch.org/tutorials/_images/cifar10.png)\n",
        "\n",
        "\n"
      ]
    },
    {
      "cell_type": "markdown",
      "metadata": {
        "id": "g-0EEjl_10vB"
      },
      "source": [
        "Набор данных уже определен в <code>torchvision.datasets</code>, так что возьмем его оттуда. \n",
        "\n"
      ]
    },
    {
      "cell_type": "code",
      "execution_count": 2,
      "metadata": {
        "id": "Cbwe92dT3aPZ"
      },
      "outputs": [],
      "source": [
        "def get_cifar10_data(batch_size, transform_train):\n",
        "    torch.manual_seed(0)\n",
        "    np.random.seed(0)\n",
        "\n",
        "    transform_test = transforms.Compose(\n",
        "        [transforms.ToTensor(),\n",
        "         # Переводим цвета пикселей в отрезок [-1, 1]\n",
        "         transforms.Normalize((0.5, 0.5, 0.5), (0.5, 0.5, 0.5))]\n",
        "    )\n",
        "    \n",
        "    # Загружаем данные\n",
        "    trainvalset = torchvision.datasets.CIFAR10(root='./data', train=True,\n",
        "                                               download=True, transform=transform_train)\n",
        "    testset = torchvision.datasets.CIFAR10(root='./data', train=False,\n",
        "                                           download=True, transform=transform_test)\n",
        "    \n",
        "    # В датасете определено разбиение только на train и test,\n",
        "    # так что валидацию дополнительно выделяем из обучающей выборки\n",
        "    train_idx, valid_idx = train_test_split(np.arange(len(trainvalset)), test_size=0.3, \n",
        "                                            shuffle=True, random_state=0)\n",
        "    trainset = torch.utils.data.Subset(trainvalset, train_idx)\n",
        "    valset = torch.utils.data.Subset(trainvalset, valid_idx)\n",
        "\n",
        "    train_loader = torch.utils.data.DataLoader(trainset, batch_size=batch_size,\n",
        "                                               shuffle=True, num_workers=2)\n",
        "    val_loader = torch.utils.data.DataLoader(valset, batch_size=batch_size,\n",
        "                                             shuffle=False, num_workers=2)\n",
        "    test_loader = torch.utils.data.DataLoader(testset, batch_size=batch_size,\n",
        "                                              shuffle=False, num_workers=2)\n",
        "    \n",
        "    return train_loader, val_loader, test_loader\n",
        "    "
      ]
    },
    {
      "cell_type": "code",
      "execution_count": 3,
      "metadata": {
        "colab": {
          "base_uri": "https://localhost:8080/",
          "height": 101,
          "referenced_widgets": [
            "fe0e570b7f204785acba6086fa8e6ad6",
            "78be302474784ca7aeea1223b9866fa9",
            "826a87838d7e4c74bc3124da60e4405b",
            "ed948e6ed19d4271b81d2396edf4bf3f",
            "e34b64419466481baeb881404161ef8b",
            "aa6bdc94425040e4b8a7d9c33cc032a4",
            "d74f115cefbf4cf88c5cf1bb71e7b424",
            "95e076d8175046b69e72dcb18677cda2",
            "03afbcc8bc0e462392876e9f90d24424",
            "23b59cbe0a284a679cbd8d7abc8ac813",
            "5ccd0a78fd7f44abb67011e1d94f9298"
          ]
        },
        "id": "2G2rLnN5y6Jj",
        "outputId": "1e55d10a-0afb-44f7-a60e-30ce9dc4c45f"
      },
      "outputs": [
        {
          "output_type": "stream",
          "name": "stdout",
          "text": [
            "Downloading https://www.cs.toronto.edu/~kriz/cifar-10-python.tar.gz to ./data/cifar-10-python.tar.gz\n"
          ]
        },
        {
          "output_type": "display_data",
          "data": {
            "text/plain": [
              "  0%|          | 0/170498071 [00:00<?, ?it/s]"
            ],
            "application/vnd.jupyter.widget-view+json": {
              "version_major": 2,
              "version_minor": 0,
              "model_id": "fe0e570b7f204785acba6086fa8e6ad6"
            }
          },
          "metadata": {}
        },
        {
          "output_type": "stream",
          "name": "stdout",
          "text": [
            "Extracting ./data/cifar-10-python.tar.gz to ./data\n",
            "Files already downloaded and verified\n"
          ]
        }
      ],
      "source": [
        "transform = transforms.Compose(\n",
        "        [transforms.ToTensor(),\n",
        "         transforms.Normalize((0.5, 0.5, 0.5), (0.5, 0.5, 0.5))]\n",
        ")\n",
        "\n",
        "train_loader, val_loader, test_loader = get_cifar10_data(batch_size=64, \n",
        "                                                         transform_train=transform)"
      ]
    },
    {
      "cell_type": "markdown",
      "metadata": {
        "id": "-82HWgXs77W1"
      },
      "source": [
        "Посмотрим на изображения:"
      ]
    },
    {
      "cell_type": "code",
      "execution_count": 4,
      "metadata": {
        "colab": {
          "base_uri": "https://localhost:8080/",
          "height": 155
        },
        "id": "ACnwaC5iy6L2",
        "outputId": "83345128-af73-4ff5-c801-6b7830bede1f"
      },
      "outputs": [
        {
          "output_type": "display_data",
          "data": {
            "text/plain": [
              "<Figure size 432x288 with 1 Axes>"
            ],
            "image/png": "[encoded data removed]"
          },
          "metadata": {
            "needs_background": "light"
          }
        },
        {
          "output_type": "stream",
          "name": "stdout",
          "text": [
            "ship frog horse horse\n"
          ]
        }
      ],
      "source": [
        "def imshow(img):\n",
        "    img = img / 2 + 0.5    \n",
        "    npimg = img.numpy()\n",
        "    plt.imshow(np.transpose(npimg, (1, 2, 0)))\n",
        "    plt.show()\n",
        "\n",
        "\n",
        "dataiter = iter(train_loader)\n",
        "images, labels = dataiter.next()\n",
        "\n",
        "imshow(torchvision.utils.make_grid(images[:4]))\n",
        "\n",
        "classes = ('plane', 'car', 'bird', 'cat',\n",
        "           'deer', 'dog', 'frog', 'horse', 'ship', 'truck')\n",
        "print(*[classes[labels[i]] for i in range(4)])"
      ]
    },
    {
      "cell_type": "markdown",
      "metadata": {
        "id": "KFDilng29YZ_"
      },
      "source": [
        "## 1. Задание сверточной сети (3 балла)"
      ]
    },
    {
      "cell_type": "markdown",
      "metadata": {
        "id": "OX7Ul8YbYdQR"
      },
      "source": [
        "Теперь нам нужно задать сверточную нейронную сеть, которую мы будем обучать классифицировать изображения.\n",
        "\n",
        "Используем сеть, основанную на одном блоке архитектуры ResNet.\n",
        "\n",
        "<img src=\"https://i.ibb.co/2hg962h/basic-block.png\" width=\"500\"/>\n",
        "\n",
        "__Указания:__\n",
        "\n",
        "- Все сверточные слои должны иметь 32 выходных канала, а также не должны изменять ширину и высоту изображения.\n",
        "- Выход блока сократите до размерности 32х4х4, применив average pooling.\n",
        "- Для получения итоговых логитов, распрямите выход пулинга в вектор из 512 элементов, а затем пропустите его через линейный слой."
      ]
    },
    {
      "cell_type": "markdown",
      "metadata": {
        "id": "sbyIylT9O9Dr"
      },
      "source": [
        "**Задание 1.1 (3 балла).**\n",
        "\n",
        "Определите архитектуру сети соответственно схеме и указаниям выше.\n",
        "\n",
        "Ключевые слова: <code>Conv2d</code>, <code>BatchNorm2d</code>, <code>AvgPool2d</code>."
      ]
    },
    {
      "cell_type": "code",
      "execution_count": 5,
      "metadata": {
        "id": "s9ml1QGKy6N9"
      },
      "outputs": [],
      "source": [
        "n_classes = 10\n",
        "\n",
        "class BasicBlockNet(nn.Module):\n",
        "    def __init__(self):\n",
        "        super().__init__()\n",
        "\n",
        "        self.num_out_channels = 32\n",
        "        self.pooling_size = 4\n",
        "        self.fc_input_size = self.pooling_size * self.pooling_size * self.num_out_channels\n",
        "\n",
        "        self.block_head = nn.Sequential(\n",
        "            nn.Conv2d(in_channels=3, out_channels=self.num_out_channels, kernel_size=3, padding='same'),\n",
        "            nn.BatchNorm2d(self.num_out_channels),\n",
        "            nn.ReLU(),\n",
        "            nn.Conv2d(in_channels=self.num_out_channels, out_channels=self.num_out_channels, kernel_size=3, padding='same'),\n",
        "            nn.BatchNorm2d(self.num_out_channels)\n",
        "        )\n",
        "\n",
        "        self.conv1x1 = nn.Conv2d(in_channels=3, out_channels=self.num_out_channels, kernel_size=1)\n",
        "        self.block_end = nn.Sequential(\n",
        "            nn.ReLU(),\n",
        "            nn.AvgPool2d(self.num_out_channels // self.pooling_size)\n",
        "        )\n",
        "\n",
        "        self.fc = nn.Linear(in_features=self.fc_input_size, out_features=n_classes)\n",
        "\n",
        "    def forward(self, x):\n",
        "        out = self.block_head(x) + self.conv1x1(x)\n",
        "        out = self.block_end(out)\n",
        "        out = self.fc(out.reshape(x.shape[0], self.fc_input_size))\n",
        "        return out"
      ]
    },
    {
      "cell_type": "code",
      "execution_count": 6,
      "metadata": {
        "colab": {
          "base_uri": "https://localhost:8080/"
        },
        "id": "FI4BQg7Ky6Pw",
        "outputId": "d7cd189b-5ed0-4779-cc6a-8b6061f01c0b"
      },
      "outputs": [
        {
          "output_type": "execute_result",
          "data": {
            "text/plain": [
              "BasicBlockNet(\n",
              "  (block_head): Sequential(\n",
              "    (0): Conv2d(3, 32, kernel_size=(3, 3), stride=(1, 1), padding=same)\n",
              "    (1): BatchNorm2d(32, eps=1e-05, momentum=0.1, affine=True, track_running_stats=True)\n",
              "    (2): ReLU()\n",
              "    (3): Conv2d(32, 32, kernel_size=(3, 3), stride=(1, 1), padding=same)\n",
              "    (4): BatchNorm2d(32, eps=1e-05, momentum=0.1, affine=True, track_running_stats=True)\n",
              "  )\n",
              "  (conv1x1): Conv2d(3, 32, kernel_size=(1, 1), stride=(1, 1))\n",
              "  (block_end): Sequential(\n",
              "    (0): ReLU()\n",
              "    (1): AvgPool2d(kernel_size=8, stride=8, padding=0)\n",
              "  )\n",
              "  (fc): Linear(in_features=512, out_features=10, bias=True)\n",
              ")"
            ]
          },
          "metadata": {},
          "execution_count": 6
        }
      ],
      "source": [
        "net = BasicBlockNet()\n",
        "net"
      ]
    },
    {
      "cell_type": "markdown",
      "metadata": {
        "id": "igPoGZEub8d3"
      },
      "source": [
        "Проверим, что выход сети имеет корректную размерность:"
      ]
    },
    {
      "cell_type": "code",
      "execution_count": 7,
      "metadata": {
        "id": "cCIzFUpJ_Agw"
      },
      "outputs": [],
      "source": [
        "assert net(torch.zeros((10, 3, 32, 32))).shape == (10, 10)"
      ]
    },
    {
      "cell_type": "markdown",
      "metadata": {
        "id": "08osX622cDGz"
      },
      "source": [
        "Чтобы проводить вычисления на GPU, в PyTorch необходимо руками перекладывать объекты, с которыми вы хотите проводить вычисления, на графический ускоритель. Это делается следующим образрм:"
      ]
    },
    {
      "cell_type": "code",
      "execution_count": 8,
      "metadata": {
        "colab": {
          "base_uri": "https://localhost:8080/"
        },
        "id": "56hDOMCFcDZX",
        "outputId": "204b6ff9-aee5-477b-d54e-746d5900a774"
      },
      "outputs": [
        {
          "output_type": "stream",
          "name": "stdout",
          "text": [
            "cuda:0\n"
          ]
        }
      ],
      "source": [
        "device = torch.device('cuda:0' if torch.cuda.is_available() else 'cpu')\n",
        "print(device)"
      ]
    },
    {
      "cell_type": "code",
      "execution_count": 24,
      "metadata": {
        "id": "ohnDWbp0qbtC"
      },
      "outputs": [],
      "source": [
        "net = net.to(device)"
      ]
    },
    {
      "cell_type": "markdown",
      "metadata": {
        "id": "H_bOlTVUp5QF"
      },
      "source": [
        "Подключение GPU в google.colab:\n",
        "\n",
        "**Среда выполнения** -> **Сменить среду выполнения** -> **Аппаратный ускоритель** -> **GPU**"
      ]
    },
    {
      "cell_type": "markdown",
      "metadata": {
        "id": "AGi6XX_7_Bgg"
      },
      "source": [
        "## 2. Обучение и тестирование модели (3 балла)"
      ]
    },
    {
      "cell_type": "markdown",
      "metadata": {
        "id": "0agj_MQoO9Ds"
      },
      "source": [
        "**Задание 2.1 (2 балла).** Переходим к обучению модели. Заполните пропуски в функциях <code>test</code> и <code>train_epoch</code>. В качестве функции потерь будем использовать [кросс-энтропию](https://pytorch.org/docs/stable/generated/torch.nn.functional.cross_entropy.html), а в качестве метрики качества accuracy."
      ]
    },
    {
      "cell_type": "code",
      "execution_count": 9,
      "metadata": {
        "id": "g8gsPPRIevDS"
      },
      "outputs": [],
      "source": [
        "def test(model, loader):\n",
        "    loss_log = []\n",
        "    acc_log = []\n",
        "    model.eval()\n",
        "    \n",
        "    criterion = nn.CrossEntropyLoss()\n",
        "\n",
        "    for data, target in loader:\n",
        "        data = data.to(device)\n",
        "        target = target.to(device)\n",
        "\n",
        "        out = model(data)\n",
        "        loss = criterion(out, target)\n",
        "\n",
        "        loss_log.append(loss.item())\n",
        "        \n",
        "        acc = (torch.argmax(out, dim=1) == target).sum() / target.shape[0]\n",
        "        acc_log.append(acc.item()) \n",
        "        \n",
        "    return np.mean(loss_log), np.mean(acc_log)\n",
        "\n",
        "def train_epoch(model, optimizer, train_loader):\n",
        "    loss_log = []\n",
        "    acc_log = []\n",
        "    model.train()\n",
        "    \n",
        "    criterion = nn.CrossEntropyLoss()\n",
        "\n",
        "    for data, target in train_loader:\n",
        "        data = data.to(device)\n",
        "        target = target.to(device)\n",
        "\n",
        "        optimizer.zero_grad()\n",
        "        out = model(data)\n",
        "\n",
        "        loss = criterion(out, target)\n",
        "        \n",
        "        loss_log.append(loss.item())\n",
        "        \n",
        "        loss.backward()\n",
        "        optimizer.step()\n",
        "\n",
        "        acc = (torch.argmax(out, dim=1) == target).sum() / target.shape[0]\n",
        "\n",
        "        acc_log.append(acc.item()) \n",
        "\n",
        "    return loss_log, acc_log\n",
        "\n",
        "def train(model, optimizer, n_epochs, train_loader, val_loader, scheduler=None):\n",
        "    train_loss_log, train_acc_log, val_loss_log, val_acc_log = [], [], [], []\n",
        "\n",
        "    for epoch in range(n_epochs):\n",
        "        train_loss, train_acc = train_epoch(model, optimizer, train_loader)\n",
        "        val_loss, val_acc = test(model, val_loader)\n",
        "        \n",
        "        train_loss_log.extend(train_loss)\n",
        "        train_acc_log.extend(train_acc)\n",
        "        \n",
        "        val_loss_log.append(val_loss)\n",
        "        val_acc_log.append(val_acc)\n",
        "\n",
        "        print(f\"Epoch {epoch}\")\n",
        "        print(f\" train loss: {np.mean(train_loss)}, train acc: {np.mean(train_acc)}\")\n",
        "        print(f\" val loss: {val_loss}, val acc: {val_acc}\\n\")\n",
        "        \n",
        "        if scheduler is not None:\n",
        "            scheduler.step()\n",
        "\n",
        "    return train_loss_log, train_acc_log, val_loss_log, val_acc_log"
      ]
    },
    {
      "cell_type": "markdown",
      "metadata": {
        "id": "iSOqk_CAO9Dt"
      },
      "source": [
        "Запустим обучение модели. В качестве оптимизатора будем использовать стохастический градиентный спуск, который является де-факто стандартом в задачах компьютерного зрения (наравне с <code>Adam</code>).\n",
        "\n",
        "__Замечание:__ Для достижения наилучшего качества в нашем случае потребуется обучать модель несколько сотен эпох. Однако в целях экономии вашего времени и сил, во всех экспериментах мы ограничимся 20 эпохами."
      ]
    },
    {
      "cell_type": "code",
      "execution_count": null,
      "metadata": {
        "colab": {
          "base_uri": "https://localhost:8080/"
        },
        "id": "MKZBGhuAgMDu",
        "outputId": "bc641948-8630-44e2-e68a-19a69158ac55",
        "scrolled": true
      },
      "outputs": [
        {
          "output_type": "stream",
          "name": "stdout",
          "text": [
            "Epoch 0\n",
            " train loss: 1.464003577637716, train acc: 0.47932309359039643\n",
            " val loss: 1.211027594069217, val acc: 0.5679521276595745\n",
            "\n",
            "Epoch 1\n",
            " train loss: 1.157344567383447, train acc: 0.5930236354606461\n",
            " val loss: 1.1471746059174233, val acc: 0.6048758866939139\n",
            "\n",
            "Epoch 2\n",
            " train loss: 1.0444879721461964, train acc: 0.6388376534965836\n",
            " val loss: 1.0787593450952084, val acc: 0.6286125888215734\n",
            "\n",
            "Epoch 3\n",
            " train loss: 0.986213649648635, train acc: 0.6571518347293847\n",
            " val loss: 1.0290301297573332, val acc: 0.6449468085106383\n",
            "\n",
            "Epoch 4\n",
            " train loss: 0.9503070664144303, train acc: 0.6704875620889054\n",
            " val loss: 0.9951426062178105, val acc: 0.6537898936170212\n",
            "\n",
            "Epoch 5\n",
            " train loss: 0.9267621451147732, train acc: 0.6780572604435672\n",
            " val loss: 0.9757163268454532, val acc: 0.6657136526513607\n",
            "\n",
            "Epoch 6\n",
            " train loss: 0.9002570964300655, train acc: 0.6877325999889339\n",
            " val loss: 1.0451726101814431, val acc: 0.6450576241980208\n",
            "\n",
            "Epoch 7\n",
            " train loss: 0.8817485929407193, train acc: 0.6938862954240831\n",
            " val loss: 0.9466905611626646, val acc: 0.6763519505237011\n",
            "\n",
            "Epoch 8\n",
            " train loss: 0.8628984750733733, train acc: 0.7009581484350034\n",
            " val loss: 0.9549073102626394, val acc: 0.6687056739279564\n",
            "\n",
            "Epoch 9\n",
            " train loss: 0.8471928236144552, train acc: 0.7078708541022795\n",
            " val loss: 0.9311252758858052, val acc: 0.6831560284533399\n",
            "\n",
            "Epoch 10\n",
            " train loss: 0.8355818453501958, train acc: 0.7105151475892424\n",
            " val loss: 0.9183740062916532, val acc: 0.6899601063829788\n",
            "\n",
            "Epoch 11\n",
            " train loss: 0.8231401606931111, train acc: 0.715085531501491\n",
            " val loss: 0.9045935034751892, val acc: 0.6873670212765958\n",
            "\n",
            "Epoch 12\n",
            " train loss: 0.8153515941918005, train acc: 0.7150202403338779\n",
            " val loss: 0.8990736197918019, val acc: 0.6952792553191489\n",
            "\n",
            "Epoch 13\n",
            " train loss: 0.8055955524091529, train acc: 0.7210188692187043\n",
            " val loss: 0.9331824771901395, val acc: 0.6805407803109351\n",
            "\n",
            "Epoch 14\n",
            " train loss: 0.7941656955526342, train acc: 0.723263254222312\n",
            " val loss: 0.8695960952880535, val acc: 0.7045212765957447\n",
            "\n",
            "Epoch 15\n",
            " train loss: 0.7887158769794095, train acc: 0.7293190129060414\n",
            " val loss: 0.8762820865245575, val acc: 0.6950797872340425\n",
            "\n",
            "Epoch 16\n",
            " train loss: 0.7819984331863236, train acc: 0.728539599143173\n",
            " val loss: 0.8821970653026662, val acc: 0.6981382978723404\n",
            "\n",
            "Epoch 17\n",
            " train loss: 0.7695994882195698, train acc: 0.7303514299706524\n",
            " val loss: 0.914047703971254, val acc: 0.689627659574468\n",
            "\n",
            "Epoch 18\n",
            " train loss: 0.7646127141589875, train acc: 0.7342036107122571\n",
            " val loss: 0.9145533485615507, val acc: 0.6940159574468086\n",
            "\n",
            "Epoch 19\n",
            " train loss: 0.7549623135456873, train acc: 0.7395982959152794\n",
            " val loss: 0.8702468600678951, val acc: 0.704565602921425\n",
            "\n"
          ]
        }
      ],
      "source": [
        "optimizer = optim.SGD(net.parameters(), lr=0.1, momentum=0.9)\n",
        "train_loss_log, train_acc_log, val_loss_log, val_acc_log = train(net, optimizer, 20, train_loader, val_loader)"
      ]
    },
    {
      "cell_type": "markdown",
      "metadata": {
        "id": "gUb1jQW8O9Dt"
      },
      "source": [
        "Посчитайте точность на тестовой выборке:"
      ]
    },
    {
      "cell_type": "code",
      "execution_count": null,
      "metadata": {
        "colab": {
          "base_uri": "https://localhost:8080/"
        },
        "id": "Jyuc55B9_Amc",
        "outputId": "e6610206-e803-4f7c-a183-b4a14afd2c71"
      },
      "outputs": [
        {
          "output_type": "stream",
          "name": "stdout",
          "text": [
            "test loss: 0.8826429965389762, test acc: 0.6969546178343949\n"
          ]
        }
      ],
      "source": [
        "test_loss, test_acc = test(net, test_loader)\n",
        "\n",
        "print(f\"test loss: {test_loss}, test acc: {test_acc}\")"
      ]
    },
    {
      "cell_type": "markdown",
      "metadata": {
        "id": "zM38Q9fwO9Dt"
      },
      "source": [
        "Если вы все сделали правильно, у вас должна была получиться точность $\\ge 67\\%$."
      ]
    },
    {
      "cell_type": "markdown",
      "metadata": {
        "id": "DHFNSKcoO9Dt"
      },
      "source": [
        "**Задание 2.2 (1 балл).** Постройте графики зависимости функции потерь и точности классификации от номера шага оптимизатора. На каждом графике расположите данные и для обучающей и для валидационной выборки, итого у вас должно получиться два графика. Обратите внимание, что на обучающей выборке эти данные считаются по каждому батчу, на валидационной же они считаются по всей выборке раз в эпоху."
      ]
    },
    {
      "cell_type": "code",
      "execution_count": null,
      "metadata": {
        "id": "QZzT2ffZU9UW"
      },
      "outputs": [],
      "source": [
        "import seaborn as sns\n",
        "\n",
        "sns.set_style(\"darkgrid\")"
      ]
    },
    {
      "cell_type": "code",
      "execution_count": null,
      "metadata": {
        "id": "HbaUDQeVaqKc"
      },
      "outputs": [],
      "source": [
        "train_loss_mean = []\n",
        "train_acc_mean = []\n",
        "\n",
        "for i in range(20):\n",
        "    n = len(train_loader.dataset) // 64 + 1\n",
        "    train_loss_mean.append(np.mean(train_loss_log[i*n: (i+1)*n]))\n",
        "    train_acc_mean.append(np.mean(train_acc_log[i*n: (i+1)*n]))"
      ]
    },
    {
      "cell_type": "code",
      "execution_count": null,
      "metadata": {
        "colab": {
          "base_uri": "https://localhost:8080/",
          "height": 316
        },
        "id": "LzIP0tGLO9Dt",
        "outputId": "335e7677-fbb0-4cc1-d212-398718b644fc"
      },
      "outputs": [
        {
          "output_type": "display_data",
          "data": {
            "text/plain": [
              "<Figure size 1440x360 with 1 Axes>"
            ],
            "image/png": "[encoded data removed]"
          },
          "metadata": {}
        }
      ],
      "source": [
        "plt.figure(figsize=(20, 5))\n",
        "sns.lineplot(data=train_loss_mean)\n",
        "sns.lineplot(data=val_loss_log)\n",
        "\n",
        "plt.legend(['train loss', 'val loss'])\n",
        "plt.xlabel('epoch')\n",
        "plt.ylabel('loss')\n",
        "plt.show()"
      ]
    },
    {
      "cell_type": "code",
      "execution_count": null,
      "metadata": {
        "colab": {
          "base_uri": "https://localhost:8080/",
          "height": 316
        },
        "id": "qspBblLL8aKE",
        "outputId": "27d831c7-f477-4fd3-9ba5-a6d313ba1834"
      },
      "outputs": [
        {
          "output_type": "display_data",
          "data": {
            "text/plain": [
              "<Figure size 1440x360 with 1 Axes>"
            ],
            "image/png": "[encoded data removed]"
          },
          "metadata": {}
        }
      ],
      "source": [
        "plt.figure(figsize=(20, 5))\n",
        "sns.lineplot(data=train_acc_mean)\n",
        "sns.lineplot(data=val_acc_log)\n",
        "\n",
        "plt.legend(['train acc', 'val acc'])\n",
        "plt.xlabel('epoch')\n",
        "plt.ylabel('acc')\n",
        "plt.show()"
      ]
    },
    {
      "cell_type": "markdown",
      "metadata": {
        "id": "_ttOJPj-O9Dt"
      },
      "source": [
        "## 3. Расписание длины шага (2 балла)"
      ]
    },
    {
      "cell_type": "markdown",
      "metadata": {
        "id": "qiz3JstuO9Dt"
      },
      "source": [
        "С курса \"Машинное обучение 1\" вы уже должны знать, что сходимость стохастического градиентного спуска мы можем теоретически гарантировать только если будем определенным образом со временем уменьшать длину шага. На практике при обучении нейронных сетей такая техника оказывается очень полезной, однако теоретически обоснованными способами уменьшения длины шага фантазия не ограничивается.\n",
        "\n",
        "Одним из простейших способов является кусочно постоянная функция: на нескольких фиксированных эпохах уменьшаем длину шага в константу раз."
      ]
    },
    {
      "cell_type": "code",
      "execution_count": null,
      "metadata": {
        "colab": {
          "base_uri": "https://localhost:8080/"
        },
        "id": "V2Z0OT3nO9Du",
        "outputId": "a12efbc1-2ba7-4fe7-a10e-6a2c80ebfc56"
      },
      "outputs": [
        {
          "name": "stdout",
          "output_type": "stream",
          "text": [
            "Epoch 0\n",
            " train loss: 1.4632555504603622, train acc: 0.4762992949328867\n",
            " val loss: 1.2113001453115586, val acc: 0.570567376055616\n",
            "\n",
            "Epoch 1\n",
            " train loss: 1.1493778646101245, train acc: 0.5993364782394395\n",
            " val loss: 1.1238042636120573, val acc: 0.6111480497299356\n",
            "\n",
            "Epoch 2\n",
            " train loss: 1.0532460427371413, train acc: 0.6317290742175017\n",
            " val loss: 1.0261070200737485, val acc: 0.6423980497299356\n",
            "\n",
            "Epoch 3\n",
            " train loss: 0.9899536824531485, train acc: 0.6573558697099006\n",
            " val loss: 0.9781658834599434, val acc: 0.6601728723404255\n",
            "\n",
            "Epoch 4\n",
            " train loss: 0.9436337211232299, train acc: 0.6741724341181558\n",
            " val loss: 0.9460393241111268, val acc: 0.6733599292471054\n",
            "\n",
            "Epoch 5\n",
            " train loss: 0.9196571902775459, train acc: 0.6821950901796875\n",
            " val loss: 0.961407671329823, val acc: 0.6753989361702127\n",
            "\n",
            "Epoch 6\n",
            " train loss: 0.8974738729065471, train acc: 0.6912256790907335\n",
            " val loss: 0.9610082859688617, val acc: 0.6648049646235527\n",
            "\n",
            "Epoch 7\n",
            " train loss: 0.8776354808803014, train acc: 0.6965428310730776\n",
            " val loss: 0.9288126438222033, val acc: 0.6719858156873825\n",
            "\n",
            "Epoch 8\n",
            " train loss: 0.8587236768366868, train acc: 0.7032188561760311\n",
            " val loss: 0.936527560365961, val acc: 0.6808953901554676\n",
            "\n",
            "Epoch 9\n",
            " train loss: 0.844609510473621, train acc: 0.7089767237032135\n",
            " val loss: 0.8806335436536911, val acc: 0.6929964539852548\n",
            "\n",
            "Epoch 10\n",
            " train loss: 0.7380492167455405, train acc: 0.7458132019426531\n",
            " val loss: 0.8260908395686049, val acc: 0.7159352837724888\n",
            "\n",
            "Epoch 11\n",
            " train loss: 0.7205111639373263, train acc: 0.7538521808505713\n",
            " val loss: 0.8274356769754532, val acc: 0.715469858240574\n",
            "\n",
            "Epoch 12\n",
            " train loss: 0.7161997116461968, train acc: 0.7530442021882512\n",
            " val loss: 0.8224626738974389, val acc: 0.7180186170212766\n",
            "\n",
            "Epoch 13\n",
            " train loss: 0.711047711276485, train acc: 0.7555293484405364\n",
            " val loss: 0.81970190456573, val acc: 0.7186835106382978\n",
            "\n",
            "Epoch 14\n",
            " train loss: 0.7067742805921181, train acc: 0.758487855930433\n",
            " val loss: 0.8198079436383349, val acc: 0.7180186170212766\n",
            "\n",
            "Epoch 15\n",
            " train loss: 0.692426631502957, train acc: 0.762988867881747\n",
            " val loss: 0.8113981648962548, val acc: 0.7224734042553191\n",
            "\n",
            "Epoch 16\n",
            " train loss: 0.689236486306792, train acc: 0.764584421566679\n",
            " val loss: 0.8108158749468783, val acc: 0.7209441489361702\n",
            "\n",
            "Epoch 17\n",
            " train loss: 0.6888536128745001, train acc: 0.7632051450242944\n",
            " val loss: 0.8121745205940084, val acc: 0.7206781914893617\n",
            "\n",
            "Epoch 18\n",
            " train loss: 0.6887503010808222, train acc: 0.7651475581870001\n",
            " val loss: 0.8105439077032374, val acc: 0.720877659574468\n",
            "\n",
            "Epoch 19\n",
            " train loss: 0.6877195957155943, train acc: 0.7628378820157792\n",
            " val loss: 0.8102828534359627, val acc: 0.7220079787234043\n",
            "\n"
          ]
        }
      ],
      "source": [
        "net = BasicBlockNet().to(device)\n",
        "optimizer = optim.SGD(net.parameters(), lr=0.1, momentum=0.9)\n",
        "scheduler = optim.lr_scheduler.MultiStepLR(optimizer, milestones=[10, 15], gamma=0.1)\n",
        "tr_loss_log, tr_acc_log, val_loss_log, val_acc_log = train(net, optimizer, 20, train_loader, val_loader, scheduler)"
      ]
    },
    {
      "cell_type": "markdown",
      "metadata": {
        "id": "5Xc76KvzO9Du"
      },
      "source": [
        "Посчитайте точность на тестовой выборке:"
      ]
    },
    {
      "cell_type": "code",
      "execution_count": null,
      "metadata": {
        "colab": {
          "base_uri": "https://localhost:8080/"
        },
        "id": "1AjiYhKqO9Du",
        "outputId": "41dfe60a-cb28-4efc-c633-40e6b3df5438"
      },
      "outputs": [
        {
          "name": "stdout",
          "output_type": "stream",
          "text": [
            "test loss: 0.8167442988817859, test acc: 0.7226313694267515\n"
          ]
        }
      ],
      "source": [
        "test_loss, test_acc = test(net, test_loader)\n",
        "\n",
        "print(f\"test loss: {test_loss}, test acc: {test_acc}\")"
      ]
    },
    {
      "cell_type": "markdown",
      "metadata": {
        "id": "yE0dgLYrO9Du"
      },
      "source": [
        "**Задание 3.0 (0.5 баллов).** Здесь может возникнуть вопрос: а что будет, если мы не будем уменьшать длину шага в процессе обучения, а сразу возьмем констатную, равную значению нашей кусочно-постоянной функции на последних эпохах, то есть $0.001$ в нашем случае. Запустите обучение и проверьте, что в таком случае мы получим худшее качество на тестовой выборке."
      ]
    },
    {
      "cell_type": "code",
      "execution_count": null,
      "metadata": {
        "colab": {
          "base_uri": "https://localhost:8080/"
        },
        "id": "qZ2iB-LBO9Du",
        "outputId": "38048336-10d8-4c2d-a04d-7984161349f6"
      },
      "outputs": [
        {
          "name": "stdout",
          "output_type": "stream",
          "text": [
            "Epoch 0\n",
            " train loss: 1.8364565518482077, train acc: 0.3586894424131627\n",
            " val loss: 1.615942218963136, val acc: 0.43477393617021276\n",
            "\n",
            "Epoch 1\n",
            " train loss: 1.5422392817694264, train acc: 0.45851152394327865\n",
            " val loss: 1.4547930676886376, val acc: 0.4853723404255319\n",
            "\n",
            "Epoch 2\n",
            " train loss: 1.4237224048844639, train acc: 0.49786987470316496\n",
            " val loss: 1.3689840154444917, val acc: 0.5189937944107867\n",
            "\n",
            "Epoch 3\n",
            " train loss: 1.3576994572086787, train acc: 0.5247943327239488\n",
            " val loss: 1.3344982045762082, val acc: 0.5323359929500742\n",
            "\n",
            "Epoch 4\n",
            " train loss: 1.30480201686758, train acc: 0.5422066793363317\n",
            " val loss: 1.2806125427814241, val acc: 0.5518838652904997\n",
            "\n",
            "Epoch 5\n",
            " train loss: 1.2606828494961126, train acc: 0.5576113215094293\n",
            " val loss: 1.2405905226443676, val acc: 0.5616578014607125\n",
            "\n",
            "Epoch 6\n",
            " train loss: 1.2191071047207556, train acc: 0.5731383847580096\n",
            " val loss: 1.2100279381934633, val acc: 0.5753102837724888\n",
            "\n",
            "Epoch 7\n",
            " train loss: 1.1840046989634443, train acc: 0.5862700771370143\n",
            " val loss: 1.1779680049165766, val acc: 0.5845079787234042\n",
            "\n",
            "Epoch 8\n",
            " train loss: 1.1529325436412525, train acc: 0.5986101137000857\n",
            " val loss: 1.1465318791409755, val acc: 0.6019281914893617\n",
            "\n",
            "Epoch 9\n",
            " train loss: 1.1234250134044417, train acc: 0.6084446004801302\n",
            " val loss: 1.1207361505386677, val acc: 0.6070921986661059\n",
            "\n",
            "Epoch 10\n",
            " train loss: 1.0964904610592008, train acc: 0.6172425895112088\n",
            " val loss: 1.0839641281898986, val acc: 0.6294326241980208\n",
            "\n",
            "Epoch 11\n",
            " train loss: 1.0747126807242469, train acc: 0.6274973884143167\n",
            " val loss: 1.0798824845476354, val acc: 0.6189051418862445\n",
            "\n",
            "Epoch 12\n",
            " train loss: 1.0490038685868384, train acc: 0.6355771742747515\n",
            " val loss: 1.0626226615398489, val acc: 0.6294326241980208\n",
            "\n",
            "Epoch 13\n",
            " train loss: 1.0271972251112762, train acc: 0.6450403173619258\n",
            " val loss: 1.0438936641875733, val acc: 0.6309840425531915\n",
            "\n",
            "Epoch 14\n",
            " train loss: 1.0120681586387605, train acc: 0.6497045573412391\n",
            " val loss: 1.0307932480852655, val acc: 0.6427304965384463\n",
            "\n",
            "Epoch 15\n",
            " train loss: 0.9938248894986113, train acc: 0.6556215722120659\n",
            " val loss: 1.0494342679673052, val acc: 0.6349734042553191\n",
            "\n",
            "Epoch 16\n",
            " train loss: 0.9798693401939909, train acc: 0.6617385414880198\n",
            " val loss: 0.9895206900353127, val acc: 0.6530806739279564\n",
            "\n",
            "Epoch 17\n",
            " train loss: 0.9647638500281618, train acc: 0.6653336380255942\n",
            " val loss: 0.9851932441934627, val acc: 0.652127659574468\n",
            "\n",
            "Epoch 18\n",
            " train loss: 0.9534677970997812, train acc: 0.6700550079127771\n",
            " val loss: 0.9926661849021912, val acc: 0.6497340425531914\n",
            "\n",
            "Epoch 19\n",
            " train loss: 0.9434379082057333, train acc: 0.6723606032906764\n",
            " val loss: 0.9685900761726055, val acc: 0.6587322696726373\n",
            "\n"
          ]
        }
      ],
      "source": [
        "net = BasicBlockNet().to(device)\n",
        "optimizer = optim.SGD(net.parameters(), lr=0.001, momentum=0.9)\n",
        "tr_loss_log, tr_acc_log, val_loss_log, val_acc_log = train(net, optimizer, 20, train_loader, val_loader)"
      ]
    },
    {
      "cell_type": "code",
      "execution_count": null,
      "metadata": {
        "colab": {
          "base_uri": "https://localhost:8080/"
        },
        "id": "09nkaHC9DYjp",
        "outputId": "fd70aba9-b556-40f6-e347-719a2248be8c"
      },
      "outputs": [
        {
          "name": "stdout",
          "output_type": "stream",
          "text": [
            "test loss: 0.9761525586152532, test acc: 0.6548566878980892\n"
          ]
        }
      ],
      "source": [
        "test_loss, test_acc = test(net, test_loader)\n",
        "\n",
        "print(f\"test loss: {test_loss}, test acc: {test_acc}\")"
      ]
    },
    {
      "cell_type": "markdown",
      "metadata": {
        "id": "xVotU378O9Du"
      },
      "source": [
        "**Задание 3.1 (1.5 балла).** Изучите, какие еще способы уменьшения длины шага представлены в <code>torch.optim.lr_scheduler</code>. Выберите несколько из них, объясните, как они устроены, и обучите модель с ними. Удалось ли добиться улучшения качества на тестовой выборке?"
      ]
    },
    {
      "cell_type": "markdown",
      "metadata": {
        "id": "pd9TObYIezoY"
      },
      "source": [
        "### CosineAnnealingLR\n",
        "\n",
        "CosineAnnealingLR is a scheduling technique that starts with a very large learning rate and then aggressively decreases it to a value near 0 before increasing the learning rate again.\n",
        "\n",
        "Each time the “restart” occurs, we take the good weights from the previous “cycle” as the starting point. Thus, with each restart, the algorithm approaches the minimal loss closer.\n",
        "\n",
        "Такое поведение достигается за счет периодичности косинуса.\n",
        "https://pytorch.org/docs/stable/generated/torch.optim.lr_scheduler.CosineAnnealingLR.html\n",
        "\n",
        "![image-20221012-205910[1].webp](data:image/webp;base64,UklGRjRSAQBXRUJQVlA4IChSAQDwEgadASqIBfAEPjEYikOiIaESaaUYIAMEs7d94ySIyH5NBpUdeOaTYoB5i2qb/oxr/tL/ZP7n/Vf9T+////84OOe3P2b+3f5H/G/3n/2f735Nqj/Q/7N/f/7b/av+1/nfmP/mfuw7P/Mv9X/2Px69jbxT8j/tf9j/xX+n/vf///6X3u/xf+u/zn7ZfJv+r/5b/bfml9AX8k/pX+g/wH+Z/3f+R////D/M//G/YD3D/83/qeoH9gv+b/nf9n/8vkz/wX/J/x372fJv9cv+d/nP8p/+voC/kn9M/2P57/8f6ov+Z///dC/xv/e/+HuKfzz/P/+v/Wfv/8vP+//9n+2/3f/8/4/20f0v/S/+H/S/7D/+/8P7J/6B/gP+J+fX+2+gD//+2//AP//1w/k/9j/xn+L/yP+t99vyn9W/vX9z/yX+t/tnpj+MfM/2L+2/5H/Nf2z/6/6b5AP87/DeOL0v+h/6n+g/0HsV/Hfsr+N/tv+U/4X+D/d/7mfw//C/yP+g/aH1N+IH+D/fv8//6v8b8h35B/Pf8P/dP25/uv7we9DtX+Y/3X/g/ynsF+833D/n/5b/R/tj7nX0X/n/0HrV+g/4b/xf5z4B/5v/av+v/h/bD/x+Pv+Q/8/sHf1f/VfuD7rn+N/7v9n/sP3J+IH6V/sP/H/pvy++xv+ef3f/h/4r/P/s/////+QXJiK8Fr/Xngtf688Fr/Xngtf688Fr/Xngtf688Fr/Xngtf688Fr/Xngtf688Fr/Xngtf687/41uTcPKXdDno3ZbvyMDlvM8b0M/J0delVDZKghwNJREU+PE7rTqVigxONsWT/ckH3zT2pKfIkORPfnJPKXs3ayguIKnchj3qjDnIuDDoSGeNQOUCLJhyi5SOjede4CfxVl+af7YewfEyIZk1seWi2baJrXGP/tOlgJ8GntQPHG3Gze6hQRm7K550n3BLQkhA4DiAxH84hVBdNPp8TPs5jrzwWv9eeC1/rzwVMZq3tHxqM6S8K0BZB8Z4vCPiMpo/V4i+t3kmnYsOk5EVjNAuzfr8oNZ/zaCnoiV6I//IiHAr+QwiHkuZ4LgPqeaZ5PJCguB7JoSqGCElHWWfrXWuyHLwH6GsYycycG8Wac9+jxORUy57k+6ut6TZgMFWXK/6b/k+e5ojLhbAxOS+Ais7yrnTOoUVgjNmZG82QomYUasEBDIIssCsjMNqVSuRL66MeHNCz4LbisyGJIjX3RO9cxvPwuX7rMqcFsuir7488T3uY1TqFvlFo3KCTmToeYzB7y+fy6Irg+W44c/NVgUV+NtnrBsH/J+5oTt+2CW08c5YQFMjUjTuUSeWDSC02S+lyiTg6/668XDTuCPlvW+1ItDk9s6I8isla9g/OkkM2Nnkll1Xgtf686hLrXbADVFdGmOvRYLoGCaLey8c3mlcYWlbHvsrmfmOa6K7Of5rb/xpS8k47FoFaihTGLdE+yp0NnRFEezq4ItNdkz4hO6DPOeHd4CTpJub4sIIWN4uPuOkxsXKEr1zdYFxYCQaGTbK3wPsKIsPve0vR4R4jkVANrjNNxJqPk0lqOsDKWCuqJV1TgTgZikWnWPCzRsz5sGMXo/XiF1qz9bD05LUNQf17W4rWsnkr7QmGJbv90IsKy40UdMYommQbkGOsD+a9TWs6kSIRcU3FYync271FpzrtR1vom63bR/0hiUM6RYhxAJEP5XZrMjp6L6XF1d3KzghT7SZYbpVkYCUP/blrT3ceYoWW6EO2aylAFW5fXoopKonZlVrxT88pSJVgSVUmCuXJlgsW/jiRe8ErQIHJmLHN1M1+Szz5ydKCADtfXSaHKTqZGWq0G3wqzDgEdFqfT9POfw7h44VlLAOr3+vc8/yCPNeIBc3kzahv6KGa9sLvox+K6cvUDGtnRmDBkzmjADF+2mzpJM1Rbjts8EP35m0+phnS76pHYxpL/8Driuz5NPtJpSudFXd1vZsVI6IJTKvoohf3DGCG9WhLtg2be/ZBUmt1ICT6ij//Pm3PGC1zf6FXFkzs2K9dgKTeeAwsvy9G3bCDkcDV3qjZypDJOBJ+e6+sFgf8ILUZwNPMmHYH2hkP8pd3Gt7n9hC5OtQi/P261vm23AdqwPT3VZ6RQgPGKkU3Oh3Etx8PlLLqvBa+/T01jLJvpF1gZidXVUtUDDlt6As4ALFJzjRH4Ai1Bq4LK3sMoozQxHhRvyU0rm1/FI5Ect+zwKF2KRyI9Y52O36Ajrm1QyhDFCOW/aU0PRLxNOwyf7jxXtKPzqpTJX9gW2Zzybhk/3HivZ4MVP65mqk4uhK/sC2vcIu84KOHOx4BHAhiiFbKcGU6EAHa/yMM6amBFOrMSzLiWp0dESQ8qS5eT57cqpuq6efFRy9yxa/3O8AbTsu2kAHa/1sIoV23sXcOYo3Lu2HSfNkoIiMMRYW7FaGntHPBa/15AJ8YdJcFr/Xngtf4ygOGbSADtf618GEIHI1n8TOD4ksNsoNQIbzWT7YHEmopy3OnXpp6ZvTqLHv8pBzw1Nz7qRP7H5WsIkhA5MA11gwBu89hCSEDkjrqMBAB2v9eeAIoaz154LVeihXZ/iGfnDibVN+aUrzo/KycMTP0g4BPn2Ls2x3cSxU6j5XRmAP9hX+y4eEZpPc8KF+U9NmbB0FxPJM5A+XHmk9dJbhE88Vidw3C3kOPVKmLFmKAIGSvePypWcjfwOdz0e38akiiT/fvOb98RR013AfYKvWuyOkn9HUF8MlRiO0NfEpAFmEIXpgW4pkIch2XC5k3hbnnwQc4oOTj6TEIAO1/rzwWv9bmM4ivBa/154K3mxY5MRTh5qfnJ1uYBqpI3jhyRtXr+uIntgLbboic2WL9zHI/Nnc/gAw+QSrWndIEMdEtChn/X+hCFGrLcGMmglxW5k1xMguYlYCauBUfNQjzhbCvmhv/SFV5drbaNcKJ1pI0J/E+H3uncm2E30gQOHDEfkgNrDBYP3oplyJrcOQebAGBPPYHOqz1isgMSoSSZ+EVcrOA7ENI7RHSHjxH8c3psNf3QZ48oL8zUvtgw5sn9PKszJeiy4iindh1LSlwTvyp7hnqEkIHAnYLBduEnn/pQQAdrDS+cmIrwWv9ePpsteP154LX1g9/gE1LLK4mCVW3J3QxV1vy4eVzroXej1EujrhTL6Jt7zeCRUq0UezEoZnwODLw2mtDvX/2wHBj0ECH4jvuboe+1chukMyOFapDc3XPFh3ySLtSBmIojS4k5sPht5g+sWuELBJ71oZfqZc9iyVMv4fecqD90ARK0/s6SHN3rMQP5ORWoYb78cniCAjH6v9HOU27DAgRD2fyY8GByYiopPXMhfNLX+vPBW82LHJiK8Fr/WvdKtx0oIAOsl4ks5EOlBKQKJgpjB6AdsZyA1XE5KhT25+f14+DPRbpJTpQP/Dlir1wQ6UEAHW82LHJiK8Fr/WvdKtx0oIAOqzRKJUVAO//jpK22RavGogLnCxVOThd100GefWw2vvRPKkGMmNdd+zE6wy5aHIWL+LDzwC9iRltIgNMhcSmIk4p8x1aOoTW83dgtk6QY5G0elhZOpvYZbjJ+SAN/5jrlYLQ3Bq5+2pFhIbAKEIwdZgZqo4gCjIHn7KKGvg7sAs1tD5lKRQBfKvFLV02PBT0HY4EHtY+b8bYfvQqpC5WOJ5c4z0XcCMXjiMDf/XBa/154LX+te6VbjpQP+aFAnMMmipM4vcfCJ1ei4NXq+QjM+kuvs5ZjSHwBDg3W+Gr8vXvjYiUpvj/nIE5mtg+AWG9JLLlGi12jmh6VD/57HCUe5uP/mhKcMvitBtiMVR5Bj/A5udAKT3QEW+y12p+lpLv755wGNtZFKl3ZS/VknRaDF4O+oP703STjANXcdYmEyGRWd/88BTYZUkHwwOHRyoQntjMfvCwL8beRk3m/PMLmSwx8S/WSZP9XEhPQkUALKqq9FIuzpw+Kv8BE7rnHtMqXCSkVgm3WqW09fHs75/wipJorV1naZGbXynxSY+j9rZb52zF8FZRCHR6fY3pDHq1j5hgihzNzyazK0J33wCKaXHU+A40X7cTf5eXF57cpZdV4LX+QlDFjHuJ1Tsd/rzwW1QsOs2kgipmVa+81pwaeHFd8C9pYV4gDFIT3/31H7WgJwxBH0bAH+vssFb2dlHBf4+n7D++pIS9nTWfeOS8YoRfhRmyYgehnEV5ijhCVADhhHa9iZXkPICovc4Puhgz84OsSfBzv5/nkQqmhyApqoX10FYwqveiWzuC65x4WKT6awoIkHcftCAUPxOfj7quZSwBngUjhtPduQR6VMusrcuzB6jONSPMNplR6yut6dB9IrgM0bibkwZILSc575rX/oOIhSew8QxU687X+zqfPKnGNhstcQAK1duTPJf+UHvkPxLpMlS1zp9/ZfjtfERhPGy+zFXVJh6E+/v674+zJaaiNuzDpGm/lNVoeB6w0vnJiK8Fr/XkUmXAx1QDuC1/rzwWv9eeC1/r64LX+vPBa+qQBueFXiHRz6mkIHJiK7E8xGEDkxFdcEPIQOTEN+YnI5Wa11wdMxuqcwDm1VoJ2ZLnqsByggA6vytyCp/RIRsggcmIrqmcTc88XFs6DiQgcmIqMqHrJ0DAzOvp2hlH47bZ4HJEsB+dKCADtW/uuufuPpMFr/XnXBDyEDkwKx+j3DdHIVXIsxNOMKYPBc7S+BK8fVxddQYRZqZUhVVKBzkxFeCt37s61LLqvBW82LHJiK8BPXm5Sy6rqj9UFWhA5MRXU6xjj9eeC19+4m/154DxlQvzSEyAS5F7I2pJeGNZHM74rpPE300cLvydaNflcz3QZB346/VXLRaiIHDlGePnkNftMPCBylGYLwzbOzlLBlKImPBRiR+nJfsIYTjUEmGM70DhEAfIkyfFvw5X/G5erbDSbMGBUVmXvbriC3/DIvDVWzr6MBNdh6IJ7Zli5pceiNjRY+JSygitG46sfH2EneUu3239LSTFsGmnQl2Il41e55wHCmZu18aCqpAvIpXAF34/M42MQdzPbPOzMVtAXFqTVijXYge5hzJ+NLVMcxBSxtp8Baiqzv7H9mpYiowLDD0oIAMMbzSEPn2bcq6/jXex4fny+AYVhG0Ktfc0IHJiEZiED27Ve+bTsmIrwWrsWVOzclFF4suq8Fqxa33hUC/3kT6uq8Fq7mS/MgzGXVeC19thUQuNdy1oeUsuq8BPXm5Sy6rwWv8rt51H87lUWMKRjZjIByYiuqyXWpBrcnwDtf68jWt7/hCR2e5QQAdq2Q30DOnxSy6rwVga0J0zJjmw6UEAF/N/oJ5C6JorwWv8ZPii3HSggA7X+vJuiWgbSyodriC92+5jq3KWXSMKsCCdoVvpQQAdr7Bv34A3b8QgA7X2789QEi3Z9KCADtW0p9rKPQkhA5MChwjlOC1/rzqdYxx+vPBa/154CcfjkhW8Rqy7aXGSH688FbvQ7ForwWv8sFx+vPBa+/cTf688FrDEJ9Adr/XnXBDyEDkxFRSaPMoIAO1/rzv+Q9LSjQY5ZwfNBqYMhgxM4dJxxIuS8Nb0tR/tyll1XTp6vmn5mT91SEkIHJgFU9pkDcnCdB+GQkhA5H4G+TKItHiteC1/rzpsxndZagqWjQpeADtf617pVuOlBAB2v9eRSaNyfTitOxWOEzJ8kGP6Sll1TT7NkSrC7mB+zCmIrwWvtiNyvqX7d6zkxFeCsiXgdNYUOK8Fr/Wvkwxahfl1XgtfZvtphXfAWQkhA5IMpke3KWXVeC1/lgt31yVSKg22RgU0IQF6rRhiD3z6K66ioDkFWOGeOEDkxFNzqdwoKVVMxLqsjpQQAdq396ka3mvSv3IDa88Fr/I0X5LbEVGvxI/AYivBa+1AbO+1vYtttSy6rwVhIYF91o2ZoTX1pk89cQAZ0GkNgCGluvPBaw0vkA1kz8LBLdbP8FU+zYcY5JHqA8oqboaAmkWKlJPoFFeC19+EEMXGHydZ7jAO1/rcmuzapGcNOlBAB1wbDTmgWRgHa/15Nz/5q1V9TjlBAB2rZHbHOqQJnh6SqooYVn7RmyvnthVheZSy6qcQZJ2VLmqdH5EWYweNcy4+1tabcL1rCbYwIOlqrbFPOEgmFQB0UDfjjRo+a8hkCDcMVfrw8uq8FWKxf7gOlLjpqVi13Q+XVeC1XTkIh0aihZYMBi7tf686dPK8ViAF1I2YCFUhBiEAHVb2g8QYnlcxKE3hmOTEV1OsY4/IetqEAs2kbb0fXE2qwNqXsjq3PSgWQok0ziLeEYwJYYmVsNyzdqKI4A4wViyb2g2VVca1TagoplT6U+vGYr+BcrLIIgHeT+gobMtOE92JOcsq5eJrmo4zVeoSXZ2hbEI5MnQB0s88kVCFIENRCsm3M4dKA4hFIsvwO8hLCdT2xRF5lLLqujI14gyBDuz7ZCYNxek8SEDkv5NE48dAeA0AlNxr7Rx/kAHa/yEoocFY0aA6SsRJ/MtKXs4BNhQnrrCdtPxLLNb13qkTZ5eH1WP9xN/hFrmy8Cxl+lLwsJ4sN9Cxn+YJ4ffWJRivLd/4XzdhtbZ+KMBBr3LgA9+Zf1o6jLkkl7kb3Vz60jIE07u/Wh3hEffiht7lqRCtD+KH+66ywyJHeWlGM0+puAfHhmSwV3YicLR2RM1Gt4WR51S116YusBh3WJVJzFF/7Wt2UvOhn6xwKU2lDKMYyHlzFVOzHzwvyYQ8JVtg0qlvuI+RMLX+s9mGdMhRbXN4KMOS7XNKoiPltJYHJiB2TSEOAaA0CINFSrFj+wOGZ1rLqvAEUNZ62Ij4m84X0zmt117f9wv+APhTJ4Dz4hlEYorHbI5RpXV/RdMImlpOls6rWKsPd5+6QKT/tkQ9OZDUtJRZRAVOd2u5ncwtT1XquQdFTymlXM6J2Zt577bcRwMLUQ9fabjE2ZflOt5PZ73QtdSucY/85DBHrIQhedHiH6oXeVj1iYSyQIAhAnV/fvWCc5FtHI5erDmSmkliaLjg7i6AF4QDvpiy1Gi2SqdIa5L8H6z9VUrpP553cw18OhNRV6fLklvQOEf8CBjnw+xu7nu5ybgePY3MwHc6LbLQrRUDLwMU1LwnUT6E/QJUZLj220e5vDmK9f8iR9fl4ldvqAaAnAuD8DwFRVc0MGG6wOWhEmaF/E4FNzUxHWYTP5vRQ7X5Qo8cxeR7o0YPJS7dYakGZhMR3l51KET24JF7y1H3zSBpthoWIxAInDZFu2ISbShgTHO829XXSemftmAJtRzKM14VRmJfGuy0C9ULvYq6GSyJ4pr48bbFXwPHedUQkN6URIS7UDNsdL2p6Fo5l+RCDqPDvfMgf9Q12AlFx/Zd3CIh7OnOJLlxTZT8ySX4rMTsWYfWoX52mKfgw9L9msfERxaQghAbmNgmHPPJJWZtQULjDRAdOjLupH54jfrJ5fBpE4V3gK4xawGHLvjCgjWidpbRGSNKhb94qtF3d2kHa6X9+zXYeufb87gec/SSmCQv9DM4WEpodmPAaKCJv4F6CDjVqBqrNFZCSEDgXxoPIQILw8sdumuk5hbU7rSKmTdWjZ65aelICML2arMEXDz1vNFAaFowN4D6VLJs6DE3rA1jKJzHLoYF8Yim3PAmayoye2YYCuzlEZ0fZ0dxrid3ccwjgHUX6aZxfOXGFEhq+LWtdEp6Qw6S7bLbXLA3xlP1eXnN7Kh2K6GPPJPpRuUfDp6tbIUx8SDyfPbkKjo0uwpVOlBAB1vNixyX4yvClWz/wNRnLOjUv0vDAkEbqD0gEmnHpNrqJrBd4KD8F0FMcCYBIL39MtA6lJRN8wSGtJJEaJYvQUmseFJHUoVTA5NvuHvHrgFQNTuu883eefwHF8r6GFy20ppk8tCFQGqo5SnWnPVNPCR/ZQI/Qn8u9EXmCt2AaoELJiD4dmENXQOIIAO1WcNyPblLAMrF1n4e/vIjNPql91WxPlA78Aq15BmFV8d5nknyJhltdmXqafEiSwcT+44kULiv8sbkpJcH06JBx9jP6PujFNDl0Indb0hMOv8ztCA/tPyzy8oc27BECQIE+OfnKZTz1teN/h95mAOdNH4gY2ayW2RAEQXAGipxBkhFWqeTCzM2mbaI36Ht1EwXkVmXwDmnxCADrCQwL725GUSHcXu5w/anS5UfyRVHH1YhIf86xsU4wzb6k4HyNK3rgqOzHTf0gpL6O4bFXB9ZCl0ZVoOgaSmXJDidOMWNNnCdhqMIJuAbDSWRHjHR+VUSvCQyGitfPQwf7q1eq9idTgrebFiYiUweh8pQ9V71Bbl8RJKCADtWyO2OeC1RWo/Wh8LqROvK7pYJs+d6/Qb1Pcs+QOJKFmpdXtH+Pk5BwMwPBoR8b0a6XAKiTB3Ap18gAsR+z0DcPtKitVzqVwEeN1rbCqMOY3unuDIDimo7sAI5j/NoprgdE+nAcj3eivr2tZnsacAaZafZqmbzAPRSJVP7kmIrwVvNixyYELuOnw/RCK7g5Gww5DyHYBe6WBLXQ5Iz81iP0Kriq5Q3IQDXkZw3QJy2cq32i3V6LJVsVkedWOTdeEbtfPd0YY5qVXFujD4ClcgZYsBmjzAba/bnC0DLxHEqHi+Yw1+YmDWLhZ9XhEBybVN4fGR/T7yAYc63mxYgtytFg6OMt8ObqCEoGtjEdzwWv9eTiDJIQN8sSxufO6O3+HjIr53a+f5qZGq8DmovjeC4M+rOc9GtLKujkREo8KDf61wXjSbf8fpKXJ8ocfVhkJ5/dWLpgCOT896D7Lt2dRqUrKujZjf0r7qOh1JPhXGo2IX9haJZV0TwT9HAbDD6qFb6ThzJxG5XrhAgauP4Syb/PO8ZuDEIAOt5sWOTECZ7ww6ujpaBzNFwNpqZl8I7eLHI3KB12VqPyQG9zOUgEIIS3BhiKYbIdwG11Rsor6ZqEJCZcxzw8zh0SyqlJK4gSvtlKjUzdkIrKupdyDM01KXJa46JegnR/LoaIbghBclDwPrSiVRnXxmH1ZGOfbXg2c+wpAB2v8ZPii3HSge9XTuBegXP+FcKHCKForo8CDNmXKyb+W7irj6uh+/RP2g6p4UTLwPJQCPDolDkSKipZz77o/l1Ba9cliGAGMvpMWWYZcjJXXYeJqvqdEXyj5Qm0IlrVnKUlRYaS8hBAB1bp4C7VadRUWxow9KB/0PfBPr+LJk//vQLPa3OZg51G9ogAtagDcYTfYptlbgJYTKQ48MXlUa8FqipWEedN/E2QhoeMfubJ3I95fhzYMzvJnDdgXz8SHQ+ocXOJxEM7PXeoiffs2sWOOJYT0p0p++QYFkvddei5vpbnMtf60PxAK0993BOhywy75wLuo2NmHc8RPuDTTEh3tmJ36kgXpZaGJuaBv4f33lu9P7A+ydY1510+9KwkosBlO3DpQG53SxyjFMLulNiqYfjmGq7+v5VwJe29RCg687GxNp9omcBHGox1HMabBJUiFM6iqwq5x0vv3+tBc2d7ZzT0nW0f8nRqYB1JW+bgu2h1pOwc0eNwwgf9KR+S6FF6G8USqNFVFeBbahq5AmWdXdCJ9cFSOHTzV/34vSh1j67py6Fwe2rcIXb4jv5SOrOG3Hejc1cPARsZAlUWTSf/65T7KPXH8JH6yxKCIOtkovbOm3IQxNeWWASmNxLyB8VikB8JHuOVDj3QQYM4sTqM8ZD2JE9DIJZCLVZpp5eFkQZh52I9Ny9ZmQLZNe3KM5ERGo2Zr352L/X0AJCf8orKL5XeUCmpiMnYx1OWrkF/r+CiGmicrUxizriQOwgfRvCcjYPg+Oh5jTMBcvKnCFFnr+MhU4jvSVhG//REuTXSRqJ1UuUky53RPSDrTxmLyEN/VM6s+sHnlScMsLdJdHwq+t6/EoKJV5p8cnBcJNcpuz/M2yRJbcYMNwG9wTE9C+vOsZihxwDUvNnRuMcjpXuF+V2YyvlPH5DNNbdkVp31gUD1DyU9KfAkaupJo8yggA6k8Ix9pem1TBenmqNTAO1SCiQ2mF+pBT2rl1XkG7F065CYXH683zCSauoUF4lgf4txRXRi0msaoaK18OcS1U36O96loD7EDyhDm0Gs0gKvKtID/o9whOoU2f1N0yN7I5JXo+cll3RH34iuqxqtrVgHa/1uYziK8FqZihNetO9xNRwC6JwdwWvoZRpZHvuuUx3MpZdDztmJWETqqPO+7LrZXIceFhZrMB84GMBGrT1Oi6mJYHMndr6GGQKCU7tcKs5oXMh8O1/hyDm1d8Un7LmUCPnHEjWXyhtwU4jQ6grGikxFeCq3sLY54LX+H2l3a5h5r+4R4AeHj9YuI5nJyEj5lSmJOwwF65TTp7aZJWCEAHapBVlH8cK84ttVE+Ld94PL42GFZkpNIsZeB2xyDe7Tg0h0cdQr7skpudvPQgQQlj3RcVorkF5+bk1uOQPeIHa/byTvZLZRUYYp24JbOFddssHtl0wAuGIQAdYSGBfe3KWBhFFs/GmJsyGEEakSYsuqbs3sU5m3+KjRWeG2zqU5QP+kzgc66N/kPy0jTknbChZ/1v75FZdCUcilDL6fT4WtDpSjj6ukGeuZJvsaSt/M7ZeUDhTR3tykKMMmutiZvFEqjnSyiUs9V6yfvoEAHa/yEoocFr/XkJ/jjKw5Jmj8Eiig+VFg8JdwgAr9KmAdqiLBTxx36CDsViRnyN1oYHa/xBZu31PibyF2k3cjS8yyUQMfRlCdMMGndEOVBf2YECD3iByipji4OFs/GE/7QHKB73QvXRWo5gwnQ98OP8Fr/EgAsJITerN9lO3DpQQAdr/W5jOIrwWvmdvEM2lSfuQGHG5B4arwVJ1u8szMyjuZTf1dV0aWnPK2O/+SWifa/S3TsyN863dqQ7+oAgtC/Z5UY886Rac6V6tMQwh28crWuit8CrFKLS2lC0L2B560948/l5yCivBUx6+SI3apqf6k/dYscmIrwWv9agxSWZyggA6l3Ny+JRc87GBYKRcEj0a14LVusb8AxmC0k4y0VzVhRUlGfEFPna/1nmaA+EobriWmvU9M/kg5lO6Qt6bTfKpcWVcUgsFGLQGhflIcncFyLoIs7hkrzPPgYgftZaGffhCEVGPXWQUj0a5EzR4lWquHaup+dz4XbHJQVGhiHIll1TZ+eX72Ggxee3KWXVeC1/lguP154LYHzQQ4NmXWOTAQAdSHbS6AzdIcP+ie75agIfO1/rXRigm6bpJVUwf55jWCHWOdWTbEkKlgDk0fRQm4qBVI18hPgBbvD/xcwuCOhH3CCndmkj0H6v+FWOGhohocJyPMDjHd62NVj8lWlWVrWcOk3BSfy0K8iLSiVeC1/rzwWqzhuR7cpZdV1WD+spWChrWgWv9eNB90oU71vxhN7ixb9QdkZbrA5MQIzlQ5gTf3t4HPAUAvFV8wxgl4xhU227f8Jz4v/420HjY8xoBSE+bsdj8XW17ZenGaKDGUdVjhtqnN1NfyrPcJnIeKBinw9c26QnDMb0YRIVMOOEnNRukSMe2Ea0Sv4tdxVtoAUtVGggnXzYdKA4szv1a3l3jFr11GAgA7X+vPATjueYRrqvBa+5UmFmWzf687+q960ZG0RgPeXTKhi5A2UKvBa+in0NjjLHEmKik7IPWcN17FmgFe55dRkZPxIwE4/ahxU36VmG/aDQ9TOrI+m6Gn9TckRf8ibfQMFMedy2PU8cHc1amraEheoKtULcoQowrAovu6/NGw7HlNU7x55KNeC19qPhajUapqGExILbaQAdr85rpXLWR38qF1hFutLnWWIpFCADtf5YLj9eeC1NIrR/zgH3/Y+9+aTFzgQAdqezEKBuOwKb2rf/nSgNurE08Z/FqfTe6wD11mybEGMQToKOXvO48MtmV+7mZ0LuHzM5O1RyXv5uEH7kBGBXUjeQkG10KJ7ZZXbmlEnUmlEU507+WzWaZWkER4dKB7mJvydjxSUFCrE2mHpQQAYfcWdu4FKD+CQg+jEx0elLQQ7oI2U0McbokZZNc3mb0Lbu+cmIrwVdnap+9oyOOrdkxFeCpGEjawWxfbb3EMvLx+MRXgqWiv8zoc5tJAwfBeMnO3LrJCqTLngtfQaaEfRj9NCATSCW5M2ALptBaM1gt3Kf1Dprq3yfX8LlnICJ/py0N9AoknXoeTSiXCpvd6gYE8OG9kEXTPz0I99JZIaK7+hCjwHIwlntY3eoLnL6TEV4AillKesy8fWvC1VC24ofSv0T5qQOFVqR8TgCj79JYngSSxMuPUUZZQ643wyMRi1W9LnVt8yUseyDWx8u50XRP+GxSt3laE8FavIfHJyj27FumUyBXzP7MULYoXZgBC7IqRfPTlTzOv2sYFbqEpljq72A094rRUvLQtMG8l8kBCWS8m6yQ3OfbV7rTjWmNGkfoi1MmeXwPgdNHtmS8Mm9MAmHQevzH8yTY7TiybZgzoXhCYp87VSS0HWfpnGzHYrIjf2L15NTlAJXh6LUGoR+cgkGNvNX4dEMG1aCaF13MAfE9bNSuU/7BDp6HiUckx4npvqCzn/IyKN47lGhJKbYDjt6rb1DTL7/0K79lRMIM0H71vVxiZslxFeC1eWSWmWn9tmodV5EKBm4pqNy7cOlBABhrIsj68JAJlNmB/rzwWvtjvq0zH7z+cC7HJiCCUgij8xthjxnAsgzzCSEDkv4VkrTkYCZyYinHJXH1hh24BC/YeQJqa0dBgNglghRE920runnf76oGjBRIymFRlfnmxQF1qWiRRZin/VWymAmq+HADESz/OjEDS5feoOWuY8Zz0lAZVW/hl+qDDblLLqvBa+zbXIhy8OlBAB1u/dnWpZdV4K3mxY5MRXgJ683KWXVdb8K3awXSggA935xcRQWEMErgbOZYE0AZsfR1f6OXZF+WahW4o6YDRaEv+rpqGAQCPApg9sskhrRjMBAB2v9eeAIoaz154LX+PN/AkXyDPBa/14/tio7+guzvKX+vPBa+sctDWo7XPAIvZCByYin9sO16TB+MBAB2vqtJvMDgL039ISQkcSNJrjPOvcOHsB16xIQOTEV4LVsjtSJrrxxb7X2qepflTQsphEHCQIt/X2D3w9VcWdTfsBZIU5GjAjE5o/u/lFTFyPUq8ziMbuEQz0vbldoj9aGU1Op/32DDgPBHn5Ka7z+o7ynEm72zowhUS8G63TAZBGnAMDNJzdHrhs4DhjpjN2oYZuDGtnrxrhBjlWb23twzis1ytqMqcFr/Xngtf5YKTnU2+ngmrw9fV43ct4sb5XJeA7diEwXFFXGE6LjXFOBGgC8eIUn+FYPQapfz+wKowjF1QP416PnkDlhzHPfwpx1n4jldhq+taMxig344oCpHrK6FpgnhABiyotKS87qPCvCkYniTtPblpt6Zz+YCYhFEK5o+XGc4hzhuxLpmBUI6L3jSu1Ap5ltZcXlvvsz4x01KUem8enT+mgXhhf5sJbQOw4JYJUof1ja60Acs7LAAh5Iq3ojjKcWl2cp04SAEvGYv2wC2Mv2l2+4XoqiMawdCDmuNJD/YhTEEYKSqKMFGn8NWJd4QNDzHCpq6YJ90bV7ydlpr2SteIFEHnUUC/Ug+6iqn8mkyH4/Hku0sTUI4ZreEs0Q/JCAcc9Uz2QSMcc/+Cuj46VBWZvzuLgXS+q7HEwnxI3YkiufcBE2pJrFvu38QZJCByYivBaw0jmeAEaAkLBC5Qi+xsAgRtJ/0Lyb2Bpwqk1N9s0rjtLG+ydmhU+dhLPBW2QSN6d2ZoaafWCvcXW3kYLFK/OVHADTx3Jno+g7qbWDJR8Uibhea701ZpDb7D4iTBGwdNTWVwgfh+4Cq3vP3+wA1Pmn/J6R76ZPVQeOjClcLoJ8B2gSjU45LhCl6pI48aZpzxAhHny9TC+K10257DD0e28eUsOfUrfBE4qImPTLxrNZZ9A/hHJY8iTFUbKH+7Zo0IeC5nov+/tKTGk4XzdZJTdlOcMf4owgD8MaS5NYspPcogVQH95Wa7JjuBIJ3hB4FtBOBNRlG4kgoFBmK4pbqKbeQIpMEksOmpvZwQZel7lxvEycmb86f3jUwEATf9Bb4tiD84UfkejU33MR2SWDR9kH+YyzIHd4FVUPyYxpktbWZM2LQZJCByYivBaw0vnJeCRBGLCuywhYCL4lleOF94DXyjxZXo0ImcncGPH5QdJV1ixxh1o6PYOpPwP2UURfoLiZ/JCTtzGcRk/a/2/M6KJDKQAA7X+vPBa+q0bl24bqvrrFxkXb4Bk0VGtmkudTXXvkBSbVUWyWB13LZhoFh4bk4YQLMmPPvQ3YdEmCZ3JMUVqckT9NM8oSC0si1PTsJ/NTCQdu3XDhnAxDQ8AwzE/8RZPEewa+fezVW2mOzV35lhJYS+EwOT4Fyw5JswON35GLgnj6qbaHAMnrzcpZdV4LX+WC4/Wt+xyvR/3L8Fi7AS4H9I0EFVgi3VdLHq1RUDFPJwQzkKzbaA0U01HfM9jNkYGvLDcFzyMAjzYG/gGNEVhuxwZu56ERdov2Rxf1ZYUVpphkw4rNWe/cELMBaiixw6KA4GAo+hnUOB3EYZs3pYb8fkaWVtLbeYhTGcRXgtf688FbzYscDPj9GgMV3UDr5l4H+jkesLNtp1S5SVtjm5dIMtCSU56TTibZdIlWzpv4sZN30nFoAdShullfz0nM479ZXx/X+Rot7bA19EHLiE+2FgLzrJA/LpCvI2ZI+N++nl433yppGsd0BeEHvguEkIHAIHPdqRAlO6Pt0EjzJHlx3wydMO9SCi4ivBa/yvqbE6CADtf5DMSThiK8Fr79DuJq2ByYiuqP1Vz154LX+WC4/Xoo2vv3E3+vPAKhDa5jZI2m5rnz68xUmyydWyvk6J5uxV9WEgzohaHj85fye61BTiE7b7QQyD2IQFSFU51ld7D+FvHsMailRSopTx8nICS9yL7e9fBmC8ewxNBwL+KUPbCGfmbLxj5jfRHAjgQnbfaCRBlU3pCp4RKYjbFKilRSootSarQAddGV1d02utQU4jgRwI3zQJjqw/12lIA7X+Ql8qmvi3lhrNczEtdvH15Fk8o2CMMWVzCm1BhTPNk04hTagwpcf2P8a4YmD0lIXdaLrpX5JHbx0TtD4VnP4i0fdv5Pfa71UWV7v8LY3ojkIUxQ/WzL1ggnJahCmKH62gWS1CE7pGv5FE7w60ZYubw3iul3QQeM0GcPOHmdsc7yOKNn2hUIqDy58C5IDoBADa/UV4LYk+UxBFNB2WaNPTcoIAOvFuRdjd5tM4dcN9XVdhDxiqHWTNdBG7YQgckrLcoFGLBPZdJk8MQffA5lzjWNKZDg3NbzwV3mXvL79jCj3SMQkg9MasDvBf5R6G6YdeeC1/rzo+ljjADX6NQ/dfhsPlLLqurhPbGCbwvkm7VfxXC2/ux9E/O63Ls3wAdq58ZvIZ9zOqzy4H69Dc9yMPuBx7VJR+/2NSzp7trPT+QHSgSV49kW/M3aoH9S3JHFcS8f7JvrLcyuqO3SBCFrRFWv9bOkcqOi8LJCi9gRsBmHysc9C7dY2fPRTaOE2g+mn3C0ZdJ/tNaCADrI7LI9KsShQ6i8YQKSdtfOsK8PBFHgDiptdP/EHSxqqeIIAMQCBGHcCi4ZP0WtW5Db9Uhe729d8NnVxQlLLhbpGG2mEDxhiEAHa/1sJKAth38fERoutgIAO1devY1X+wRdAdzbKybYxZ2KOPf979ZmDAgcmA908B2ngw7a15O3Ce9qYbgo7ueb49RCWTnDotZ5SER1NApM9roR6W0Yfs4jXqC0nU4gxA0Omq8FW2qRyCj1OHoVOva0K1W5/zN65EEg84A2mSJZGngmHEhAmja8lx+vvgcRvhfIqWLytbJy3t/1Sz/s/RGyjmVLBcOEkHeeU1OedTq54tHhdweByC30+rShsrYX5xulgPbxsyO/Ca88Fr/XnUA5ge8ktn2SQgcmBkFY9ifQ+rP5xPs3Tej9ygf+GG0h3honusFRlZU7GQfmfTI0WjoYgk98pbsOUaV6P7DRxqEWYIlCPRd54Kw9UVFEPp7eTpymANDPPJIT6DToYgks/naWNGQ9Y2qMFID2Eu7mBau4xgcmBmhSPPAhdXTrSSOb/ljBzwjpAkJ3ngtf688Fr/Xngtf688Fr/Xngtf688Fr/Xngtf688Fr/Xngtf688Fr/Xng9GfhJIQOTEV4LX+vPBa/154LX+vPBa/15Db4B6+ydnTkLA+WDF/YAhyO9gMoomA7PIBzaE9YbknXbdt2xUzwWv9eeC1/rzwWv9eeC1/rzwWv9eeC1/rzwWv9eeC1/rzwWv9eeAO9L216JZ8lQv3YJYuH51xwo2r/sem0/aM2ecU2NhHNnSHb+PcNTVwM7InNHtfh1+Zxh1W950CZqnlKj2lDCyUaZXYJbVVMcmIrwWv9eeC1/rzwWv9eeC1/rzwWv9eeC1/rzwWv9eeC1/rzwWrElIMAsbgO16UXNhd+XqmYXlDO/h/MGo8QU0dPPHTakvd5bi+cA0BKoF0h0SUqne1ZMnRAO6ahvw7ZaVhCH1b91eGzeKNgA7X+vPBa/154LX+vPBa/154LX+vPBa/154LX+vPBa/154LX+vPBavVVA7FXfNyxOF74LX+vPBa/154LX+vPBa/154LX+vOgAAP7/2ZwAAANJrlxIHtEkLfow0OekZ/X9loI7TU8JTc/R6SDDT5oZnh3WlkuKD5Z8o4bdwCT6DThxtcSxMiKq6NI+h2WpTpnCVTUXuDo0Wi9WqChjvXuUnWfTTnJe/vtuXQ+sAbDI9pI4dPUxjTJuOR1ycCN0UcY9O/k5k4mQD+rBiFwIaM35CdVjTT3oU5FUk/sgA4mmqv56gF5l+IdXvjsvAL97MsyyAKKQI3eDvhqLdjD4PqguX3VmGyo/YV5jc02Zz0DTM0JZC1Hnlft/Wp77Mk7pV+k6vkE7DClUxbwC4YHpGn3rDNS6HGYdSk2Ln6blQw4nfmUDUH0n0YFlpwRfrBwEeHdaWZe+Ga0lUVlrgyoM7FR65wl2xjV0/notQ3VzQeCIU6OePEv007/1XP5VBhb335+I6ajI2LGr/G2j9+SifLRxFAj4KvgRvL8GWQIgitcHnxfLlQz24RBB2gBpIs6LO7bXt8rLEJI6MdC2VU/zsQ5k7Hup7y7kNDCtzmoaeyYMMb66VZu3IvCsnIzC/pIhQK1XTiVYgi98u81PeMzxchjxMKhPRg0maeq83E0yyOD3W1aYLIRVPUbzBI+RZoQaLiJbxcib38IALCeBhjGKyOvlhXSVjrKISOBiOSf1BpNjj+s9asZntmDKARqk64ioWBVowzNTYylcTly06yhh9qEyYIvDp+U6DDsuINWOPbnerJ8QQmAGJy0gqaSQRbppnFlClui1yFWRSKrQRwhST1jWpFDhQ7bdcO6OxMvo9qjpbOLA1Uv9ZzWuyCAaOL2A/8U7TjRqTf1RERds5oC1/BEbqD6JLe5010OfLrX2YXsJhAaa07styH10qMtfOsvZJx7xnHirZKF2K0JfnG8JuBLo1kvxcvTvMPhm7gvPNwg7kh0Eeozxg0KD+xqeHWyF/DLigg1VPCOvEcc+kQja+w7hdFrnm/I1sj8iP+CzceYaei6ZKp7TRRDv2NamUYKtaHEv3BFXfcCEqyLDgUciXQ+1KErQbR0Xn4pwSRQzZO9gFWnSkuxd7jcNfysfDQh0LG3AW8krol4zWNjb4lKuUGsdbnMDoJY/c0SvS+MjWAjdPxQP8vL186ZIdZDVz96bajN1jPbQ9uZWSDT5tBuVaDR0rJSehxF8isHdoU1wx86WIXlWYlKbliW50KGjuN8r8RmtgBDPxVzYJAJFbb3kYPJ4kVvpmu//dj0JhdNZUVuB4nJoj2K+ybw4ZRhwWvvXYV4xJha3+N+NHuuiog1S66xQLqSETW66jw8IzauAH9LDX+R7mubwXEsmYRx3ymoX0+wJN3eS5vlTOMWBfpp4EPqbogi3s6lubxCWrT5sH9PMbjsMDf972Kc1Cppe5RddqcdASYfTBugtwexUVDUdVaKNy0OTdafHeqV1rXcuxuSIHYhnryVUwntW+LF1ZhoVeI5zL2eXwzauos8etFRCfWdFifyUGF3i2JNCo3l8pxBAUs7haHdghGmAu4PtdRzptGX7u2LOGAytumB5ZsOZ4/YkxFHoChzQjdAmq3NEwp8+EKHoYDYROGTgo7rBQ6fD0P7UtJCc0qYKcdQsAK1pZTBiEP5yxgmjsT4tfgf9H3/23woHSaLYpkVkjpuHcR2jRvrnWyRKPccuBHrbAHz/AXZ8ArKx4TNsSNm3Pwk9jcLtOF4XNEhu/eyFIC0uvMrovm3OkGPIi9Fx7XuRn9VONF9TcBwIazdBNt2MMK9oKObt6xT+hzWBn0//9y6qzC1JhprIL1LE/chZ/sGiRVzMVnoLgt5JRzGql2Iy5/CCrePXQCyf8WTLqZ+5dJoMo3Q5RG7uumAZZm1LniwWtl3XJSQNkz98vHgcdKtyFsKegdEJUO0mEA5QF1u85vBL7M8dMKw3laOA69kz5VNzHVHKCddI1JdL9MjVpuFk3b6qXBkyYiOtAj+eKQdu0cbuUzLycMp28bpvgeyC70rheKNHPIGnaM2n7mJvvtOHBfjI0P7qlsRlN3yHQMhr1n2+EErl/yvirtQ9OqEaUi0pLtw9HQvzsfjD2jp7/UWJuUSzPq+63mp8Mb6JCURoE+YtMKqmxucQHnLDmVHqtiIw3UyQhNyHexcRUiLCm8LCNTRiNl7ctR8jhvkcx+WBTa5fwdvZthb3bR8jTFjUPvWFBEV7t9OLEnTYMyxLiJLqjDhKxDuJKSTAkyVChnSkMFpUGRKOFnrCe0a30OInIsGYeGrcr23pmzVYFajWEQWCr1vi4nuRaTH436dunP+ol8/lhNJnmhNbJMbF16NrwveFA9hVjLZY3PYs65tRnGj4mTog0lNeWlBWii29L68YdiZRjSxBMG6CZwkdvI0DGgHr9zCvgm7SpoASduEMIrpviREs4eTTN/EJCB+CnwV5HuF9pflg5JDzZi77q2jtRKxrMYAtVSonRmtIJKjUPFCuvJVH28COx4YBzy6zRNmFeANllx7noFXNoKWeBnNr4RhQ+K3GSonIWZVK64xAG4KK6qK0lxTTZQOf7rr2YC3CuG1Qzn2EyR2U9wgjHMhNA81CzExvJXuP7rWdNMJqAVQewOEcEnGePvgg1Ap/5yZ3FgpYV8fafdHmJM1FtVyUWc4Dr1rP82tvR/FXummKHgWMvL93CCVXZKGRtvMob3OXokvD3hS5VtjM9EvsMwcHc7L/e1XWrlUI4pOKjj5I/Yp14QQugCHAH5XvE54GGwMsct6o/WAL+YGSvtzBUeu7dBLGuh8cPTaetMMLhxCZVbxITmUTV7BYqMDO6SXkJxP+AgMuVSXOEWzuJ8Wj9FJoL0JpRtErWAK4wVBIdXZzZy6wTq4aDV67qp2BA4JSj0H+YFU+xk7NcdKGbOl5eQ0+rnM2bBORGemfQvrR9N8GmudNB5i1izr+jCizfY7gj3fU002GZawv1mdpyHJbyETYl/bYnILWBNGH3qxub0hTcTwIEffQZS6TSI5F08FeLjjyY6llPcaofV4IjXzkYzoQaftPntF6vLYStC2WlsKKDTY6yg0pCnxeXWrqtD+ufSqe0V/J40W4+7lSBwhu/aRDwsnSzSK4zT25FnlT9UdlPo6DRmsK/Xll9aMbpfxBB+dkbz1SbTdXovtVJjJqW6ju6p6+0HWz/iYPWVvMJWKziWJrDgBN6llxvFuzl5LFYkDD5h/clcCK1xpYdd8vVoHae8NGuoQ37fmry6b+Q5modwPioTMO/KVeFU+slml/kwcib2PDTmTl6wV+9mXVeHdOH6h2y3dIGzV5ieV0ZC3Sg9PJv5SgGTk0YbPzW4KxbCLcgKHzzFyibVENKpttE8TcE+VAPumvSp446nIP5OF0XpjrHtNMdfbIr/KFAo+yHyzZBHRKl2r2ovXo4xcOaqez1bDbvSi673unuhWR7DXgFq8Z1e2+0nIzste/QG4PU69kegcfzDxCDR2MRmlKviHzVTzyEmXJK7L0SRu99uf3spIA0T4jGMmwiK1R6b2egH0zAs4Vzf071JRd1oxGPJ1ZRKenzVZFot53/1XzXkv3xiJNwcnxcZF7KZRY/I50w5U+yuUVr+Cjs0I5V0EIZwUMbxOtoJa1lNti7jR2tjgvO3eF5msr5Prir7RI1UJ7+6Yb0degI3C6j2ZUpF8dMkdfe6BsLw/k4SmJC89iVcDwJDaDssgs9VY2kETa/RPe3eHrvHtsUDwEqw50xaIhUN7BOIxuxjodIc7ko6kYw9W0PsVvkGzj7JnWadgFn7NeFQd1xa0iJZWkLer2kV7B+xihSnc/xFBNtRpO90uR+BpVQL396OVcTqioIqSgIkFwWDm6CmNiEYxFl4k8+zV61MH79pxFaYWCxsML1lUt7pj/9IPcbiS8Ifwssi83PkhVaAnhU6dCxfgxpGkj+X4/6DIKEWKfdEmG8qSK07CuOu8DjNEtXx9lHmowFRXuuBxHDWnswZaC9CHNWUCDlTp0mD7LBESZ37PqjXRr6GM2jzo6Lpbkn47Eu359XqIMCb9MaSI+3Q8r4gWFkKAlbozeEr6J2cJ69ZxtY/6fJf9/JZ3blU9Qyv441OR6KUkdmoGj9xHmYPelBAGB1w+nJP03kkclYsopz777aSEIA4OfK+F01uN7zUTnIcCUcF4Qv8kbS9Rk4rKQ5hIQbKilegE70R97xvRNfEP/oO0iFNg5y900IkX/HqUexxAUxe43wU9UmAG7K6WIDerf3kO17z/5ReGsRKnkv7JWPNujTXy56FA1lwZ7d5bp4Lgh54dCZ7ICNfLT0jgMs1zXRGwZ/onbxdwmi0jBo+OIB+wKSkI9TWxlaXkX0gFbQhIRYAHKchwpxwX4NWYEZSsNWCwbAxD+kCZGOX///660bqpMMzVpH4vuoX8mdbtKzPh57hQ+otQVFWVMCuUDapdDzGAUHv2EBwh4dXWt96xrpp7AEirg5YG+fkx9h+bWZ1ttcdcFY6/MYY6O0U1SBPSS3VpZyDuOyKJzbo7FwGWuY1DuD2qircswYRshd9Tz387XWjxuBDtvnud+Z6LLZQbGkECqLqVhFAut5I2nLcviP8JzCkAfS51SdROwdAsUShSesK934Oa6+ztJu8N3ukS6vcZJy3N8st9jJbUP3tJp20kcwI2OIvAwsHPSAAt02OQn42CLTj1Z4qy8Ur8nWHanCojrDAMqOJT5xdJR8bsvto+ZLGZYsPWDfUO50CXqnnMpzXP6ZniiCMhB4iXPgpkW5BH8CsMGR0apO2s7V26mjsXapIbUP55Jrcd/4eH36Q1XRlCvwONt03G/f+qFQfhrCNf4tcogoWPiPxfT+f6OHofptcchh9vfSiF+qzN9uDjEs7XeUgSZ3o3dMorHYbSTAySsV3CuwG8oHY7PZuBo+tgjAheOGyRR3zgOM45aNyFOzO6pBDCAMqDLGLbZXmz+INfQuURhGA1ZaxbI8tuBstWdgZnZtLVIQCwXHVfixXu4g3vGo1MdAk3UKiBYjQisncWYzwJMk8fVXmyMBX40JENPd291dNpJSqVkrek5fsFwzafIXBDIFAkbrsEnJV7D6B+YwxtkfnIDpleum6wmPI1BwZ5SMBvYCOqRFymlt/20I321RC9sDARncw9nHCUZs9jQ9WdMSdJAiSAhk3K6SiA1s/KTg532deO1uUDR7MMIK7QjuwIlh+e1IG3a5bIaNQjki+PvIIUGkoI+b8AOfs+gy6e8ypABNuRoq6stORITlOYoGpKyhhf01OiJ/XhnVvEbdOpkJa6ue2t6l9BWz1thMTmz1Z4O6SE/EQr3eMBGAQLFh5tRiCVnIZ1yJaZDlY+UOahwvkw1cgxANml3BAiDwnkZkEAl+Un0LLed3qvwgb7OWrWZrN4qGZC7Hinm4p0Hh7PveqUcDDjqJ/agx4dpETxtmrnvxqcAZqBGXDr9cHMXG+3IGx1xxjTIFlI4v2kxdIoejVH6cvP50ePFUsxyyWy7k9CDhC7s3zvFDwMpijOsFA27GEBS/1rdaQnVlsFkxzrGk/xvmKy3FCSC6vhEuHl9xr70YkQ76V1Dp2bqJ+zdU9TOIJJ1dnQ/7Qh1W6DX5VJxb05P6vRWFifBpfrGmuPCJUkFQGN8OyOFKFMnab0B00rXkvKCZMVRWJBHcIvCH0ODOMjemKbh0ca991BJHnia4oDvUV8Lr0emrtW/K5x+jCtN3ER6ohQSedNzKpWP7VETknRA9brPJX4vcnKaYtARHdo8IFFsMTnhyMFj+qn6sEy9V4wSsz0mVWMdJT/s8PnHJq7gZKNHfgb997hqRUVEZQ4WscIXfgP0GBJD/Qzqw6iyk5J1ewTUpBjJMo9/16Z1LhpL1kYKnP+b3/e/Q++SvHpJ3mDI9CmTeuklv7K1y8YSbZGNkhmCjRvfd0Vb4Z7VLRF2Xi07IQyc5bZeu8OySKmcFlGC9uWUIJLGHF5qHQRBWXEX2enF1J8LbI7XF9ALm9CgAtTS8Zv7VF9ctwBqGrvvqgG/25U9mLR6qULs7TyOttSwieZQy5+eOd8oIQGR7cHhO6CpDCE57Fu3/gSddxechBkqaNqRy6v5Ab77VFBbvd34xzO2mz2oiUbqiPyiGvnzANUOI/M0nXV8uzOo4LK9+ZQjceNp7QyaFhdKLylfC7WZwWWvv3WPeeWyFPdylEiu5Rr9hE7FGdGNnR+WAVdT8J9IRc0wa6BSHNr9czsJgtX7854BROziQ2p7HqAAU2u6WIQ0TbKo8jrdULSdtE8rXSrDTCWQYMBu0YDbjYZThQoXO/JtLUtqwonruhgB5JtRMhWoTN1IjiQBrX+yjSiUX9biQzwDO7Rag9NJoF/ulD4e9ITw4VsM+c+8xdlmCAzDmBxwhsR3fzoBv+NyRzOWFKRcS8buxWqdFjJB6qOQJDZWNRmS1SwJvMhD4rl0NPQ2NkNFdg00fJSfdonaf0bnTkHdJFy+pcywDFvocwSCtqjn+T6gdUg53WxJkkgorTqaIFSCNrY83KeCMF9HpUHa73gj4GVdmXxO3XjIzQBpwo1Grr+0a8xnszjHIKeqm0L+TogN9UfGJz51mrEmzg9ZrUgI8uSpAR/5F2GBdcjrtE2mHuT6Im2DUQvOjaFyAWEWbt8+t5fILR1jny232xmbkKTzgv/qOI5wbJgPqBvj2zZa7BraCyAi7AEo8Q0VhH0FqkyAIqAsz+yn3/7oj+SPSrso9Iie0p8Yl2yFcEUxzTDB5HDU2O4FuN+labTwtWLQDwSEO1WIRJGaFxPGeyq/O0o6fsBX9xfZnSD7VAoPkSLCRwzsfMBiaMNuBxG16l7cYm81moaps8z0k4EZlnjATJgwFGuw7r9P73Lhhb1fYPxFC3JeloWT87LEGHUAfV3NiFJba4VnELOSzIFsgJrHrcUF1FPIfEInBSNaPtUe+IW2EONGdFX0pFTL3DUp8QN1vjEhbBBl6Y9Q3czrvRd+bpoeBk07hBUu/3kae1cfKZ0pZZmQuZN2SpBF5zkuSTEaFSLEQaKA6p304+SVy+yq9fPXVYlQ6RmDgT2ocpnQXToWXKSq7YfuI8F4H8rdVDF8K1R2rj0IXwAdlOOy/No2H4/2AR2p95CPcAtVnbMBZ54JVPuHAbMBpu8qZyYP12oq6GV1S5nA4Sm7aIH354QRE4lB+fNmpjG4o65v9kc09xElS79jl3hvLEXuxhpCNnxlSw1UbZhg7mUrkC2u8BgjKz3oIx6+98rWOyoKO8l0xGRgyws8I3/F+fG/WD5nkJfpyNuyO32ao9jIAfe/tKSX5vT1488Qzl9646QAlbrG/dNMTLQhwbw3DauU2G3uKinkwywEdEG9rZJ65qFYJ8tSmV/GPsWi/uvB8zNSXtSWUAnvreRgWXcH0M4HhZeJ3cTRzy5SMOgN8qegPTJKr7JiHspAD+glz4zDgKg5SC76KgLEISqHL92mPiHbhDltDdySDPIGzj+0oDcY8JqzNo27yyVEdr9QEfDbP4fdKGXcsoCALPV2+gsJsALyNLDB/pNdvP1S+kyDNS2Ec0ueVbloE7bbb9NtsOWA4U2ZK8mYespY484aLF3uJzB7TusFOQkEMkR8b32rbsLlhbQDvbj2pbBqPnkSyH8S7yP/rkHbKaRgzz892fzz9YH3GXHrt2JR+YJfqhoOtfqa0GixravYAzfqFDfb3tQvkmsK4t5aRlwofgx6q8RzDOcKZVn98K7/kAC5B4rFTYk1pYfNId9QHxyMBvZdoLKrlvI5cGmgNRFMd3fwypE0DC8vCgyc0zcpLukmQyJ5Sp6A06jqOX96Mg4spAunRgrUroFaFwm02h0KMWLJ8qXdMu74Cc2h1TGig0p2bcL/tumQ3s7qHDkwEvz88WGdY1mYv683Ei/djvX7c7b7YIJ5cvjymKH2+Nkep4KVv5iHXF4uigI224l3SHxplwSanwEyJ9N7hLDGRlIj6x+6JH8w7HgZePujbM++Bc/dYayyBdIc1wMWJkWOJx8mOrMowZxrQgDkiRUe7Cz8g8m8tYsDCYEuYTHTQyN7/Faw+BYrYthBv8zlyWQRXRmotCRrKCpzqK4ej80V21GyY+Mi6qVKx+jo6jpseyIZs1GbED/5odVCwof4NQ2jZ5rjejsCedRXIeOcPT59NkpzLPqNL4VNBfYStzBRquN7oBkI99brwjVe4AalobI22ZEnUnY3YYNQHMLDFKF9/UnQr51xxsKW/PFr3hxzykKze20hQW2zFZrzMkY7Tc62zdknN6vNmBfA+FjJR+cssBaKNuNHHcpxioMMxe1UO1oQqccP4LvRkbdaK87mfnt8PvyGhlnM034znfNBmvt3iGewErFDoOjEJDSe2GACScrCCPzHBt1xiCVpVG2qcOvsqnvdQKLrGrerk83zuXbUUS0DSgULeMBHChFVwHdwDGClaZ9o4w5tyjvIuDVxD0dk3gAZ6DA/lOoqCBbgo3ZUISmNNiJer3DL7nzZ9dxiiJYKZQGBVf/gdlWffSpbgjnefByjOk258jvMgnb7/RQWt4wjY2JmSmvJBcEB6/Dh6cfKj62w+kRzaaTFG8yHe3wTzN0TfN4p1qTEyIICirneH9qRvsMyAJO4s/3b2lYfGbl3qRALV43nanE79j/Ycsqvq8+03eoAyje3nun3n7Pw0LJNTheKIDLpOmfZfCVnfeVODUDP6KCO/NsA6pecvmL5VZKXeQehWPb4ckeL/xzeFyz7/ALcGY2lTR5eF8/YkCFUwR+m/iSGuqPK7v2/nJgfUUlDiTNUOw8zTjB9OhGtXDEQvB30mWM6s4Np3mhc7Kx4RdcEsFhy7LL+JG2KWY1lHaFM5uqYY83Iw1CKKfz5wktqCayvkW3wqgWR0j8bjn8SCUrt6UlOv//A3PgQk+7hx6XEW9qc5isBYKCdw2MKAYosRMQCVkOusU54eC6WHLiEc0QLLYkSbpl7fjKgVzNtMK3rHYHsShOgSBqaqCwV04eTO66nObKSoeJ2YWcgH8dS7zjYSrzQe+8nf/wNzbwprBujoTKTvWtG5DgtAsvTPutoTg/d3fbNdhqPUw82pSK3SKn3HUp7HVVtlWWYzwZo698Xtd1Ma3RNS1GDhKG1FQ3MuNGJ/uoypR6U8d6Po1GwlI93ZkaqiRRgEnSpm7WNHhrMcTc2fCjsx2pHq/wOxxpFwfcnb6T82mgaqC/1QJ9add3h5t+xWFvVzC//iEimwlgujSDivcFSH9RpJBp0OAbe5WwM4wzEKvRn3BIx5vzrd38zB2Q5kexruMJ8dJqBDcB8mbujfc1JAgvz3eQt4Zyr0k1pQyh1Bye0a/IjeiU59wczym770LxXI17iWNzychpx5kpjuHietLwkEzfxT8se5M/4JN2v/z0kHC3ABZ26GMLzc+rJB1H8HKrVBEdT2rcSgg3xDbgfWJ42pBzsTDVCxlDISA641TchQUY6IRGVm5X8LmoTrjz7PIJbG73a9GVHlEe5ON2ISx3usQTM47Tk8YzcUQI88lnh5EO03Tkq3M69oo9XJapTFVSLSDXHe1uPhriARLA4leMrM/ANKTH1AHxZ4VTK3psOqm0m/2tzFFI8xbwVr4IA5jKODeRF3KlPkE3tLpcCnVuFuUezw04vlR6JtWQvAwp2m1RIVMWuqk2lsCOMA66vwkZcm8ldt9fLKTTE96SfwNidmLsTpM5AN/5c9BqgrpiKSgNlK3o9W9Z3KgCCvJEd+yTkkqJtLSr/f3sC3d2Z2NJCcDexvlE+i7kbhTA7lRBv8xIcLLR21mC35Ym2MzC08sB0/jd/EoQVujSnqua+NyjoDXShTrNHCzK66AUBJUada5xXJ7TVCgZqLRlHGVo4KAQTWNW3Tz8d8L4lFvXPGkPvVwyxERqANBJO8fwb26g0Qc/FdwLg43jO5VFx9UdNqPHblLnQ1HSuHi/LGwg3JO6gznhiru+B76+e8S/maGkYfQD8y6oLR3IOEG51OEb/HC40jGI4xnawIAbptR+IaifCOe7lq4Gl5IQ5yjUBibS2zaa9eW4vVucLe7PNgpVkhVstM3sMFGZwGphIvRnH4b5lm+5SIQ7Bc43WFTQWZamtxEKu7uRfndImsiOPOZm47j0o5jL5wciRAZYCFZtUzvrtcH6Rbsh9hWB3n5TGP3OQFUc9QQH4YDyjzdGoZvASKvrljSoSSytosHlU3Ttk6kntQZksjuEgzz+kg2/0R1rau1ETh6mEpJEyawfCRvbn/DM8ZJKMEVYlYURnVTNk+0gd7tLJ8HxA5GYBFnnWwNmMPMNBUwrnQADg6w/fcmObb6fFCEI4Xpw6rXrcNOzAfe6BPIGsCTQiiADFSl4BxI3EuuPDF90ZqBdOmx8l82YauodTgaC8iNadVKI8xLxWT4VApfv/mahGlfVHxZX8aAxUTZECwte0yBw6UN3SiUo8ck1eJDPVbmMAliU1JM4hRAqFoCj/KtkBf8tEqQKXqhaHLzIoG2E8rvwz697OtRBELkwDQnHH5gYfAwhRCpdS3D1Tnw725mzZFlyGFcmI1jDyoAv3gFfNoGiJN0XBuPuKgnnDhkxUy4guqmEzcNlXcLJtpUISXAHiDL6VCfmpKst+R3QZNoOtfbewgRppxQFbgIYe0iicmTVX/puCOgQE+7e5JxjG0WEWCzypnIkiC7fS+VthAkeoY1XVFCqYsxmQV48U7k8ejPOS4f2KcStmhAuKRAwSPQp4jJ58MeF+m9pPmAf1O8NejNQv454SXFm3xlIIAqhdKJ4g2Ubrb5shAjQRdkpPb4HCgXtWHxPD5qHQb6hKfApjd4bohsWV5SnszLrN4tnFHJfwmrrFdScmxlTkBvbOHMC3SZnFTs5unf4L+7MXKzBWz+zEc5eiAu9LfAh1/wcvnDW3MJ9Q/QQJqZ3z/OZ+3YtXuOPx7YmuEHJAn/fBSaMa+7dnlepPDAwrl8XksN7I2blLq7hMgE7hNJ+clqiYnPLTKOELZCIVjwUaKJWzGIyQLN9fm7aZAb01ZthX6oPoJu7ZiMS1Z/eCnPrQLtc8Pu3fz9FDzrfc0KFON4Dswz0qChVcZVa3cwL1WqI/WXdCKkUBQ+igOhXaCj1UH3MRuHu/0iPT/G63EFvwxpN6QiwXCwsC81qo6ZGBQPJUKpU2Q9y7B5XrOP3qwiAvJx0xh/9yMDAYSJZcCRcQKr+YYNpxCru3I9mZf+WAnlLR/lVqkhsetZRc2TseIJPZdR6SIkhGK+vdwQlP8WK1LoK+nv+nh5NpDfAcLuwz2D+POtYHAltpiOKNBO9F5vZ0MFRx+2BnwwbkMC4SLAfeeSrg3ZmtQoDOYJbtB4N5U5BZ3DrrNcweoBwEA79V1zMmdEFvYigRpaOXsyHfGkyoVkkD1Py0eh3w6DEnnK5oT2AZ8rLGMx3bzw2fxdJr12lRYscN7vq9znu3viofrGItCRArE3R2S93HUolHXHnXV+82dzakB4xTbwvmTVws/5LatE3AqrnRbgzAN9JzKHhaZVNmrN8tugtaM7qloVXn0v4KJzoY3mAPA2RQz6tP/brHs1wcNsyl/UtKL9fQIeLJMOoQHzIg4cjaKgePfv2Ey44s5f2kPEBkrxzmBGpbNTX6CMoKm3IkRA9VsKgyXd/otMiYoo4z0nu6GRNbyInSaONfV8hh9DvZozxF32MEi66Y1+/4ZZQdpmTcCjC3ZxECtUiPkzQOZ2s6YqyTop3BUi8vt8weyyQCdsS+Z/XxK/8OwtRq2fqdjoBasPsFEs5a849IhKfhtaaHdDuZCX3R/oaJWXVoxuUPNbNVx1bw+CMm96lRzLuc1ZqH+m7Xz4+Le87s8hKTYHdaVhngxKcBZMHVz/NKlMpCojgaFEs+zuFSoj77jVkuCt6wFblt2Da7+Ay5jLmS5b59M9DG1SA9xRZAFTDO3wmrBFUkBy6pWN555pqhSAEB2xI/cz6xoyrMiwu0fIUjMF5BEygPYtAaaQKDMKcd8NExhg9i8wiylsoQx5FXf2qpd0mq4WxTHT+zAGxSWMZPwH+UjLg/DE5ri6QgEt4tTN5IEK8QCUk2zE9dA4mZCm3DCUJEBGs9XUkxc69mn9cpfL+qfwlw7qdIBdl5gA2J+Kn2GjI9jZe8z7ZZmk7KF6W92+8LZj0mfSTCYfk9PmqkKiTn54KH4sflb8O3gDD3ozfGF/2gFfJ29OWNEcuIAlhugAk+UZOd9EEBRsHjnAWvzi0BWKAP3oRfxY5HaGKWL/9JDeiAx6VwmEjWj7/zf84Jl3rq6loY7W7Ngsj2QBwYjrQTKqs6EexrbOmYgp20bXRS3w/Kjo6vS+iNW/voQybvaZHBFvFptfLwsup8AE2kYrZiSB86rO5SzBQXsFQx8/hIr8fdsoiiNGpXlaM72IbHyIGKaZFZu/mGl95cvcwx+1wUvl3v6SgqwhJVUn/LBAinaxQP4BBO/bKKJMcE6szbaTshs7DErHDVi1yegDYCexjgMHg7BbuNDj8g2snzKtv1VXRBuR9F1yOgBqUt1wh90nesF69A3tvnA2i8p6k9xKW7/qsK6h0e+pNuhQW9MyItCJezuSqrc8hME6q6t5jxxB3MNu+qmrGKT+FLTSQj1cJl5PGwg/cwPc527ZG2XnPFa8LDq3IRVyFeQeyIFEU/qjy28ijcto/R5nVbemgfYQONW4jb1UkovihseK1Nns2ZRS9Z4u7YBFf6nMyJ4isXzWvzbcgseaMJkOtpkiCbSpTsZUSYEPn37AxJr1s5t+WmihwA3R8B6KXfVW4Ib/wBmFDelOdUE1RrVr7pEZBtQYvcmdEaOXCWgsrmFB3CemfMmMcmGiliZXGvD+304e6/Tamvu6lnQsTFyeDUhAJ74bLV28Fx7bq5lv0HP050S7JUBo5R8Q+kMThZMF8SbCixB/R68lmeFgIlqDQuShZZ5PhjTpyS47shw4LWNVHr/JNsqgC4rq0GsEs6kOtXCTSXwj3nNCbNK0LGCNkCq7qmpIK0R64iD/1SEtKHNiatG9/8EieuPLWTDSBL5xVgBJNCsoFtu6ZzzfFAVlFfOYDbfEwUzZbuWm8xC02q5rFMnh26cOhPvdl6D88xa1gRbasvf8eGUEGNeBcvysmS4c5vB4DQ74KN2W4EiIltFT9ffDmECc7+Bygbq0EcQ2NY/blaQ5htdnrCb//3l+HAB9DaXERlFVTb0Y+oC+2XBDprtNM3WqBkg0LHlb7ENbsq8oqXgQC/CHVKRZfqwv0UTI2YpRwW3oL8cOxQ9AdJ721+ugD6UQxvN23g5K6g8lgYXcP7yGyHpvjT/pdYaeRr9FU+p0zo00rn2aXM9PxfXre5ZZngSRK4KB69p1F7TlQ5bw0jWxkpOa1pr5+T23Su/l3QKcwiGZ+DhoAYSUqYPOhIZ2hf5J2jNXcW9yBJkY/ENmrOkqX3A6xZVOe/0DfJynrlc4/lJpXIfHIL+pCCFVHx1Rc0ThRhKLGmcHjZfVZ8Z5OnBe5ac+Su+bJ9OXp43hGAEu3zI4GLXlIvcZF+DHhJvPHS5xE/nWwam+qIBod3k4YROlgdHk4nL7WwiDCUnzdOcbWe9MrUHuOismaPF42kw8O2Adh0B3CGwJ/NyFvmUrDgdgEdEpU6XMBomaknZGfpjjgeCQnNnnjzMxTeh7gG/mxE8ar0m006dd/k+bfVNM5+c40jB0LuNi8xDXhcNYf8B2nQ+8hOJB4/HzP8lS6tTF6iM96jHUUwLMff02kPCabjuySHSZCme4YLLQeXTM5Yq9CYwfpA+5u3T2wda5T7mhtYdKwhZk00o+lqmWlZxa0dz9m437NqYzesx54PZV+94CcbXzXkSEgfWS1ovG5fX0NlWwzKbCHh2Xf7tNWsZ/uOJ7H/NBliooPuIst8bncue9RNclm8IsAR2Zy85uWQq+/t7sVFMQkJhFtOnepOSvumyYVRs74ZgiT82ILbD99ViZBJSmmxfIWS3+1S0qbM9B43MRzidHGcZQ/3Xrl1P9u6hjWcwU7olrx6UbkI7ckP/KKqypmztrTsJ+LuvxlEnsyEiehHw0TRcWcNIBLxedDlkB8oiDOYS3HILgTA8A2GfTOvxIwJ0x2cKDRUW5R3xxtgPgDAPmE9B11IEu8RaN+ku86zNXeCpCEXQRgAAAnHrIzLyOvS47PtXsBiyrR2cindGtjXwFn/mAVQPP9frfivzlpV0gNt+i2UaDnZNQAPayMAdO5OuT3d/J5NBRPYPgx2nw2xS8dXfXviLRHStuh7ixAU/oRref3BJUchTxyvxby1/tZr5fQVf/WIHo0NrjUmusCTgOYGAiO7Te8vLiRjEWY34PCMsStpgfI9cbXe++xNY77dffQAzgJTn39EqAMAKOPNBf+N0orK4lBB0ffdVQ+mc1KQ4qowiOriGuzjm8S7MSSLq3bH+VYN7XWFYk4PtMFgi+Z7kR7zmJnfNYyz3VXwLEpt/cQj9lY2npeF6Jl0EAcgJT3glr3INW0ve8L4OeEzJhirK0wPvAp1CXW94xRiWKzuetC9OY8cdUFyRAT/fN+Jp3RU18oJ0jVRByWfQfLgvAOg3ukMyLF2FWf/axYJzlbyOBCY/njnKo2UYU7b1onR9YhpogUOeFFb4rvAxJ2nZ6CE1vBBddWiFPoTG9cghu2s7nOjHLEW1BsIA+oKM6jTfPfyL/+uH4dYh/gTbzEzNditF1FMGGEoD8WFf27aJnFY2+EQWFDAijOyMftMkRQH1+l8d697t8yrlVEddIMqqqC5ITAxVrOi4tLBHMUfMOtjmuS/s6xu1j28jo7wmsFJMPz52UhO+ewKWwTfwIDkjVvP2SC7ZWUfw9+SBjzBXzQjgWBEi17ktN31CY27fKlS/FsCaQYhs0ofi5/er5IbE8s816u3qJd80ECwV/1HzuWZSJrOgE41Gp5ZSCMrZ2C7D7DtX4aW43AOzCKauY+pQ1UoO3n+bZYFrE7amLcBfZ8fI938Oh5K4Hlt0BccfHmcmPMFtd7H0L2mXNH4uMZfJi1BcEzPftNf+YgGB8NkgZucvA4M2pzGnA27rcp++Bd11XJ1dSbVdGTvBQSdD+aeMTTr3Mipwv/lKLZENafCjJ4gx4M7+VcT1cSikUWAOGtG94MjggoCoTy/0eEAS//IehJBY4d1hYnRFf0TwxwenDRb0ZwzRiRcUg4G7rwcacDHxcDyh24ct0oUI3u5XoLTKWqrL33ox0xCHrRTJbpMQKJmJbrlVQhLv1tuR3710MjZWw/+xjDzJftrQjl8wpk9rrvB1tvIiwxACaGRw5oZEEOB6JrXeTM/A+Vn2zcS7Dftj4kjg3znXZCLyRbcR+0gCeUi90OhpaHLDb6Ax0I9NOgHGjBUNL0dB0Ft95Kcq38AVzOTAcM5F8j0V2BUrJ7XucpY0MBZZ3Ck2kRrJcpIMpso6St8SxkYIoveCDa1P/HoqG4H9nS7XOa9Cd8GmbNYQYoGgdY+MCDSGmd+4t80pJ+DjEQLercfmRo6H3SHt7Nz/tWLaRR8FD0YUHMebhGgIWudpLb0jYAjoYOPSxokfsIr+m+VqymJacdlSLIq4suTDpCywluqxD8sBHh0cmQdoRAbJvHLZCrrXi3LguMJ4vWXhHEcZnA2OyFMGgJbSPgonKoyk+qfpGvGsavcYbnJfbprKCLJoiveHKEYh1P9oWtqrL2O0iyPIjv21ysBG98EWpXYfZoL2pW0I9FQHJlRsk25P8gfJ88qriJ+H9wHcrcDLDAR9K317Fg+iz6lB9WRx5aOgv9oAAIm5le/XEkBcQm60sTEzMc+F05XGNyBgFokFYmCuVAdHLSL2d7MCLN+XpcYlkkKYQOYMBAMBkU1k31A9WUTUK8CUX7cB38rGQFVd3g8QnX9S90l3h93oUfw9XGRn0VKxPj0weVRrjTUnKUGtq1wspkJF6HiaMpf0PzoVJh1UOOUHJfPcr2LMxN+mPq6w9OE4BFRy9C4L3w21IJXhS6q+GAV9NcPXYVGo+sVE39f/2at28nFAi4+smiCgv9AIUtrT2Tv7fYx4yE6UcCJzwuhZmNm3de0Yf5shsNq10ZKzMieC1+2SimMZiRyN6m9dpj/Auz3/MKRZqz2XtYzdwYAmJ/RfyY5eDtmLsu5U0IU3YvJqKvzMHdhr+PKxE/SDpBLtqmFBVixtUhDZ7OQmNi11dDHuePUL7XRbHzZ729w4AXPonxHJDXMiUjnxtbtANPfCSqJVgyARLCGI/AOeXm73Qhyb8ZpZ41GrcDUZwqGj/I6M/mJMg/CAqpqlAOof6yTdbZTGZVsm0MTD8QZpWZTYR0uMrNeutILCQJCuG6XmLzcIfVEuRhSqpqSjQ2DVnyEVKX93KjO9065mE0Yf3fh/xNEbBermiKTye0wYHDQpFcMDJwADJsiABU06B+mcFTZXG+OmdiBWbxRuq6YyC3b9YZ+TDWgeTOcECkz1J9r4RHD/G1SJD9nKICgBMF288BdPQDAU4Qfe5Nm9iD9w5J9wI0Ebscoo1oaQTrreUVfcMgustlWjJpu60ey216qvPRGVBrs/r4d5eXSxSyVvXHdQYsfZ0u3vxfrnXCDXOLWYXi9sRmHYjCxRLjtjBMbmxEAQs7PB8qsqdHnaGD/VjnMgiDYICDMLJVankA5xccaDJW5ix6A0zsirfa0WSZTOExxwe2sa6Bn55aZ+3HJhZdsbjp48A6655W+8IsSWQGmm8fa3f6aY7M0QTCH0x1iE3dqp82XwViDXHPEPAidlqI4uN6RId7LUZRMG5pBEOcT9rHmE47xcbhKg0HYkiSQyPe+blscOkkUChRSbgJ1mpEdHGm1VUtMPsE3yOg3LzOdkgLz21+W3CfX4yWJPAleuDYFye+z1lppqHWbUOoHAFTtLLO0DeqNJf879DqfNNG5gZQUELVJl54M+k9MhIDG9NgOmoFd2i4dVHaAeAeEoIm8O37iorxUxBvnnLRe5pgxlSRnYBz1zNuejxIuhHfCCNs4hl3M3II/+W1I1NmvptViTKZO//mfvthoj0U+n9ha4A9HTu2XglQmaFQf4YKNMeetVFHJLVlVtSfxAFHY69aEt+tTLM7eb9r8o9sOzJo00uujWDULwtEGQEGamrFlAeL/8iD1qUlqtwnnM5AOFFHAIlFVyF2HDIgbY1WLeHDSeRCeNTV0EwKhQ9ORhhtJ6kDmn0ANBBxSI4NFao6YL+k1eWjwofOIl5KNLbeXIiT8kIEaZDK6RVB9qCd+sOq0Cb1MdKCUG/6jJYnsAKeEVptTp6Kq9DWL8Q+Mv/435+Qubkus/2KaaQSSBczb8y1nRQQgNTbBkZxK9QD7dz7v4e/9ObWSVlLuzQhdrEPRpIWYIkV+9Pu7ylTLOekIdvhxLxb46NiAwOK4W0mSFRGlxQPDvwsLtP+J7hVilVsrt40IaoiD6q4Li0oz/SW2gNFQ38P7HohtR8gO6C1ZGjfrKAGklVpOqOEoBO+Bv7yGJ1eUWijVzkMcXc1f7W2C3KJnJF1wcRWkIpr6Fq7aBhfV1sY2wCYLM3OXj9RzjfEaHIP1zamB8nq/MnHpYUMzGMbykTWhr8cTm3Tr63QabrA5doyPP/OxfIHaCziaK6ESSefxPePMmGBqznv1oeKB1QXZ+8Yt2nS4DhNJmv72F+l5GKbvuyvMzgFOCLEox9fKaC6ogCll+TJFMCAFMXFgHqVQ07YqGNdQ/C6DCG6QrrqViqPfl4mL2L3fgwwDIQ76eOVsod/4yi8tsLpyZ/S6JwSdUkZbmQ/Fi/MeS7oNtjOXSQovKed/VxTaj4Lpz/vBmQ5iE4tcjhjgG3XB2rZwUfDKLdyxfYAX3XRO5Cz9+vXLxXlsbaJQ7/VR3tO5MC0Qm8XBrHhvWgqSemxEhCSbeqnPfw7xHAfM3uJzdFfLYOL/pMA6L88JpYOH7vjq1hepLpx2D0dWkd43lEHi/GINWxQq3gCTI69zp7YK/k3k7sHTVISIlGvbVk+QUTThiHhfycwpLZs2UJB2wY6C4SYHoAqBi0mo8epmKauTdKqx2R1zegbMkmB7OyZiMFvh2F7o9NbNDBpxAsbXO2RJAVjqr3pXbCf7KPdQwWESWunVCjSSTOkYBg3bZnq90DClbAaB2ueHz5FfKePUMIRb8I1kgaNiIDpy1YC/6FIx/jcHbnLeoivcvM8ktV9ZmNZY7jY5cYmxphqBUFp2gjRdosecG7S1M9VtMIxuIdFW5YoW18jfFTwV7dRrzRn7XwX+XMxSpH5dDP+c8IezshNJZwms05nAIAafOBD6AYbe+Q0Ly6gy/uVVHBCC9jGajUd8ipzt5X8oluul0qhoDNqWIDpdKtBDX2aSyy0SAX5NibeghkuyjXG7W+9t1fd9JJ2kogvxiuAz732GA0GX6Y96VA4VV1jasWi3LpTN1bpjQIkBcLc2fRHe0zURNBxyyQz0Lmy2SfzeXVKbwCisSCLiF+xd+Pez1SAVEggZPWD+71MhMxw0yc9f6HG7phA4vJ5vGhHLpliUQZPCY5YjxUVY08xrYZArjsEpKWGdeoAZx2pqBbvADNhu50xpqUqMv6WFCFGKzfqu6lJeL8JS8j0PqexQRKel1oarlQQVYumlIbrr5AL9PCkfdRvO13a5vss7qXNjPxbjMmV41YSZ5Jjz1aff4+Hzsxg2TUV5uGpNvZpXSP9PXObr6341sCOtIMU5BJ7BJZrS9eHXc+npXcGYPSVo27ak2QoZgIctuhl9jTH7DVCtukzv17hI3Ndt9/N6GwLJETwk/cQAKB80u5avbIt2hntEGcSBm+Yvr2BDjFsw0coyTEx/FQ3LJNlhzmXojgbq8zDUqhBVUoUQKFRD61uLfEpgnxvhPKGuNGurEccTMQ44WpdWBkPM9Ao0Dcd8ARomNhxtqyCNZ5cdGppCiGWJzsEWwdQqR7LT6hKJ3nC6YfnKy8hS4qER46QykfEvvyaFfjIgZC0GjQtAtRP7cZVW+0Q8HeEn+HVc00D33CsfE2507bJom4D26R8yABKoByBny1BplnwIIYg6Vb/iHENm0QSdotGjYD90ofHPEkzOguPkVoBXhgzG8o7PCtheKtUbfdACNjwNPuHZ1ViTx0ugasHZaMOp1MlvOywLEMU4uqTa2bclNMuw91psxVwWU0NfdXdFNtbOmQEhfIfde35mx4Tig51YjflT0YrNBnbxT8lMy7Y4ElonqBVmOHuxJl/HsNl3/VySHzVnmWt2XlS0NudCncSYZrULaIiRqpaNGiP5KCR4XTMrgBJUhmS3S6AgBqMWK+4e1tueSLdpmdT/OI136pc3cpL+wY35G2Z+mm+qidK26gSPKFqtPCDXoK2D+6oQXY+zMxsUPhM3GQ3LqeDSnosmBxa+1RAouAdCMPGwqX7wK5ZxJU3eC0z51FqC/3NXMWPSshkuORRRFp1aQwOWUXD4cIgpFZnfkxMiNyveI/J8yKjE8jlna7hok+GS3FOBli1A4ki69C9uOhN/JUa7lpnFCnj4YlKfOI7M4XBruVbzsUtz8xqjjEpFiYN9cUdPM9yWkGzh4lsuH7SId6Zf1+Ay0pkaLRi5g4bbGGveRtIuQ4divpWHJmYJwFlBnBdOfkatBCQ6ObVD4inI4Lyd0uY8sRQ4NoFYPaAw4MDaoafQLusJ0AZ1VR3TkvyNkwA/5hAaz2O1EZFMDZtAP7Iptj2LZcpwUTJectti60AlVQPWyBOQrsJIwB99RgwPZEk+q4K7wRkoYZzGE16i3tYtA1hiLecry0g4+uzSsHyKN/cKrPSguWQz97seifzpf/7n1z8fcaeAeUOUrjveV7id5prvNIiBgka0l95PuG0CrEgEglo3WmcxNYsL6bXGiHOd4gG6WV+JmOcI+/dhJ0u4BcXbmdwqXOKtA1cOWtdDjmGR2MF7gnXVg71fPwDxTc8KOfxbZm9ke0JGZ0wxOkKmP9eH/uNqyBUQVMLvpA2cvYrP5vIuwnCijYbOayyF2Ofsg1mtoaKgaEVX+8V0vhgNTwa0yH/n3QG/FtMWNfTuKNZa1pUTJJWpGy+jWYe6xXu7I6X06qEnaeGMPFkM74ILegJYB9G6nuhgMyYYoh7WmEMCuLaYZ/foIBB1o+eM9z+UMHrgNUyHCD7DGtd7XTKm1we2x2XYv8n/9Xd+q05PDDw7PkupBVCB9zRofjHBvWTFtHkE75etyVE59EY6wAvi5sC8yODx+fFshYqs9s01LR3n9IcwozxwC6pz+a/UssC0b7ZhHqyEUWHgzrZz1bGx/8OQSKz7DHxIFjphBVMQxXY2iYFbCQD6JpA3Los+43sYwa84A/B96eHyGT5zyJ7l+DY32AdqXKXBxIFQCK5T2qcuPtsUXCD9EQKqnj2OY68koAmcP9C+IN/DY+Cd7mpIL4kKSd0SyXpMf63rSBgFRF39/edSt4mmmo4zZGEKrucVNzws5zx0T5+0Cz3kjAuEKL0SYCP1UVWZrXGDSw1SY1xMoxubZtnrHt7iHbn/ibBr4obB9xVQMOATN2PwlTCBfVMIt3X2KsxDIJSUGbIMcHN3oIWM08mZ2/L5x0m2bLJpA75q2rq7x/h04sex/kD6E70yURaGfICS3ywpzL/eVpU81bKT99FY+YCKQPk+9B1U1wGHU1vw5/Fz9u6ZNMqeIHko1Pra/WauidQIPgtAVZWCY3nzhYXVeBIxGfSanwpYQKWy42YQ7atULKizB7kCg2SEsJsmg1bACksExn8IMquB+GpLcY9/4tAF9EGKRYmbTgF+M2Cl7N8ATeu/pmcyvdvhiIoopfKujI4nQfp1iLxGjjDWN2YkTDHjc+1+ghT4Rr/srdCHUwlTdu1QgAbodrpGYQAcgB8Cxw/BoTemPa9p8G6UV6tFlox8Prjkaj+Ecp1JoCPEKRCYNmuYHwJNzMpsgzBAeYFRduxraNAhEc690mYiOiVXBZ5fetVr0OrQ3E4FqWn1HSHSEZWAVAqHt6lvmgRRwNLVMWVTxj/6ccjdl2KUw/oqc9meNpXMSRea3A8OluUR/XsHixmVpDxOGNeBlqLg5fyCfr96B3QLXOlOhx4zaJzVMCPK7rVshkWfAKLQdYmb5CzBDTXPiuSrj4L4nz+lGouFHwz9seXXQALIR1RCEWluyWN3vy369vCg+G482N9rxFedY4TJlu0Y5Xa3AwSzltvNJ1TriFBJMHEKeHLLwMFkbhaiOffqSPFQR2vpXx9Kx0r1xQhUn2Ri/BF2xFHvG8kO8d4zCyzn9FD+HKHdeXphoslk0Jk59i3BR2zh1bzPNVi59q572mQbNjd6PwtGMd4jlRg7f9Yj5UMKkedslJ3TjWFe6A48bLNlnK6SyQKdl0V+tUVxpkRAYPBl79Ehpq7qEEfA8UcaeSsC6Eej78rrizrq2AONSgjnj+X41eRUN1WkSQKNnFV7KPPPYT0RbiJqszhAHo9tyhXwToEz2apopioSB9Jta8jNz5d9rr6lZam9XuPMrgtSl3CwgghX9yJu+q7bRJB68mLHX2jYcoRV0klHAgh0JWsR/fRCNJJgLGKUks2O460hww78PSIZz9rNmIQnOCoR0PZcw4PyKeCBTaoglD9RzY6ICYnLisTgla9JltA3eMaD05dC0j6aMxjToJV15PYbhz3Q4xNZppeB1hdhtxSwImwi/SQvgFvNu5w2kujJ4uKvpaWY6eqkB0cQKNH0iRUFBpXn+9SGY4dUuJI0KbkGrwEC3N1tikOlj7v8OgejEdFSpDn6RRtdBLRK7C8bgR/EQcsbE7e4V+BfQr8oBgSEMnSGP0RFo63gGNM5jGXljv0fItSXah7y3rP0yiCtu26eBGpfcNNTV6QlR7mixFKSlLG4pTVVVj4fanlrJxfsX1cd9/JfBhuTuFwTlb/a1j+PM7miP03Ca2eiVHEYgCKGJHLf7lTzHnbpwG3xYHuj76c6c6y9ug3MgUiYTo6E/qlJ5903P0zwKWe4h8Awkru1yVunl9gECfR8YRBG/Qh7Y1GcSIqt+Q2jPJaZTatKldFai/k7vQvhyYCZcYRBn9PQCn1Fuz87IbihKalC83NI6RI5n0XbKWDIltDOWXgVxJPZ1g8RvZivIjOzR4TiMyLckN3jacZiJBHw0Q24vm6kZwj/caRksVKU0p9LOxGApvV6X9Jj1otieUJqT62Yx2I+7xbTaIuqZ5fiQwXHq5CB9k4zY2WO2JxlZLJqs7r69xA3l9UdPEgMUXzySdfb6Zh9nrEMwhTgZBbEwEBQ71kzVL4H4gYAhIKxI5n8Vev6zqxYrsrauWt3Bk5/jAjms8AJMo45mzaNSdIxK4fuksT1H4c5fFoclOLKZLR0C9o+2bJw/oukLrqEpe7pfmabOaVFOPaQC6W8yol4+1hFqa4yhriR2dWsb1wie5Gjjfzt2KMD87R90RvIxMySxCeJg0yqKzOMe4aIQ5VoF8BfnSnocUHAVhuQ2fUUBLGsYO6uKVpf96QYNSoKX8lpoCtyCCdOJ2R9+ADDV6sjWVcT2hbStkRdM64CClOCujIUhdGAWoIAeGVjA/irIfSVXBaxUGiebyI/Ipa1pFV/C+UdkG37gYoETK3+FDfBM5QtDefXW5FkapaloHd/GpkleTWZQD2lFOjv2BV/ZcAFKVQ71TryRQPA/dTpPoDbhiHLm9EkuSSAzgxa0zmqYRRVMw+oFWUsTK9JcAJQfy9PbQyqT8yGB0+x57FSL3gO37dcQlQpxa2Abo6ZYpmqROuNVtsNLV6EXsF+TPmXaPBEPNe43EM7GX+j08zk4BGTocI1NIg5+EQsT1Rhb+BCGmMRYXAZwf9sVE7fU/crFIRnmMXHXiJuuGYws4Yfk9YXN9bd59x+TcTxY0z4FfMc1LtQBMoiTatTUnYaxZFNf+sXCeVhJBe1nv8slugraILrU053/li+mTEAtKIleG+MyKQ9VJZv1NzCu95AHEsZEOJTlLvL0LP6RfqYltqcW8UTjsLATj8SNNI9W0MiaIq+yWtOhAZfnSw2quzsRafuNrrRsl+OyeR9YgpL1bm8TsNDGml4OvFPH8OpmZRPli+TgHjPnqYIvAb5tUWezwJMADnOykQqbu7h2MPJazhO8D9djNFfhAE9hezy1dZkUfqGZpoaPztG4t294poXYKNuseO7ojPrHExQ1O/Rl0jedFdPMoP7dzrhLbRpMzs5V2NTnvgurS8LcPLyYHeooD9eaSsRXJSpTbuf3wRWnkHuOJtIZrngx4ohycNElVb1YOmwio5ULRyrdt9Vzm930lnjOhVBKsXEIYyHo7g+yjxp6s7ffvDokdzPOgnomYfwkls5iR2Elygqib/wm1PHnySYCg5T5ni2WgG0CiUGM1S0rmeeTIzyE+08ov2PjEvWBkwGqPqc8C4O0VfY1ydtBgLRuU89Md1wtZjcXWv9OBVzIv6422H9aSm9s1wEPzMtM//ZLf1twNyahAoO9lxcC2T+yC9hvf6Eqlnfopx19pBxckftE5oR5Gn36Kuj8HHIxrBqlEJQTT9mNogDybd44e1c2rHq7QMFuTnBqk0jtnz29zcn/avX0gdMz9WO3xieLUS1MX1EmaTky2bhchDWWPdzt+xEggIUKQUnkK5eysCpRpaLL3g5SVbgvC/i9kH1H/Cz4HQ00F4a0luiAowxMK1CC+sQYppMITLrMvpd5XuZ8g6qb0K8tnPZr+GfyHZWi0PlVyV0bRciLQNZNDHnGw/EZvsp3oGZA7dxagckxckLsCcO4DSspACtEqcXXhQ9//uart3ElPZ/j4hwTcw7T0VxV3Aaf1vYqFiYPK6ueXebmwkOZkS2kWsVUXVAZT8iP5t/Ak6H2G5x/zOmOyz8r1gqPzeWOkieI66SXNgdwSAry6geDHcUCgqG5BEWTo2v1RBYkak/ONjDkQfpsaTc+uu3oUgxQawVe5rIfuAB3kelVpFcPBAK3RR6LzynDLhSydcvma3tr6M/7IXgBomeR8Zub+tgO6HJzjTX/RFG5uHrIGXwqMos5zkhkRJbpUnzXkHUSOHMomK/5yRyxDBmnbuWFzcs477l90xxnWN7n1XbM0Rv9ZrkaTWrElSYz5qHysnW7W7q+BKBVHIzZFW6+49XIR5aj8ySpH84VpzIF8rP0NTCUxoxPWlGBIld35qiAp8SPoqEVzKXRAydGwjaXF5ChXWrm3MqBRcqdR2RSr9Tzf3T0m/MgpY+KMTGnwi2AQK227VAHtlKrwdjkqTvn5bkLWm2JZw/a/yHnTFjkjcwg2SV2uQ37cU4NQ4KP8SyvkW+Q7sPCkfO6rMWbexIgf6S2FoEEOh7CHvasJcSgUA17SdWcFuEi1Iw2XWUlfsORaDLdlTrkm5eRsMFeUlhfRHWF5d5eU45l4WQ+hFkWYnfOchaTA0Ri+5DZB9ZePSN5C8HQC/BF96QOEaQstL8mk/U/6I3pR6kfzkQC1T4fYQ6qsm35twJqOS8EOi/JKNuc7vn6zVA0i/L/VJ6KYdcJc2h2ZCLHX92GxW0o9XDfUwMGja35PQtb39NhCBACO5I4KS0bXlJzI9/fv3WHflaetRPRa5HXZk3IpxWbmhlxxntsGT7PMfyXjbMRhCnbYbnGIRo6OQr+xMThgEPTekw7x+xeems1yi0m4S9IW53GRcRjcgYfFA6A60VD/pNERzKyf9PhD6iEZ0rkJYZLwALGwhefEgFZufVXZaNIg2aXgZzfx2dyHtt4IEMrZ71dUGC9cjDSZ/9HNCQ1SyFtYc37jgVanvyt04jzz4UHdRhuLksueiSV03GizIH0uZ0+tRNdaoh4ehjemJ3UqDSfDHFWy2CjKIx7POrCsDnPYwMyaM4Dyal5Su+PxEegWRLn8J2oL944Y1ky+NVMX3mlxrLuqNGRqSpI9N0gNHsyntFWm3jp+oulEQeD3o4XUYr+6sUA4hBl3v3xn6tziWu4gVj15RJbGx3f3HUL+R5dxpokDuw6zDEa16zmFDA1i3kPNaz9nArXcf3GWeP7IvcrjK4l81tW0Fo1QCffOSJxVbTLpx3W9TyPb7SKC1HuJGwNoSDgpcvzVQ6qa3xGNpl+onGF9HoXbXxx5YQwEcZGdJEMFzHUai9Ws2t51uWWsNzt38aY/6jnxYJr0E6DhOpttmELzaNHhPljz93tGMeFYSLpozbvGlJhtcsyOFWZ6zQ4her30c+3T+zpexGwdVeq7lK5bu1+sPbrXSHVQTwCiarsuFbUigH4ae063PRjeE872l/b4OrMRBtmen1ZtXHsBuNu8o+1HuL2ezCpMOUIxBabLFg6VBV1Qdmyr9LB0KxYtta6pD3kq0cSEmk0xPY9imt+mwr9ddkfWWMvOru7TTHY6650T5npmOSU+cBK7xjw/asUMd5cGVHGP6I1FlnojDgSAJ5vURN81Y5yrLJOhVAdXPjGjHE2l9BsAHln14RNIXh1LhDB7KnFzFYQZn7J/R2+Cps/syYL8voZpCKFZB5KsFhOYKaZfDQIYr3OPkaOdj/0w/CK20y6FUxtuqvKy9QJDKWs90aRdDR0RtPAKKtWdRLgwwmdbLazgcyUkQUAYR0n4RgzvWwvJpl1DK4anh8+Uzecp+SM+Ll9mNPwDQwkHkzv4ByzzL9uSrSQWbtroJnQicBhpuB2bVn99ENhcrVmCl4Cskr6jXbg99jL9BiPZ5wGRRE3G+oJgO6Ldb5d/rCNSKJzDNtQhqLtdgkFVQ0hMRweyqjFzV0Q6XmEWd0ggQUEm2FpGSQ3XzpVcG31APyAm1Jp4s0IeztuPDW2xDZou+3jwJ5isr4tPsu7K1iCGS+9aifVv38VJgytQcQR81mBIgbkSn+eZipgYDe3VqD1USIKBWx0oJefSMNBFcYjdYa3tVueo3SSM1POCZPcFhmMWaoo8rJJv1HHG6wPXoEcJGtHhaW/ethA2+tj4W0mtVGeE16CL9Szsxoe2Z0Pap+dz1U07XNEXUHn9N7M2MCnCHVRTn3IPb4KVZf7OaxJ4VMtH/pKnZCHIa7AgneGlfxSiSywtTqrEW8IWH4s/ICwtR8t7UkrTVWmvsfylUm8GicG9DWzPr3rGfB3fwyGqHSOVsF1WNFOdHvmDZ+wY91mNsXH8ZDpJKNa+Dd+LhFew/GgWX7dMGpKmTAJHCXnqh8hHGTo+ld+/eBfSk7vKQToQEfARmt/9Hek/ky8MB5xMrUwvNF6Rt9czeHIHsE2auAVqTmFAeqtjEEJvtcdA8VIo9VLS9XQYsbL/wWvW6Xw1EFPP8pwBXzhEZc4lhz+ndbM5m0NSkgdJ2b5ILgQowgnWj+Cdn942K9Djff67DPWUE4ALcpWM1jSuUGL7mCoSwOpo0bgqTc6Y19g/AYGa2sTOUgti7yT7NwRoWhBytRjBarDjvFJ4rGr13G5/RYZNTYmbn2uJeiZliP4XI7dukWTlApGnDpn4gEGFjNTYnOlV4S4iR6k/y7xlWw/mZWFmND5etAExEq61V/i23dx39PoFSMFtjJMM41SNMPjw3yeNhh97kayHNxBnKNWF/b229A3kYqYwi8mbab27jNKqbiFqgQO6Cwo7NxLkdJZlORhR6molpS9EFnRbjKIWD+0Gtv8ham4cgkODRVH2Lzs/skP5ZT5ITMiFJB9tAP4rfqlOyYWuBAI6UAzBvUIhFL7dhV5LczHSiqVpyvfCI2C0xon5A2k7/XuAuis+CxqzqSfrQPZ/3QaXg0JWv361lAfAX9k1lrkbB7llyGnoV1srZcaKbTkiH9OljOAnH0/HCxygCPaBkkJ5uvdR3imDcCdsIATKw1+LLzhq7boe5kE1M4mbW3VESud2E2PVhoGwrGlCSfUnWjdfMhRcb+8aa75GjMAsapCL8J4swrrR3X+njHy0s9pgVBi3tjlZQnH+kPyEEQTdOTwV2v9XIzkzyGOhKsSobU+axfipsNkbu3H/4Z/G/QIojEAshy6AAqBUStUQCK58OFolOt/6y3xWmcOTK9ISoSRu0CQQ2VLuZTCjC59qDePZ3qpIV629TeP8h9SNUcqRGDdulO980SXDzQnXim/QbG2Ea0lZ+Mbw079CBaz9IZ8Li7QMtjSvZHfw/QFiWoJydqSArcI9G/GKlA9tmi6WvV09JPBYa3npZuASwW7P/ZW41iy7wNvpl0hezGALSFYMQmx3mStOt1f4dMV0JKB76nXFhtiT/9UDJLWE3qYxTvo/E9UroYHOgeyzNdkDG+HZmbPUMuwm0EU3fwgdR+uPzjtZ0z3TmCX+dzWyEhQRTPfwQtMHbFXJJ0NGbhABSmFZpPbekDIJrzS+OgRUK7QwjaVv1cKiJ6nDaERGW30c4XmZLlyfvuY/AyvIWC+IV1fyJ7KulzOP/yvQSpt0nnEuggCLMPy7VwA4DOiLmikFWaow/5IRySVejD0AJjTxhX4hjAg2z0wBROdRrWYagGY2hcLXTSLhmaCXxssWB1BSqu7G6/zEM684moyJFTmOcoTQne3ecTeiHo8OVc7jgOlL4Nq8wL/NGRYgbYHdxSu4IrmYzL7ClEZrMVQEbyjCcSKVELjiaBwq7PRErDOrfd9AzL6Ehc0hh7AtvYHncm1CApJkM9xH7j5iXf8BI+BpGVnRjisGnBGeIehs/TUDsoQSCRnMTfRiN17oyRnk4Sf0TzSZ82M5BqrjMv95BD8yK7VFnwMBtmpX6jmvvv1QskgCr1nueQ5TrX02y2ruSxwiQVhcil6do0AIgDOd1MUFCGnGxUzHdggptfpeeESfF9Mvu0h3fAvv5GCwTn+zOjgRnTU7ypl2Q5AAv0VJ0wjzmPyF7cwmDhiTqCnCaPdoXjIrOygR3krepXyh6NagtpgbLBw8EsxBZ7NChjC3P9WPfUwAuZgUqRGnpvJkP+HqvLPqTboFtWz4o78drrzfZq8Y2WsfVN7761Dl2+njpRD6XyyUOV5yh6RpROkAGH7I9CoM8u8LqB70IbKx1wNo9w1eMgn5ZacruFmyzi06Z7+v7sBrF7C5Lkg6WXI6hb+3ma9iJOdJua6en5cFomF7r6YY1zKb8BpMQOzdHtxI2YSMDOE2t0f3o9XPod7IttdWRh/R5aVgtcJPzvVk9a0M3NeNjroc3tU4kSC7V+ZJX1hSdWKyP58dXVCd8UcqEsIso39yFIEzieFxkYPU2jN3QFLkazvIclskr1zEqdyIlQAh3UyW6EL4DdM3vkaXtwFcS4AHf1ajL2qfN07+LTeCT07TicnId4ujmew+44sIaMVCLp4AmU6/qlkm3DGI3jgSMgt52XcO4a0ioXPTxd2HVqcs3iqht8zm3I4e2KFiB2LFtCPBUTPD0HLfaVJ+lnSLqXlXhEEJG6PMkYz0p45CU9D4FlubfXJn96t7C3DWhByO0BTnziqarNbGgH9iM0BhZDnvTOvoIgF+wLNUAA6sCF50OEbQYjktfhwjWx6Egv4QtgsNRKMq0RBNB3inZnTvHJ+CO11DM8dO46+GMsB8QLcqZEEXb+e0Z1Evl08mu2kzo9acF6sLuhFuEgZRVIQYzasyDfhKCy4giImElBbhF4841KOyl3VALP9gdaDfAqhtsOLwz6maSDhO+wd4pOdxHyZeLj+bDU5hOHU4LbFeUtDojAhBnOTH1obydfUpE6nW/IurCLwXzA0iXg8BGk0E4d/Oyn/KhCsl9oZPlwxEUZcJifYYWeJlfT7ArZ8lo//QHa3Dv9NwaCod4pAGGRy8zo9W6X5WPwgJNLl/i65JiRsn4zoiR1oEwXmSQuVyLlcD9YYRxvkdCNZ76gJWIBgGB2VY1hR94sgdn+az82ZAuRt365toeTBsN6iqA+MjmZPje0UNgAO66nAJuHncaVXYFsc03yX8FMuk8aNkaU+Fs0mRntIfu9TlgPnkOoegsaYWQA+R8xDlkV1HUa58bFhVIB0FURgdXfeo+n9YOhySzX7bx7MG0Xt9oGfrnmWwt0cymw8h3gME2EW2QhgYV0LP+FmtCxbqbBaTWjaos/eNgDBRJ6+/OSiEc8gkd7C1h7nRGhMK7obMHdbQ8cR6GBBhMCwVoTt1p6FeTZ+GZgAou02W3MwSH4dnvB9fAjFBFaLoXt1DixDroMx3ccQ5CRshf8hWCPvGXd5JSWB7jkT9yTcuL3KCp1fOcZ9iTYMsdlh+RHQS/aLF6jo4gomP5bV3niIeVz+6xXEF93LIfqLf/I2JBdAgYqDOdL+QtVFl69SRaP5+JPlJ7m6NpvGou5wG2cL/oKqq4Sq08rq9kZCNcL/1ELkx9s7tjypYAN0WDfVNaqn886zZSiA1vYNqSFBKBQOz/W3LA/gf9va/q93CCM+MVATCXyiN8sR/VPPryCSpwbuwHQmt3dN9jFtl7j1Y2EWMGtfk2E5hSl48Fl80vJrRWcggTiRZcDY5mT9iko/4m2u3BC+pdOv5tkTmN6cPB9DUopiTvjGIfM9UKytd+kE2EhxNkHBuAhHQDZYi4eCR7ulKChLelW7HF7s7WleNtPdin+tEJoJUtjVyHLh2DCI3DjSi2IZQZKFG60CkTyEdTdxEmlJ75kZEinZdXiFBHdN1djQ6DgMdmdQYagL0Dcok8Jt1xuXfa18w4Baq6g5XzTaXoXCIVSjNGtYLQlJoUkmBSjj4ayMl0MkS21uyvQApgONqQIIT6DdjdJUj3vDPqNktMKIV8K8VpNtfkj7WuL5jPOVtYJllCNN0tEoNrZQSqUh4F3ayErTXMBrZCCzOj5vLZQ7w1/TzIjq06XiwtQ78Xau4GZy8JpPoCptz1CCH5nfFqYVLE0ADhM/6xusSzCnFx2BFhUjapUk8QdMOGmZQhix1r/p24YeK0mCXopQxonKJ+dwMV08bvgqvgSQM4Sv8waShnf4N6H0dCU0/Ar4W3iJxsqGPh2zJqtRQs12ZqryGZNrJBU4f1NieSAWT1cLV5IN3fN/VOtmoggSPYJmaYp4JrkrKVvMWRZtHE1uWR7fVlvo7Z2eIdbIwLdHenepN1AYlEq4rIef6pgsulB006l0YhoKVPX3/SJig4RUjuStG/XgdQhYZNgOxmByBcws003+NonTfZ94JQwcDT/tfg5ZJuNE5UapI2v+TIgf6qx1nv6NDeFcVfW4GuQSi/u5my3sOtYn/H/bEBV1QNKQkvZsIWCMlC8uM2Ka97wqxCGFlCf3WEo/5kZNGyiXbWcPhJlTguF0xpZQCKreEmfOV7sE+Wq9ugsP+aBTN7aol2Cqq5b8OMvuB3pITo7HjN5GT5j7mQy4EsWxscTfG9QPNJR6vpEac9Zi9vbUty+GucS7lz4mqXWPRYRnUQ5xEfndGAAYOnVRJh8+t57bmNFeXhSwNX5KMhmtCN0IEQk2eDrhU8LeOt2bbdu1fVWXs26zz+HfYfyQObETjB5EFGSwQyLdQe3DgGziRegdABKwgAvRb9pX75bGJ//HU7uG4LlfIyIhUZupjOBOKbUR7ouPp/zKIbFajN70ELq2Mi+rKEeHLhyiImKsoDXO7S5ifvZq6RUAeUPEDJ26lCPu1pHpjeRft/+e0ukzHJGFEgDCmOWimv9d2/d5urefzsP+lW7wQbsjiCyjBgpfVXlF09LWKP9RmrwpSa9/nvCgi5LxQmJLTyHDt03k26e5cEbzJ+ngUdfP0wnpcCJaZ+67k8K0PMx4d3TuVoJVZq602owxdio5Qdnd1mkqgWgVTGYGCe6ZmklY+WJtiCAaCIkMnAXL4r0j5+aE1pKjbiiO3nGQsPKUG7zveTRQb+fVg8ldXl2LNELDpySrkYEw6MBp5hFWCe8YRWnMeiRnUpSFKNSG40muYcbhFam74M+orWEQ0D6482gh+YmH8xo+YMzZU+g3BdzMN/g5n1TTa8+ejq5+YsZvBxpiTWZct2pEnXBbUAbcIwV87FBcSc3WTn5IE/jQEfNRLlKRCgPNtwb8i5NrwcbWSbVh5hL/weBwYaY6yBUqnxRf/PfPAimosH7c/Mb8vRO/v74He1/pnPvfruetzeUzmhzzJLSYkK/ALFXAjioj1++E2vZqIaY70vklZHcNsr4Ux/YTaheZ4XqrZtbuxK4Y+Fss2tlM3UyRW56Dd8S+l+ezsE5+nAxgCb3CUAlxHbFOKsJsuCi5GzHeOiRvzJujsvNAVf7XAra5IXMu3X2xuDZFVozvzLg0Zmdd+58k3TnxEcsBglAYtr+KDuLVblAv9kpJSW2KNhZZsoVqva0PEFpVk2Nws0UTGokjkoLe9UKde454agQ39UdWp2q7zoCEf07Yv+SQXCjjfwoqx6fN/ngPV7U2Y+xs7ips6JxteGryFaA8UL2V97x3SapxDITkEBlVPC58J/Kjii7+0kKho612CdSaH3swrxmcmmqaDSQ0qln/RDrB1QWwjcZP17TWjbFPvHF8gF0sNH2c7J8vYvfej9jeV/ChVSB79WOdcsQEQC05qwEg1IF5xK02gdtQEMKMw4VbR1EvBEj/ApyK8RL+BJ3lH2OIXq5MYjtZTjzmeEw3TmWHctnOBpcnjTwnoFxerxvWRgWllGoT3fvrCkYrWx5+F9NT775MYIGJ26Sj+6ydUKgYpKrC3+CxaIgh8idai8WlJDUcq7+uphAnhX7Ih69R12uSdadcSuVwEshDcDFCfJUNCkGwE05l6GQ9XYeryx7cuIzrnBPqyijDIcktc3VAffiu4NzBVJe6kyQlCZWtq7TnA9afSBLSToEBTce4H1RnBCmUt7ta5qzmvAoqjat1bftDfDEj5i1ibdqrWNLMrDMTpvBGxqMl64HAUsGPuSwOcD9XwbxX7uUANdfGJGInHrVfXEBikk4uOX22JBp3d1f1PH8a7mt6muM01QusBs2d7RpaZbTzSldvVVs8L00rc7ETS5bCdx0IQs/AeON02qWJb26GHtBaoa2gTUy/mUzVAFSmHgKbKGDbNe6HjG8MhrV+fOkH6MA+goZm9ZzIfAa+XBOk0tIavadZQo8tI/41JOGigDEO8NLyyeEyanKPfimQepFYkdOGETk5c0REmqaH4G1nk0oPZLs8gzmqTbOKe8MZAPfWzcXewdP2KEcOcOUb96HKcEQdD45nms4DWyJl1ONW1vV533v5iW8ZTGcR7d/x5we5CraoDVQRvnfe/0RT0oq54g3LD8MdAFk8QMYo4LquI3GinDCIrof2p9RUvEtFZPhUKONoVpsGic5NSgrIPBFw2n8aXM7jfzaSm2qzA6nH5a6RnF/iq+TqwZ8uZzm3/hnqx666Y4QXYearvNoj6XwfIwHh3CXaVWemxj2SpeqDE7/dlNEdsyy19hdby3/s7YbaRa9mDpNmYhAGqkYTxOuGHvsTW7pilR6002lAojJkCOcVGxvlW/XmTCHAWSTx+9F0kO1tx3XRKCvWGsm/ZgVIPtJqwy+E47ZccHxbLROTAZobCnGjGryyxmRtiySwHTto4Nao30Dug9pQTGOY/0UKhrePSdeBkJZVW3kigToRz0z6mcp4iay7CJSQUTmUsIrVKpd+gIz+oB88a2kbr07cjeNtRc/bgbvF13spDfodvsAClgb6fG68Egzb4ocHpZJbTrKg6TYgaCaPrHMSmd+6IZL14S6WQIwaz0D0X/YXNE2TXEkkQGIUwnu6WJne5D43aDJyYAAhmI4EnFltTlHnsat7bARwLD9IQZVxsH5PtvI1Hf+hJR5js7cSG98qdQIuZwVfIpOKYEU0Pz1z6a47PUiA4IxhlmIXxd28D9PUW55qk8uJ271M70JC+o8qxmsL76SFwJHdsYqzM34AdEXNrG92g5xkK0MgpckZVcmaLzjs1BZPycuUdSHzN+5OTpyWtUowLJNbW1Xm7lSNEOCKs8t3kmZpliNQ9k4NlNsh6vCVFIFJy4FAUGnomqZBvnmBmabKmwu6SKeN2W2en8fl36JCpaux58Q2XB2gLl5Hr9/qkBIqERtvsh1k7zjQok8PkG6pp9NisVh4bzzf1CTqfZGMPwncWG07tWvT7Qr6yNl4sV0ReR5k7FWMYv7UpkRQ3Z8IkY5EWLaQAyIyVs+98RUfhLTS+lvuxzaGdHLJ9UIR3HzuH0Q4RlylGw8/wxq/EoqfxObbs2TUHAEErzOJrT8WDgliPb/bf7HqcPuQ4HGOxg90Ve+HXvGE2HCW5ux0wH7x2//hGn2Qs7wVSYHiqJJnZidHuLu27+qIkDpONxoQ1BAbIkMRxGqKe1NifJoXASqtIpT+3zpgTmp8GvQHDbooAZFaDcW6SFSq4b2XJDf3A80+fDyNVkUIKj+XSTzx7VALaCtQrlw52uLpiDZNFAV0ZuI2ZC4QuRkvMzHrFXV/dwjo2tXlYDb1ixre+exSaLR62fYh6judI6pXESFzRL3roqeVUOBa8nGhTQgkwQxM8oBGO5SZt6iGnGPIae5Hxp4sbrtYoPW31VjpyC2lEdI3CVPoCgmKoh+1sAQrrtyLM2UuFy2iGWCgMIE6BsTdYR11/hU/PnHX8H4cSZzD1QvBxo/wdCDQnhWFN2nkOHE/rg//maungVAgURvEqEyUYmGnuf88hjG5pF7bWDNUVLTNO5snHkhTKj++I/HGcokLlNBbnR0DDm8gUFNr7wXaj5THW6CniwAAukhdA3qpivmUC6iloZvMe96zgA0qqW47xM2nkEHIAaINtjA8KKmG//sJ0+Rob0UFkHcu/DD91eWkCsj5udtVdd1LtQWPSteWXEwNbh5Q+p+7qf/LQ1IgloKtQNB5n0W1IQqIuMQUrb6Ah74KKX/GLMxT8DSlnNBlWJ8x92bLKrQn6IbllESuZ0kYyXmbClRZTDqEKWB7l/QJJTLsTZbat5frxwQqbQ8AWgMiX+MCK1nmCMqFdRlRfIjls0rMxkgXwbwFRPr4D4EMrov0vO0n6h8k2ol803f1Zwrgwl5jwvhIXsdagy1F4SFZO0YaVJbgSsFIDz5jqwfuXpirkoFEMNgoA9CUrGpDCRae9jgU8GrUuBdOkH25ER+/BbiCryfo4aXkMoAXcJF4eb9zksZuCZNir/KElhUC2TJIJgFUVuBvvlaMVeobcGu5FCP9vQV68B18/tc6Ouc6067DnbtGsWInReJaJRuhistJQV7DUX8mk0/gidXgxSsOWSDdUqVrHoC51tb1QpZsYomc8Y4hm+e/ATcZvjerxrvj9OLoQU+uWjDA8qLjsBwDlI4+O67AUlfLkzLdgVAF8B4b59YCQuMaOF70Jnt7mPFuMzbOyI7GT9YT14QV7qvU2Rk/u1H17oM8B5HS4CDC37o040NN9c+XXQ0oTDL3Nh2PzjYX/8TCjN/SMnJuTqGpsqFg4kcOr/I7Inj7RbUUFD1Fbke6SVP2IoW0WiY5avIgd4Mvoo5dvglOl35FUA6JqXZ8/Wc6G59clVE+w4gwWIur4i9LkWYyzMaBgKtkQJ9oF8d/geOZjU2KDk0ACdBnsb9F1r6Bx5jNryxUEOUDFNs9gi3IvdiiE/vgQMYrpUE750yU4VqQDyoXVxfYV0YJSh3ohqAmSUTcjZMZU/zI45RxDsZPou/kL0ekOxRxDB5U2Zu3nCItVMFNOD1JRGMmHg6YoMF4pn73RQxUg12SHkA+0Li2tnzOp+py1ojl0ONBhiu3kk1/9nw1NyEFDU2ERVwQPUFH3BN7nQKVE9rLbDAmzlFRu1u0Z1F+zbDT1Ok9E+bRTO6tRY75EmneBjhkKiO+CPIMyvpemdOZ7JRuDkKbb47nlAg0MuBclfJM2+C0EbDTHX5apH9HlCdlU56OhzhesHHWYlzqzDk5fpu4cKeJ5wwZlhuuphmthGA4ztYSNQ2XGTAeTH9rZMwWgTlUIyjUCkeEvWlzUFvYXjh+GrIUxlFhJwd0Ll3ldvBt0q7qwJkbad/48dKe0ijiAGHJz4A5CRzaJvrgmX8DNxtEx82Lg/Si/SxGcdV5U1bVjrfNQdCi89OgAR6xOcO9IuyypmCMDz1/Ir4RGR57qTpirkCq+Y9Uu3ZMpWR7ZW+fkpWzb6SFwS9gJ7Z8zDcJ2Bjc/GVIGTpmK8ekpmW3pr2P+u44VIC6yNC5GHNrPsmubc1eH76YKkCyAZ44fxTSB62whe1s7H7Pb2LnLKCYzEdMGV9McbWziGChDses2yfb6jEa7yBmo+hjrxCUpI0hlvINpZ+fjeZqG1mv7BOwhBYvJrvFe3by83Jx5pL1l+jCZFhgTSNC+OQywLCmW2BdDNld/TUBd9TVWlppnbYlps8EpkCOADY21cIvcwiaNby+Qvs4hsy3GOReCbBUJzaTp2Uic+xV2Kisd6DoliQiFXBUYZv6U4QoxGcKG3UJP1r7dp60qokFRJsoAhu+Em7Oyhf9h+2MallmfKUr5L3CEYwTO3ZpqfSXCcBa7eIzVaROMDK30UF8jKe4A9n+geWNilHzFCnFpRi1otg9kkKx0cspGlUtzfVOBaWX1fJxmFT/KF7JKU47t3XCUhsE1pRT2iXNC8zK+f24yldK0tXmaRM27EGXi6mwNyYDNJoak10Vsb2EHH1OT/2OBoQv4VziaP6CrB1JYqpYT1x2ydCR/BbKCVFMqHVNqgwFDWD30lXzUwOk8Y+WsGCoTSCET+OiXeSHQ5VtfgI3CvwcR78T/255hvo+M8pPdtII3yJrDhdAWPYVvjHX2hKqizU6EXCaHxFHjYPNaNbs+Apa7PgpO/FYL+FVBcnRpj/91zpeFAldncTFOue9WT6Y2ttpRgWrrw2Th1KEcszvOyPjNebHE0dZjTa3nvQukOUFUOf8kuNJBw3AguT4h7CIyeX+CF/Z8V7/oTLr2J/jivQOZr2TgE65PJ7kE+m7RBlgnmTdtn7CkpSsmraB8eOn/MQGs83mrWdWiGW0XY8/5jrVe6jlhEelrVMaA6+F4+S4FVjn2pntY7tclgKBB3ovvg41oRXuSC5kcFTHL0fJN0cFIQZMTWX8wuxsDLXj7CMeN7pbbTqz+3MvIUDCXfg6n+cigm2M1KoHp/K1lpWeoYnMIU1esyBy9MiOIpoxL2CsZQz77WTEh/T0lHu4rsnLqRIIIFNLb2f4xYwM+y/fkoblVFkdVSQqZYCV2SKye6tqBOilFTPVOwZ+tOrJRA/0ZnrS7VFTy13fX1lRhnfOIINyLM5WVT6/RkgZK9oDuq71GrDqGuhYhQ55TH3zcgHUzHWG+JYMgqHF2jFrnh1GOjWD8daqxIwnNT4OKB84G+erxK25/ZJfgy/7DfkcB3QdOMhIecKlIEKwFBPdb4PqpIqkvpMQF1g0XYQ049hK+/2p4AsbtjOV2tSCWOIvhKUT1PS4vj6uJ8IZpdMIIXpbaqON4IL9VxEiTaMnRGe1JFNFHnh1kHgdGy15usKN6l7do7hzshUplBBvrZVPiwzxNoX/6xoGgaSbVrBLA3iYc0RiQgIiy7c/KfeMJzBTs5I2cl+oMthBjj1OH9wI6wMJlgHnamiBOzNY5hQkCfjAkldHCwGXDRnX+xEZ7s9O2zcSdJgfKYHu1LwuS6Y5BXGht7gszia+OWQZH/l3VWbLJ0Mz8Kzj2/bRjgItAtXNHCly0Uw9VRoPcODfgtRl9Vzf9nAN6CH3YWvub6zHk32fLRMbj0ZQVh3u+A7H2MOk6LZ4YHff072ItL5UnlfX3NsPhAlgZfx9N6pt0BrBEfDAUoosKnZOpugWKZqXp0WoNhCf13lFpQQ2nAVtQmWYzitR0ywmU4VD7EzCfYpXEWMdAAbbo0ibIPWgUZ26Ee9Oep0MHmyrxstIMalwb9zC3ygWWC7vzOJYGpcq5MUYOSCwkwV4TXO5oAdf57a6XgyqvOJd9FpP3bKopup0eyKNQorUyPZsA9m3Uoi4dPB1xY9PcY8DUAeby+8R0mbw+vqn9952eP7YENYeK5ESX/C4VNenFOkBnlUKqJ6xdr5clIwWT6z1s4xk0gSqDlMvWALHbySoSm8l0qB2Ds5W3acCrHZRR/Q9UUN3y1ETAV7B+QVz1LuhSjcnkXYk5TWZbto6w+t61fFTcFhnXIuF6nQQqY1ggQ3mc46ZNQWtJORbCjtCsYlDhzCH6aLpfmMFhiXoDd7CqiuYqwHnF52FcynNBrzY0J1Dyyw9Znvesu5lCgzEh0iVT9rIUGPrNqKF3Pnj+tQatW26Fm3hs01jsQVId/kQXY22p28OpUpRxeXte4H2Vn0os7KvkyswBWEGsRhLOmU9VvaCYUFsdOBbkwiF86WXT4XCZpLsEIIalka54CPZPIJH71cLHt/hFl4S+QTuxls74rqWqDFlGjTCvm330RlgMTq3THNlh2C7VfWE0ks9/74vdAPAvuquHA2w1bz7sskB2Gbxt0UiOKpgisdDrflsOo3CLKcftJHAPei89a5v8X0GZGRT1BDMmSprBguQbMH7R40RsjVQ1bN3WZl+uP0jkMEuX+MZRwfXWmK0xMtXHHfm/JGGvmsHlJy79+sAFxxKgSWvTR5mDsiSsn5q83JVpBtYKaNwui1vC1AWggcd0eBuCdYT0T0Fb0HKy7Yn18jCD4xd0xJj1gZLX0w7lVjCvuAHfUmfxaFbEiimNROgo6KuG8buSJySK6qlYJmzQ58zuZAyf8KbNoql0sryOa6qLuXliW/9lO4Bstgb3WSlPRHXBXz+gYuqZwyvfw3vKB01U2HSdhZ4alX+EFMf6tZPNJOrBwBRDYXj5gdGzkCvRxAGjBsOWWxuGGL5Y5jMMRo34/XHyXWvOZ1k3eEFqpQOEWcQOLzrL8epb2CD5pa5hRbGO6CmTwarVE9pWEA5cUjdiGCePJS8fXohvapFIB3eDneoGrfvqWRtebFrOGU3TnaQ1Xm6S7r2YCjdWjsAL8HBzt32eiEGHZO8pmkYE40onp03CcNrP4JHzkKr2EkDktgBM2cLMdNVEj80erIvxx9Pcffk8zoOP6wOLqogD8egvFqkl7HuXI3Qnwo4nbv0s09h5Xe2ziFmjQuntuQacCENYNjgbOSPtcu1sz3YHLBAtWvke6EPCD30XCBIiUHno1oK28QJj1NTXE30SgVqApV18z35Dbz2tpUohxxOBjVEMt2Ei3sRA1jGykGnxi7Yc79AyvW1OT/RGEqoH0cIzeLVzFcoHYcpYnkqMpk1A54l9La2BEp7OWwVQHEMxvEsb4ro1H4AHUJmoocBXBwgnm0d1ehZRyaxBZHERyfaOavrsj2O4hx9s6EFX2KlTaZ7XKsY89afdizWTu23xw6idpN6btOaF2++UVaKoCfomV/k9+v8RM46xZ1dJKME6Bnmyj3TgFAeT2OXQxLoZxiurLwVTuxBdR7Ozm6MyQfUgjHuFsYQcuys8kukBgjfWaxoET7uCwgaO/pDq3AeZDn8AuNnvjpLPJ856HGT+Pq8iqGJGHSZv7aYTSw4xD3zRGaic2jcuTwByI/47FaibQici416XlIgJRmIiT5HWYikFZgUwJ1KJi+OW+qglSUVUt0XdStuB9GRy3MF9GXTNYiekKJR6ZH2h7Z5aziV4lQBf7a+dxmMgla/s3ZrA9FXLAhkSqoSr9paXkzHBgCVyqUkyAaz3uNTdXBeW3Yy4Hl4pqjUjqtWPkSFAOwz57G3jYUAafciljgo4XfYGL9toTtxVpyvgl/nlY+/7f5fKUq3M+0RVpx1Ay8VyXVz64qKMIV4sNoOjfGqVewzZMxy/VritDCeS72EqG33m2CqpFNMjKWU6+762hdShWoeL+GVgBaP+ZSFIbszTlcNHah1yS6X9mA8FvhytsOpWG8Mf6htriaMmna21k22RyYwFLy36t8tB2ohCaO76myqDeyJcg1MYsCiiwPefBM6NHZCWPHJWVeLXpf64D84eBe/DPABLajpQEvTs4ZrVHu5LA5lmgzAazDR3TqpPImDoNQpdnCVYtM0BS9YBRhviaw6Pnk9wasHwrpFmaNvIsI21/AwWYvPxUkRVaRJSqohmcecfcAFDWmE+KvJ8D1aTWOIm0KXz6finylCl8cgz0FUMOnknOgL+sKhOZh/xeHMc+IisMi89o8BuilN1XS9GDSv3r2byEtBOgca7EumhOULtrSJB/bwrGiO6hYHm+KjRsDevcnZIR8OK80KNUW9W5JWsW7lTQSfPF/yF2r4T2R1+1rqffAY/5HZShFmMkpITWbyvGEbOujn0th/VOWpAE0pr9vwYppd8W2OnQ4CtgYmaei+/UsoezBoRd7qIvFPJ6QVUxZehNMRT5SEyQSAf9ZTrx2gMG//1+FqWqFsfrHmhQoPiqo4VeLD/Ns/PG+ogF005On53dAsLNOKNaxbBfei91hVqLZgwbV4Uhmc4Tz3qi0cao5KAOoamxKx1C7ofc5qbEdtCMJUgkSy19Cnn5Q+ygGWys3d9ZUUPOGysF81tHO26BNqZvAr2TrD2nH4o/lnrhtLu5KQc8ucJn602fVHz6k65er8VRRH++ZrdsMKVXWy6lOrRy+e419c0pI++jsp35v3AID9ASZcKsc5eSgZUg5Mkiuc5AHwrkRmtGxP9mfckSSc2BygtOV9JuBT6y1hMCYFxLyb16z3g+8KN0SV5o1vSlChnz6hSczaQ0g5kwb2kwtUgncYaDicSFEoBawIsuhTSEVevWlnSSfC4f/J6hIeraI4b/ObhenSKkCJJWseL9qQdpSR94S4vBAGHT8tWQ3onn/BQsnSea56HC+DtazaS2RylLjE/OOKOhoi1zyb1qkiVyQQeJUPFrXkW5SuoTMEYZeGD0AzFqKyE6thD5QZHAEfTRKwzknpHjmfmmwmp50YUXDc8mFjKbYzD0YG5Thn7oQqyN+7yiEuo9V48OtdlHqtAeAIYbAjz0sNAL6cw+3mx49f0hasb8aAjJ6UEa7XCvfWRLhUKBDnYJuZeBG9L89M+yzTqhwovebPh0QseEgLsyOG9RIBS3Fw+idiqgQRkXrgQjkAzdEqimi3mcD5y8Jy48+KrkXjRlOBZDwe4wKzEOuFp1PgNx+NklnZhAYOUD37+UGZ6KVrI6TBoUOiMSYBjnZPz8yuf0JZuOBop+P3hQw6vbnaDX6VHSxwBPpQv3zZWfD/pG3UBQguVCjxeIpJCC/U6gU7CwgAknfPdSPnnpTObxailSMffXXsN1xAEseSYEx/YwYIOqdpMtuS3ZuRiWIauhsGMobxpbO7PN8WSSu3flvY6LnX/RRR4dB0Y4j9I+xDPPuvZ2aLcPWJRxe3ILUJcJSLTQi1+E3SbswOq70KBIsMIiAiw/YtO385ibG2IKzTtDRMuOo9gNAcE+j8pqT/T8sAeigfcnRWDB3+s7sgcSIYMq4TWJCodzRLTbt4iAtJkkHCYM5JmuwirEzXC5Dj1H6xhgcnsErHBJWXRH5K4eirwJlJdorAAJhKK8Fe8r2ol47DBUMlesrSigjPD1IwTZt/872mtJWN/llyfCDDy3IDNpid4/JhKu+Ar3stjGuihbGkuyiDQGKPEznEpTAV7zc3EtAKHbpKvFAeuiRBwNMPNjMJ8RbVXhaV29OjFeOubpjMgRAHcFgdj4d8mOQ+gS43kw9ExL+LtifXT+YDkuEUZPSXOv06Vf8o39FPNFmjJw3dvss6SH9c9erufR23+G40/SnOuddUuKnNe5b1Bcv5Umhwha0Hhj3mj4/qmf1VUNyANNxXV64vUd213mIeW1Lw2lhisv3R1DXiKUHSlzKFhectXO19SEmRnccL2VlBqeTsGnzE1OV9/4B6YEkGRrVeOwVBKg2lTXiRFZv4I9I+jPr7kWIkaQHEhxjteSURYqVgK3ugvNPZzZEI398pQ1ssmCZthJfO6ig0/MPPrl4T4xTWZxi0WWe0die6me8GjFkhDbKQqmWgQDAkUvJalDDku640ietsbfRCLAxVUAAal7qsAmXcpUB1/80AFLKklQEEEEACo6xCrkZdU8jJ2RqYD7A0PtlWvePm6dyl+6YFWjUnpecmHnPQ0u3tTJnMasNcHPJc07eAgiU1qlHk8wvXAU5mXCYs861y+PrXPeCHE9SUVOd0ruPi7Q5pKya4nwfbgsEnZjldWycKha1SV+ISrh0ObIKLyTLmD1wFsAYEkj0o8SmQBKzuule7dZW9nOSAAAApf0HFESND+uorw/fsyk9yW14djCUADiaxbCoi59sUbXQcbBK+t4AIsluT0OMvJk1uQsnL9V2tPeKibtBmKgd6FUPVTcbKlH+Z7RC+/fkaSTR72qKxECvmz0LE+GDt9ho99S98sSOi8Xe2CoHC7gzFGiaQZgI6o2DuZ7hkLdQLFt3le9crRQ/wKPpJ/Tvn+IiaNXDVTPDIMG96NoWgjIpAXCaxWwzQjBdwafeKH5F376zaLHKgYKwRl25ui8fE8A5iN4EFs+a5GEHFKIWwOGxdNAnCOSxE50gTLWl/AQC22T2Y4hdanzEVVmBcdwLTjZ3hq5RVv9m82bSL7AqrsVJBoAIEmJKOLaBsdPD1358EXG+5BcOJNYlXO71+9BmPxnB4iU7oWZHrOUoiNrJmN8Ga8n3E6neeI4bGT2Mvu7DcgnJ4atOzFzQepnirxcMfhrvFGkBadmaxJy68X/FAZiNhl20IzsHQdoWxIOeP1LAQK5JEcq/5RFV3aoaorKJ3YKBCatn0jpNZKysw8r4VTzCMD5jANgDpGt2NvyoJQoB9Obr/XL3jWVmEPp2oNVcXf8JOo9Sgj8LfkBQa36+GKc+jfLLOKrxrFEuvy8eNOufReBoNI8hGFXsFx5P2SXkb0c1mmrsax3aeMswhFTk4/oEEBuDCIC+8KBnH3NKGthckG9YqDo1CZbq/bU8pEBE5pjLyHzy0W4LCkZ9Oj/HigvBY/6hyPd6RahqvkzcAFcPIDxITKMjJnesEHY//xTeoNo/1pFKK6ndlhhMwUoNoL34l7O+RVGYLP8dPobJiWOm2+dDwMr7dZIV4lhP1iyIVMdX2S9Hvh4fIRJ5Srt7/c0/Q3oSzFr0wtboBdC+B3XHNTmlZanwDTstwNKy2iAwb3AhI+oUjcdwKF8GCZXKClMUPyheQjvt+O3ljeeLRzn/g+R0qsANrE7CuzOXDY/fUZO0DMhiPTf6iu7acyOytExkLO5YZIpOYW0ujdtM1xmTN3GUVDkKZUO1GpsZnHeNphigvhWPT6ItvwlGxukdpxTvIMmPYNRqce8GzshHRgEpQhOoYi6SzDd99Rgz8ollsvcdFB6L4dTGozT0R5ViGdgi22WpAgTPImR2hgngm/KQs1ymCz63Ea7A00GeoHew9r7CaI4Ielj8S2ETEHJnruBNtWi7Cca2X07JkkH3x9NtNtcQIj2IBgfWTacrdFhGZLFfhH6KtzqoWXTwFBWWcru2uVvPyTLPNlu+HdIvHKZdM0BwD9YAJVIGtOOKwKOVVPrunMJskBmvV4Sn6jLMhiOHCutmGVaIN76IhiMUjmWMcKyUIVUSxQhiphZp8nU+c6s3pcOan2TiwAblLZ0EpQL965JzFUrBfQW6SaprO3TO2uLUUGC8s5pHC68akBXSGhbqYIL/Gn9kvT5xDU7IHedPMwb7L2Ird/bCElKc9L9biJOMDVa3/zcAfj+eyrODUgww40bBJUBdY8J9atHfgyuatmYYWbFP0Tfpzcy1nZ4LDZ5UyovRgUMo0Ff9dsZcQ4NcJOX83z2DtbLSooVOm9dBY2E+ARItQgjsBjIwd0mqKa5NdoW0+ZROlXFVnSmDqnPYXxYw7S/tT4mjEIUOzvcNw8Rk3KweTT5QpSlcKBH6WgEHD5j5wJx+uXtVFviIgR9lEi71yft7GjkaoVyo77wezShunZUVz5fl5xjMpoqRU1XSVOORItas9jLmK0wc4iPpx7HxnTT+VX4L16wA1iaAhyy+mhSQKVL2wyovpAtE9ICnQoSVcgo5pNyBqoHm2j1XnHWxJ5osIfj8mw/bF3sH9ue6HlvfQo4HsO9OYgHUlrgnBJ2bGpwkO7PhcAK/343jo9tkuJFzLqJPm95brjUCtrk5KAnDoRH0VXkegRZgKFCXNRADIswtASb/M18JE9oVnfVxdPLpEeLNooiEEjuDJYc4MX4QeTKFX3s6MYfhQjVrpGL2Fcx2xRVGyWaZvBDkXB36Zz+mvmwUpSBz3GB48Keo+sNFz///2+jeY1WuAmGCA0ckKFx+F7OUoMQ1P7XOKgGhJRcmommKmnOFFfjul52KNrle2X/Zwms6FTYB45CBgDf0p62YfW5EEXnB+8ibClwP6fSR2t8qqYY5kBqe6awWotuQkA3IQMIY7tItHTCbxhMu2kZFOAq6usK/OO6u4ANSNMvAOQEWbNBPq0WF0ZqjlWAM929l9mfKf2BuR5iUimr0ymcUeO4qRPt6WcfMQru7FveGxvM5HXUf+KlyobnTjJDUt1S1flL8LVHGDz5JKDb00QNILFFp6K7aaMCS65UxtW+MUnrDiatM4/cpk6HswaXtA3+HKA9A2bfAttiKn1QgOo9NJeY8tjWN4KyKobSppJkk1/FeL+R+3mzsWssf6t3iEyDV4UIsmkANcx7VPW1ZJxFEEJJya6N8myhEoiMPpaAnInWULQ/kCWz7EOM3Tjxb8JGoc/bIuD+2ufurtCPP3uiQuQ5iTsVcx+NEvqo/avAiFQT4OjxsR+iTCTYIBwkgB0nUgevrKe94ltRAhspeftDOcVHhyGhAP482KveAiq5yAHWuv445Otm2C3cMCP4X5WjA5mv3l5alnRyWi7VSfFSGTlUOvr9Xv8F8FKVI/kC1yBWE0jQaqDilOwAfqP2jnG2WGvWSmo4Hw7mybFvPVdHVQYdNCn2X32ueMm5SgO6e6Spd/iI2sbetXlg3oM2O1ydgMmiCbZpdUAA1fe1ujjNC4lHI5oNRRFnf2C8ID8Du9XLUR2qxOr+BAumvN4E8cygM4+3u3Vnj1Rcfe8Ldtjuf9SHvkd868+3ogvojkqkrB4qb2pYWPcv0tYuBjCfB/kEFbpqNLL08+LdikAAg8w3RswY97wJpYcStN0v+hQ9BypruEpw2Aw0cAdv5aKYSvJKATwjirc7f/pbscubjrfJhc5QRBppRR8ePDRnOmoHYq3YSPpDiSJsGKZyvG+Y3YS8HrwXG2CEnqAX/E1mCxWepktNtOFUKquhnsctlWKGLLbMV4xH3CcilFtQ0FptzbPP5IdmFkfkQ9eAKDVs9iXpParF2pwnOKRdJmlsLn7dxk5xZ9KZ7OAajIBPCzkmUUwhUrXcFtw/3xayx5X0/0rMqtmTdjfhRkJdWTt/DRQaBTIyT+wDhBMEbdt48xlXfGl6gXFANdnNVfQpIvy9F+qJxgc4Lxwxn5CZiddLASI0HB7gQ/SyeYExQ2dtoprX5L/jyXjuOaewvHi8fcr6thJfjxJcLAEr4A0W2S3h4YePxbTJ5IcYe2NUYbhZUHwHVQMvhcYQt/f6b4wNFBOLlgVozP//r5omQjNyWksawfEcnC1qqbRxwuS31ZwAbbsOOh3GGpDkreMR4x57Bx31WKMJ2UZWEQLLcBY+UVpMiyWXVZ73JSLc1HMYiPoV1k5Blq7oYHSilMvVA41tgAA/g+/3FcAyLgnuRy/04WiMq9H1SHz/RUjSUA4DkyLvr2N05NzB2YQmmE8qHiQVhDAH6Hy8ocuTiT2JOcRAaLttliscuR9kezrpbYR1d0CzWvVXh39oAnY/7EDKKhoSUckOxg7a3+UUaYwft+JsWIVxUfFbHyUPq3zW0479/lNqf+m+mxlde29difq6OZQUL3DkCfGVvBm84rBaOFFgRztevkStscrZ3/GokacTSeJXZtQBjwbsoa8faAB1xpuxqB8iQcRb6z02cNNPFtTAMSOdfZ2GkffsQQwQoTs3qmgvF6XKRTxJKiuDjPmWq4VWFnWRD6KSXhWbEnudvgZV90Qc5WWYU0Bmz4k5Ylut5fCZUpuwGYLkFB67NQ1drvNcRlPKnlWMV0mSzaSNiwF2qHJERop76LQVDU0Q43AJBq99PrdRpy6sMzUxCnhTOcg0NMrGccg7X7ngbItY6phV6kujuH8EvXxLCmO8w45tOQKLMs9LyZEy41S1vPsRftU5amQkY/xyZK5ktWXETYUbnzLCiGVC503Ht9aFseyZEr7IFRw6azw+ceosVQMpWHWD0WttaDKV/eIU+mhViZRTVw2YSMPyJiP6l7R0xNeVabLibYQClG+k7KBXOE0wOCH+QFVuzde2bj3TZwyBsEBuwe9U+Ik9cObuc2BOZLhDvyFX1X75A1WueVca0sZ7/mzobTpYZZ/wcbs9f0gkn0xrevNtDK1YJ1HV5jFcQ1CxFid0LojPEIAaVuAh84lByt/K8fG65d/+hMLnI+CzfyGv8F51Fyy8Z7WQSxdoMsSNd5FPPrtOkPi2ro4imvHVss71M9aP86k6ADYIBO7MyAOcrPv2HIZedFLQXcbZZrqMEn23ma6TNA0V89uaryo9sPgqXnbEd8PlwrRVujDlhqsL7nDbuMkcCN4uCAGEeEvCGA9i9wwuOUbccOxUtvXx/XLcKlVQjLlIURbHOZgWozaaH+D5o0bNSh7lLECKezGmSt/Cy1XRJH9fzNRzyLMyPhdia91Vor27OKnKcxh8Zpgluvj28SUR3GuTKFAV7l2JA7kOlmL3REMx57DbOKa82gCTpFinunIWw7GmoSfYO+QU/3kaPCwUCiBGHnIXP+CeW7udQDQn2oN0PWBF4Ohpaomip/dHFVteV+eaSHXGcvyYXN3YmuQkoYcIuFzRJuL2YSEtsUZFXcCqzBMGMYN0n69pKNUXwUn8lBF+nszXDjp2nZsLignrgpW5tVKkOFifuQ3MP0MZvQRuQ5HzQ7Yg/WWJcqLVphT9fqWU3ISMHv9JZIU/NzPUk7nl0d5Xq3o/gn3j6HKPxy6Z9u9fEcAGJ48hR3Op7ToafgX0EjT1d7Ld/fSnP8/I8NFyuLTSIAt57Typy/YR/i61yTl73lEWRDHbGfeIJF8BFqPzbCuKyiI02sEpEFQ0l2eBtXcFMdggS0RvCRTeZkBUCy2JQpTUqCWC3y2GFDSceTBlgEJxJFCeHkvyL/UW5mOb96ys50exD5/4kCsaHICXRNEAKR9kTZhgfan9Rc65RfNQqbMbwAkriz0isg1cjVbHApjMKG/467tJ6w/PzbM5kbFhG52fdKW98rjrt7tlPDWSBsuOm53aSpbUHBsb5qWM8DROXuoGoIXa1XUnT9onhGvyoc+A4BCjEgHrLkZw394beKWaBlOfzi1Dq/tkI4CkNulLuvw2diwIDTCJ22PQQIDL70GG+rN1ScYsHkbKsD0tXSZHcs5e3a8F+OZ/NoVe/xozE9Aji/kBkNNQrURrUvjK/3N8Lnj4+vdiKU44jktKGWYgnTqwjnOzaIjCKuI19/IikmEnW3eMF4nYoBO0yHKJWfadPR7Yz7jNbyEzXVUK7CGEz5jQ6RHv2hYyJIwuCK/aT5V9pmvhs5wLNoQktC3c2q5cq3Jv41Kq7XCPSk4viIzzpRJBBtwQgrDLizYoPMmvkEpeR1oxdkXkkeY2dstkeI5gWwlJZZHFR2djAvxzZubwuispBk5ACcxY+gYYgadDQ4sHzTXkhScjhKOyuiC1CBcqKoiFVqniaDFmzB/UR0mmHXs5aTNBi7TOUiZMDZMJltHSyZvyYzz16Yuf2UgOGDThduqaDzJFnP3XHGEw61c9Hdjz/GWaMvHN2eR2gsXed9y2ZyrkcOqbgskd0245D57cgPvx32ZTAAHPshlFvDnpU8W28j2lF9HPtqe0tC2ctIRevFwPGPgnrl5AFRaV33AqatAG2Xr+pwyqWWQiB23xwktb6o/CKX0y+ImiZ2Tq6OB/o1+4Uhte+4lU8hV8Gx9kw3eegLLv67vg7xSP7G2hvWJdh5JM6YUJi5VUBG55QJoofIxiKv1HOsYVtKF2x75GHRxz1VXmKnR7aED9xN7jJHMNYlkHGeiYkMt3g5kUUT9rRSMxFhl0LN4Dw0b1l8CuDsJ+P2mH0HRpKJcRa0CcqIZNMS/h+nqdhl7dWaurQDqWtaC5KgrWSz/zw/Lv09Uxn4DJxiUtzJNR7RTZYLLR8hr8qIGkZwjKA5D7Je2+VJMr8Nu9d/xE/LO9HHoqhngRUlQOtz3KyS5j/MM6BC77c73ctLODbUs3jV9NUDdyiF63c3GVuEeI3RimzPKSM3OWaDoI8ejDi2fRZOjWeL/9Mn5PQWENFiVqc2bxHO6AVsJBho+FkNtZYSX8MFu3MI2CffodCIMXTsAD+aDb7dbMnDn0rBLAW8A44Z1onhjudBYIkDom4Vtlq8RDBsKsvcqxHU4PSn3aVnZmP4X5HKPjcz+4yvfZi/NAJpT+nMfPvmATY9WyAmNYuDU6ev+Ta2lmRZ69y5ZvErLrqglGpXNPhHrzfvUixZuU4u+gJ/kJKeDTAt6AHkbMmNBz5e9mpW6lUdf62YhXKnZtutDdzhEPeiTwR2Otsn8a5HaFsoPB3bVCiZ6SLoiqDSOnVCdDHIUQK87+Hiv1W4qU0UzE9JiXtZopznSctw4USYtL6sYksZQMKnKZJy0WvgBUiaDWprO8jE3OMVjrBllT6WMuIg+L/mnUpEsXJzfq+ila7eUqf9U/n3xTPZQqd6iEgXQPh4mrHfsKhZDLHBUqz04WpFdSbWzSzGgeR58Zpp7AN2NhHWePAPo9YK5BOT6gY/A9KHGnb+kQ8ggGFKEYVRZMdtZ1Z0jWeN8SRN5HgQBV+7//DAmu/B3GMSzPERXvTyVWz+lXuuxxLV3qXqGHmyb0vI/8jMer8YiVylsGf0xQF7ZuZ8AzUVbd/PR1RVyfOU4g1eq8vWAItVNXaNrobOL0a3jJPwXZDyyWKFEkLYv+h7C9hmyielqAu8+uuM0urQH2vghhwAsv5znmn+3SEldbeRaxJpJjD/vQCKwjzzCwtQFla36mkfFLYUpsyzVLP/G5jjp3C5x4YCOENyq28cuf6HnwR0Opb0gWl1lTu5vvkGKyDcsj6cFNWY1bAGw82sW6zbNOI/OY1lgSY8LsqOI4WiCz7s1tMCdI5v6YqxNqzdXPasnO6Ud+qhvrtjcpRiBueS0DX3vGo0drRRYnBALeWcz3rKkEYTqEC+L/okFjGKSiyRPMe4vI3mWj9TUD9EMyxuFneTe9t4xuoE1/y44wucF11YSw0wy0X3Uj57zpqWzoFXixDA662QVDZgqLcjPffaxMtWZn46zdpT2WKTj0GDU3BC84OOCY1VeaDzSWrMRHIAn1MyZSmHdZwW5NoBsgnwVcZ4oimzYQNF063nsnQ6P8EG1HoPCiohm9CyiyC9Xz6q+vZvwGOGIrTOg4W8eNZEPJxIOdk++7fDTjv3CxPxG5ujACXgfUKKa4rfIymNXiTa6OKhtDMv2s0kYqBfRR+XK34MfWtQmlPVf4vs1nEh64VbvIxsfSPuBcTkvdrSclWB1D1bbABPVY8oqyM7X2HcvTWgw4/ou2GoCaC6ZxW+jnXR6yhUZ5yV2qtGgziTMXOF3Nbhbbyr0U+CxELc5IjQL48/+WS301QKqCjXCq0HovDA8PIDYJLDq+8IaDkGTQ3hBb/JuH1qMGtS3yU02JZ2c+Ue1WrilNhFF+Hcqah5e1ffCId60+gU7BfJMcnkEn3v+yRS5SOdyI+dfCTPb1/TxvIu10QlzNb/BBXJHsS5NVbcoKYDZXEw91zbfYf3ndD3T7q/awcxJh6hyTxBRx/o4NMczIxCtm7yPToVP1+NdGtKL5CCLh7I3FigM/qU2FZtKoM27V3Cn5U7QwgTcf21GIhgWOBF40I1LDduhJs1NSb4CIAxuoKKCylCTn4+x0Uhzb8yYvpkBaBUcj14yHRNwaTADO7GjQSlhlFK5qKESRMDFx+WyCko08Oyv63jWj4H7TTS9MaznkXttkmVXbRDNTrIoM0fuLn2LWf3BJPGi+GTDlcLneOAn49I/GAgtcF295HbjiWclh+WZoCqHz6X13upnppARD16++6tI4fUKs3jH99DUydZZyu6/7Mhc5V5kB38gtRhxsJXwM9yq5qbmYk65LTHJ//EkvuSks4EuZ6QQ0gvCLsDKY52r0u1G9k9COQSrnrsQB3DEWrjNvxihDGLtRv09HR7dS0HBEyrzWdEJ3KTQ2z02tq15EgS4LYOC+bQS6DZGSrPY01qQSGXldF7BzvXB2LiGLeefOYcnI4l0nB768W0ilkN8NaM+7olbJ4Jw73f54DlGayd4l1JgYIqiYO/tNHyTh0zWg64fpUTWBvXXfm8oBiaR0/Fk1BdxnyiNEwBu+WL8fz1CDTyBDMFifxWLfids/XbQebhr4SnA74B7obdbRhqm799MMwD/cq/s1C8pMvDavMeQhkeCiFlc6sAc4fLwG/CZatZvTvXg84NAtecJ0ZjGc2SUGoyA8z7zB22q2W1LVY//YhLnP0I7NmNE/RSu4eKCPcCYdTonFv6WEThCJIr3FJFC8+e6SHn83KKgmugIRgCX6+zYRo/yyOLdt4ghj2NjCzAGiCEpgkZSp57IVQBTv8untfm10cHBauiB6Hj58gNYLGPkLaOPHbtuX3dJZ4uy9JTatObR0BIvrorVIDei2HLozmjBa7RGI17h3NO5mjhaitffA1LVEgarIfmVWkmwadfMOnRVgDaxm+ZszLKGSO7m612TtsqErpJ/Gcm2qHdNCqHRZHOOHLXr5QmOlvrzWy4DskNWlogcfjgJKDqmlHGJYTBFPzaZydpdg9E790rx0OMQGODF/FBMjE8CQL0D0lwwc6u906xEe/PyE27+1zTWROprgvvzOqiGGWUUkR8Q0oPJU4e/oqVHl8Yf0uPB7IVoi+EKjSD/6mNTsUckRrovjKuX+R7R9FNYMhvbLHOEFvCECPJ5jZutO0CIEQD4X0WD8EUECM4HW4YwoBUkxA6ggiLWrMWXThZ4KV7KTD8y0Uf6x8KEXHwAIhrsUj+M+s3X9UM6SB2Gm803CFggp8ARC8jrSaYycv7jF3PunTDSBn7dggm48ajQNXlv7ShCaTq1ZzDZ/5tOw9JTG1dSyzRTxVmLKkJY0l3cTtj9nK84nYXc+VwDEgTgm5/KSntkTFYLAlc/6euxG+8tZR4Tid40PyUd4iCBwSls0+/+O1UXBNTgK3Y1HG5772HQRu7/Tpwp9d5SKeS+94kNx296tCemzCCab2omlzOw+vdCDoFwJ7vRO+KobOjLNfuTjVZslAJBFSolPgAGShnrdn/EFL60LIthb+5iDaXZR3RYznrDA/W0tE30cGkCrx0Bs9gpA0u9me0fyxpXSFMemBq5koCsC8v2sibDy2x+9+W+ulcifMZT4C576RWuHmbDfjGpcQYJ5yhcj9FDdoEIVwFwmGy55h5TqgDzgRTf/R7y/CCfG5zIAArgwg+Lv9NHM4xrBSgl9dmwDc83ANlJuk5J5XlME6icMrxjN4ClwWx9y7IiYEnTviEJQrn/kYphOzpJ5WAPqytTo6OzoJ4xXpDPSo1jHMlUJ6LSdDORJ54oNqxY5BdTjiHooUa9OuTEV3d1BOGAQziLl/GdzuVvMtLJZNOO7vd1ONW0nb71P8DQaHX4kGI0hWqv/uuoDXiC1dKwcxzcpasECnfb17RRg247LYNQF99WBKxUSIsRJ/u+hNRG+c/7E7yv+yrhoovdIRHHpNCksapKakMx93OZ16gxBZQdB2UIxkA0seZM4PYnXAHP+4F8CQOk0ShItYV8JP35SnCsbRsZQvHaO0ZKvy1WVCsC6JbPwZq8VaqXmBbKEMG6G0CirXuEdgCm3yWs6Y4K1CecLuCHpbBQk6OxjFZwCTidi51VahkPD9dtaPfNgoafU0ne93vN6HU9ur05MiST6pR3CDCkHiD0H4N3/vlCFk7JMPBloQiQkzfmrk2GfSYCQautBHSNh2zfICRJlTb1/WUBRvKjGBWBbBreYzZDQrSBHgvjAK6fbhjuh1PfzPtZhme/62MCaXZELMcfxx6AuvFYAJ4mbHVxfs6RFr7sZAx2W8ZV4j2YzdSlC5hA8OdvZxXuvMOz8tQV0TKd0Tky+aoLnmugxpsdslxDLaREsbfzL5Va/BzKvWgXUN32cdWjPJzBkptHJMEPJlc0+9SaisPPIIzjn4c9zH/PVCKv8XCzMClOqn9VeO9SpqDbqkdTqj6XzIu2tdaXkziXf3CWBJ+vcztzbxq/DQTnS4s4ob4Fkw7JFOQq0BEnFek4MhePspAfeuJ+3YLmRhKZiP0wk7BTBkwynCkni+Oon1+lBIiYqEDJDUbInNIoGHqqhquPp8pUB15vjfdoR9NLjlXZTw2RZ2+RYrx4ee3DrRLXTLE0qSxGzEYgMkFqFrD3iZPkRCIag93lGUO7BFyBmbHE1wPuAOVp9yitiYikkJ8TTva6cICwbj0+xyV0AtuT+MJuqJU5wpyQS65mVck/B0NlKGjoTB8LMwS9gU1dvAqb5ztFKH2XmSDWF73UErMK2nR4k/8e2uIo6dFopSLFqE7Olsb06abSKRa84JaCk7UG+QhbV1MK3E1IaSihgMRl0QYyrKRVNLZ2Cw8h0PLnqlvJKhVRgtTKnz07QKgqvZZWQRM8gNaSf17nmCFXuHCApEY+cKv+NcrKNy8o/YkQ4ZGDlczZRalYTxZR+Rc/946Ebd5yGfHp50khQuTxUWcpXenteYHxB2GU2XhR7qgU+7fuwb38e5KVMZWgZ7chXDIqS4eTx72NiJmc9cG+xNbfgVw8xBlAARyrHFHxYzXShWXm+mrjxzUanqe+4IjzUw7LO07SpvbbP3S10YKER3+s9cDcyg+gUyaTsk1CiLtGjFAbJur9fo0x9APIA9m3tQk6JaZ4+Q1YDzsgG6ofiGnKdIiFa0qqeDYhe2/fl5kGf9x7VILtBckQiZsOfUw4oy6scC/VknTePAgS+kwLxvTnH7X+KCOBr2WlbXPnBktk0QJnCzwJFp3wB+DHgrIKkty2GUmYxUHufVkQTogfKvJHx2EXwIkW3dTTDzLVDPuNrGtD7BvHPXT7hUB0GDB/AvYXuhYfZA1j40nywNxl+IzJ8pJ112MLN+c8nMR2mPO/6Tb8lN9Kdb74xrlFzxOT16h/Kxck0HRqwi4NCo5eXJYl204abRnA5D+2zGifi28p+yev1CKvgWooVpWyroBEwqj+Tr5bgRIvbTu7pemTAYRgOPgMO4snz/t9CJN4W8lRIlCaMljytNeBM5AVrFFx71Y2/zG/D++vZi1psPmCPAEVdq39oJXYQ1K+7e1FDdWXOAJ2lQpeshPQx36Hq5ytZOzAGGYCLym8nZzzLRTXG9bjgDmh0TE9NokAkw2h768RNI3ImPdRH9ffptjS9xJu1wlgennU5IjVSB62DnEWG7JqcJCg2B+wqHejqyuG28QkfKn00KR9b3n63KSp4FmNdhAtGpuG9XtihTdpxjyfRuDICa1BjHy89FxeQxE5MOPKPf1oCReaxgvZpDZe0+ZeLVfe0tdrK+u2pZWdzsGRgGLmxTgZjkVTEX17R1Nd6dtoyv9gms/GbqLOemcds5TgEpGiN6d88ZO11pzvGltx3oor61R0EtTuVGVkVkunAsThBNZSUbM8EJcLVz4Cd8kYoPLL7OoEchreZfHq7WKo793L0wC/+cJKJoUgGTJF4SibQQ1U2/IVvgd1xOSt1o0+frrTukvHJrsVD6p8z2YAMsuhpB68qbtJh4i78cNpZV3IU4HUxo+a+tk2eXiucXT2q2lt08uU3R5qOiE2hcpMNEyRiwfV42SSegAs7d4p7nB2qwUF5awQeaSmDvx7rVz41qTxSfuR2VgavaTRA/cJbjgNSya4dDW5IbVN2V4fKhty2eT9I03hIg3aZdl0GEWSHgD8vBPsuNKid0XS9Dv5lI/Zi65XaOuHDZKkSFaAYFo0rNHuQFVtLU143dk/XJeFkyHu7fDMMQyz/gmVYGa75Lc2j655xyvjOb4ufdhepNz3/MD3qQ5wjdShnwKyeX/XGbmywXZeOSZKq597c0LMEDCN6QH+HlDnRNhS75L9feS9wjnVkcvkskWml3usduibXFt92oo6NmRTa5m7VBgWyIeRERnDwE6vvR6L86MIgABB1rwRVBX5Byb7any7ZtEP8RFfzGcS1bsy9A23EHRCjy6/bzRJ6IEKPAYO41Gd49xftIbzxtL9X0oNhweUYSpSMZcxbwmc4gSOWabdKvWXCfGcCeX9FqUr3VkvFXV2uzuYWhIen2w21gsUW1CkH33G7FKKC1pOVk2/ugDy2aO0wp3IIa7Z8BeunApVQYjwRIaeKZA5xvQDuRWM5I0PQIQ2JizEqPxIioqFY8h0vJFdG1rusrfZB0kAXZPKch7cmg78D9EJDmPHCTtpWYSpMoT1RUgVmkaH2nXJNZkHgFrIpnyp0HkoFUtj+9iyMgGoYx5XMGVgkxe7/Qrw7oZHmBZIE+5mDkl53zSJoDlSksXk6i7XkZyWdoGLenVqsQWjabiFXZXJQhaiJTtgInMqgJu8EjL89g/qDJNoT0uMBLEtzZHVVz7qt+mm9PJ54jIftfysXKfOZDIpISu8MI0Y/XtXOcOdnErkYqlfC31rZLzRA8RWmzzqeWYWEQE1msI+x5ZDwnOxSWmgO/g8T6PZJUfVP9vs1ADfYH2TRcEY92L2YnXL+I0MftPnOeidkTjoJWkHdFXgbA5KYZEDozDTZuMOjUzBfKA5DZEcL5Qwvc3IRKp2nFSKPkDeE06D5AcAsuFsNjpk6Cv7sQpV5d0GtiWU85hkbB4awedkMZVJfyxN2NThdlzQh5p+ESzWHk/vgkIKMxen3zjctgH/dz7a/G/Zi9tBNDLUABXAlW+v+RW94cq/QGy/7kTzOlF8B5iCuQXLH904YOOEa3NEn4UsdPR6QmJwxS+wISDf7h8L8Kz60Dq9/LxdKY03r7H7HH4ro98ogZUD3VC5EKcP9WJ4YVvTtobzzWxXafTC2HkdMWcjAsjQQANb7X1fa2/0SMuf14kUGGcnw+TBV6cdnMEJ1TNL+qpvabUMuYT+TGoe43qP7cjacLPV5OsUeDwTk5tCcikzCHGCkHBibY+Xnsk0upSbmAhcbFRhRfysNCSsBImElCynoWLH+bnS/9xU1SNRMueQIcJ40Os1z9fsaT3lZmn6WO/1kNSekooDkxnor8AiVmfAZCXFFyUl8GH3DuUZ13fOQvWd/nPbA3FhLrxtqlrv1vsEJ8+zJNmAt1KdyMH/1hghguKheOHGA4dxWJ6ng+7ls0G2gJ7xFx6Cx65tAQJShl6vr7h+E/nGO0sFcqq4ywowbRlgcZYrMejHxLkPfWTAxniFR+F2vNeyzhasP5zoFtx6vK0RwLm+ApfwZViLJyNCf3ljb0LB0INtQsQrqqnjY2tgpXh294ezEbywngIut+lBqKJHt4kr4KwO93ozboQZBd2ahcrkef6fdNHFcauTy0Q0lQCextmFO62ODklVPLBRagB+zg7Wy+lCpzrdiOh0iUJeUjxhAVaHiGh4dS6r6Y+dAI45G7oEEh/f0QCOafBqpFaDeNZIRhU7PAtHJpE+5cn4C35C9u++FIJfCkYlZwJ73AdKH7PyXnO4Zns86e+HsFE1oo27Bd6fvcwQnhg/RcaQvPRPxZO3XB+6iIzcYM/stw42j2XiUzUf4jW5LKwxqofRXtaKhehu5BAU9EsQ0Kb1QDSxtCZI2jWBsAT3IY1/A1XxluyoOLY3CBdkDIgk0LaFwOHCk8YVvRSA1mimjFBBopeTl/dqk836Z5EZPi7+jMXx0YqypAco2ngsZfxfYTrBw/eUXwVGiiL3fGfXAWyhaiywsnBiFFD4laIilt7WaunevTs2eZMXOeXHHR/n5Je7XL4PBXrIJ3LZWIoIowSVbGkWFmlMiMfTdxFcTRyhi+i/l8tDGdKwx5koZIuRCG8WtewaR8MXeUsInFUC0KcCx5NyYL2+GW1YQujclgcdV0A/tMyAif5nXoZ5UKnWLhmovCTk01nL/8RZ+95s4UGKCc9nhqqWYizMVijs1++k4flIUdsqcHqRlzrMseQRMTwHm1FR4THnlCv/B3FDc56trkBI32NgPs7i5AC2pQkkQm7fx7Vlov+F7j9MS+vg4dg++mAGi91H6zMatSSHyKXcxOmsoC8cpV9/R/UKwHFGEUyWAq7qE6xlNszmZBBqvdcj2c8EpLb+62ayfpDtZMojtf2Mb+b/EenBxvotdP3eX5LU9IDR4Fvw7Ohl3pOnM28D2ge/OHWKt0S5PHhNWqgGfB7KpoFn8C3pnB6uCF8Ncxl6gQHAHtW/pi5aYt/O4jK5Yjc5XjfWZ99uhg6w8j7MXRg9RKuNkWf0q2vUZAVJUi+t9EStX4PRKtt81atfFB2CbGQ+zE8vszzFKMICE0pfBYe7qvIfaQ+fhzydKk1snY5tFLDFuiv8aeiROa5PjLSutaxDllGkLJ7kSQ3Ode45sYc+4diDg9nrBs/iP4e3IWPUPsouWuA9eclvQz4g0BjJEv2LlElawJvawbWPIvqsto25I4WGuMVKbNI8FEVMXDWDgDEFKJ6NNvw27y+cORf/NRJxWQAuWvTqiInvos7nfMJ8gQC+KgErISh379/fi/r9/YVQgnPtomvRmg0m37JPqFZZ1oJEumLUFQzmXNZHaMxhh7NgCE7/GmG+KqFaq/Lo4yqtPCCotS7pSBonASm8R27hMD3akuGxkYiZXJrstRYiWBKlwnzD+EH8n3Hc9EnMsALGaEE3ZFDnIGiosxcqYAYezRwAeSry3XE4QruI/bL2zlSiyUsRYnl1QDS+H+PyUubktno+23wAtZO/zPdoc58PJQ+Wln2yX0wKSLdYwJU7Xv18OkME+n0/9GLp0B0SsdJamZ3tzrPzaDrWZ7LSQcmqH4olKK19XwmQ6LdlKo8b78bj7JAqitjpSo7mijqsi/oshY6cRa2X97iDIW9hhNT9C3kdl93N7o6JVug3+DRP0FYfasJ9ZVrlAAOnwZIJ0Ov4+0YCEwDVtW2dAvT5nmAG3o4d5KgZB//jfAyrux02O48PgnOUleCEYcyGnLliCxW7LCDzPZdHKsUFHOZYYfOnDrOdUvgBxILdytdW1QpHMcbhDVO8MctaK/knQUS+iAu68cX0GaNVYGs+3v0/U+eVjkaolUhvgGL4wFbtzFuwV1joJWfnH3W+v5AC+JeaFbdDBHtbW7diSxLUFMuMf3FNHpvFypMRuQTbY1khNUr2pmuQEr2nrk8vvYiQDD2x9y3zxJg3BlaySlL+gn15qdWB/yutMZOp1pMJ2Ir6RKhHFIEZIgwme/8qKTRmKhQviMWmlMijs6o3IBiMUIk5WhHmFNSez/faUnccTy2QirjMB9NxzAAzh7cZQHf8hAVTFG6LPqjfoRojxCsPXYMXxLWPfkRk0nnh9YFR/CA50HD5w4G8S99hSlF5sGkXVBPoMqaXR5g3feKdTUYJ4+l1r2k7M4VDYeP9HdQpL/d0z4xJdaAPbUC/jKgNmMqLfNzcyKGwjyOFAif59+mbueMqFhS/LMSFVQteaG0ef3OIUyTuylQAwjqQPoPPQTG/BUKO91lNmEfdR65hKwfSZT+B6LekUOF/lvtqjdygIOOmfQRRmNopUnxgJa6e4nZngO0rOQLn219BkSRBA4y4n3RsCXtYKAOsVcYTan/eDT7tRbtXQLnO71wVd3xFEtIvr9aC/ib15TPEC7fLqLv5la9djengvzfd2CnaAPzqGBRGOdcOf3PbdKfg/0wwvEZujx9V5OgUqKoe3L6g2ibo+o94RDRAaJ0BHQEeaNnZmuvKPXzHBU/8fggqs1zDz9PSPmjOkR9rpfi+Pbc+EEIQvIA7rpa0qhJK9ZIm3lLjLYahlnFpKANQxWHheO+sbaP5tfAIRg5Pk243FmXCNNDHtm3QKk8aMEjJhDPl/UrODzB2q/5tjXrNkPXiDrWhJB4WIeosfjQHo+P8kKMcfgTwn9b+J13UUydxlTLzhOCX/CE2j/KOh5DK5luB76/7QI2avoolqyMHVbPfvk5NTa/ZZnljcy8tEeu46A0Z3fU2Pm+hPcpp8OImGfxJDnp5zL9e8sj+S5ZVFBOtHr2/R9Fw/eQLhsdgt+aEbULxlKFbmVfEpma0ubrQDqnkI3FZE2Yk3iVNJVnuWHsiKchoyMCXXAgoCDqRriYYptL5lYVwkvMaNzS94BJ24WsEC1g90IoN/V4bWjCrpYYaKYJpS+gKzUYetEKp6Lrsu3FaoeMp76rs25CVGF+n3FKij/4/T9YDup1nWpr/SoK+G+ODnuxNBtiMbqvYcWiEFk8nPHdYf8kNYC4UWk2NOD1EFc5VhVV44S/0IZnRAMtN2ilPkaaAy3YMOD08PtGeNDetKYOII4E8nBnDgAj/58QDY2DVrWVsv7+g9TKQ5MBnmFaoJlxWKIOBV++lXWGXI4ezNh79EiTC+qZYsKVvUR91LChfd/Eh7JoEsZM2t1sG6vOkOW05gDyx54OloY21bX/KCAPwqP5rJat1d6spVFL/v0hwMI6Uh4gTMp1SSgiQOCTYHdnGfXghgHjZ6YDAuAljLlqpMOHteYvy/yPimA1UDuySbYxEkn4H8fDHoqme6tjVvTffac6gWKP3EtB4xUp+mmSclec/k0lBGUFFi5bGJ5BXluowklR9V26qfw5a0ATApYvGz0tKZ0r8QNGwB6yOUuMniatzrUgrp6OVGchnNFObQs+II719V3iTqXOO8y5uxvCHOJ0iYpYY9IStS1295Cb6fKnNt+FWUfvi7XtV32/KTuuZ+HfkMSSBOQmLef4IXHS/FWclhVwGOirv8qt7AZC3oFpXQA9JqAdZxFq3FdAJ7sFgjMATvqPk6Hvt1WmYheq5F26ByYb/KAQoDyY+UCG43OOVfrSlK/6HQkhacJHMO+lIu3lCrwKiiRNoAXC/cLMez/jk2d2o8tZQuNbrC7gg0cnfBbL5CaDs7JFgZJ8ICyZ7vm82EExXhPzOHcVWjvGO1BbVq2RhXYkELAWYUC9vHrhjrr6jApWdJfGBl46T2wMalSJxILKTBmNglmEsUahOkOBESMv86AHAF9dvNQFkHxUYkrfdInySXIxaCUBW2yq7mndlFIy+o/E5IwiA9XFDtDloZ1tZE5orpFQc0JSnKjRq4dVNFogg58HlRFeDjgufrbfamwtYTpYxgSKoGj0k2wFvnvRNZAV0/Bk1Amaq+8HYbkiSnxK5+HT4OhO9eR9V63Lg5EgJCPl5E4wCK7ePSwEJmVvz0PH+tnpDOWqtroDf70m+XCJA7+PccsimS0P4+CdOXz7ebc6MI5fm+JgIBxBnIh7JpdUr0fWp4DmlmWtn3vVeMBKvbadEQiMo9auY42HCjDWtZ9kqURg7xKkIlRcpJ/C/eN4RUsMeljSUWJiW7UXpBocfLcmUyWDmi/SSrhkKbxzyWjKssTJqhY0TKJOnL9nmn5ApwLkF6FzQ++Lc1fouqq7DnTNx2UK5TvLm8p2R6Obg5fbws+kzfyU8jnpiwMJubyScOFJGe0lUN2YfYSo8CzRvbdrEycYhvQe3Nei6iCz5v43a6ABkoQgIMLPJLmZ8+3GPcBBtlqVRCzXLTkCNe9nGlFFX1PqT8NaokIqUwOhOxT04o0qjw7p6xiwHpjIHgcgtzMzfrp3/F5Rfz2Rrm2ur+jd1Yq/U6CCF3ywh0t6M4iDyEnj1SI5959IYfTo6/EIBuBdUwxO+U6nWj/m3Fwk8NrjWLgoEW2s12cJ/Y2JAr/95GWyAP1CLSHchzT8V0xqH6oFpu21TagnD6mwJ427w8JfjPoWJgFzhP8qq84zNAZGuY9IZxq/CbsFFOWI//Fq2UiXBws77Vk92vO7iS/WroXA0oyTFKPEjalR6nmst6cz+VT6twU7bWhbbenMU0ZzJr9WVGagcPvDElbYjNJBdk8+huY9zFWzBcrDPgWId2S5/L+wmL7nl0EIe17G7l3Qt/J4TZD+laJ4bMlATUsiBds7b7OELrxk47QLcEmi3fAWPJ2ZBp1cjIPJJxkegDzhHSNs96b5Qpw1cUTB3jaiQ0ZKkitHsDASqdx+a5w6IWaCHQ4aDbUSIFkiQ0eC8igNR1thkM8duHCMqJOMSA5Ji8eofy9hYbMLUSAfYSbqarGysrWLFyVjTsAGzR5i0od7rVH4+G4TiBew8EWXz3bYj7YvGq6CMCu//LIn0ZuLnpHKUtxh3wjatnUL+KOG3VApplWUvgjhYbVc4O3272Gmoxt9s+tSkW6Ab4iciguZcoeXXUYnvU2RY+uDJ8qOz1ODVrixd2zidZLauRixNnl9G5IZFeSl0sA0mTkzCUJRNPAp/ZrY67aBhZaBs3YK8SjRqwHBeu+xERnGd7HmNzMO6MCI7yOXGXwmbA+dNsF8+c8Z4400iwp4hj2PEU1g6uChrV/D0i7AwrF0yPEk4ISJrAldVG+RZBkzsoNF4Wsn3Wt2i8ZLp8RSkFvjf7W8vBLYAIKMzxKFv2FmIDNhypFYvvPX1ThJR2vJAGuUKmUaEcqNbY1vfbIcObCiLAPPehBm+YNKGHvIcyBwf/ww9D/P+sUjzmtpi/AOrq+WAr+c3meRXXU04TgeDWdtV6fCJgDhifZK+iYedj1p3fB9trIelumVZs+i+R1FU3RgawXINvgCaxtCsPBmPGPnCe+jenDaIhQRRtoukwyhKus2xpOqtJEj9w1UN80IGQM92EnLP+i9FNkEeFsiusNJ0oUgyoeRqp4+4+wYfmjst8mKHzQ1y1sBsEkjI1tW75BxWQ1Vlhumv/tmQUApOX9zBnq/8vRV24YPeLOj78/qx/PVOx+4CgeQRM6Tcw26WBCKeP/agV0wx3Bw1pVJVyjWTOeAnO0tMuDs0RE/CoIZWSyvoTpAYTWWvKZylXQasF8UAwaTZe5uxTjd/Ak3QF7SlzkZhi8CB6hAoKo/tCV+lgGgeM94WOh5Zsj4RuOO6+nK8oSg7uUzOHzzvv5MrbIGglWlSaUkm5lR82otfAH0AZCmy/MbC2J7vueXYt+/F/Tit1idKMCqwpcA81wmtWjAhnf+CyRKwyxe96j63fzc+s5mXdgjcFbkyC/dUOgLdkdfwU5Y7t0mE15qQL4RHJCa2TXAE9TQwcRrrkS9FChP3rG4w/Sx0b79x2VopkO7zbyhf5fLKCzojT42nzHuv0ZoXjFSuTKb+1Cos00lCD+GdiAI1kkFr5y8S2c1ZpIf2mqSn8eG+gsITFX8QVCzPAQY+9TkKzUiAPFNJJn04PTTQfDI9JopguTkoUEiPldPITX+twftqY2P0IpsLRcEbeWi9tJw/73bYKKNy4wzH+QMy4XyF+ul4Js0ZLLF0v6dJ//EOVPx4q4Zu1S//1nVhjL4qNKYfLo8Bkv9JiMVJGOtMD0KdBK247Ng9L9x3hFbqdwd8MNbeAZ3JDDitSqxHW8hG/s4WEikr+wOuYemKa9m1QVwhnds2jhnyJaDVmJjFqTkqUIs8/9NE4lh23zL+uJwwxVVEvsOKyT40Z2+tV2//+jpw/JWBB4mun0LDPRQICJY1D9dWw5BUkW9XnqUP5tEoIXXxCSJhElVggAaDioDUD35c2vrwhEpNSu4iMNNLtkPC8hPI+obMJIlL2iWvkqOFURePJU8B0PwfsdnBXwDo/aVoafLFWO+5daieOK/dnTxFgnNEnmA9T8L7wEmcQCt/+VmdtnWpB5nigikJ09S+O/3dhDdW5fR4uXaa7sePQmi3D06qvB4sZKUYet+p/9Y0ZI6xVCAUXUhnuPn6wvqNoQ/r7lwXPys+2vSgXGrR2Md7/bxu9rg9yHbrNfCamxREq3sDciUAXuXxvheyX8v61WcNYrjtI39mQyDynJYLwXzNjQAmxBbFgeCxdhShLraHz41FRUs8//UAwddxTqdvoMdT9rLNwDNWm9T7bzTJ7Aq/QBFitr1CU8i0KHOZWPywmTn7eGAwIzKUt5fU66w7SH17ilY3Ebw8UsYCQ2SSzhDpCRUD9jOERbyV6RiubSBVZS7YoXNZpnNDGbBTDBw9tgFhHHFze6vCKcqfWIp5EzvumIbOy5gLOGCTJWyRNXeOkEnBSdOP7+dw2UUbMoEXKUZw4KCEq4sIwBjGFJe51grL+HW8WxlV+7tyPAHVsa2nOeJ7gPowsCbDrERznFADBNbME8rhRe8OFoh5YJ1+UG37YOwb2JvkwaNYW8CW3L6/EQX7fIr+/Y7XQ0gGOn9jLXZfMQFnmzase9+QIeR87K/cIxleqEXAzm9rTw79G3hXTV5rrsZEAb8cE9MMhEXhNuYjGedMBjYG3IHaPDnKOoimaJlstKJQpdRbVDa+ZE8TLnJxFmTjiv23W85XtPEHv4m6V3VPGRuRnr7bTUbv+cNHimhsl3AmDJivPN5CvgO6/XsurC6+h1/bu3eLL4mszwOQqGX6Ni7D1gEg1wMvD9hbDVC0tpBFOEtcjyZxRPsgyXscmag3NUBF4eBvp4TrugUnkzYtKjassof0s51O0OjLJhk1enBM9NK33aChw52BOlTL9d+uBXzz3J4F3gm9pbNDyAVYgLkvdc9nOc7jS328KDeXUjYc6UYlhohD90Gg97arUM5r2OIcssIQed3ZHkDot/plUtXbwIrm7iNGPjOcwD5fhsQty6US7XOT8n7iWaHRtwFf4J1ipT9A9HBch7BF3U6Jg61JT0XYQ/i7IkwbMjvliInSriwEBrKgL2UXI2RD8oyTFqQ93jA/aMeggoFNiCCWsBBnKGwOaVwz0UL7yJXdKlgUUidUCe51aj0KuBgUzIxurh/u/TSDjN5JkNHUl/2TVDffo8LxdLYb3Nroj+mUTwpL/8BEOh6eTO9dISLnOEInvYdPB6IskBX0g9OuZbcQGImMOxPzXukt6UHvw2HoHsy+FowvUyv9sMYLniP/x96uxd1Bpr4Q5tpCV/o/4Ug3iHooX2hAZbKW3KyjZ0GdLJ/uVxWKmWbCMi+k+EHYeOEFyxPMl/BOaSDq+d6EyTD5f7XzwzsXVhLuPP/+JiXPx9+iOSA/9xvW4Zj/4Ju15gJH2/RTT6JPcKINKpAe8lf9unBhlNR2zBMvsbTocl7+h7YBgwLYvMqsm9deZW7+fWKvruXfJR0lSnF++0kKePzfzyE5L1v0+nPUPElhFdgaRAOs6lDqTwa/6ZVz8AgakZOnQMmjy8hmChMuosSiypuybObR+gbYUetYHWwtYXB24aieRBVUmkf4/5rOXUfSpuEcVpVueog5TmZAq/gyuGacK4nT5Nv3FIQwIoXjYa3IFzxj4JeiwTx5aY5kopyxmzqNMI/wSy1UQ63i0/RZ3nakiRJNB6MdhkNrgWHLgbvwWTnijfVcvkGNIUgbck2JwFh6BYOi3nDXB84qXRzW/9AsNa8lbqde6HrPqM/lVSNEMaTZ5Y9HqVi1G2AHjhQzviaBEJanW4eLnoMDoFEuLuBd4LbG11YLcp/CSyWNTQH9t7mV2MXPY9WS/5JRyiKMZpF43TujR51w65NGIE4dJ5zBsyiM8daozEpoVIqwkW6CJsBahxfsv658+jFLnS9vqDPtY9Yi8ZZhAqIokDDeYMpXED1mJX049h5ORr6sTC+vjh1KUjI1yb58qGNscO9ftT4hZEAAC6uFBFawMdMyso27to4+7aE5goLgSyzy5QF6vijWnbASsMFTJMePHtBqo6eTCMCxbLHnghOZTnMTzHBi4rgePb8sgu1JAFwuv7P+QlULYYyDZ3vXUBTipFLqn9/U0SWAVqTRfd3rXfcZR+TOx5npVMr19EANnbCl+/LG+TwKfW7ktd5TDLmweS+QXQPidOqmpVNBPQhPMQAU+V/C6guINNSh6q76SEjBmrwPm1GEgO+X3zR8Aglxl8FM9GlMtdHG9DJ4/PjLjSj0JiPs9Z3JF1Tzxj99VmSEENN+Iz6p+OpxZXjSSh0Q+6V/aCMjvIW8ZJqwsr5kOh7CrCFZHr9eIwwUAvgFtfJtTRra0olahbbk+5GRkvGL4pZeFWUA6IlYpcAuQBi3uXJlFDO2osiqJuAUom7m79o4ivtRbpt8pNIA9R7irAuIPX71+rRtSY84rRstF86+hl4W7mnD2C4Mx9aI7AC9x++M3tH+afh4PWt1sTPMT8eLiO7ANiLYXh88/lp3/3IL1Dqk774QE43qAGxG/czUDnVlkDpQR41b7SbLTt+SsVt9tMZnyY4pB74k/mXT9euRAUKoSwmI6E06tBwNgbaX1CVTgqhazaULm9nEIuARU5SO/0gNPIqis/MBGorsbiXhIC1PsJD9YkeXM/7GJW2QTmarxHgqLKBEbxBjFTfwY31m4wxC2iyLQ3/Q+wl10rQUfT0NNTUyhQwZp2x9vRKJC2++fn2PUsBfm9UCuItu/WSFAreoxuJOZXWn5cLcj7Vu1C40UbaLJAW/5jFqhojQnqwlrKOmPUIA+od9EkwJ6ONFB5jx+NRgiuP0CI4dgfjwfAHie2RxyDGTGrT5qXVYicYaaHEv3+GEdcLAJjyFNhoKere6L2Lq07vxdVkV9XOfE7gaSHtjgfkkzYh3RvPQUkPfFQMsBMu3OSi0eyqJy51tuaT9h+WBkCJafahxqu9x1efNrATlEjED7fJwkkXLv9CiKGdmljwATrGgQKGQcwOTUAHUIC9r/493n2/Tdi+yCmFmc82z1Cbqm47ApkEp48fJRGZ9E+Q9BxpLTuGq845eg/pFB/V6HwT73Ye1UjczbozYtV92t8UjYH92UJ3C0qZnF0lYTfZRMTV1OWeN8EJeYV22SIlFg1RmBBhmMpi/f9V7J/VSoTi49DGoO+KLF7ColftA1Z+yoUuoCeQaukP280ewJkRtcPCPpKoRMcKVa+QBL342palvU7XUDjbzbZE84Q9mHrJ0NcMqvcT2Ccz3A4iJqyWtLuu6yOBfGHk2QHBXSSK/1wzl8a+MfUslWpv8qYTnghKb7uJEWbUV/x1SS/oprbVvJXYsdZIiukDfcQmiBpSxYzzD3HXl6IBq4erZaz5EWpFWa2LBvKnCwoDpg1f+7A/MNysWOK8wX/ubK4C3QO/IPVKWBUp8XAmNonlUgh6melwTE6N0KVSIicXyN/u1+vhfDQNHUupw6yr6cma2fFO5O7C9FDvkTOVj4uRLWz2ytk43Mdk/1kLNK5n73+16qFOyc2qXEG71SJuRRvMr8egGq8KUP48N+vrm6gxjZYBfY/g6tlJVMZVEWPyUoogFJC4CHIeuptIUh5hkrNOC9QGSROf4An/bkNIxrVOKvE5s7exb8rIhYGgrYUke7Ed2E5AAuyp7CtbYAEmdxre/Mb2oFuTUU7fNZWJUt+4NzBQVFiUqbAbOpSUHVzX9okE0ejHRRXePw7Ze4DVJl8rljFo1ft9AddBxLEK7JLoUqi89psGLhT6jEXx4CnFUfmitjPH2B6dnGVOwZSZS0qXX4xpzopaTpiqWhMwuVZoJf9F8Td4pNlkEOwP4ND1LcF84NJxm51pPzIQ1S8VK2zkAqnDs9fMhi++s9ZuUPMFt5cdKukWJfs5ecfRoT0BdEgqG1G+5S8SXOpAvM+8+6GBsIpCxPPsZ/I06gEJe4jYR+jQathN7TdzDUB16QeGDGbKUSUUBzSDEkOop8xctu2DcTpncSZOYyVfmw7oclrigyQdQbwLKWvoYbmZwzB26Z8rOBX3cna9Ozmw1PfJ11UM9DyzJrzMRHmSS5HgteAOmoBoPr4bA3L50/rEZd+KCS2p8C6D+1sOiN32rZIbKN04ER45RvbCR4gZdQuURxk3peuBMCPaA2/wm+qelI/A/SHAuTxGoHKmp5E48qVCcZP2akQWCARgpGtieSeYjibfEL9IG71RRvAHyUyY9T5Td9buCN9ZtoJpNqQHZhyvfWLKyx+qhWPI9tlTrrdNxjK0eJP6iM1jHJrhWdQbO0QW/DieTGZqYc2OZVbXdgBF+IvJA2x9lNv8XcMvwxqONIBQ/ipS5njVttpsgoSqZwKtpa5+Yadbe69ttRqaArAy4HyDLuo/jYope/leUS/j52TnhTvo/kCpulUp2YIBR2Cr9pcpFFsicKUMUzM7lwhHkIZCKJ9l8BlX7A3Bh87BRtvEK98Bl+mtwdFd1z6eE/+ps/eLLuYYDo+DEwAEgOccFgmPAFPhUpJUNl4oxSLzXU3Fp18CSzlpeYBklpUBrDkoYQ3TZgLmrN1wFNvIJ05KdRgxxqzuMwItkZmjoR0lh1GGxZs5WqET7lHwccHnkaz6jqdPvbcXKpOs10xyRGOQF3Q5W01vNs7BYkTyLVwTv8zlVzco1bGc+PdzoKFyNr4UpKmkGf5MKLvmZnitAmU1LT/srh+VApCUG6QTsLLMIuSVf9FEtqExJY6WJ3NmGXmJu05olPsgn/1D9+W8VtjSip0im7wTLt9bzEeTwAlwQOhTNdiP/smAn7way3r3dEkYBGg36nsFtLPTAjR4lQIqQunK2CA7FK5EeyV7Pl0Q4McPODdd2wtoXAXPYubnwahCcyNJVhSOY9nLuwkZL377QDuAN+OZGb/PR7X68IpSPD2M3MzJtn54rvol/QlPeVJ6OPzdDaxQqkLfUmjHm3ZlMsbqZJCqirtvzTSnwZjvccOXqofQcDF4j3VRX08+vOM79zMcLJQDkpxdi0gEdQXlaJU9n80fD8Z1qUqV7ydtKHwbf5TTaUWitky+Gi/P0zvC5lZdF862Z149PZFDsGkBbaQj52ImpWavzDDTCHz99LcZxymDIIp3k9kE4zp+GLv4mdjijuVKfT8zmDiPa67LO0M962W16rqPakFnDnyTziHsRKBCTlxJiky2q/571DK5XHjAdZMTRBSv/PMoI0Av+fGewes1/0q6K7UcvZwwjgZHLqRW/v/iuXmIUUWyFG1JWqV33H/FRoTSO1nRCewTagpmsoZLPonUH+Smfih4GZlX6GUeSMKxBNeOVMijS5csIJ+M7MrEDq7VV6HtUNEMDQ63lgHrpx0y2lBFraKydjxqIbZcrwx3cTlZ6+9OzWqLuHggq2DwfNbFoEwLt6JE5u1eCyPsIxmNOpQ9oPykJ9cWS/f7KEjVrI1mP4aQS0dOip/LnaJpfcO9UQJNIFjwV5nVWS81233iSD6aHf5xmaeUhkVdU3axzLhWBIQniF/b+AZpbuBt6Uo6sN03ZDdLbTKzY4doG+cJO1P4qJ1XL6PIApxRz+tpJQf3euxoZTSbSX7f1oeT0KxJmYJ2a296fT7Inpo9BPcsKNkKEwEmw9C2C77NYUo746AKNhJT7n5G8XZmlJlULwellFTiyR0VgvPEQmrf/eGr5nd3KyAO6trV/op9GCtOsQOMOk+46S/lkbx+m33Bg3B6V2cnQ2fqztMm8Oi53HE3CIPmZXP6Kyoyetk08f8Q4I50Drx9D32jCebWxP84dYTjzRNF/1kAQNSgYQnmTGQGi7DCK1CxNstEOoHGmZwH2u9kJRBzV/XGJIV14jxmW4FybMknDWadDH62hhUnO7ZL/hGGAqEsUwhEuPg5UaFUyPFU91D/o8rFbezx8r+KeR8HTu6i07PNXyISHYOL+ewnCH4t6ZyCqUI+FyUo2G1kRWUj/PdZk7ITHkALg1yZSrruE+PxmUx2hve2gVexbDCdg2CNQQbpyzP/8Ao7V9FQX3OEzQzGsKWO5yCvKAcaxTNOxK421oc6V6x/F38z2q6kd1p78nzbZu5SyX2xqpL8VQ1C/JaVhJ/LBiSz+zwTf54WTcqJriGe8+VPGMhvCut4Qz+n3V8Nc4aoo2xqbhtznvfdCaiuLkhF337h5EYdiiWCHSPuqO0prcJcAZv7aepjuqWaoVs6oObYrPAjyezaTl1LjT9YryxQLXzQu6Yccyxa2kkn1GCEXsIdXlBbuHQUwcpIydfKr4hRLhtqc0GKIAfK7BFx6EAKYQn8821M3n7d+PpY66eltVvQah7wGZEBj+zga2hJI6qY3+KJgm1EFz0oCNl2N1onhVpIJEM4IpgatK8WpEW9CDWbxJ8TFW1mIdDavyAepQl3Y6H9JSYnkxb4yOvAWbWt+05xaVet4PyWbxmiBuWR3MLvn6lIXKqFk9DouYTAy5F400EEp46VTyxERTCZprFSWSX94S3sv0vsnWMJL2gV04ILcuoM/x1S5dZ2ZsT+9bJgAU8bs8vkxuNs8MbEvDYlRP4p8BQ2/FhK+aFdvIeYrpOGhiK04r+zotLvB9g5794sgZb07yesaUoawqaTmSVsM+DlmU1BE2y5PvtozqdFKeGdQkHgAWjjp/Lphkqx2fXTgPkZSMKjZSiRtCFd9daEnVIfT7Fl0A65KYCRVMvIJ0nA+vkhr+8DRMyFTwZ5o+M1ZIl+8vVPyViOJWdBFcZenlzG2i3aWHEh58Gv7tnEGkIC4LxQ6p2PYGxjhUgcWoZB7JKYw1TiC7h0Jh3FZwYdLmNXybl3CMO12EDM61GJ3ajK35eyQ0Sew8u0kjcZoEUOlBtLb38cb8ex+cPKZPAX/auAd7xaFyo/4E1Pj0cwUHuXWQYxKQ5E2Rk52tM99s3BQAIcyzdOxbWDt3jqAnE61SO9c5Dt7soPxZ33gLJcx89l8OjexpJqLaiHTMlwYzHWELGuAjbRn3GVxEI95MdU0pR5Dfvraw4okkfg+dprBUj98GWO1+kmLqjmpRu0bncikkZg7uIrqfzOeFCUFzcL/XwX8lYAotYfmmDYh9gVYnk3FexYTLpd8fGFF7jvbIGs62A/PWyNLxOsnwLbwsHa1fNaJ9F+wmT9rUXspSe8OIFNhLieNms0c0vJ2rDW34pShPMKVfFiXf6MMn7XB+DzW2pUdOBWMBTydSZJlUcASz0G93Y87T3bkJvCeGgCMpgvd9UjmSwp/F1FhQ4B0P8kd9X5xnpLJsYp6mWLk8HXQ7H5+jimcuNvUYGDjG+6VASPRdAJSgR0AzHKWgp1pJ19HbDjUPMM1BSLhorREWf64GzkMxWXhmHWTUSLji3l0C9nkNlZl6nxBswVdyFgjMjj4Fkm771879cFtDbYLM8tbM0U0Fjy0fIXZOynKpdo+7w/35otYYdTDUiFanJtg/FpfTrY8RJfk8NWffi5h/9BHvJvqzEFN5kh/WM7yIeZlLSXTUOg3hPxDI80rItoekEnz7eXMooU/EpJP6iMSOmQqTULGe49pp+XZr0lQprb1W7FkNOfRQaw8ar0zlFLOwQqXa2dCN5GGenD6VUIXGnkAMIwVS3jDSADzsmKTVG6IQRVd9Pl4aS2GZATOyhqs2KOJOpExcE8yWMbFqSz9MyT0w9D4jzUV0W94FJMmTyyFt4TX/OnF7H3fV5iuSXLxRb2vLjZbRszE3rpgUs1Z9lm5iCp9YMFk11XDfULuCO6qku+JWoLLgqlIt3vUi0hPhppIJEizgSUHRJmalHGMIHeJ33+TKy3WJ/rNrVPAyJKRnB+79okogJAemDutp9tCh0iC4q56uGednBxYMKKkJoBfMP8ItKKoTPOz8Rd1cVR/PuhiAz47RxaIm2cDUDQlKflTwl7KyBbc+yqg7IPLB4gZLa3tMf7KHfqM9uAmFnDWL7/jpN8cZqp73ODlF3+Lqt/LbIkU5Pzrfkx1Jd6OO+h2S+i6xKB4V2FQbPs/sZ4MsRDE2OfPGFsJV3bukjTLh0P9BSvNSvpn45WhN+MulOSmB2Hmde4nzHHF5aqHSn8R6tDpAJ0MgvPaazcQ7wQx20C3hlIyxQAwIT3jqqscfRNc9RBmIBBEcPX4eOwGus2BQyXcKzO+TZXNTXBxhWYWuCSsmbX7DKibKRvisfBuYuL6p39FmDCos6Ze4UgpLIxElpVxE3X2u9tsnPBhnpw3+jqG6PpOzUc5rm7x9IX4fjGpMsH31uaKtJQZyo1zp4KWjOHmy7RAKQd+3F4ca6ZUX1+3asUW7GU5OCyS59j65qd3QLzsS8Uyi3Qo4SqM20fzDNUT3eh05yEddmoD9zs2bbCvXNdINcukpLw540hB/dfs8BjGk0NLMeh9ye+DXhWynfVgn/4IeFUgAMmrviXl4BMzdDtbAGdGzkB3OtU7QS+mDenEdynp9QcSORWJHAEq6sScLFm1DmN0BXxwq4XugGzLoUPce4SY8PCoHVCevPEAVynY9bIbubcJXq5HCU0/p457uN4qR00LQyt9gQWbbrONZ0XJoJu0hBi9nXQDqUc4BrlE3JAGzy3YF0CDhYMXqp5OdNSRhHVOxULRzgkUwBXouXlrjk4PSG0Gs5Xe6C8U7OWo4HjFSFd+QfYtDao4Bpq1WX0wrhvtMQOREmbvUXVOJN7WLcGqlGWf7OIPy+2eg0jFSat+Y4dvD8/anXy69Bg1gtrFSlHYFM0eTsnVmfIOkkYSqHfj4ojGtsZ26LW7Kw5jFhtSexEzapAOa6/HOVWIp5a3Ib8DytXavxQDA35tYjrxBu4JCutOrWTY43FSv1PowSydbY+slYslTHmXm5sPZ2uZhdddYJjfUlFRryw75pFRu6+b6mBHIwQKv8awANNuPU6R8x6RZWDQ2thr5hyMS6jv9pDnG+xgid70pjSQpjdgzMSxcK8RAP1+ilkrBH6uW7cR6Kx2U18d56A/maEiF91cnpgtUSGfqXi2vOhcLwtGHACJS1Txg4KZrJI/l72AXGrDB3osRe8VaIm5qtXlgNIApUlJiQoUSBEsCHdj7Vpxc6uWPGo5KvzBx1VxJLfx2L1p/iPuPKR61uYkcARj7AsOHBAD2XA/VFR4iA+s4Q01I8JED4UiP5iEjUIsURKzS6Kw3dW+vkDuhAwxe4iQV4v3IsH6qQkupGQkOKdmIVl42IODHncKsIAuMuXzcJCefypuePhqYRnRqI4AE3V6IEZMOqMfbLkZCFRFvnxqJeY+GQPf7aHMgxB3wfvT7J6QBM1iperqOdzcltzhBFPb5KsRsERQcnXUhdOZCG0rwsXCYyGWPCNTxompsIDEO0ySz14lofduW88LFmWdWv/x9Id6Y9vDa8X8il2uhsK6HipfMsXxX743fc5RlDwdX5vkBtmuxX5PpC7VRIFstizgpT1E3uXYQvxviPerjhNikctBcG+Jk2gCguzG04Xl9G/fnHzuTwSWJygR4LJXUqbmHth3pJ2ky273yU9ilDqB+tkuLqHDO1gaLyaz1DdGzwBOXNDICj7Bl3XcUUCxzz6vSZFGQ3fp6+HDtEcRI2oU0tEliVPy+EwA6XOw1P+TWCp2DVBXK4qUOMCa8LYMlTpFdl+CD6N1b9RPRQx7U+9ixQCpUzGFhSxV/5t8FzlzeWTkrDAW/eOp76Zx8ZFBpY/PCwG6m2/vQ5bL0VbgvYEwHvZOCfH1CmN8NDmbnkKBNXhyPvtlG+hslzuYhZiwp2t1T9rc1NO/4jwjGOPqYBsD15J3IalaK3lkYKvt1+zhGI36Pa/3H31Oo+y7c/72O4q//2DbkmCiKiHmddKOFCVpgeipAM0Z5478OS/KaJdGee6EK/XQ/y0WKRKQmKVSLRJNT4ye5++DtHfd++iFGItF9UDIJWDYMwpDu8Aj6U6RCjygSg2Mek2QI9TNLPA3Ckk66ZYPLEtIyJ7slKeR02zksPLKZ7Bow3qyb3P22aGzR+FRxbFI5/O8aOVkWm3GsNbx6Tc4jo4uA5kfpTZEmKyQVy63FScOV/eVPz5Fw5FUZ2T2H3oVUJ7PBAZ2T+mzR083z4GFAjTuL/jzMuJeB5P8InNhiXk9ynOMX3KXIHmNmN1c1mhzEiRsjRzaW9udrxC5JvVVP7UpfEzARmGH7BZP2NYlav+K+/y/gXVh9Diwm5h/QBlsMju0qYEVqkrnhQXWBiVpg32V3V+Wjl+I8PoaxuuAY0wJlWCIurppYXFfj+7jssRBCHkmitFVAZjOiaMw30Grb49XE98wuWZg0WlPaimgwh1NOwzmdlsYkYrQ5r+CIZnShjobg/PQ1/ZVTBux0JK+QQfjG+dvR+mwgOL6VQf/ah210RIyR3/gNT4Pi26or9CqqqoCJeSXWJc/fgSqggQI/qM1aNvIik0uRZym1fKPaaE4o7Mr6Gn6uv3t8oIe6xjEJgt1AvykNUqwSkPpWNDMxlKeXMyWAVsr53uepKwg8iLxiLC7e12Uu5KTse5aztpsaLdWaZ04RbWAHy+1tXRWCD79KONHE2dK95mqH67+fbEFnyiBB8u/XSud8nJVk//vg7p+aeDnmkdzZzR0OFQEXSciGmP02+P5dqigMJ8afrkzs6BbyC9cU+n+9qBAAsvW9U984gxZIibU3JJjqhSJuyO1jiSO/8ieunKM/ENl8KG8eGqrmCe+iI56BoSDmZ8sj2RtQxiPvKZzzsHmbU0pfs4sWkBN8x1ZAsnQRjttbNdmbytwBYx5qFKd03b1uNIpfyfzk4lwUhc4YI9M9epy5sjTWwL/I8p6g2DAVwTI5dwDAjyhf7vSfMX2m8XcQ7pUW43r0XWIYH9MxJOKord4rocTXu3cvQ3m6UlC8sx8WDUxBRlAKg0aGAWeYZDhGYegIQtkUF2PLBjwUkw2FbZhHdNUIBe78+dejPRj2kORtuqRy0C8NHCfGNoxxWpzchMlgka/gohV1Pn2d57eBFJQlHvypEVmREkdUzeryd2ZgrIflf4A8BSdg5pPOagkdbz81fb+URcgwFqPsA53WtAyJ/gKdlSi+DaYppZQzGBQDNGJmvxVOXUnyoh96H5woAg3tNzkva3PpgMJc0GKc1+nv/r9IZ7p3/AhddOQWvIcehTpULWw3tHmOrofMtdZtbOqcN2X3oTRNaFw/ESO8cFJeAXOu/yV+ghQuIUbRRoc2eXS3MLkze3tqRyN0VCN9I6hTLd4N7DDvCc2VFiFljCdD6X1P3yB95AfUim0w0B27/edOeCxYHurp6p8NcTkGFqiay7fkaHJhucJ7DW5KuPduoC7hDvqdLHO2Aui2MupfwzXSAT3qWeBOWv554iWUIO7MXkkGwmlexOPYV8GkS6WFs9hrLwrISS1JbwDxXU1WPALqfSGk4UJg6zSNGqsVdnXrgzDIKwpXcicMFEF6+NuAb97hEZ3Tu5odYL0uTB/suXI9e6T9dCTRVaBD3doYGWuuhtBOSVsyDu1XtSVp3Qnx2Hae4hlnC/fLVPEyMngA1s6vyE/A1BwXbult+S2H9yvExl0Jwl5bDJlYsBqtFm7xGtRfmOWqUPBSmaKofVpm6oUnaVepiuwH0p7e1byw6WXQhS1DvRdO6qOCqIi8UEy8mRh8b9o4oltHeWXls0GpwA010KV0OQsQ1AREo43+Dshyrd3QFxmY/SI7jwHSBputU6Gi/HYCqxez9NuweCohGZcfECNJg8kEE0J3n28VqFcsXq7SuNSafdLjjBiUYFVQosaHFJ1r93Kh0pxkIrSIa3o7LvIpfxzhuHtifJvoxjUfX/lhlq8dQUvWkklNXERWueKxWNQA0flIiGtT+ouy7phZvVkLIvHAHb8lv9ESWEZawA56bKfStdiyyepa0Kn5O7scmrdlMReR3VioeasIH1RlmCLCmGR0CMVzl/MihHAGhi5kl+N2IdwNpuDPGzeEkn+Ya0pNaKtNIc+Stlve1TfGASlNJiFAYCAE6nqUxwRtvbCDdNODiiGxXe2etsISPK26k2m3HFr5Y33SF+rYmb8uLV68NJXBLEaQMjOOPGM1xrV1e4cqbolrWwVEYs7cPK81GMuJ35iQ/qIukpQZ8WDTuJvkZnPpK07uE3+/IRUduduwsg57GWcB+J3CieK/VFpmo8DCZ55LTXFxqB9VAzGaMLBIr0sXsD3IoxOukWoh5LWXVRfrTIAOBmfRAhlln98Ea1gyRAg61X1XsPHn41NhPZWRRJhTQNJAAATTCe7dKz9yZjcolq7OQK2c8CWunMVhsAXm9TfiE8rrJey6iE3ECxHZp+b+vW/384QlmJgOXaNkcjIaIiAadHtvJUNfdmvxH4ETKNAr1MS+FZUpDPBK+n21aDvzz+KayonoxNWJItrEWpdAeCYgB2vk/BM15kNUIaEgCHT1+BxjOdmyFe90fU/M73euugyifPToLuBGgchO4JOm/iy8oTQurSRhZIIAk+WXlKpG317BeeYNot4WjwMfKqsjIiRrf124dU+W0PAScChzegb27TGWkOlPUggU5cJ9CHsqD5ErXhryFXyqzJd4y+q1VDc5cwIgxI2YvmQ40PEzF0NAdRBmuMq6wSWKMKsirjBJyM04KwKqNeQKiDrJvEHmFbfggKh6GsILeuogvWkiGIu8T7mHqADUnhxN2BKUQMHPXbYn/ahnlT9tmyB5e9u6WT7druXHbLbqlNk1A5jMj5iJ1X6cv3Z2YpUzcorS1ZI5SeQE8jLP+fdkiVUxi/5YyAU8Ni2RhXgAecOcHowyZnwHQBYl2o5Xw6MpWXaYDJGRGAzlzc+A3JCIbV47PzxvkRRMqTDgcCbVYVtui76oHF7kz11BaJYozGfwcsU6CKvJAV82BKR3FoBI7EE4Fj/cCDibBV0YcBEk8OICPpSIh7iaF6STduuv02HtMBw+lfzk2e+M6X8RdwLifChpjH0uWmLCjm0F5jfb5EcUwaz6IcRxxzPqbwXn7EDe7kEhmmTCrF0NoVkaypWyHVbWpYW1kPVcRIqtgwr2/Ot5WCrAv/ejye6XfQFPU9zyYFkSD9xULxErXhZhDfu136jAtgrBW9GX3jyCFXWPTERRwuad1iPEs7cJFByWR/8KLbWZ5jwfRyn1N4itGiPtFimMuSjSyYvNzrv5t4wtd5am+JoIptUXHa9QKli6THfCORxllGvAHKDULbKJJSq4UA5K6tVM124DRBlTYTZXG7jwG/hW8cz9IeD5TELAhpsQu1cpkLX6/FMfUabvcIcGZ1kCcRLlS6VF4u2SBCw9G1OsCHo3FAf8W4p2NtBOD4k8SG9efoh8n2EduB1keHnTRGCTLSpUwVN37eKThLXFu+T5j7NgWkH0R3I61Hdbh1AmQAIKoa9lc8nqDLMJjwrqd/rCDXsI4hLym8PG9rqW9QN9tMUercMz3QpopElkTj4K1/TiKo5yszK3CiN+DxFGec3JsMIq4oZyPGdxUPDPIwwtoNlalSoyhejA9MCqHRVmdjM+PVoyP2lcCRZNRtAUxDFE476W61xFg1uBncgcuv59kgJ/Uzw26GutP9YHeYzY6Y+ZvyN8l5csKBZ8cVTrW2kFQVH9TboWruxJjlDYucGmybCdGzDNnkgEuZIyH2noY+zvx95mGuTsCJYBW8bShMaMD5r9c4Cfvo0S1TSRhIXZP4kBPBDgsDk8RfiFNyxpTRRPdGOCzK6sWbp7SZwlfafo+rmWlN/FYS5ApGWquTKZALRYSXUfo28n/zDFxVfI9zbQpxJABKuzmG0J9amJHDOrtg/EYiX8jIKYHpp6OJxldH9wmiAzELtHC4Gfxj/EIXPJEuZKGG/YAmh7dzQu0i2tr055Aigriy/wwvjPI2wi2K///fcjHTISjCRHNtw9osGt5xj+UpHL8cEBCDim3QWS1w/8cqOHCmgNqHdanBKgrb/HcRpgCCygAI7/qgJIbGQTVBRrqadl9H0iAMfdF67IE8wyt1veKRF8QG++CSU6awefq3ayATfB0lr9YCAG+CJiKmZPVshVfNM87k3f2+s4JxB077i5qNxO30+vMGjc27WJAofH2xw0qbsYGNYfvb7/J1SIdhdvdQHlQrOWzdwZjJJiu+/WzLKtpUHpuyq364arlQOJLe3INwzEsHJtaIeg7MdeKvdbV9M78gZ8e+Gmh/WhE/+LR4hH0i8rcZgMJI8GJSwACp5XCbf7vmV5ggr++mMfwJCh6MK260ZL1rf/M84MyWeK8xeLNYfLpuX+9KPXrUsKGuetIup80TTIJn7jVdwc9q4MA0p9GnTxs8qiAghUDzxf3TrsKRZy8VfrT4moVTpAnmgYcfnOSSpukitMk5a/64O3TwEs2AopQIxl3O19w5DPvlsnio2x+CdDOd9pqShH0/Y1f51+k1r1qN9xO+7eD+9IXkfZuwmNpMrcx/Ls+0gbuDkKXB95ROoo/FSRHJLg/6NA/q3J3flHu53eqaWY+BXNvfp7LkRWg772B7gFDi52FyaMIdA9Dmd/5Y4o36mZNUrjqqNbMxC1j3daseVSQVMkQA+EgiqOS+sZ23Y9a64Gg7iQGfSJkd62Qcr0Po6xpk6U5tu6MK84m6NEE9VfdGAkQQd9bMhpmOXjfSFpi0nLUQZ0Un+mxYPBwYxF8xJ9M8oHRwuFY9wYODvhqNvdDs5loWlYyaXJFFZKWpiGUCLzsipHvCaGkFRjnq0628VryTVGJ8qYwW6b4jqDhfI98L1jRVWQxjn5KdEODxhcIBvFTO0XvGSYvNliN3CrzdA4ENNUdhxMAK/iFFVTHO30mUUDKltf5+t7dsCDCKN+H9AK4EuOf6pbkjYsDa4CP22oWDZyIMpCa4gMiq34Zy66LkIcVDA57yxF1hxIdhet9yaYE2ZRDjZ3/U1nGoHIeNT68oso9j+CzSgXWnoT6vFFY7gMHP7cyClyl3ld0MKTMA1b/9v1o0VUEaA7RQbqqzVJZJoKGGIShCvbBFjGLpb8ZO3P76G2MiaIQVzqn0kJndXX58Zj7RvhJDkmthKYkJ5ZVdx/keDnFpLi9g4J1JFJq/exSecuj4sAO9tDEWGA5BRqzmAMO0PVzXHQj+pltdnkhhh/ggF6Pl9mkHnPzV/+qic3MejAuMno1ITKHDUSZwmLQkn32+osTe1a8tofy+aK36oEJG2zOrMrXh73BHGLvRO9oSPl0JP7bbX/10JuuqaoObIRNNCc7HSm+BxAE9Qku3OUt0a9eA+9UbFdnp1LCQ8Co+OPEw+BralBMsYdTjxnU34mUmyqvNA3tLVMJGTLXgEu7hreW5Q/VJt+gJAYoXkxj4na5bGwoi8SnWW8AAqq8ElcgWHimy3GLxEwbMUVlaQ3cUMd3L94fqbnJSrIPhrFOWJbpM5wnonMU71z1LovCMRfyF8NmjbbEcEijZL9uv83GxxVS+nWoZf300A2Z94uGAZUDm0yVoh/HpYhjUzIKnnFEmE7aCChNj85cnvm9OJL2vw+99cIJcIDJEHn9813vool7lu84RCm1QRXNf8d3VFYaQ77fkPAwIGaDdVy3dTO8nQIUIriO9SWDROW+JFyq9+/ziOozG/n7O130R2k9aSvhpNixyjQOM7ERIxi5jmjZfaND4eaKzOFJW/1JK/Dw49sJ3ap//RWxQq2gdSEk41P8m7WNItx7Wzx4daDCEulSN3ddUwyUBENUqhG7vn11FilRiCeIcDEbfkDF4IhKAcuqdvjwEmNJm5lHL5JiU26PRuU0r65Lpss/6qhE9cgUqoQvakfk+Cabd/4XgA9IT/lwIpWzvNjQKNBbaJ24wY85F4+pzNTO0WvFFmTN1ZfBtR493FycS6Tur7wIoi0YG6NwkeZFeOugBeFmdqQXFKSuUQB3FAySE6E754yVnLG3+z9CO+dxnvAwyW++ZUhRs2fUyA4n0hKMKjoyQFRBh6YIp//x39VmDiQbICe04po7f3Cq/U9BihyRs4Uz2eUjKiV8TJ4p9nC96NuFpPMUq/9pTYTjD0DU/hyWXgoKVCX1EqaHo/Jr5ECFvoVTNPpZ3Gxeb55sX4OvjMqlxShGrvXpzBy2ygluLIWz+XjuGEA5JQvDazmiclHAvJp1wgra4yWuwltLhnqQLZAQJxLrB3ihBO4SLe3gFdiI/0ssDlyjI27vg6Nz9fDcafRT2r0n4nLX0aTuGIWeWZJVU8ak8gBp7wCYS6+TuLITWndKZ+TaTzAoptg20ws0ONhsy4fQlErOgeMK+S2fc2mDs+ZZUwUxfRFxJILbQ5WQ122Xtg5iYiu5p7OeQofiUeDC4cJFLLTdDCu2VdgMteFILdX+MmP/lInvrVu0SVQGbBmyO060VjoZFrZm75nf80aHnmAIxvuQN73wpoatdnmEA5LYaPSOuhdBn709SKwaYp66FALpozZ3CL2L5CEccZNPCvmP8vGV/vpeJJfyX3k7M2hTjIY7/Hk1Xrx6xOkBm0jELBVsMDko+6xJB/MxFaYoDQ8p7ukCsmsxW6j/32pYjCJ18qVWTB2KoNQNU4eE6jYoQe07bRIHaiJ6r0r6NjBS6U4cZpFN5+t+6OuSXo3pgsuNzZZUnUIbKbIwQF+iyrrl2NnWc1QVDMi6nh1ZXsXvoM+EyEdEoBsSvR8PdmF0gCNvva8wQyhHMK43Ql1ZlOTncDnf0W6GbpvGGPNvBn9wRdpDKLBbr44DoHc/rIsLkCld015q9JrjRyJXRq1ccVjLdWaGCWCsMqTuvOQUD6fAD5Ot08Vcyz8Fdr1vmgLE4TOtJ+/Uw25xyMsQdQVPRub0b1JoLpBERgVoqdzeIGIJeLibtyL0I2vscRELpnEPP6QXffcSBA5lwzwgd9WoVBgAe2u2JwOXTFiyryCnjdbj1SklqgTgX7IBO5SsFhPDAAByfB6ucgsLtt+df03Fl3BauMF5fnDjkE7anFhF6qi6Yw73u6AH3SV9CfRQNhkveu6jjAUiuScCUeZbsF7RKAPP3nB/GrUUtKZQVW7fuzatCz618/vcESXgF4I7M1Q1K4Gk7/rlFUue6UwfOb0eH3bm35laBW181eerUIl9LJ5cqWwT6LKhwTBlz/rZUo96qRVj+17x27LDSRexjXNPWeWZWhFtLUu7KbRYE0DqGap/SYxp+upvPOAKpjnyHxHpy1EJ6sl23wX96YXcLYAeC2lccF8FyVlvcT0yoZ5Yr90HY1GH4CwcTT7jYlP5jaK/rHvRkgSCWX4l8VZBYwA2beQr+uegJO9JQcmpkZMRQh67yWFuLK+13APh/7QOiJ9dAYoecpy5iJYwduHWOyHofBtZsBpI5CZw/6Nyh2/4gfCz9vGLJTwMeFiYiaRKd9CCe+aE5qJ1wF7QURQXh5dadPkt/MDfu4JX6/8kN7/wCwa2WEZx2iOspclvb+h55wDCyFJhXzpWcD0OJzSos9+xGKktdCmn5yiccMCSLLDWkrEu0jdi4Cwj1Zb0jgOsxJbFOzaTzTFRk7WL0zid4vXJM720mrp5KobMtjnN+6SjUaqC1IFowJj7KLHX39poPt7q9QaF8UQSJFqZ6ND+RdXU9FHiNiuRdtsF3dSXUW9zAcSRiOHPMDXbtQCVmTq+c2xPXQ3/2/uDzYNwBOlB4K3RLpu2RVfRBhvIvowO/9Sa0phFZ11Emfzr9hpH/B4Kax4qNluETIKxDrCl2JJfM+dD4K6yJnJd+vjH4BQk/CYz0FkxyvJNvoq6Elm+vIrj/4UYBRcAsANLZzsQzesiImsTJsAXwuWOpbUpUdcMyjiycqEPPPNTSWVQOZzi085VaQ/SJW9LSoQIgFrdBrB7dJTjf8Jyav8bY6uk9CcLV3lIbhg8+GggAAAIJwNQEFbVGXGD5Rz+IgXyElDOWtAdlqPnsNFAopInnLsmD/xtD+iZwNhtG1a9CIrChXghQ0qTJB5uCmrgra5juO//O3VPsO1nbIAuEVNgCpJWbJskMULUB1bWK7pNQZY+fHUQBS9ZRUDuGWQme5ZgJiLD325HdJpkF+ikdVTe4MEz7jWE9NfI+aSUx0yKs/XQs8+cw5OisFzVNqU6MNPs+Ku0uzOpz9Fr4b4BEnO3y8gXE7ua6p9zaCzGXqyJtX4EErvE+5Ln62km72+GxIVNlNHgm/RisI1+PEjwYDiNeCUkkAZPWpwwvamKR4rG92H/9WyOIQLDPx/VgFBQ5DBHijqZValFBZ311lE4KeV9wMVgfL52+JldQV6jG6s1p/uYI5j+LH7RMBXqWZ79ciWWJgsRDhIz3h7ZuI26vXcIXyuF2Zv5Wr/j88/5Fe6pjbEfF9vuma+VaX03wCGDGQVEIdbyQ9Ej4S+X5FgPDmudxg8SVM8g6oowGTFB3lqGrJ+ElHq2YiCfVpEafQUvwCx1mdKZITl2yDYP0ZnfCRZTNOSOf8PUem/D26z0HvRwO/s/lZwYJ3rPcu3i0IbcMdCNL7r/WRNoJ60PjJ7/hOY+Hd3y2nVH5vjshwDf71pF5AU2QIDoWMU5auQS8Imr/Y6LGUE7VoUgjb3CexxoUiSbbUtIRrABQAa0vmzm9qUzDstQrz71XQi33VX4siBcPPO9wL6y4Q2cAuRti36gqSUxVFQbTmwSV57iw/7BolPjg4PIUPqIUXHvOrLTZzPth8EES27RT2nXw9+8xP6vCHIrpAnWEndY6xD6Hd2ECAOStrlrD2sJAfPLg0aO8PGJZApaFWlsyhAk5UMbXi3WrqHRAV3GR/EMwf+pxlzG8bKzz5dL5ZOG8MJ1Z6temsSjLcqrtYSBZjcyGn2fK6Qk6CwfnFSbN6YbG3jn02kxeqaeGfDBIvLdWiqgTE13vhXg2Wa1npsG6yNm4FPVksy+ElfjCmk+lHiL8ITlz2fGL4S1ceoC4+wjfYb+CI38lSJGXpiujFf73jrRpf3FF+B1G1297tee21lDGDHh27EKuutTGI9xtim1WcIMB8zeORaV6d7OfiLN0UqJS+X4/6tEdXkRHSS9Oa9d7zP8GvLa3yGjrCM4jsZgZMZEbVafYztSZMEyCA6nIM9RwHVeWolaINmdwthXdBflFhz8UtbDJSu/RyQGQDBDostXOA4byuj2wZyvQ6csBAB5YXOb0y6NQt7uKK6h0S5CaFO4K9FLL4sZB6m9Nbsk6BCBbv4JN9aUHvlHK4ZURwVuoT/OteO6XfmJpQBrqBnz1vFIJ6f0hiW1lXsaQTW/68VAq6moZUa3pENodvs4ZHlsrU0r8X82qSfV8vUgUor+7UOndvnUzmLVARvKPIjLCHoDnSAInUVXyL3m56aIJePc/PEre90pO56auV6ZumFHOTDlSxD2UDKYlleFbhfcz9Y7TTfnV/hvL6Y+M0VXPsVHBxLwnxXDKHR5QNYUgUz9PxuxcVvWaFZdV+lT07el7c8DiQtdcG+xr6D0/y3sKX/E8vrhc6PE4fG7eTbxBDOshwm03cnrFehCfG3PwvC/bhiKvfX/jT8v6R8a/yQ5LZEb8fx9/v3V7luZqxdnCAlHdUJ8rzV1FRyWpWd8auwlU44X58qyMNKj7T4HUVd6ZWV41dDd0Uww81nz7EHh2xUuzLIa+MIG5mFCaKYLRSCM8lHu9YFD2uthqmDw9KfTBRfR/JsmuazPI4zfVIB9Oik/8kVQnV9ywUNVKp/VdcjWCDdHoqWpf/z5aLqjuAyC9kgByvYzKlUvWDxoB6LZc5QC24Ha2pZhlQ5EKZ6pna+NfjspodVZFlARTctOKGlaqC+YSsgS7BtjlFbYlDr5YC3AwqXK8vksovlbEbbs/wwXTlxAezr7D/e9m5h81t2u9qhbWA2D4fm40/KVbyw6LT9upBI/lH47yIZm+Q/bDzTIdHMwCtaG8PcNtoPgFo+NJsmJtWQbUEveOVhMlI+0cPzdKKjjbQw+3pnVYuDE/mFXvkJfPYx76xFTngom75QjYYC0PARr/2Xx3eeTXFVnrl2ApWOU2pYZ3Gx/quQ2HgAxb/ZQtjaCwS9dcGtYnJLT7BCv55+Fxx4nzHyozUMxBlCfl05pNnC6xWU0aTIePurLSND+g5JLUP7MuO/jZFIU9jCzcu/5lC/iPPBEb6si+YkIPMj8dW0PvJQB2wWKiAy1/q3oGjfRjYRkXpU4JDkS82TKh0RBwhIv4btqju/3JXxAxCzcew6/sASvXEb8ZQ8tFlO8c4giJSXASSGyCR1ixdVm5x2NoM4YBihzyPlSxTD/o834N51VBZnfk1+oezWB/LyEeXCdGrgKYF4dn8sHeEnWyklbhgtziGhEe3sJSXS8MN2p228cw4vhmvxbJBSKaEnJAVSpUAXHkEvlTwLqf5fZH56Zz6SdnE5f4xXYF7VJpGZ5JkUOpWufi6Rgkoo7JpAfl5LkA9JX13HavZMQrH2Mc+22KTLli7C5bfhuv1Fi14N0oyX87HV117RmrPupbXZevyoLwE3LS/C1iXCjRkZNPDzwxjiHdOW78tjBUahzsOO8bInMprW7C5P3g1bKm1aJZflfGj+3MgjYZ2TnxVwuVH5mhXpBeCJF0rry3oXA1rYq7Roykzo3bheUCFHDf/r99cO5cAf1G5UG5g+UDVcJ9J1fz8Le/OZ4WTSwskx8bofqXlcdyZVwmXK1a4cb2Zkv+bW6utJFeQ7Qrk8JzVXC8513/vMxO78NTQf34ZAYjqYoEmsjal3e+rvF7+hDEe3MrwQAno4op99RaTb27/3hnGWYLdnpwuFOn+x7GEVf01ninqOE+bDJrOqnbJDj6N3+9EFHNuoWqK+5B1V20QcN8vnwhdlDaGHGf5OgiTDh3TdbfMh8ZP/9e6gRjN99kes7rn1kNgaAw9WuKPhDZVTHlvqu5Rg0kOa9YLHCIB6VE+y5K0fKGMC6vQxERpthuS/CiS2ulVjzeSbzP5o2+GOMCy6wjmdwa1d3IHODRiOHMVabKhBh2ErdMe5vTlBcdIOQbaHYi/n/GC3nZ+knTfqKus6dJBuly3XF/GzgKGZzezNcFfKOlCMGCWbs1e5lexdtWMwoNQWc8QEtYrFEoPDwrtzcRvoPpr1JoH4p6D/vLcKobLE2Msg7TqrecA9llv4owqqTFQ+IJsE1G0QWJntmx6aKQvdxOwod3SyVD7wt77gunAuf2mvm0bhIXi5ziRpWn1wTUvnevxgEDc7/Zurjzi7TPXRzL+vAGNraICIdTv2G2hnJilybU6RCagTSiJr2tgn8oxXeDqNgvFWQteDPcFZTNS50or8kRmio5XxSPLXOAqi+oOpJ7tZPAXoXtOK5beQpwpPV5OTEaKJksx6mSZpRtkTe3Y2TQ6Hrd7N2Q6K6cCs7HhbInF377jcxqB4VXaygZvQPALShkHzOr6OK3Ad02Rdq9q/GgushD8/Fy6sos4nu1jmVuShYkYBrgVC3TWCw7k0FFLy/J/iuVulurOAhpTeUmNVw9thf8D8VBQWZJWr+fTJd6QyNiF/AJWy6BAbRrnFOQZ9cIWzTZOBVnArOywdT77swUSku7lfedPFC1+qfbkG214wp2RSJW2lkZWdnqHyWB2+DiXYwIbwBHSllMQAs7SEPlILSN9AqB28TbnwMCd1O5s0TcQgS2WReTLCuwfnEvTC8Hkv0/SuqRHvXCkZEeV8g/xtCGLAgsZ3t18oDvFbgndKAlJ8eCVcQEfyVOYvRdLAnB11LAn615zKzjzvjE5vROfp//nRGWjCNWdRPfUMSj5PVNWF7nBfEw/tVOYB02Oj4g/dpcj1MQdSKhVJkxZRfSUQkzDMkOStuqMG7CYOl4MiNLMmvn1UfD4heNIUn3b84Yv4RZcNck8ogPpg6C7z28JjY2KJVvaNyp/xv1VG59Rk2JhC5gVWPk2g0SijOdhHkYS4HR8rItXUxvXDaEucfeoFT7cc8fGuka5f0z+k9f6bu5QhnGNUc9ZY0js3KhtDQbyoC192ahsdwhwFQ5yaelkm1mNdkh+P2LtsSxVuS4YMcjTlHkvFymj62y48ljDDsBn1YQwNfSjKNWysF66dIxuK9ug96rYrmwANrCXM4zqXsTam3CYR0uoTnWP3PuInYGhJkslpZTxiox/lf70+RqbWn/a8iBflJYKauJFxLG/Qk1nIeDBVm0kfuO5710wljiv3F2XaFi9GUKmWskBuW2ldsnAbGyuzEsqP5NidWUHVafEjXtHzckIIGFiQG5IO9vNmB4hKJ1j6gXSG6aqtVza6SLYbnWaV4kKtPfmxx3wH0sv1Sbhhyi8MqLExMho8V2xVJ3qCoUGOYCoJwboPzsH3hWqhQHx1oUjjUKLbHUu7BzWcJ/70Eppq8JDEn0hfsM88tByu1uCSTP18IjyxONu37vBM3hPcdc9+E3JUTQ4sAhoXVqpS7QYIpyXwNc8gU79HqtGP6eU/SF0UjNQQfjUd4ULSGwM2mt3ktGjZZQi8qA/eu6Yi+sJp5RJJXePPxh8POi/EE5MzU/oI1BRfaxk97B1fSXJeJsShB3sedwOngy7v+mjS3PWV/MB1OtufxK7OWQPHjSJlakh8qJG5efi2ucCs7EO/k8iRLTslHwxHIb4tv4BwP6V38hcqJF05ePauj8gQ6VwJUYLbU+AZ+EyrBUftD3qw5UgL6nEWTMTklapkUHJqeQgqMBLsP00G7kI4SdiqYc1n1Nmj8KF30iQHLtHf3BEtx6i72JUslqXrNcqNJjIIlHA5IrD41ESc0JCSTHi9E3RRc8iWxOhYXO9L0lr1svbqiLSplHkXPoObzWlBRQGPHPpPU3bJJZbFe3fEsFXf3QeXO94ghU7/M/sNK7BTOFnW3uXCfhJfgp5JFI0h0ctszmffPRG0zQE8XZTea9R2pixTys9ktordhm653WGUfgRQ1NW/3jZQ3VTY2/NxJPuKyqAhVlYcnKfistrE7gYft7yDk6HMrCX6SCeMF6d8Plcp+qDQUuw3IdWb+AsjzNfomGfMLQDEi4iQveXf5ehIU0fwLL1AGLNT2EezY9Xy5XENGm+Oc8y95rd9zFsikATK5LwRXruVjywwwiKuKUqWfXedmue+ZlkYLZxk/K2NwlVsf4/Y8ycK0wSNfRxYhjNOE6GWSdqW/aZd8RXfH2qdQ1Wt6e/9Ig2RKluAfD+i5vFt4fTsui2v4Qseac0EtaVwF3/yA6PoySzEF5vyWFYX33aaXper/mGj477+V6ebQ9q+r+q82PYZK5uta9clGw0xOdm+wkzPYcV+gVxtrh3y6w9JNnQc9rI5FrnqEkn2kqlqClvNV21LGvb9Yaq58mw8AIkYepYE5GdhnouHnrL94HuDGBpOBiN4z63bxWqFJxMqklGxCLR6Efe6R7zhwMGzD9AHcG0dju98GwSKoahu489md8Hw1Juq67XCqzvYvKKD6XTOCcCfB8O+GiPPSgW68sSzbpq/+7x+xIxuGmv02t67gm6ye99eaHp2kEpVv2zxQKjKOsLwMxL0UngUNSRkPgQ7Ego4C4pvjX+IhPvl5j0xcifcKoVOG9MRE4LNkeok3Kl+dTeeyTKqua0nSkdBk+e1rYRHQGYTrO6aCwn5/Zi8ySs0LLixMuW6BYo+D6icQv+PggELq8jLanPidOym0YA+Zrd632uoCvPmABLO63Ain/ZjwldLnJXVQoph2zwnwKGUg38BYe+D1Txj6ywujTQpg+r0TyllyaGCLUPj4zSf6Naajp1GBaRCbQhjdY8XBr1kSad/Y0XOrtWCokcR+0DjIOUn600hno8F6zQhIUfn/wUZcGLQLl4P7kll9m8bfjIcIZW/4/v3iWLfVBHdHIu+r8VZNM6+ng9+AYexvX0IuS+eQ/SRwT4NXipa74vodjWfLwD0pZekLw1BcBTwcTy0cEgrm1O/8DrivWPTAIxe2YuETT/L6IHXsklAxEGe5dkj34c7nTXsLpR1+gE9YkmyL1Mpx7B8VRVW2ftaqAKFv5aQyO2GAWW+oypljbWYpAAwheC3SwUvsviVpqShFDOhHt7g9PdOIk5un0ws1UuAK82JsMB/ZEwTaUQLsIT3bJ3m9UtX5Wwhacz7GvP79d67bMiPf9DvhbXyLHmpjyV8BnSEFSwyHDuvV0FwzXBtfPhEIqT7l/x9Q0e046w9HVsvfaSEzmCt6hCCrNqYEbEWhnr8pLF0OJtHYcLTbTuQbOYWk6XeX3q4X4L7Lrg70nTZzVKF0S2NcxKokgxIy6TsC2Pwqu8DX3kGfOTcm7nxYqYUUKUMo2RBBY7RzwalJsf9uh6kxopxXmIS6Pdkp5GbqV0ZeMUHqg3W/HvFnsEdgyuZ7VgyuWllsFe0uudbIwmUTwdeFxhNAvE7/7ggHtJDGtULllR6iPiaOpR2MhXjl3JjOhau55v68nOth8afTZ5wbxMerUhbUuVnUNkLVFXO2c3IBG9sa7X8/ceoEBYQexP8f8yrYKi9rozomEX7opFGOsz7rx6ZXiBfw3tYJMENlDIYfkV6lqQ4qUVAVzxClZ+CdgVsYZS77vJdhntxoUUCQiJPtUc3Z4r1PwYVvYP3SA36ne+0+NEvzcZzbb+t3VSrq0Fg3NiLBHYRcFUzMOaFMsf1pWVziuA3nhVunyKyyVJlUHPnlq+lmSGxlZsgtINXpEy6rrLGJa8V2JUdI3UQRagLQDx5cIUF/9XULjnEq7meNwfMB1udJIq50U7U8Bm37uUJEM5AA5fV6N7Pwvr6wl9pyxSmu9fsl2pxvWUYorvVzv+V9QCVa2X2C6oyJqwbVPwJYnmK6Bn2LKe62c8CoQ/pMD8KrukJTGobVmp9nNMP6ilvZ0sx4tZLF8LLD+bAgMnkTxItgu3zP2yxczivavdKg5UgcEKhEZtKPKH0+fALCP0AlEmXiTjROgnrV/acLuHL6rMwX3F/EVgpMQgzFkEOv5w2shZcA4fOxn9aQSaaG1d08W3RJOF554d/YOQR2O+ud5rsmpGeWB88xJO0CxwLuooBsTDuTOnrRhQKImFoVChXjR8iLrGVobsLeMoQHMytd1KHCaK16Vv76NEEw2/R/7gnz350MWFzMNFhrmo78m+iwka7sFiDw0QcYnOhJnW/YdlsWZDpu4nmMN+wQBo/MiOiYcs7uOMgtBJ2cZMito2aLrY0ipBvLJLvNuClnRiLNXz7s6ZsfmDShL6Pj8uQ+soBlPuc+EViu0VfG93n7vodTzTEBGIN4eWmSAuowRbbJAecT9ec0e14m+9CGKbPnjCTMUwjzVlAHqm0MOZ5uyz0CxgkEzEhPT2wiLuh27A9Mw9Q7cTtnUKpI6EWH2pXGtrH2qeYVYQQ9TxGTY7l04duEhZoXZq11J2ia6QjVHAtrQ3+JxoVY+CVEzJ8ef3Wn7uLHjRl0HFNYmixw5+0KBGa3tws69E6quMcfmoQfF9+XuNuou+lFe8uRW3AvG4E3i5HLiKwk8ppxlSpV9CyL2nPA6Fo1qkbAHawosjQxzX1Se0n1SzVXehfFmMzYDXITCo5SBPOj5Wl4uuHYCSfQZqaqa1hv8p25clRPx47vFZgmS3thxQXyISn69PLj/QtuQjh7Wm+T22HLDlZZmWjXmQQSG+B3yRk2vErdCM8ZQgyKR2Y/o08tyrGhAbdyEebOwvue+V39peMqTqNmTzbOtgruhzegTUnKNf5ZqXQ243eMxKRTa7iX3xOqkb75sJS2u890hRVUiHT7zlZ07VmRwcbrMoq1yAU3/JCjgY6ey0woISjyQk4lfX2Q87UPCiCk1M8NflRwk521AkSDYKTx1DC/EGqA2sgmDVrCOJ+GSI2uhJz4u2dNvzUcLV9vpoaPgS7FIXwN/9Wasq2M9ClLGgAFfXgvAwDxCkDk1AAeiqrrOXbFZY8t5y+1Cs8JPkn38E3B1Zuy6mwQsDvZHw0jEANUQ5bhOeyLkPi7Q7n5S4b49adRctLcFnPuDmk0ao3ylb6qkrYU5t0wwTj6Qtd/lvDgbCOgWOmIYq1i3IQKyMK6tW3qTRtgo1f7zLVtzJssvqBaaOoh+ia/LjSr3KwUdf3nSdqAydKPxJRcwh8Fg9cYCKj3ABaCM8SP1NBUlsD+qc1JPJVNDhVb06BhiDVcQzsRkY3EpGDM7y1TpbMVTiwzEX6YBsEJIdZTe/JSGU3LWVSYxms9sHqj7xjBrKmMKOiw1EvKZRPEbbcb9zEvtvriV1wdKDInxqSnQjhR5rAT0WE8AqaPtWKdkbN8Ls7NWojLOKvr3RUeY95zCokN0PSJocFQA5QWfkXO3n9CwIvcUFg0LNT5vPjkpKbxraIAHXQfonSx/98rKGXQ+defVkFuUcMqvlBK0+FSCGZyx8vZwq6onR1Y0boguQUV8VKJJJmI5mPAlT/xhucdh9wiy8D916eQaumKcMPCjwoC46mvBkIUe+7o+7RTv7m3kviJNI3G6Pd+cPFV95b3+Zb0V63ontNWZwn1be5NLPwXUwJDpadfVR+hjjr7pkCf1se1dyOD9cek/9G8vezLntWAOH/CWdMKcjZhzlUJjNAUuPUwOJFvGvWBqNe95X0728jY1CMeiDIOjoSp4Up3ZH2tzpHmg9Dkt9dmLoatakB14t6zGp0aCfiso8gIqy2++rXZKpbX/VbhSz7mSahbtJQOYNloB0fc04L+AmrxnsW0gV9a2V44H0yfOXMOtvyZAiXWFIuOp8+fu1wintcezaux1SFqLi3GAKRzYWduNJdJ0BdsEBaOhLHrtkMyewyKFaQrBr5FcqcbFxfozThbHmEZGd97YB21unEErRc4ev1MfCwydcoAwiVYLNyUmVSFQN7MHs3bLdh6fRc/+NPCfJoVSJzCniXiIAuK7K3Zpb/SDIvPyTQ+sHlpyKvwERF986LXKmNEWcaYCJcFhTYKbktBR10UmFAAA5gOyVNYhoz2oBKgSjR+FHwAL+GOs1AADQ/uDGXK5QAAADkJVgSuWBa2PXFIZlCfvdV+/07fXINx9TrMHTuOFEwkhRTmtfyx/rkmYo3g9LvlFPVNXx2FwtScucZBbap9FHLTp6qx8ZEmFZuWFlaHu/AXTY7ftO/O4yqiGnBNx83MtWL7CV5c84vOnrQwJMQ0+cnTZt5H+mIdQfS6Te6aStR+Nf6CVXsg4BZ3Tl8sWCc3zsi5QTXo5FIZWzhfgrPlr1ck1LhchMWPDcHeu97ldC3CCE1f3XnxDUO26/hHBw0hKl72MfDw/0m1xJ+FE42HMV7AXWPVRxl5Iy4siuo4jWV1og8+VBhXqp/05eahXpB8P2xkA2WovXCk0p+L/ZfJhThoqtX66k05K4Uj/HmG5PXcKjOH8YYOw8MFHFKzYu0WfWFmabORkBsw8GNyMscdZwuGK6y5tHuUJehrW61Vv+yEh57Z2uTeZAqtw40KOEcZzAg2dM+fBz1d8yaY+ed0VMyW5BKqwToHOknauHsZeJsMTux59Tnw01spqvVwD+fs/cGlu9GLQF8IwvRtgo+iBu8pdOADwQctG6FsLeeDkjh3RgNvvLlRysLXxTMQ3wO3BBbQbb0umAFdc1roQmd7Ko/l+LYq4sfXJWbwzapSyTx9F4FmNj6X4NmXyED6l0JZ/gShsap0q9jU6/GLpwCli60fRS2ifqM8GIK21L2haH8sltSQaehrs+UU1uUDkIT16xzHEpAlnc322UnK0A5ij49XnB6RIuwpMyKus3kSGZfyz9muCpKADQ4eEBsrF6bmxnnJFjZplbPsHyPPdev0dSGidYSb/gspLmM+5T+hZZ9OhVupskq1KMc8/g3Gz7Txh8DdRlRQasIZ6rUoWbZBxzco+J5x3tuXC0PbdrnhyXHSC4bvJ3VjnajCIc8C/S8rS09/g35CNTLRpp6dPkl6KJcKWQfmySTG0gAj06UdewKuulylckggmcXSuwkPYo5lFBcwmcP3CP2rg15Vy/w+sIb5U2uL2o196TQLCfViRHQXymOHfg19Tche1tOHUvK6gG9xQV8ZHireSSsM7uzaLatDIvPhuR8r74M48X4Gxd/NXiaUWPE7rthZRAaNCN8tL53a33ADFe5rdnGW94aaEwEuEZGKYLdCz1sD8DOATDmq/Hr+lbU+srjqFJVkupp2xU0YsS6QelbWxRo7DGO+xReN5pleE7YVq+JCcvV5hnmlEju/F3VFTUiVkyeiBcLzDIigg2u7Kw8IyQBYqIm3EDuqUeerQKjjDys9tUYyPCqlCXdd2Oe/UOAzfWyjOQbyUFj1LUQCGj52W7RleY3k8JLK8AZdGsNCgW1//XjuOtej2Mr/qK7J+MLKuodp8CzavPEssobYVex0EnTHjB6qVh6hMNIOrceIwcGZ61i/rzZWYrvXg8iSZidspoOzbPc7OeQkR54XWPsrZSg1Pk1vkXbbhv5TPS+jjpJbBzo1dSRTAYaTUxlOJwEAIAXqhZB7hg3RuJg/+X1HPHY9VV3VmTjMjiaDluimk/EflZQ5N/UikZgxPcUOBXiM3wr2wWG4yEyUCCWv9AVQlSCpi1cfa82yqkjIsUh71S63a9Y6FJ6+2OPQ1Fk3G+fiYRTCo9Yx6jXF9otmB7mbXVfApuEOfnyx1itMtqPtF4MZ2TEFZjy/Rua+JMfCTZ+LUeZkCRmbAZTFqb30nbnhJn2qGTRPC5ynkk8GTIIMZ0BmTvinqWiwZSsGnvtde7m9DnYoobkX2a0+RL0gbK5Wnqw+IL4wP5aaoy1LwwjQndJmMNTzrE92Lqr1n8Pym+Oackdy7f91lkC0RLy4jVi79KGIm00ba1O8Q2/r7zydg75f8Bmr6pOHdxcyX2Ta3dek30LdSuHrt14+7ivLix+M2L8IJsi1ic/GuAewSXCdqjYEdjX7licId6IxREkRDOvMSCcpJCBEzFcGa4H2tzg2KbhWlFpuunsICBt9yXUaOtOjnlRsuYEv24q/7tI+DSsYgoBGoCStjnEDegATpxR/hqe8T6AhN3MGCnMtZfE6AeLZ+cQDoPWyAbiDebcbC1sCdIeEeKA0f2yNFySrMYajWQMX+6hI3MPdQGJGlN4ZrEV3um/jyhGRncBFPCUQ2lKfj0iEeCFrLfqD3lXKgj22MBIm6rVbfqF0YadyutnSTI9t6fhaPjpiCJfM5WYeBQvdx+v+yaOquN2pk0hzBAiVOqiNKzYMho7kD/CqBsQAZ96LjT+u1VLSHLUAobwugOsZdJv4Eg6o3lFpyhNRFb3RwNNpsWOX8t1YTtdlADeS1Eyb4Zl35cav9THCWihhW0VTbX8croU3OZXL/ut/aJZPxahSNvlBpO8IfRO8nh9hWyeSj0fAGzv6IzbyeoFgW03GqdJjP0/ZrLO7qD0QjCQUL9XvfLingLH6HlMx32n1aIH7Yk7QTakiaTy4XrdVw+Lmlt6V3enLH7WXHMTLqxUL284+JNgA+Kt0tqSvtCEqZx2s4F7LjscPWcXBlN00HRuDsw10eWaAvsUg0Wv44btsrdHujGqiO0ay0pEY2Ijwonv0qD1vDvxsgTz0wvS7Q/PkQV1p4EslvO2baZeep0bJnmpfA3t4V6GlErvyybYn4ykjwVGNcsrcokrO7vu5mpiIu7iAtwZOcZtidpNz/AqptVKp50q7xcs21VWQ0QPSkYQpkFqBkIc1zsahEM9+vrsDy/gTvkC8h2UrFOJEPJcLbZ3s9SxnmAV3en/BsCzbk0PwDLHSFfBt9tZkVz3BeiIXLMzHQyWO18P0GTBbrOufX9B61xetkQ3eYA5g9yP6CuT/McDA/In0D0xBoE/ye2lCKUUSuLsJ8otY5sYu1Ho+RJMgSClAnQPNmmN2HOONEa5uNRAIn7iClRDqa37BGiGHBCmk8pAAUvf6A/TXPsEcQBPXIt53C+A3nPl0lIDQm78tnRWM6t7pdotgZf4rkUMW8633FFKwJ5HkDzKuJOGBvXqyb1LhC3nLkFM58dVoM72y42hFazYwV1JF1g7ITErh5i3m+/VUK9DxId9FX5tZxHNbX4jj0HjzwGooikqv1i10ZgMtGhEKHIXCfpdaTq3Qr8/xlfvRmVTK7I1ZuGadLgfhXIcA8gUDuf/t2ImBCZ1rdMv83tRfqZvdIaWZoL0p2T8db1+q0LjRfvFR2+ZOXoCI+ZZDo7I6+OAH11n8FxlwkE772qG103ZynryNOvNuDwB8B814Hmv2zHhiatPcS85+FVMIaXEmuqED6YUt0oxvlsXbjvaPmG6xg9iprf/u0EjhOE9wRkazKOy8FzkK9zi9kwx+VH1IH+YEpGvQlwwnfPq82TNmoxOAhBgIiVdqoh2gOmV8hSGn2LERbRT5kNqPVZxcOVoQhuaYqBruTNu6QZucZMyw2EOpdHuIZHurRjiingRvND1PqGwE0Z6TCgI2hxNKABoGxaorthgM02o7iwigWFOxRJxKyZR7R+WecbjEGqpZ3J/IPtyovFGu3dqOKmn3fONY9LzuVU0pJ3FF1moOixxpLbMWCJ1XrQJe4ZJmQKWD/90mEoN0/ujJ9rG4C4BZgey/FNpaiAdyu1PfKFZzx+l4wNsLoTdym6Qs+2pFe5RWCLVdtJbYv+nf9lKL1i3XN2sSw7aSRSOFIIFBz8K6lKjHs4TdOkYIhUYZqmIYv4tLCrwcvGgc2DzrKz6lL87Df7JFjHt+lW337che8v576FeR3N80nhW5gb+K17GwFy3lHDruL4wH/M2JKGKH678Mwf1dRIu7t+I9hkjDVxBMQVOIUdHptgoh4WPJRYKaYSRbdIrDz/cxcGHh9G/dpwtyTKycTIwaIQY3LOK5bPdgsM7BGWA2dAoCcbCitUpA/GDFn+6/9j+kirY2Je9dtOQDbY22hoih/Txw2xjmV+zXS52iNaUfhCDvHyLdKzRDL3CY2L6ZHAtHsu6H0cvcJJLOMUx7bD3YEKfHQFBtZLI9ywsxzBAqWZxYXHxIutXfuYuBLO2amJF/0UQ3kjtwqreuTH4TA2GrXehDZlJQv8TM1wdth4YAsKoja7MeV9Vnl8OneiqXaFB45VDzV3RLzjMWhoEu9M6LioCAwZimtVRNMXfm40Ioi9JmdIJOvXJl6ZOaz44nYyv9cgzdDH43HLwDYV9Yaf9CxLJz4gAZGmbX/KP2YkbTIiCMbNELPxi3/ZcOR1Z+rWKjGXvK164AHqNvAOUyYkKXU+XPKYmpaiIhbY8RIqLBbLbpKZG7PigCSxsHQJHaTovanrtH/P956ZOBHIAEavT7mWaGw7baP8wboLRs7snUQpsTooLfzlqU5eWITwZ6ptxHvx6BEsIp29J5ZWOitN4R6aDnqA6cKdCzIDhnWsM/xjIynZNRvdMPcXrUAP7f0X9XWK3aiT81IohOqUYfzljKSuCY2xYM8dIPhwq275I3j8SR7/Pa9ibGEcDHyW0wrY8Gr7ronEdUkCAWsoW8OvLyF5OOPmHJ7ZZfkt9SehGixR4Rs8mYHzJuYJ1bxhjUfNwkJP8HDIDh+4jsg0RUlh2muki3o0jTXl/Dkjc2xm/c9q1C9vtxS6HNHjyMh56Cn3kLy7NHW6wC2zOoNOwkIxgIhHgGeP1IY+OHxLLbFGZfZWOPOzINrneofDzJXwGgOGjCRdUrtgD8pPwWl4fq01A4OYn85AUa6k2vS7JhRO+rsuPzZelhUMFSluYPZlLTV0u4IeCOtGbayiBOFieq5WJJyXyu4o704aBER5CNw1uS82AEZkxM+Le2bQfJ1a4UZgOyPnFyPbOA1L0VzIxeyxGVXu9A/NUg8QjYK/NDk0gJws5AdcveqbjobGpOdG3spFaXxIPLP7cKOeHZAg1N0uea33iZx3SSK9clOA9osClnMloBfJiF/n7rqHtIrOZIknqomq3xjTnhjUxCe1IM80Xo+0zjAOIthjRdGzz+m69wcuKxaqIpBNUMWPphEkxRomeu1I70LUuFGYVopkUWpKDZaAJ+/AqWfAi1PgNcqZISblyS3HMjO+3RO6pvfXfXS4DuDgzRyQXh7Ges41pEjN/n8i8++YCYcNlrJTZ+55ld7askuJOMboWlqQlA2MSEtVh1wSPTWI1XHmUBeZequZEWtDWCzfacV0zj9uuPbwgIWUhRojqzHKUWxrDdy+kz9FkecQDsXXHd75yBA5hkZ99Zvh8NyQyIh/sVL8tRJVwTFMHlU5Q0x6UYBEzhlHY69FPNGGrCRAzjPfQ/NL3PvTMt59b2ZiyqVvK/odWs94pqrWTkk3KOp6Oo8Sb3Z/ZHvYAn9LiW0dGPvLRqedj8D9j+GuC0koAVrBlvNnMIsBHFujh/9QrHP6P9UxEcR+G7xCiGRpgc1wa70rdudB//k4AsO2AJdZ64qGV4DJZvRxPqj6iQZ8x5nahyNRlIHsW7znF57MLYfmDikfKoop9SUyFhukulQFb9RB+324LxRGX0nnUO1hu2RA2ez1sRQ2y8Vj3pmbaRoB5kDFUS39WGHvJJZhj1695gV0kaQVZcYExn3rq7K/jzULDTLOVfv7PLd3ln1qBKA5Gpdue/aO+3YClsk3G+8g1yomLInwDas3dFm+KG6RfZmnJ9B5HBkl99a6SqwxraYqI0PmA3ENA50YEDmYqVHrsQwrqEun2eDogZi2QiPPEB6hLF+PZRfgdB07zkWiS4UKi3wIlPMC0r6pqS8ze0jsRVn6zPW052L6pwjCHQ816FRRjODnym1NwhcG+3gsx17nT8hyyqoxpXNUsfXMoG5PdOAjIbj+AULb24wZWa8RRTH+ujXjSiJAnfkc/G8o6cA4O0GxwqbciCyvTtEnQlTe2oYo2SmqKaU/G56rvH1isByZBcrr9l5ZnwcPaU/opud5lLX7xGSz7XRU9neBKcZ9yuq5XNYdsBXKsu43SZw/KaR/1Czm0PaHR4kt4dQnD2+KcaVwlgcq4avqI30Zi7aolmlhu/49n/OBEaVhDPGmuqBU9vjgVgISayNPhPVtRRdhuu0v/LIBd617XQQEJpdG26vWjb6a6T08530erARIjQMwt5v1EesiZSysY1TGvv+LWtmgJtcwwM8sR0BiTtJXhXbmPhPF/wi4R2+4p7y9Oe6rtsc2kGVOAF4pwUUrxICxaAN3yxijtxv6/V9cIhzcRcNukXdkCJHI7P+wm42siop7SbrMM5ULwQMMZ5X7koWE+8ghXrGTuphR7fjtirSI6KkfeeWg9rXNpSZK/TbSgcB1+8kxC8VM8ceHitMv4HEK/k39bBAj7HEaQn98x+4vGsOlo8aJEdZhdhHLuX6DMPwOpae1RtyJLZorC+HXEYscKEnDd3Mp+JW3SE4xmBBPBIhmVxhoS8h8zU273trprT47cRbFuVuiBkOU2UtVElzzykBuyYp5G2Alec8wCTW3EEeMUCCqapDt7rni6vpk9iMUSejsp9CbMBg/QzDc25OZfHrLG0vt0O20+BAYFs1T9lsfAvQ+tEQenMA7WJZpnlVoeSD9YAYpGBDxndHUYkV4V7YKInP/52zI+fhGgL7YW0GNGgAoy1d6U1iaojCSpbsIvw6nFJ9NnyuECGIuMELFyXVM+ON6Z79g1pKMnmqh3H0A/TZXPu6Q4CHt0PmhmABG+wOuB/2GDatosOG44vbFiwoUbFEn5LzV4hGocSaSrjjJHUChj5tESAEkA1RPntQtDt+OZXnIPlf0yoobRCgc19M2Fnpe7vuQjPwZqBF1+lsSSAY8BtDWn0z6W1iIenKlxgJ/phTh1fPxTzWGCjIx6ZGLuSkWpW/Mc/iETI3UqCvgPDRoHatHRXL5gYXS1GJ1R7Ta9IH8tsCo4yaoxx6zVkEZE/etDrU2u297Kd2gXi4cs/pGIsTncSLmnq92+ubT7IRv78RUqAeAhdljdGKR5ToEnhnvchbyUQF+5UL65Nv6ZfyjRGBqyPPXYPS47OY+js+zesiqgBqvv5I56h6sIGf3PfaHp89msyHym/QrsLlXCbGSsaTrGaf2o9QxiKkCp/GqO6p3YSphRKWEtY5quBlP7rQYIXvnnv6Ao6G9V+EJu8i/g1uRecX6pRsp1sazsvkm5PjMM+wpSaXgXoGvabgQX8AYhG8dAIoJtuRYvkFBKS4inwTORnjC0cjJ/898bH9e5bR9xaAZFx1dbb8T5vOJFGWHFeenWP9ZjjzkEk+iiRPYqFEDlOeaWt9ZWwzmp2LRRNXbJAdDxt/gFmXw8xfgbD0tYtdvtNf7mgreYLf1exmyrlj6qQrbgQ4uwVKMYiZXR/Pi52OP4N9rRadXQXkAUtbvXEJQk5iHq8qjDXS6q2KzPt3cLprC31bqkqFew4uLHbT5y2bKTQgmf3QtqM8cKk3LyLXZWTjIPhEllbhW0/s5xsenSofCg12jeEf6zrs+gJ2+8NrqCQy9SaVQc8yYjxFuaICuH4bmlt8gv8V4vERmz+KJyQUFgTsc/QZDhBDbU1nwV9YjdGwGpRWiPIccmZNgEDpkTL4lKIEZtV/co+DIZyzG8U3vpwLFuAXngN+k1WFJ467oJBoqDoOXg1yCFd3gs5KL/7Vq64l5Hy/SpG1zftr9WXP99HbyZNjKFWBeguv2+K11iP9AAMfObb1qN8M9svRLmP9gPU2wJp5+Ylxp+dtEfmVQ4p+A8Wt7ygqDKaMVjUYhYcEp+a9IRrFwOzYz3lROkk6AUXcjtcRR6CHD51DxOjWIhNSzpmdQ4dwCUqYDb/xO//exouw+8X8vibDoVOmKAhOiLYdM1WkrXYNgRVbCXHqUbBPHs8kXf1MHJXNJzCLFvnmtJI4aH0xIoy9dWARS6dXNsRPJLaiFnfssJr+x+R+/Q+4Rl5vxwEjCAqzXYxk8iyCp0b7VzSkY8ZgN+43o90sGGZ+xfoq5/Z/DcCzgDdojZb3iwOgOaY7cdKYThUuP7VBcBvlFn6gdAZ6i3Qe5OCePHcAN9NrjAf69LxMcWnWM63sAhKbWhAMVcfXI4gbL2sG4DOsdej1OWIOByROttitTbHn5/RH3ttsmEJzUvphpSx75B+onfQiuIzHT0MuEI/aXR+wtc7ZuBiqOpzP8mGOIA9ncvtBdXeN150vEztqwKLmrhrtgfQ1sz6QbpYJxHwzLuWMUOT8wS4aGJFaPeJKyvkqJyNN5/8/Z91U449Kb/bmdtL//ZdPFehxcBCjqPNTo1AjveKSAgSD6Z+CZyqwut2I0HJ6gPlkA9iaL1ysuTqlOD4lJ8hVw3gJau42WbuIdayaKsHs/fR6Hnx3FVK3DfLjzUYMbcqvjxkftXJtoA7IxMfpjpjzuD31fSOWAdGGvOr+xz9SCzGXPKy65gr58IDtZ+z/1FvIMiG/ZwRPv789e+VU4jkzr4fhZfs++Ri2mO9L2NUHW5HsNPuefg9UsKkEhdPOLkJ0HTwWlRG/WJAtUqwa2hvMWYZ4uP9TjpInrt481oe45UMbTYk4xQqksfg08MKle6rvoN2nO2zoTzzsKBg/BkG+CG8+lYPp+ISOhGOE+UI/QJd4XwwH6gJlwvOGmOcFMmy0DtK0SnKpgz29oK8TOgzHNAXk2rxkF8Z+WnVEY+BjHXUwhjp6YXT0wz6ZVDlRVFfm62+b+ZSYIitn3cAmQcRATL0z5ynrkzk1EmyZtbC7yG2xxgMK4oZv0d+7WfAN/z9WjHjV8PRC+OGn47iS8tnxFDynsMInbJQNGGYPveXqnkwSzYBjvwCBD4zpjvT5GgSwKtlIYMOlW7BHJIBzMRlDRZNgQGS0yQFCNFOuVIW6j2UO6RnPrH+OxRFdjgxqognHIRXVJl9PJ4RMOuvjzq6r9wQ4xhRBlE4QfMYBYr6sFQgE9H/bgEnXapAWgLpA2NuHRE0Ief2A8iH5dIwj8TDFHLD81tj5lomPdfS+IxVTWAWw9em6IONIcluBhbzn6tGeBFfkrFahb5BEIAMRNuwpaL6J2Ue9T145B414dOvenHZQhtq5PMXWk4LlYOdcVqnnR1CtMYCVU4IiAGYsGHYDKWdcCRGwygb5yQMcFxMzA2NGK+cNKNKLchCyevCneyErNCEyusF/v0Gxa2WVMCKJxTbqYnIDmPMDQuaiAMacHKnYWv61mZDcZVeSSaUDgKC1Wr1leoA9FVzBpIyxgzK0BhIWnfyrxCH3ckXWX4f2jzX/rNffbgyDzS5v98jHvAYEnw+xeZ21SEinH3VudU2RCXeRjHAJNNQxR4BnsBaNvJh32cuieVwG0TACZYDfB9fvimDWIkF+G4U7yV66SEprq75zm8cltST61VDysKhvqcLBZQpdeDdAj3XYMloBII2oqI4aSPUxvWDl3PU1QwZ9RGwi2p+loRWkiIMu3EYDozXC2iNB9BtyfcnC5ofIlu++mCvxhRgmQVtzWwSYK3HZB5LW+6AX9BaDrAlLol2IlwflIX4pIqQ26FwXayaAWWGKqwMA15MYEKhfMfi7lhhhpDBDhetJ14kCHXhL8ShBt4VjkgLcEoen8/4YF0pR5yWlCMBr+ReZuIBqC3DUPQQ1atLYLHEKZ+awERJa6pkSYHC0I8+S5rabaw3reKbcVPyjJ6FkxgIjshvT1KAZMR/ep+FyN9/tpNA2B/EgFdZozcnmOcjPqjn5HEYVqzh0aR/jdGC98yOCWYBN/3k1Z7xXxxhLXyFfhhBE7PcC2odnolhM6Zc05vNnjUhWDr0CzdhbORZB1gHOy1g0wbaTsAAAAAAIOrfs4Ia5iqsZLePzFE+g7JTsUULGxADDwgSzM6CKcPocc5Q0mqKndr2M7Knbh7cZ4+D0tNsTLzQfSE3HEr2pLuineXQ11xONDd0KWEb5yfiMOpppEQ3XuGO9Hv35fAUR4pfdAJnHbw4aIouRvRilXqAxEi3FDFhpkt3bJc5KqHbbFwgabKHUZq9TDlsfnb+Npp9qdKU9du8UVWwe1E3IiWyJ07Y0h4nnJSMNIER36qWGfsdVhQg6qcmsHamZ2r7B1jrjFfw5cdxdoQVv9n7grHolufNWmG7G2XAJkQ+yqqtisL2fUREs0mP0MN22qr1wlLevzot51z13G7IDQLXh2zGB9+cx21tRFa9Uv/+J3+N9/+Nnf+Mkx4JDyk18jys+0ZUetZ/sAABlOFRKIp7z5rNRlETe3A6Pz4cpI7JfHJef82+3ziD20fHJ8wcszwQuKYhxUF45REjhEy7krj/aEwgkX2iT7zcwtzqFfLI64ksd4q4bd2viFbfZmg578fS4foOqEmAkFs0nb9TraKcqFliZt1s10nSDAq2TFKpbxbHGxymdCRhjfzBrQ9vnS2+mMOHVCReRoxDqdDw9O87TQE+PXqgFMuvn3+6Zt7zjwvEyd5gP1LRBNLMOOUb8YRfMquIjrF0e674AwL67J6h/Vu6iP/4bORWZyjJSp4azIMZNBSl7TZJjhlAf7LBWdsB48tYeDg1L+hKGZfJhL+JhPxZHxSMFSrarJfNxp+waKFmWuPztNjQu9/sHwG5EN0ygmKgTiQFo7ckPRZ986b8nJyUDiY1+ZVjfw5dLQah9ilZBOphlqljSnIyMdk+MG5f2dbU6z2TqenNVosMkX20ngp6RoVTLp8jgwr0kojfBp4YDM/2OAawKa7vhHTWGA2sMZjOp8oCIXafr0X1CjmpqZdhB4fz+AmBhucBzjetFQlMJGcrPwAk/m2nJBc5NOk3JY+Yaji7wkMGgVamm29gdP8pDaCOD+nmqUxiFNA4fkC5KBAN1bHpJQJlafXi9oz4kWIam3RMQJ/586xSPI0EMD42Myz9wpwkzFNckm70O5EClhA4GxjlVkUJ69nV7bqRSioIwJ88mnW0maxSH5tmUFVMMcIezwze70Y7fDyn7sXxVf1kqK+lvs6YVicJOQrNkMVJiEiUHrvFdWzBitlKD6z9UsmUqKLYDqwAay4Y+AAMARWds98t0M1yacwPxwc1VuCsWcl72taIsCeC32dlErKRyP+8ara9htcYUcOpvxrdnnujumoEyJZnx3nuy18TrojQ5Dm4fB3723Qt5vILOVawum1tcGq0bqsJjGF5m11xTZXwW59ChpbZRWJKXYTNiNvA3iFsbhO3X+GNEzjCwoBvEDLcaxr48LLP+F+azIB9TmfycBdRipINH3IirTsaG2pjHl+jXW4r7MChjDY1I/rA/rXrbjUqy7GC2DM0EJaFCgy7p7mMr8L3JEq+bcQdgQBJcEeozMhzMbk1Vj6eppjTtsNCblR4DwXTIkm01XBLjPCPwu+xpsLfl4uVsfJrB1kvSTAPE7bLGu03oZtkmFrWexWOPW7PFDJsvmvGT28r2s8p0eA8mH2zHwfjO9aM6iWFYh7aEMCTxtELFEzOihTT+y4m8ofyImhWjNK01JhiAuHIMHsYGVuJaYvLlPjXlmMlcVqHsKGcA3UZxm2+B3xz20BAoZmhNQLqjIwtMJr5d95jrMrUM0dV0k+p1P+gekJpyJ+acoWZqqiULyQhHCzoX5DmMAL0xchh5JqkoZTLBCSh1Tic+CBpdS2iznVlASN3Zf7du8ItlQftMvKN9WIkXIYbU3pt7ObwqPR+Uutfg4S3fLNF+c6uI/bak+b9wleUyC+yOIeJ1PcgjFm/y8OiY7FXezsRnIvyNNLlzir4VA81Nbm10yLcE35/ZIWpL6tILdOJnpuXrlgqFQJs6stvbBHmhhHPK5u//SKfgjrDDmT2iU9vI4+AgEoD2YiV8HqUXDocFPEcJC1AcaLtWT5RgAAOiYr86iyCb7YZ5cUtjDDbtX2OSCXT7u96FMWll+pWP985xsSRyuAp470m/pzlHJfpPyZrMARAAAAAAAA=)"
      ]
    },
    {
      "cell_type": "code",
      "execution_count": null,
      "metadata": {
        "colab": {
          "base_uri": "https://localhost:8080/"
        },
        "id": "nkGlzocOO9Du",
        "outputId": "6bbb52bb-7a94-4483-dbe1-0b68b905596c"
      },
      "outputs": [
        {
          "name": "stdout",
          "output_type": "stream",
          "text": [
            "Epoch 0\n",
            " train loss: 1.4867149645929145, train acc: 0.46982730481044904\n",
            " val loss: 1.2638335101147915, val acc: 0.5558510638297872\n",
            "\n",
            "Epoch 1\n",
            " train loss: 1.173248670109883, train acc: 0.5899223034734917\n",
            " val loss: 1.173066024577364, val acc: 0.5933067377577437\n",
            "\n",
            "Epoch 2\n",
            " train loss: 1.0451740670465681, train acc: 0.6357077566099777\n",
            " val loss: 1.0329904794692992, val acc: 0.6381205674181594\n",
            "\n",
            "Epoch 3\n",
            " train loss: 0.9826832264389372, train acc: 0.6580659115118344\n",
            " val loss: 1.061432589875891, val acc: 0.6265957446808511\n",
            "\n",
            "Epoch 4\n",
            " train loss: 0.9586313240488878, train acc: 0.6666435427160106\n",
            " val loss: 0.992200629254605, val acc: 0.6614804965384463\n",
            "\n",
            "Epoch 5\n",
            " train loss: 0.9279114994096146, train acc: 0.6783510708067927\n",
            " val loss: 1.00258412361145, val acc: 0.6496897164811479\n",
            "\n",
            "Epoch 6\n",
            " train loss: 0.8988184700609343, train acc: 0.6877244385112574\n",
            " val loss: 0.9089496310721052, val acc: 0.6832225178150421\n",
            "\n",
            "Epoch 7\n",
            " train loss: 0.8758425638488267, train acc: 0.6946779512400165\n",
            " val loss: 0.9414277198466848, val acc: 0.6747118795171697\n",
            "\n",
            "Epoch 8\n",
            " train loss: 0.8611816991072904, train acc: 0.7019048708012596\n",
            " val loss: 0.9220094178585296, val acc: 0.6830008866939139\n",
            "\n",
            "Epoch 9\n",
            " train loss: 0.8416404182557868, train acc: 0.7087645273539877\n",
            " val loss: 0.9114890184808284, val acc: 0.6903590425531915\n",
            "\n",
            "Epoch 10\n",
            " train loss: 0.8312691105785056, train acc: 0.7124820449670446\n",
            " val loss: 0.8891264991557345, val acc: 0.6954787234042553\n",
            "\n",
            "Epoch 11\n",
            " train loss: 0.813412476828155, train acc: 0.7191662314387083\n",
            " val loss: 0.952213180065155, val acc: 0.6802083335024245\n",
            "\n",
            "Epoch 12\n",
            " train loss: 0.8070597467191476, train acc: 0.7201660029195126\n",
            " val loss: 0.8919953693734839, val acc: 0.7007978723404256\n",
            "\n",
            "Epoch 13\n",
            " train loss: 0.7907102354810704, train acc: 0.7234346436190213\n",
            " val loss: 0.8793696233566771, val acc: 0.7006427305809995\n",
            "\n",
            "Epoch 14\n",
            " train loss: 0.7814521754136687, train acc: 0.7290782515483974\n",
            " val loss: 0.8845623850822448, val acc: 0.697163120736467\n",
            "\n",
            "Epoch 15\n",
            " train loss: 0.772856858519793, train acc: 0.7345178244972578\n",
            " val loss: 0.9273749653329241, val acc: 0.6931737590343394\n",
            "\n",
            "Epoch 16\n",
            " train loss: 0.7703954697853904, train acc: 0.7318735310102947\n",
            " val loss: 0.9318943835319357, val acc: 0.6824246454746166\n",
            "\n",
            "Epoch 17\n",
            " train loss: 0.7564251557455638, train acc: 0.7380884370376685\n",
            " val loss: 0.8808609399389713, val acc: 0.7016622340425532\n",
            "\n",
            "Epoch 18\n",
            " train loss: 0.7519977567836615, train acc: 0.738080275559992\n",
            " val loss: 0.9388464841436832, val acc: 0.6888519503968827\n",
            "\n",
            "Epoch 19\n",
            " train loss: 0.7424563124258295, train acc: 0.7427730805477233\n",
            " val loss: 0.8734987471966034, val acc: 0.7044326241980208\n",
            "\n"
          ]
        }
      ],
      "source": [
        "net = BasicBlockNet().to(device)\n",
        "optimizer = optim.SGD(net.parameters(), lr=0.1, momentum=0.9)\n",
        "scheduler = optim.lr_scheduler.CosineAnnealingLR(optimizer, T_max=len(train_acc_log))\n",
        "tr_loss_log, tr_acc_log, val_loss_log, val_acc_log = train(net, optimizer, 20, train_loader, val_loader, scheduler)"
      ]
    },
    {
      "cell_type": "code",
      "execution_count": null,
      "metadata": {
        "colab": {
          "base_uri": "https://localhost:8080/"
        },
        "id": "qiKKXn7BG53u",
        "outputId": "7240aa84-3fa3-423b-c9e0-a8c13f2b3ec7"
      },
      "outputs": [
        {
          "name": "stdout",
          "output_type": "stream",
          "text": [
            "test loss: 0.8733751709294167, test acc: 0.6977507961783439\n"
          ]
        }
      ],
      "source": [
        "test_loss, test_acc = test(net, test_loader)\n",
        "\n",
        "print(f\"test loss: {test_loss}, test acc: {test_acc}\")"
      ]
    },
    {
      "cell_type": "markdown",
      "source": [
        "Получилось лучше, чем с дефолтным расписанием, но MultiStepLR не обходит."
      ],
      "metadata": {
        "id": "Ovjz4tNA9zXD"
      }
    },
    {
      "cell_type": "markdown",
      "source": [
        "### CyclicLR\n",
        "\n",
        "The policy cycles the learning rate between two boundaries with a constant frequency, as detailed in the paper Cyclical Learning Rates for Training Neural Networks. The distance between the two boundaries can be scaled on a per-iteration or per-cycle basis.\n",
        "\n",
        "Циклически перебирает значение между какими-то границами."
      ],
      "metadata": {
        "id": "EGG5VstG2oN7"
      }
    },
    {
      "cell_type": "code",
      "execution_count": null,
      "metadata": {
        "colab": {
          "base_uri": "https://localhost:8080/"
        },
        "id": "xCUagnJHfLQv",
        "outputId": "bef94b52-d57b-4d62-cd96-7c57cb4da40f"
      },
      "outputs": [
        {
          "output_type": "stream",
          "name": "stdout",
          "text": [
            "Epoch 0\n",
            " train loss: 1.8587578885951905, train acc: 0.3467207495429616\n",
            " val loss: 1.6385367175366017, val acc: 0.4320478723404255\n",
            "\n",
            "Epoch 1\n",
            " train loss: 1.5699557865777443, train acc: 0.4487504896995572\n",
            " val loss: 1.4825771869497095, val acc: 0.4786790780564572\n",
            "\n",
            "Epoch 2\n",
            " train loss: 1.438082299894999, train acc: 0.4933525399054644\n",
            " val loss: 1.4029000835215792, val acc: 0.5068927305809995\n",
            "\n",
            "Epoch 3\n",
            " train loss: 1.350229104432589, train acc: 0.5252880974923017\n",
            " val loss: 1.3028047176117592, val acc: 0.5435283688788718\n",
            "\n",
            "Epoch 4\n",
            " train loss: 1.2863113826763912, train acc: 0.5499640899340893\n",
            " val loss: 1.2413306626867742, val acc: 0.565093085106383\n",
            "\n",
            "Epoch 5\n",
            " train loss: 1.2276310637402579, train acc: 0.5696820319243715\n",
            " val loss: 1.192304684253449, val acc: 0.5873448582405739\n",
            "\n",
            "Epoch 6\n",
            " train loss: 1.1796814427733204, train acc: 0.5887593040736545\n",
            " val loss: 1.1690759854113801, val acc: 0.5903368795171697\n",
            "\n",
            "Epoch 7\n",
            " train loss: 1.1291768854889181, train acc: 0.6074244254685843\n",
            " val loss: 1.1267659907645367, val acc: 0.6054521276595745\n",
            "\n",
            "Epoch 8\n",
            " train loss: 1.0941797032870584, train acc: 0.6203031144368801\n",
            " val loss: 1.1036623756936257, val acc: 0.615469858240574\n",
            "\n",
            "Epoch 9\n",
            " train loss: 1.058733043330679, train acc: 0.6314393445386312\n",
            " val loss: 1.0390595753142173, val acc: 0.6332446808510638\n",
            "\n",
            "Epoch 10\n",
            " train loss: 1.0347208174752578, train acc: 0.6418696135228034\n",
            " val loss: 1.0353321143921386, val acc: 0.6365691489361702\n",
            "\n",
            "Epoch 11\n",
            " train loss: 1.00723842402045, train acc: 0.6473581549018567\n",
            " val loss: 1.0310469358525378, val acc: 0.6397828015875309\n",
            "\n",
            "Epoch 12\n",
            " train loss: 0.9924159318045245, train acc: 0.6567845717208695\n",
            " val loss: 0.9734222807782762, val acc: 0.6600398936170213\n",
            "\n",
            "Epoch 13\n",
            " train loss: 0.9722163548635172, train acc: 0.6619874641054073\n",
            " val loss: 1.0354919674548697, val acc: 0.6388076241980207\n",
            "\n",
            "Epoch 14\n",
            " train loss: 0.9586748036213724, train acc: 0.6657906765257855\n",
            " val loss: 0.9675493037447016, val acc: 0.6651152483960415\n",
            "\n",
            "Epoch 15\n",
            " train loss: 0.9425253409354298, train acc: 0.6726544137628684\n",
            " val loss: 0.9675761220302987, val acc: 0.6639627659574469\n",
            "\n",
            "Epoch 16\n",
            " train loss: 0.9320697777885841, train acc: 0.6771595065075039\n",
            " val loss: 0.9544156987616357, val acc: 0.667686170212766\n",
            "\n",
            "Epoch 17\n",
            " train loss: 0.9255249150492374, train acc: 0.6797058632430473\n",
            " val loss: 0.9486959726252454, val acc: 0.6708554965384463\n",
            "\n",
            "Epoch 18\n",
            " train loss: 0.9082429875403479, train acc: 0.6878999085923218\n",
            " val loss: 0.926525086037656, val acc: 0.6792331561129143\n",
            "\n",
            "Epoch 19\n",
            " train loss: 0.9023951821614881, train acc: 0.6860799165050988\n",
            " val loss: 0.9080452698342344, val acc: 0.6850398936170212\n",
            "\n"
          ]
        }
      ],
      "source": [
        "net = BasicBlockNet().to(device)\n",
        "optimizer = optim.SGD(net.parameters(), lr=0.1, momentum=0.9)\n",
        "scheduler = optim.lr_scheduler.CyclicLR(optimizer, base_lr=0.001, max_lr=0.1)\n",
        "tr_loss_log, tr_acc_log, val_loss_log, val_acc_log = train(net, optimizer, 20, train_loader, val_loader, scheduler)"
      ]
    },
    {
      "cell_type": "code",
      "execution_count": null,
      "metadata": {
        "id": "IIu6wL6dg0qp",
        "colab": {
          "base_uri": "https://localhost:8080/"
        },
        "outputId": "99dc88c4-ed10-40b1-82c7-f5597ec2f8db"
      },
      "outputs": [
        {
          "output_type": "stream",
          "name": "stdout",
          "text": [
            "test loss: 0.912159029465572, test acc: 0.6844148089171974\n"
          ]
        }
      ],
      "source": [
        "test_loss, test_acc = test(net, test_loader)\n",
        "\n",
        "print(f\"test loss: {test_loss}, test acc: {test_acc}\")"
      ]
    },
    {
      "cell_type": "markdown",
      "source": [
        "Еще хуже."
      ],
      "metadata": {
        "id": "toO-VVxy-00n"
      }
    },
    {
      "cell_type": "markdown",
      "source": [
        "### ExponentialLR\n",
        "\n",
        "Decays the learning rate of each parameter group by gamma every epoch."
      ],
      "metadata": {
        "id": "VT_zZYdF4gJ0"
      }
    },
    {
      "cell_type": "code",
      "source": [
        "net = BasicBlockNet().to(device)\n",
        "optimizer = optim.SGD(net.parameters(), lr=0.1, momentum=0.9)\n",
        "scheduler = optim.lr_scheduler.ExponentialLR(optimizer, gamma=0.0001)\n",
        "tr_loss_log, tr_acc_log, val_loss_log, val_acc_log = train(net, optimizer, 20, train_loader, val_loader, scheduler)"
      ],
      "metadata": {
        "colab": {
          "base_uri": "https://localhost:8080/"
        },
        "id": "02ZEO1XL4Wum",
        "outputId": "cabd109e-5374-499e-eb9d-0b8b6c4ff6c6"
      },
      "execution_count": null,
      "outputs": [
        {
          "output_type": "stream",
          "name": "stdout",
          "text": [
            "Epoch 0\n",
            " train loss: 1.472183248787519, train acc: 0.4746996605635997\n",
            " val loss: 1.2494758139265345, val acc: 0.567641844013904\n",
            "\n",
            "Epoch 1\n",
            " train loss: 1.205078168695544, train acc: 0.5807488900651879\n",
            " val loss: 1.208906974437389, val acc: 0.5823803191489362\n",
            "\n",
            "Epoch 2\n",
            " train loss: 1.1994736783029392, train acc: 0.584250130644664\n",
            " val loss: 1.215264324178087, val acc: 0.5791001773895101\n",
            "\n",
            "Epoch 3\n",
            " train loss: 1.1994268700235287, train acc: 0.5845765865916962\n",
            " val loss: 1.213986030030758, val acc: 0.5782358156873825\n",
            "\n",
            "Epoch 4\n",
            " train loss: 1.1996597115910685, train acc: 0.5830422434989887\n",
            " val loss: 1.2186422048731054, val acc: 0.5777703901554676\n",
            "\n",
            "Epoch 5\n",
            " train loss: 1.1994252325847772, train acc: 0.5839032711668903\n",
            " val loss: 1.2116715494622576, val acc: 0.5811170212765957\n",
            "\n",
            "Epoch 6\n",
            " train loss: 1.1983565684864246, train acc: 0.5848989619633398\n",
            " val loss: 1.2074186451891635, val acc: 0.5815824468085107\n",
            "\n",
            "Epoch 7\n",
            " train loss: 1.1995697066160618, train acc: 0.5823811700182815\n",
            " val loss: 1.2117012153280542, val acc: 0.5818262412192974\n",
            "\n",
            "Epoch 8\n",
            " train loss: 1.2006530039271228, train acc: 0.5815201423503799\n",
            " val loss: 1.2169055175273977, val acc: 0.5773714539852548\n",
            "\n",
            "Epoch 9\n",
            " train loss: 1.1981491211127537, train acc: 0.5833115696471177\n",
            " val loss: 1.2154629499354261, val acc: 0.5800310284533399\n",
            "\n",
            "Epoch 10\n",
            " train loss: 1.1986879489539528, train acc: 0.5832013907336666\n",
            " val loss: 1.2101893067359923, val acc: 0.5806515957446808\n",
            "\n",
            "Epoch 11\n",
            " train loss: 1.1997401895209248, train acc: 0.5827361909737316\n",
            " val loss: 1.2121157161732938, val acc: 0.5809175531914894\n",
            "\n",
            "Epoch 12\n",
            " train loss: 1.1988904430399865, train acc: 0.5818465984063785\n",
            " val loss: 1.2187176448233583, val acc: 0.5789007093044037\n",
            "\n",
            "Epoch 13\n",
            " train loss: 1.1992034974220247, train acc: 0.5833034082784078\n",
            " val loss: 1.216976717938768, val acc: 0.5792553191489361\n",
            "\n",
            "Epoch 14\n",
            " train loss: 1.199220236847126, train acc: 0.5846541199213408\n",
            " val loss: 1.210393864804126, val acc: 0.5811170212765957\n",
            "\n",
            "Epoch 15\n",
            " train loss: 1.1991816741674866, train acc: 0.5831075346666019\n",
            " val loss: 1.2100188448074016, val acc: 0.5803856382978724\n",
            "\n",
            "Epoch 16\n",
            " train loss: 1.1986466363971369, train acc: 0.5843725516111803\n",
            " val loss: 1.2113995754972418, val acc: 0.5814273050490846\n",
            "\n",
            "Epoch 17\n",
            " train loss: 1.1992879742024367, train acc: 0.5826056085295389\n",
            " val loss: 1.213122434058088, val acc: 0.5803191489361702\n",
            "\n",
            "Epoch 18\n",
            " train loss: 1.198696220596704, train acc: 0.5838991904825354\n",
            " val loss: 1.2146309144953464, val acc: 0.5790558510638298\n",
            "\n",
            "Epoch 19\n",
            " train loss: 1.198491220500395, train acc: 0.584503134055373\n",
            " val loss: 1.2100894357295746, val acc: 0.5801196808510638\n",
            "\n"
          ]
        }
      ]
    },
    {
      "cell_type": "code",
      "source": [
        "test_loss, test_acc = test(net, test_loader)\n",
        "\n",
        "print(f\"test loss: {test_loss}, test acc: {test_acc}\")"
      ],
      "metadata": {
        "colab": {
          "base_uri": "https://localhost:8080/"
        },
        "id": "4auczVZN4e9f",
        "outputId": "96c8016d-e153-4804-97e1-47137a4808d3"
      },
      "execution_count": null,
      "outputs": [
        {
          "output_type": "stream",
          "name": "stdout",
          "text": [
            "test loss: 1.2153988590665683, test acc: 0.5742436305732485\n"
          ]
        }
      ]
    },
    {
      "cell_type": "markdown",
      "source": [
        "Совсем плохо. В итоге лучше всего работает MultiStep, но CosineAnnealing тоже ничего."
      ],
      "metadata": {
        "id": "faCRqqM2_JUb"
      }
    },
    {
      "cell_type": "markdown",
      "metadata": {
        "id": "7xFXgl_3_E--"
      },
      "source": [
        "## 4. Аугментации данных (2 балла)"
      ]
    },
    {
      "cell_type": "markdown",
      "metadata": {
        "id": "5G0Easo9O9Du"
      },
      "source": [
        "Еще одной стандартной техникой, применяющейся в глубинном обучении, а особенно часто в компьютерном зрении, являются аугментации данных. Суть аугментаций состоит в том, что мы можем некоторым синтетическим образом видоизменять объекты обучающей выборки, тем самым расширяя ее, а также делая итоговую модель более устойчивой к таким изменениям.\n",
        "\n",
        "Простейшая аугментация, которую можно применить к картинкам — разворот картинки по горизонтальной оси. То есть при обучении модели с вероятностью $0.5$ мы будем разворачивать картинку из обучающей выборки."
      ]
    },
    {
      "cell_type": "code",
      "execution_count": null,
      "metadata": {
        "id": "SzeFpgtfO9Du",
        "colab": {
          "base_uri": "https://localhost:8080/",
          "height": 259
        },
        "outputId": "ed33448c-61c9-4227-9867-563198f54863"
      },
      "outputs": [
        {
          "output_type": "display_data",
          "data": {
            "text/plain": [
              "<Figure size 432x288 with 1 Axes>"
            ],
            "image/png": "[encoded data removed]"
          },
          "metadata": {
            "needs_background": "light"
          }
        },
        {
          "output_type": "display_data",
          "data": {
            "text/plain": [
              "<Figure size 432x288 with 1 Axes>"
            ],
            "image/png": "[encoded data removed]"
          },
          "metadata": {
            "needs_background": "light"
          }
        }
      ],
      "source": [
        "dataiter = iter(train_loader)\n",
        "images, labels = dataiter.next()\n",
        "\n",
        "imshow(torchvision.utils.make_grid(images[:4]))\n",
        "\n",
        "imshow(torchvision.utils.make_grid(transforms.functional.hflip(images[:4])))"
      ]
    },
    {
      "cell_type": "markdown",
      "metadata": {
        "id": "BR4a-XJQO9Du"
      },
      "source": [
        "Наиболее удобным способом работы с аугментациями в PyTorch является их задание в списке <code>transforms</code>, который затем передается в загрузчик данных. Обучим нашу сеть, применяя горизонтальные повороты:"
      ]
    },
    {
      "cell_type": "code",
      "execution_count": null,
      "metadata": {
        "id": "na0ScBf-_AqX",
        "scrolled": true,
        "colab": {
          "base_uri": "https://localhost:8080/"
        },
        "outputId": "adcd16bf-80e8-410a-afaf-15ada3e4d6da"
      },
      "outputs": [
        {
          "output_type": "stream",
          "name": "stdout",
          "text": [
            "Files already downloaded and verified\n",
            "Files already downloaded and verified\n",
            "Epoch 0\n",
            " train loss: 1.4835881289006152, train acc: 0.47070465532473715\n",
            " val loss: 1.2807436605717273, val acc: 0.5444592199427016\n",
            "\n",
            "Epoch 1\n",
            " train loss: 1.181780092894922, train acc: 0.583691074708698\n",
            " val loss: 1.1226184781561506, val acc: 0.6096852837724889\n",
            "\n",
            "Epoch 2\n",
            " train loss: 1.0546927711427538, train acc: 0.6305293484405364\n",
            " val loss: 1.04375831928659, val acc: 0.6368794327086591\n",
            "\n",
            "Epoch 3\n",
            " train loss: 0.9978014995672585, train acc: 0.6539484853064557\n",
            " val loss: 0.9596221753891478, val acc: 0.6708111702127659\n",
            "\n",
            "Epoch 4\n",
            " train loss: 0.9586726166648446, train acc: 0.6671617915904936\n",
            " val loss: 0.9782311327913974, val acc: 0.661192376055616\n",
            "\n",
            "Epoch 5\n",
            " train loss: 0.9230455252762468, train acc: 0.6796528141284991\n",
            " val loss: 0.93349868794705, val acc: 0.6732712765957447\n",
            "\n",
            "Epoch 6\n",
            " train loss: 0.905153344056724, train acc: 0.687283722966419\n",
            " val loss: 0.9696971104500142, val acc: 0.6619015957446809\n",
            "\n",
            "Epoch 7\n",
            " train loss: 0.8938907786413782, train acc: 0.6905074759200897\n",
            " val loss: 0.9095840814265799, val acc: 0.6859485816448293\n",
            "\n",
            "Epoch 8\n",
            " train loss: 0.8818676635159871, train acc: 0.6938006007257284\n",
            " val loss: 0.9148010089042339, val acc: 0.6838209220703612\n",
            "\n",
            "Epoch 9\n",
            " train loss: 0.8585546841569095, train acc: 0.7027291722009997\n",
            " val loss: 0.8931106765219505, val acc: 0.6993129433469569\n",
            "\n",
            "Epoch 10\n",
            " train loss: 0.770263948813217, train acc: 0.7352278662991916\n",
            " val loss: 0.8041897461769428, val acc: 0.7256205675449777\n",
            "\n",
            "Epoch 11\n",
            " train loss: 0.7548555518199147, train acc: 0.7408714743375342\n",
            " val loss: 0.7955959947819405, val acc: 0.7266400710065314\n",
            "\n",
            "Epoch 12\n",
            " train loss: 0.7471461305888523, train acc: 0.7441319535593663\n",
            " val loss: 0.7891005507174959, val acc: 0.7329343973322118\n",
            "\n",
            "Epoch 13\n",
            " train loss: 0.7435349402523563, train acc: 0.74576423351246\n",
            " val loss: 0.7826121487516038, val acc: 0.7331338654173182\n",
            "\n",
            "Epoch 14\n",
            " train loss: 0.7401835532685302, train acc: 0.7447726234003657\n",
            " val loss: 0.7886852459704622, val acc: 0.728878546268382\n",
            "\n",
            "Epoch 15\n",
            " train loss: 0.7275946866005822, train acc: 0.7511425960870286\n",
            " val loss: 0.7771407162889521, val acc: 0.7361702127659574\n",
            "\n",
            "Epoch 16\n",
            " train loss: 0.7249474364726155, train acc: 0.7510895469724805\n",
            " val loss: 0.7747794077751484, val acc: 0.7360593973322117\n",
            "\n",
            "Epoch 17\n",
            " train loss: 0.7244656305535402, train acc: 0.7519016062101891\n",
            " val loss: 0.7785024081138854, val acc: 0.7332890071767442\n",
            "\n",
            "Epoch 18\n",
            " train loss: 0.7266609204534639, train acc: 0.7498530948183872\n",
            " val loss: 0.7780279555219285, val acc: 0.7354831561129144\n",
            "\n",
            "Epoch 19\n",
            " train loss: 0.7250461869854378, train acc: 0.7516077958469635\n",
            " val loss: 0.7796281503870132, val acc: 0.7331117021276595\n",
            "\n"
          ]
        }
      ],
      "source": [
        "transform = transforms.Compose(\n",
        "        [transforms.RandomHorizontalFlip(),\n",
        "         transforms.ToTensor(),\n",
        "         transforms.Normalize((0.5, 0.5, 0.5), (0.5, 0.5, 0.5))]\n",
        ")\n",
        "\n",
        "train_loader, val_loader, test_loader = get_cifar10_data(batch_size=64, transform_train=transform)\n",
        "\n",
        "net = BasicBlockNet().to(device)\n",
        "optimizer = optim.SGD(net.parameters(), lr=0.1, momentum=0.9)\n",
        "scheduler = optim.lr_scheduler.MultiStepLR(optimizer, milestones=[10, 15], gamma=0.1)\n",
        "tr_loss_log, tr_acc_log, val_loss_log, val_acc_log = train(net, optimizer, 20, train_loader, val_loader, scheduler)"
      ]
    },
    {
      "cell_type": "markdown",
      "metadata": {
        "id": "v3ZIqDQqO9Dv"
      },
      "source": [
        "Посчитайте точность на тестовой выборке:"
      ]
    },
    {
      "cell_type": "code",
      "execution_count": null,
      "metadata": {
        "id": "nNJizMkM_Auh",
        "colab": {
          "base_uri": "https://localhost:8080/"
        },
        "outputId": "ceeddcb0-3de1-4d1a-8f51-f912ddf8e15e"
      },
      "outputs": [
        {
          "output_type": "stream",
          "name": "stdout",
          "text": [
            "test loss: 0.7928734634332596, test acc: 0.7306926751592356\n"
          ]
        }
      ],
      "source": [
        "test_loss, test_acc = test(net, test_loader)\n",
        "\n",
        "print(f\"test loss: {test_loss}, test acc: {test_acc}\")"
      ]
    },
    {
      "cell_type": "markdown",
      "metadata": {
        "id": "KndehSCHO9Dv"
      },
      "source": [
        "**Задание 4.1 (2 балла).** Изучите, какие еще способы аугментаций изображений представлены в <code>torchvision.transforms</code>. Выберите несколько из них, объясните, как они устроены, и обучите модель с ними (по отдельности и вместе). Удалось ли добиться улучшения качества на тестовой выборке?"
      ]
    },
    {
      "cell_type": "markdown",
      "source": [
        "### RandomCrop\n",
        "\n",
        "Будем рандомно кропать изображение, оставляя ~90% от исходного. Нужно ресайзнуть в 32x32, чтобы сетка не сломалась."
      ],
      "metadata": {
        "id": "uc8OB9pOQcb6"
      }
    },
    {
      "cell_type": "code",
      "execution_count": 10,
      "metadata": {
        "id": "Np4rgvdZ_QRF",
        "colab": {
          "base_uri": "https://localhost:8080/"
        },
        "outputId": "d0924ab9-96ca-4267-fd96-ea7dbac6b456"
      },
      "outputs": [
        {
          "output_type": "stream",
          "name": "stdout",
          "text": [
            "Epoch 0\n",
            " train loss: 1.4949468427645878, train acc: 0.4671626077927445\n",
            " val loss: 1.3557859141775903, val acc: 0.531781914893617\n",
            "\n",
            "Epoch 1\n",
            " train loss: 1.1789449249586632, train acc: 0.5880084552102377\n",
            " val loss: 1.1796099776917315, val acc: 0.5979831561129144\n",
            "\n",
            "Epoch 2\n",
            " train loss: 1.0626469740484052, train acc: 0.631598491773309\n",
            " val loss: 1.0200881625743623, val acc: 0.6497562058428501\n",
            "\n",
            "Epoch 3\n",
            " train loss: 1.012064449529979, train acc: 0.6494515539305301\n",
            " val loss: 1.0055447723003144, val acc: 0.6501773050490846\n",
            "\n",
            "Epoch 4\n",
            " train loss: 0.9803982972009091, train acc: 0.6583760447214465\n",
            " val loss: 0.9594858600738201, val acc: 0.667442376055616\n",
            "\n",
            "Epoch 5\n",
            " train loss: 0.9495074449335199, train acc: 0.6718954035307415\n",
            " val loss: 0.9615255979781455, val acc: 0.6664893617021277\n",
            "\n",
            "Epoch 6\n",
            " train loss: 0.918992425558554, train acc: 0.6804403891511112\n",
            " val loss: 0.9415857330281684, val acc: 0.6729166667512123\n",
            "\n",
            "Epoch 7\n",
            " train loss: 0.9045638907326204, train acc: 0.6866797793935814\n",
            " val loss: 0.936716365814209, val acc: 0.6807624114320633\n",
            "\n",
            "Epoch 8\n",
            " train loss: 0.8842492675650491, train acc: 0.6934904675161163\n",
            " val loss: 0.9458393337878775, val acc: 0.6721852837724889\n",
            "\n",
            "Epoch 9\n",
            " train loss: 0.8748066651428857, train acc: 0.6956654805587894\n",
            " val loss: 0.9784764946775234, val acc: 0.667154255319149\n",
            "\n",
            "Epoch 10\n",
            " train loss: 0.768886901942206, train acc: 0.7348973296678044\n",
            " val loss: 0.8389046255578386, val acc: 0.7136746454746166\n",
            "\n",
            "Epoch 11\n",
            " train loss: 0.7493192519740605, train acc: 0.741532547709275\n",
            " val loss: 0.835517374505388, val acc: 0.7133200356300841\n",
            "\n",
            "Epoch 12\n",
            " train loss: 0.7432781297720329, train acc: 0.741577435455113\n",
            " val loss: 0.8271691484654203, val acc: 0.7186391845662543\n",
            "\n",
            "Epoch 13\n",
            " train loss: 0.7383377778137842, train acc: 0.7456662967610402\n",
            " val loss: 0.8300949738380757, val acc: 0.7167996454746165\n",
            "\n",
            "Epoch 14\n",
            " train loss: 0.7341982180174351, train acc: 0.7468741839067156\n",
            " val loss: 0.8269944908771109, val acc: 0.7185505319148936\n",
            "\n",
            "Epoch 15\n",
            " train loss: 0.7191791938144503, train acc: 0.7511181118719321\n",
            " val loss: 0.8193116179172029, val acc: 0.7208998228641267\n",
            "\n",
            "Epoch 16\n",
            " train loss: 0.7174702868601086, train acc: 0.7526524549646395\n",
            " val loss: 0.8184058191928457, val acc: 0.7204343973322117\n",
            "\n",
            "Epoch 17\n",
            " train loss: 0.7155124471000169, train acc: 0.7533665774509284\n",
            " val loss: 0.8189761177022407, val acc: 0.7197030143534884\n",
            "\n",
            "Epoch 18\n",
            " train loss: 0.7161466068497959, train acc: 0.7532808827525737\n",
            " val loss: 0.8177596335715436, val acc: 0.7213652483960415\n",
            "\n",
            "Epoch 19\n",
            " train loss: 0.7169731456575271, train acc: 0.751587392316222\n",
            " val loss: 0.8172093418050319, val acc: 0.7207668441407225\n",
            "\n"
          ]
        }
      ],
      "source": [
        "transform = transforms.Compose(\n",
        "        [transforms.RandomCrop(28),\n",
        "         transforms.Resize(32),\n",
        "         transforms.ToTensor(),\n",
        "         transforms.Normalize((0.5, 0.5, 0.5), (0.5, 0.5, 0.5))]\n",
        ")\n",
        "\n",
        "train_loader, val_loader, test_loader = get_cifar10_data(batch_size=64, transform_train=transform)\n",
        "\n",
        "net = BasicBlockNet().to(device)\n",
        "optimizer = optim.SGD(net.parameters(), lr=0.1, momentum=0.9)\n",
        "scheduler = optim.lr_scheduler.MultiStepLR(optimizer, milestones=[10, 15], gamma=0.1)\n",
        "tr_loss_log, tr_acc_log, val_loss_log, val_acc_log = train(net, optimizer, 20, train_loader, val_loader, scheduler)"
      ]
    },
    {
      "cell_type": "code",
      "source": [
        "test_loss, test_acc = test(net, test_loader)\n",
        "\n",
        "print(f\"test loss: {test_loss}, test acc: {test_acc}\")"
      ],
      "metadata": {
        "colab": {
          "base_uri": "https://localhost:8080/"
        },
        "id": "SGAor8kyBWTc",
        "outputId": "0825f024-0615-4514-da9d-b38d2cc965df"
      },
      "execution_count": 11,
      "outputs": [
        {
          "output_type": "stream",
          "name": "stdout",
          "text": [
            "test loss: 0.832241764873456, test acc: 0.7123805732484076\n"
          ]
        }
      ]
    },
    {
      "cell_type": "markdown",
      "source": [
        "Вроде неплохо."
      ],
      "metadata": {
        "id": "kpffrBhLB_Gt"
      }
    },
    {
      "cell_type": "markdown",
      "source": [
        "### RandomRotation\n",
        "\n",
        "Случайные повороты."
      ],
      "metadata": {
        "id": "3lMa6Zq51WPs"
      }
    },
    {
      "cell_type": "code",
      "source": [
        "transform = transforms.Compose(\n",
        "        [transforms.RandomRotation(degrees=30),\n",
        "         transforms.ToTensor(),\n",
        "         transforms.Normalize((0.5, 0.5, 0.5), (0.5, 0.5, 0.5))]\n",
        ")\n",
        "\n",
        "train_loader, val_loader, test_loader = get_cifar10_data(batch_size=64, transform_train=transform)\n",
        "\n",
        "net = BasicBlockNet().to(device)\n",
        "optimizer = optim.SGD(net.parameters(), lr=0.1, momentum=0.9)\n",
        "scheduler = optim.lr_scheduler.MultiStepLR(optimizer, milestones=[10, 15], gamma=0.1)\n",
        "tr_loss_log, tr_acc_log, val_loss_log, val_acc_log = train(net, optimizer, 20, train_loader, val_loader, scheduler)"
      ],
      "metadata": {
        "colab": {
          "base_uri": "https://localhost:8080/"
        },
        "id": "PrbjULXWQhTe",
        "outputId": "4472ccb7-029c-42ac-f76a-45c95a053969"
      },
      "execution_count": null,
      "outputs": [
        {
          "output_type": "stream",
          "name": "stdout",
          "text": [
            "Files already downloaded and verified\n",
            "Files already downloaded and verified\n",
            "Epoch 0\n",
            " train loss: 1.6143595440078262, train acc: 0.41770452468007313\n",
            " val loss: 1.4352305955075204, val acc: 0.484375\n",
            "\n",
            "Epoch 1\n",
            " train loss: 1.397306087466001, train acc: 0.503142138939671\n",
            " val loss: 1.2936160630368172, val acc: 0.5443927305809995\n",
            "\n",
            "Epoch 2\n",
            " train loss: 1.2985478043556213, train acc: 0.5427371703728462\n",
            " val loss: 1.2544759697102486, val acc: 0.5585106382978723\n",
            "\n",
            "Epoch 3\n",
            " train loss: 1.2439462503305956, train acc: 0.560884042893293\n",
            " val loss: 1.2046887803584971, val acc: 0.5778812057160316\n",
            "\n",
            "Epoch 4\n",
            " train loss: 1.1974318597390838, train acc: 0.5767620463040019\n",
            " val loss: 1.2121873726236059, val acc: 0.5758643617021276\n",
            "\n",
            "Epoch 5\n",
            " train loss: 1.1706614426764534, train acc: 0.586372094572789\n",
            " val loss: 1.2548086369291265, val acc: 0.5612367021276595\n",
            "\n",
            "Epoch 6\n",
            " train loss: 1.1444327106641459, train acc: 0.5947579329584809\n",
            " val loss: 1.1270664993752824, val acc: 0.6008643617021276\n",
            "\n",
            "Epoch 7\n",
            " train loss: 1.1345244675493327, train acc: 0.5987651802504085\n",
            " val loss: 1.0872426925821508, val acc: 0.6171985816448293\n",
            "\n",
            "Epoch 8\n",
            " train loss: 1.109831060526358, train acc: 0.611223557095641\n",
            " val loss: 1.1227728696579629, val acc: 0.6044769505237011\n",
            "\n",
            "Epoch 9\n",
            " train loss: 1.0980094286597843, train acc: 0.6118275006684786\n",
            " val loss: 1.0862260257944147, val acc: 0.6185726952045522\n",
            "\n",
            "Epoch 10\n",
            " train loss: 0.9930546765353605, train acc: 0.6518836511772337\n",
            " val loss: 1.013126191179803, val acc: 0.6448359930768927\n",
            "\n",
            "Epoch 11\n",
            " train loss: 0.9864349647457464, train acc: 0.6550257901169046\n",
            " val loss: 1.013728324656791, val acc: 0.645345744680851\n",
            "\n",
            "Epoch 12\n",
            " train loss: 0.9772702713771102, train acc: 0.6565315683101606\n",
            " val loss: 1.0109934256431905, val acc: 0.6472074468085106\n",
            "\n",
            "Epoch 13\n",
            " train loss: 0.9728112562918794, train acc: 0.6573313854948041\n",
            " val loss: 1.0054920379151688, val acc: 0.6501773050490846\n",
            "\n",
            "Epoch 14\n",
            " train loss: 0.9682747202991785, train acc: 0.6622527096781478\n",
            " val loss: 1.0030702656887946, val acc: 0.6521054965384463\n",
            "\n",
            "Epoch 15\n",
            " train loss: 0.9580379285367795, train acc: 0.6650683925618202\n",
            " val loss: 0.9905176725793392, val acc: 0.6523936170212766\n",
            "\n",
            "Epoch 16\n",
            " train loss: 0.9596341505129115, train acc: 0.6649214873802074\n",
            " val loss: 0.9912115675337771, val acc: 0.65288120584285\n",
            "\n",
            "Epoch 17\n",
            " train loss: 0.9529346859651249, train acc: 0.6670720162077839\n",
            " val loss: 0.9975262573424806, val acc: 0.6490691489361702\n",
            "\n",
            "Epoch 18\n",
            " train loss: 0.951931944385961, train acc: 0.667626991459395\n",
            " val loss: 0.992103474951805, val acc: 0.6543218085106383\n",
            "\n",
            "Epoch 19\n",
            " train loss: 0.9541637374452525, train acc: 0.6654070906708838\n",
            " val loss: 0.9875593629289181, val acc: 0.6569592199427017\n",
            "\n"
          ]
        }
      ]
    },
    {
      "cell_type": "code",
      "source": [
        "test_loss, test_acc = test(net, test_loader)\n",
        "\n",
        "print(f\"test loss: {test_loss}, test acc: {test_acc}\")"
      ],
      "metadata": {
        "colab": {
          "base_uri": "https://localhost:8080/"
        },
        "id": "JmGUjmQ7RGgk",
        "outputId": "c646106f-5438-4d68-c8e0-e617c39ff669"
      },
      "execution_count": null,
      "outputs": [
        {
          "output_type": "stream",
          "name": "stdout",
          "text": [
            "test loss: 0.911637359743665, test acc: 0.6850119426751592\n"
          ]
        }
      ]
    },
    {
      "cell_type": "markdown",
      "source": [
        "Можно еще поиграться с градусами."
      ],
      "metadata": {
        "id": "r2EFQeDbCKs8"
      }
    },
    {
      "cell_type": "markdown",
      "source": [
        "### GaussianBlur\n",
        "\n",
        "Накладывает случайное размытие фильтром Гаусса."
      ],
      "metadata": {
        "id": "f2gDeE2NCcdw"
      }
    },
    {
      "cell_type": "code",
      "source": [
        "transform = transforms.Compose(\n",
        "        [transforms.GaussianBlur(kernel_size=3),\n",
        "         transforms.ToTensor(),\n",
        "         transforms.Normalize((0.5, 0.5, 0.5), (0.5, 0.5, 0.5))]\n",
        ")\n",
        "\n",
        "train_loader, val_loader, test_loader = get_cifar10_data(batch_size=64, transform_train=transform)\n",
        "\n",
        "net = BasicBlockNet().to(device)\n",
        "optimizer = optim.SGD(net.parameters(), lr=0.1, momentum=0.9)\n",
        "scheduler = optim.lr_scheduler.MultiStepLR(optimizer, milestones=[10, 15], gamma=0.1)\n",
        "tr_loss_log, tr_acc_log, val_loss_log, val_acc_log = train(net, optimizer, 20, train_loader, val_loader, scheduler)"
      ],
      "metadata": {
        "colab": {
          "base_uri": "https://localhost:8080/"
        },
        "id": "Z3TxsR5bCjPS",
        "outputId": "c1e437ce-7197-492f-ecc0-19c05827054f"
      },
      "execution_count": 12,
      "outputs": [
        {
          "output_type": "stream",
          "name": "stdout",
          "text": [
            "Epoch 0\n",
            " train loss: 1.5217404264200758, train acc: 0.45596516720773533\n",
            " val loss: 1.2996000333035247, val acc: 0.5397606382978724\n",
            "\n",
            "Epoch 1\n",
            " train loss: 1.2301301230460242, train acc: 0.5650218726294132\n",
            " val loss: 1.1565420942103608, val acc: 0.5931072695458189\n",
            "\n",
            "Epoch 2\n",
            " train loss: 1.0976616339230232, train acc: 0.6159653304045989\n",
            " val loss: 1.1038041688026266, val acc: 0.6215425531914893\n",
            "\n",
            "Epoch 3\n",
            " train loss: 1.0228204030877275, train acc: 0.6441792896940242\n",
            " val loss: 1.0202780492762302, val acc: 0.6449911348363186\n",
            "\n",
            "Epoch 4\n",
            " train loss: 0.9773839179297034, train acc: 0.6591554583753485\n",
            " val loss: 0.9909386135162191, val acc: 0.6542553191489362\n",
            "\n",
            "Epoch 5\n",
            " train loss: 0.9474228920186896, train acc: 0.6701692675105833\n",
            " val loss: 0.9851649279290057, val acc: 0.6615469859001485\n",
            "\n",
            "Epoch 6\n",
            " train loss: 0.9267644641386308, train acc: 0.6781511165106319\n",
            " val loss: 0.9724099334250105, val acc: 0.664472517815042\n",
            "\n",
            "Epoch 7\n",
            " train loss: 0.903506159128611, train acc: 0.6854392465551331\n",
            " val loss: 0.9645107604087667, val acc: 0.6695035462683819\n",
            "\n",
            "Epoch 8\n",
            " train loss: 0.8810416490547835, train acc: 0.6921805628256998\n",
            " val loss: 0.9468610314612693, val acc: 0.6755984042553191\n",
            "\n",
            "Epoch 9\n",
            " train loss: 0.874016127813015, train acc: 0.6971508553302702\n",
            " val loss: 0.9939426333346265, val acc: 0.6584663122258287\n",
            "\n",
            "Epoch 10\n",
            " train loss: 0.7652267371278795, train acc: 0.7368846304673817\n",
            " val loss: 0.8452156395354169, val acc: 0.7095079787234042\n",
            "\n",
            "Epoch 11\n",
            " train loss: 0.7454767880426683, train acc: 0.7423731719554015\n",
            " val loss: 0.838504256847057, val acc: 0.7113696808510638\n",
            "\n",
            "Epoch 12\n",
            " train loss: 0.7395720377264773, train acc: 0.7465558893283935\n",
            " val loss: 0.8385532310668459, val acc: 0.7111037234042553\n",
            "\n",
            "Epoch 13\n",
            " train loss: 0.7361360028304391, train acc: 0.7450949987720092\n",
            " val loss: 0.8378320143577901, val acc: 0.7122340425531914\n",
            "\n",
            "Epoch 14\n",
            " train loss: 0.7319519020194764, train acc: 0.7467762471552959\n",
            " val loss: 0.8339190390515835, val acc: 0.7130984042553191\n",
            "\n",
            "Epoch 15\n",
            " train loss: 0.7161725423344746, train acc: 0.7537338404594436\n",
            " val loss: 0.8291451630440164, val acc: 0.7159574468085106\n",
            "\n",
            "Epoch 16\n",
            " train loss: 0.7141738635857319, train acc: 0.7539746018170874\n",
            " val loss: 0.8283665624070675, val acc: 0.7164228723404256\n",
            "\n",
            "Epoch 17\n",
            " train loss: 0.7133218223259697, train acc: 0.7545091734289905\n",
            " val loss: 0.8281160544841848, val acc: 0.715625\n",
            "\n",
            "Epoch 18\n",
            " train loss: 0.7127966456918874, train acc: 0.7543255419792161\n",
            " val loss: 0.8270351128375276, val acc: 0.7158909574468085\n",
            "\n",
            "Epoch 19\n",
            " train loss: 0.7135852013035274, train acc: 0.7540521350377657\n",
            " val loss: 0.8276365847029584, val acc: 0.7152925531914893\n",
            "\n"
          ]
        }
      ]
    },
    {
      "cell_type": "code",
      "source": [
        "test_loss, test_acc = test(net, test_loader)\n",
        "\n",
        "print(f\"test loss: {test_loss}, test acc: {test_acc}\")"
      ],
      "metadata": {
        "colab": {
          "base_uri": "https://localhost:8080/"
        },
        "id": "MHJqGNaxC3s0",
        "outputId": "b4da9839-d9f2-45fa-d14b-9a5d3877d0ba"
      },
      "execution_count": 13,
      "outputs": [
        {
          "output_type": "stream",
          "name": "stdout",
          "text": [
            "test loss: 0.8382488618231123, test acc: 0.7142714968152867\n"
          ]
        }
      ]
    },
    {
      "cell_type": "markdown",
      "source": [
        "Вроде хорошо получилось."
      ],
      "metadata": {
        "id": "Ffi6vtOiEGSp"
      }
    },
    {
      "cell_type": "markdown",
      "metadata": {
        "id": "HCENjLw5O9Dv"
      },
      "source": [
        "## Бонус. Логирование в wandb (2 балла)"
      ]
    },
    {
      "cell_type": "markdown",
      "metadata": {
        "id": "xOyzc1mnO9Dv"
      },
      "source": [
        "На практике специалиста по глубинному обучению часто встречаются ситуации, когда нейросеть учится на каком-то удаленном сервере. И обычно вам хочется отслеживать прогресс обучения, особенно когда время обучения модели исчисляется днями или неделями. Для таких целей существует несколько инструментов. Вероятно, самый популярный из них — [wandb](https://wandb.ai/site).\n",
        "\n",
        "Ваша задача состоит в том, чтобы разобраться как им пользоваться, и повторить задания 2.1 и 2.2 с его использованием. Обучение вы можете запускать в этом же ноутбуке, но теперь вам необходимо через wandb логировать значения функции потерь и точности на обучающей выборке и на валидационной. Результатом работы должны быть ваш код и публичная ссылка на страничку с графиками, идентичными графикам в задании 2.2."
      ]
    },
    {
      "cell_type": "code",
      "execution_count": 21,
      "metadata": {
        "id": "m5gSTLAr_QS4",
        "colab": {
          "base_uri": "https://localhost:8080/"
        },
        "outputId": "0ef3be07-1133-4a75-de60-8ed771739225"
      },
      "outputs": [
        {
          "output_type": "stream",
          "name": "stdout",
          "text": [
            "Looking in indexes: https://pypi.org/simple, https://us-python.pkg.dev/colab-wheels/public/simple/\n",
            "Collecting wandb\n",
            "  Downloading wandb-0.13.5-py2.py3-none-any.whl (1.9 MB)\n",
            "\u001b[K     |████████████████████████████████| 1.9 MB 5.1 MB/s \n",
            "\u001b[?25hRequirement already satisfied: Click!=8.0.0,>=7.0 in /usr/local/lib/python3.7/dist-packages (from wandb) (7.1.2)\n",
            "Collecting sentry-sdk>=1.0.0\n",
            "  Downloading sentry_sdk-1.10.1-py2.py3-none-any.whl (166 kB)\n",
            "\u001b[K     |████████████████████████████████| 166 kB 75.9 MB/s \n",
            "\u001b[?25hRequirement already satisfied: requests<3,>=2.0.0 in /usr/local/lib/python3.7/dist-packages (from wandb) (2.23.0)\n",
            "Collecting docker-pycreds>=0.4.0\n",
            "  Downloading docker_pycreds-0.4.0-py2.py3-none-any.whl (9.0 kB)\n",
            "Requirement already satisfied: promise<3,>=2.0 in /usr/local/lib/python3.7/dist-packages (from wandb) (2.3)\n",
            "Collecting setproctitle\n",
            "  Downloading setproctitle-1.3.2-cp37-cp37m-manylinux_2_5_x86_64.manylinux1_x86_64.manylinux_2_17_x86_64.manylinux2014_x86_64.whl (30 kB)\n",
            "Requirement already satisfied: psutil>=5.0.0 in /usr/local/lib/python3.7/dist-packages (from wandb) (5.4.8)\n",
            "Requirement already satisfied: protobuf!=4.0.*,!=4.21.0,<5,>=3.12.0 in /usr/local/lib/python3.7/dist-packages (from wandb) (3.17.3)\n",
            "Collecting shortuuid>=0.5.0\n",
            "  Downloading shortuuid-1.0.9-py3-none-any.whl (9.4 kB)\n",
            "Collecting pathtools\n",
            "  Downloading pathtools-0.1.2.tar.gz (11 kB)\n",
            "Requirement already satisfied: setuptools in /usr/local/lib/python3.7/dist-packages (from wandb) (57.4.0)\n",
            "Collecting GitPython>=1.0.0\n",
            "  Downloading GitPython-3.1.29-py3-none-any.whl (182 kB)\n",
            "\u001b[K     |████████████████████████████████| 182 kB 65.0 MB/s \n",
            "\u001b[?25hRequirement already satisfied: PyYAML in /usr/local/lib/python3.7/dist-packages (from wandb) (6.0)\n",
            "Requirement already satisfied: six>=1.13.0 in /usr/local/lib/python3.7/dist-packages (from wandb) (1.15.0)\n",
            "Requirement already satisfied: typing-extensions>=3.7.4.3 in /usr/local/lib/python3.7/dist-packages (from GitPython>=1.0.0->wandb) (4.1.1)\n",
            "Collecting gitdb<5,>=4.0.1\n",
            "  Downloading gitdb-4.0.9-py3-none-any.whl (63 kB)\n",
            "\u001b[K     |████████████████████████████████| 63 kB 2.1 MB/s \n",
            "\u001b[?25hCollecting smmap<6,>=3.0.1\n",
            "  Downloading smmap-5.0.0-py3-none-any.whl (24 kB)\n",
            "Requirement already satisfied: urllib3!=1.25.0,!=1.25.1,<1.26,>=1.21.1 in /usr/local/lib/python3.7/dist-packages (from requests<3,>=2.0.0->wandb) (1.24.3)\n",
            "Requirement already satisfied: certifi>=2017.4.17 in /usr/local/lib/python3.7/dist-packages (from requests<3,>=2.0.0->wandb) (2022.9.24)\n",
            "Requirement already satisfied: idna<3,>=2.5 in /usr/local/lib/python3.7/dist-packages (from requests<3,>=2.0.0->wandb) (2.10)\n",
            "Requirement already satisfied: chardet<4,>=3.0.2 in /usr/local/lib/python3.7/dist-packages (from requests<3,>=2.0.0->wandb) (3.0.4)\n",
            "Collecting sentry-sdk>=1.0.0\n",
            "  Downloading sentry_sdk-1.10.0-py2.py3-none-any.whl (166 kB)\n",
            "\u001b[K     |████████████████████████████████| 166 kB 62.3 MB/s \n",
            "\u001b[?25h  Downloading sentry_sdk-1.9.10-py2.py3-none-any.whl (162 kB)\n",
            "\u001b[K     |████████████████████████████████| 162 kB 77.1 MB/s \n",
            "\u001b[?25h  Downloading sentry_sdk-1.9.9-py2.py3-none-any.whl (162 kB)\n",
            "\u001b[K     |████████████████████████████████| 162 kB 74.2 MB/s \n",
            "\u001b[?25h  Downloading sentry_sdk-1.9.8-py2.py3-none-any.whl (158 kB)\n",
            "\u001b[K     |████████████████████████████████| 158 kB 69.0 MB/s \n",
            "\u001b[?25h  Downloading sentry_sdk-1.9.7-py2.py3-none-any.whl (157 kB)\n",
            "\u001b[K     |████████████████████████████████| 157 kB 81.8 MB/s \n",
            "\u001b[?25h  Downloading sentry_sdk-1.9.6-py2.py3-none-any.whl (157 kB)\n",
            "\u001b[K     |████████████████████████████████| 157 kB 75.7 MB/s \n",
            "\u001b[?25h  Downloading sentry_sdk-1.9.5-py2.py3-none-any.whl (157 kB)\n",
            "\u001b[K     |████████████████████████████████| 157 kB 73.0 MB/s \n",
            "\u001b[?25h  Downloading sentry_sdk-1.9.4-py2.py3-none-any.whl (157 kB)\n",
            "\u001b[K     |████████████████████████████████| 157 kB 70.2 MB/s \n",
            "\u001b[?25h  Downloading sentry_sdk-1.9.3-py2.py3-none-any.whl (157 kB)\n",
            "\u001b[K     |████████████████████████████████| 157 kB 76.6 MB/s \n",
            "\u001b[?25h  Downloading sentry_sdk-1.9.2-py2.py3-none-any.whl (157 kB)\n",
            "\u001b[K     |████████████████████████████████| 157 kB 63.2 MB/s \n",
            "\u001b[?25h  Downloading sentry_sdk-1.9.1-py2.py3-none-any.whl (157 kB)\n",
            "\u001b[K     |████████████████████████████████| 157 kB 65.0 MB/s \n",
            "\u001b[?25h  Downloading sentry_sdk-1.9.0-py2.py3-none-any.whl (156 kB)\n",
            "\u001b[K     |████████████████████████████████| 156 kB 73.1 MB/s \n",
            "\u001b[?25hBuilding wheels for collected packages: pathtools\n",
            "  Building wheel for pathtools (setup.py) ... \u001b[?25l\u001b[?25hdone\n",
            "  Created wheel for pathtools: filename=pathtools-0.1.2-py3-none-any.whl size=8806 sha256=5bec797809dd8956e7931a30a2d03b9819b4e4675ee726d969b17901d91538a8\n",
            "  Stored in directory: /root/.cache/pip/wheels/3e/31/09/fa59cef12cdcfecc627b3d24273699f390e71828921b2cbba2\n",
            "Successfully built pathtools\n",
            "Installing collected packages: smmap, gitdb, shortuuid, setproctitle, sentry-sdk, pathtools, GitPython, docker-pycreds, wandb\n",
            "Successfully installed GitPython-3.1.29 docker-pycreds-0.4.0 gitdb-4.0.9 pathtools-0.1.2 sentry-sdk-1.9.0 setproctitle-1.3.2 shortuuid-1.0.9 smmap-5.0.0 wandb-0.13.5\n"
          ]
        }
      ],
      "source": [
        "!pip3 install wandb"
      ]
    },
    {
      "cell_type": "code",
      "source": [
        "!wandb login"
      ],
      "metadata": {
        "colab": {
          "base_uri": "https://localhost:8080/"
        },
        "id": "p-Fnsz_ZFyMd",
        "outputId": "7b564a2f-991a-46c2-9d25-0a4a9526864c"
      },
      "execution_count": 22,
      "outputs": [
        {
          "output_type": "stream",
          "name": "stdout",
          "text": [
            "\u001b[34m\u001b[1mwandb\u001b[0m: Logging into wandb.ai. (Learn how to deploy a W&B server locally: https://wandb.me/wandb-server)\n",
            "\u001b[34m\u001b[1mwandb\u001b[0m: You can find your API key in your browser here: https://wandb.ai/authorize\n",
            "\u001b[34m\u001b[1mwandb\u001b[0m: Paste an API key from your profile and hit enter, or press ctrl+c to quit: \n",
            "\u001b[34m\u001b[1mwandb\u001b[0m: Appending key for api.wandb.ai to your netrc file: /root/.netrc\n"
          ]
        }
      ]
    },
    {
      "cell_type": "code",
      "source": [
        "import wandb\n",
        "\n",
        "wandb.init(project=\"shw-02-cnn\")"
      ],
      "metadata": {
        "colab": {
          "base_uri": "https://localhost:8080/",
          "height": 588,
          "referenced_widgets": [
            "6b1ef5bbf56f4b99a911d369c84c60b9",
            "2ba89a1c0bce4975b189838828110de0",
            "88fdb5930c714fe7a19ef3735c9fedb5",
            "30859d25b6634e1daeb166df4186213f",
            "37c82402f3e94b878b83acc7287fe353",
            "96b212138bf045c38bd9ec40b109a999",
            "778b59f5d03c42539cb392a4a273bebf",
            "d166192fc7674e04aeae4ececb038670"
          ]
        },
        "id": "AeA_7MamF38m",
        "outputId": "e1c510c6-dd1c-4708-9a99-9ec46e889ea3"
      },
      "execution_count": 23,
      "outputs": [
        {
          "output_type": "stream",
          "name": "stderr",
          "text": [
            "ERROR:wandb.jupyter:Failed to detect the name of this notebook, you can set it manually with the WANDB_NOTEBOOK_NAME environment variable to enable code saving.\n",
            "\u001b[34m\u001b[1mwandb\u001b[0m: Currently logged in as: \u001b[33mkkorolev\u001b[0m. Use \u001b[1m`wandb login --relogin`\u001b[0m to force relogin\n"
          ]
        },
        {
          "output_type": "display_data",
          "data": {
            "text/plain": [
              "VBox(children=(Label(value='Waiting for wandb.init()...\\r'), FloatProgress(value=0.016669324583335764, max=1.0…"
            ],
            "application/vnd.jupyter.widget-view+json": {
              "version_major": 2,
              "version_minor": 0,
              "model_id": "6b1ef5bbf56f4b99a911d369c84c60b9"
            }
          },
          "metadata": {}
        },
        {
          "output_type": "display_data",
          "data": {
            "text/plain": [
              "<IPython.core.display.HTML object>"
            ],
            "text/html": [
              "Tracking run with wandb version 0.13.5"
            ]
          },
          "metadata": {}
        },
        {
          "output_type": "display_data",
          "data": {
            "text/plain": [
              "<IPython.core.display.HTML object>"
            ],
            "text/html": [
              "Run data is saved locally in <code>/content/wandb/run-20221106_131913-2p19kvtb</code>"
            ]
          },
          "metadata": {}
        },
        {
          "output_type": "display_data",
          "data": {
            "text/plain": [
              "<IPython.core.display.HTML object>"
            ],
            "text/html": [
              "Syncing run <strong><a href=\"https://wandb.ai/kkorolev/shw-02-cnn/runs/2p19kvtb\" target=\"_blank\">lemon-mountain-1</a></strong> to <a href=\"https://wandb.ai/kkorolev/shw-02-cnn\" target=\"_blank\">Weights & Biases</a> (<a href=\"https://wandb.me/run\" target=\"_blank\">docs</a>)<br/>"
            ]
          },
          "metadata": {}
        },
        {
          "output_type": "execute_result",
          "data": {
            "text/html": [
              "<button onClick=\"this.nextSibling.style.display='block';this.style.display='none';\">Display W&B run</button><iframe src=\"https://wandb.ai/kkorolev/shw-02-cnn/runs/2p19kvtb?jupyter=true\" style=\"border:none;width:100%;height:420px;display:none;\"></iframe>"
            ],
            "text/plain": [
              "<wandb.sdk.wandb_run.Run at 0x7fbfb5dad090>"
            ]
          },
          "metadata": {},
          "execution_count": 23
        }
      ]
    },
    {
      "cell_type": "code",
      "source": [
        "def train_with_logger(model, optimizer, n_epochs, train_loader, val_loader, scheduler=None):\n",
        "\n",
        "    for epoch in range(n_epochs):\n",
        "        train_loss, train_acc = train_epoch(model, optimizer, train_loader)\n",
        "        val_loss, val_acc = test(model, val_loader)\n",
        "        \n",
        "        wandb.log({'train_loss': np.mean(train_loss), 'train_acc': np.mean(train_acc), 'val_loss': val_loss, 'val_acc': val_acc})\n",
        "\n",
        "        print(f\"Epoch {epoch}\")\n",
        "        print(f\" train loss: {np.mean(train_loss)}, train acc: {np.mean(train_acc)}\")\n",
        "        print(f\" val loss: {val_loss}, val acc: {val_acc}\\n\")\n",
        "        \n",
        "        if scheduler is not None:\n",
        "            scheduler.step()\n",
        "\n",
        "optimizer = optim.SGD(net.parameters(), lr=0.1, momentum=0.9)\n",
        "train_with_logger(net, optimizer, 20, train_loader, val_loader)"
      ],
      "metadata": {
        "colab": {
          "base_uri": "https://localhost:8080/"
        },
        "id": "K6TkalP-GEjA",
        "outputId": "5a7d5ef7-ddbe-4f8e-8654-29320b8f8e3c"
      },
      "execution_count": 27,
      "outputs": [
        {
          "output_type": "stream",
          "name": "stdout",
          "text": [
            "Epoch 0\n",
            " train loss: 0.8269006886146623, train acc: 0.712702402793947\n",
            " val loss: 0.9423276203743955, val acc: 0.6775709220703612\n",
            "\n",
            "Epoch 1\n",
            " train loss: 0.8239677589815757, train acc: 0.7143550862777821\n",
            " val loss: 0.9289993106050695, val acc: 0.6850177305809995\n",
            "\n",
            "Epoch 2\n",
            " train loss: 0.8122928436757005, train acc: 0.7187948877458381\n",
            " val loss: 0.9654546349606615, val acc: 0.6703457446808511\n",
            "\n",
            "Epoch 3\n",
            " train loss: 0.8153006107541282, train acc: 0.716375032661166\n",
            " val loss: 0.9629319756589038, val acc: 0.6714539007937654\n",
            "\n",
            "Epoch 4\n",
            " train loss: 0.814054479764628, train acc: 0.7148978193673616\n",
            " val loss: 0.9362837180178216, val acc: 0.6755984042553191\n",
            "\n",
            "Epoch 5\n",
            " train loss: 0.8078210578867024, train acc: 0.7177869548963236\n",
            " val loss: 0.9200402226853878, val acc: 0.6846409574468085\n",
            "\n",
            "Epoch 6\n",
            " train loss: 0.8029139270185335, train acc: 0.7208923674588665\n",
            " val loss: 0.9661635644892429, val acc: 0.673249113559723\n",
            "\n",
            "Epoch 7\n",
            " train loss: 0.8039694446423372, train acc: 0.7211861779310585\n",
            " val loss: 1.0284346428323299, val acc: 0.6574468085106383\n",
            "\n",
            "Epoch 8\n",
            " train loss: 0.8017009973961867, train acc: 0.7181909441730004\n",
            " val loss: 0.9656997797336985, val acc: 0.6743129433469569\n",
            "\n",
            "Epoch 9\n",
            " train loss: 0.7999736862274149, train acc: 0.7191784736007397\n",
            " val loss: 0.9168280857674619, val acc: 0.6896941489361702\n",
            "\n",
            "Epoch 10\n",
            " train loss: 0.7915865716812162, train acc: 0.7264666036452411\n",
            " val loss: 0.9609086191400569, val acc: 0.6751108156873825\n",
            "\n",
            "Epoch 11\n",
            " train loss: 0.7873517018785424, train acc: 0.7265686210810157\n",
            " val loss: 0.9228473929648704, val acc: 0.6876994680851064\n",
            "\n",
            "Epoch 12\n",
            " train loss: 0.787631039700081, train acc: 0.724605804496535\n",
            " val loss: 0.9283175351771903, val acc: 0.6854609929500742\n",
            "\n",
            "Epoch 13\n",
            " train loss: 0.7925811105933878, train acc: 0.7241895730578267\n",
            " val loss: 0.9381016776916828, val acc: 0.6866134752618506\n",
            "\n",
            "Epoch 14\n",
            " train loss: 0.7832285559700438, train acc: 0.727503101394207\n",
            " val loss: 0.9199350481337689, val acc: 0.6946586880278081\n",
            "\n",
            "Epoch 15\n",
            " train loss: 0.7803187595315999, train acc: 0.7281682554503027\n",
            " val loss: 0.9134950708835683, val acc: 0.6892952127659574\n",
            "\n",
            "Epoch 16\n",
            " train loss: 0.7817586282271571, train acc: 0.7281152063357547\n",
            " val loss: 0.9758179099001782, val acc: 0.6750443263256803\n",
            "\n",
            "Epoch 17\n",
            " train loss: 0.7763330697795373, train acc: 0.7310165840267481\n",
            " val loss: 0.9888040139320049, val acc: 0.6694813829787234\n",
            "\n",
            "Epoch 18\n",
            " train loss: 0.7739392014482558, train acc: 0.7291557848780421\n",
            " val loss: 0.9290139692894956, val acc: 0.6905363476022761\n",
            "\n",
            "Epoch 19\n",
            " train loss: 0.7756880107156974, train acc: 0.7284743079755598\n",
            " val loss: 0.9092712123343285, val acc: 0.6894281914893617\n",
            "\n"
          ]
        }
      ]
    },
    {
      "cell_type": "markdown",
      "source": [
        "Графики тут\n",
        "\n",
        "https://wandb.ai/kkorolev/shw-02-cnn?workspace=user-kkorolev"
      ],
      "metadata": {
        "id": "GoXqSN8GNuqB"
      }
    },
    {
      "cell_type": "code",
      "source": [],
      "metadata": {
        "id": "F4nMc_I8Hhyg"
      },
      "execution_count": null,
      "outputs": []
    }
  ],
  "metadata": {
    "accelerator": "GPU",
    "colab": {
      "collapsed_sections": [],
      "provenance": [],
      "include_colab_link": true
    },
    "gpuClass": "standard",
    "kernelspec": {
      "display_name": "Python 3 (ipykernel)",
      "language": "python",
      "name": "python3"
    },
    "language_info": {
      "codemirror_mode": {
        "name": "ipython",
        "version": 3
      },
      "file_extension": ".py",
      "mimetype": "text/x-python",
      "name": "python",
      "nbconvert_exporter": "python",
      "pygments_lexer": "ipython3",
      "version": "3.10.4"
    },
    "widgets": {
      "application/vnd.jupyter.widget-state+json": {
        "fe0e570b7f204785acba6086fa8e6ad6": {
          "model_module": "@jupyter-widgets/controls",
          "model_name": "HBoxModel",
          "model_module_version": "1.5.0",
          "state": {
            "_dom_classes": [],
            "_model_module": "@jupyter-widgets/controls",
            "_model_module_version": "1.5.0",
            "_model_name": "HBoxModel",
            "_view_count": null,
            "_view_module": "@jupyter-widgets/controls",
            "_view_module_version": "1.5.0",
            "_view_name": "HBoxView",
            "box_style": "",
            "children": [
              "IPY_MODEL_78be302474784ca7aeea1223b9866fa9",
              "IPY_MODEL_826a87838d7e4c74bc3124da60e4405b",
              "IPY_MODEL_ed948e6ed19d4271b81d2396edf4bf3f"
            ],
            "layout": "IPY_MODEL_e34b64419466481baeb881404161ef8b"
          }
        },
        "78be302474784ca7aeea1223b9866fa9": {
          "model_module": "@jupyter-widgets/controls",
          "model_name": "HTMLModel",
          "model_module_version": "1.5.0",
          "state": {
            "_dom_classes": [],
            "_model_module": "@jupyter-widgets/controls",
            "_model_module_version": "1.5.0",
            "_model_name": "HTMLModel",
            "_view_count": null,
            "_view_module": "@jupyter-widgets/controls",
            "_view_module_version": "1.5.0",
            "_view_name": "HTMLView",
            "description": "",
            "description_tooltip": null,
            "layout": "IPY_MODEL_aa6bdc94425040e4b8a7d9c33cc032a4",
            "placeholder": "​",
            "style": "IPY_MODEL_d74f115cefbf4cf88c5cf1bb71e7b424",
            "value": "100%"
          }
        },
        "826a87838d7e4c74bc3124da60e4405b": {
          "model_module": "@jupyter-widgets/controls",
          "model_name": "FloatProgressModel",
          "model_module_version": "1.5.0",
          "state": {
            "_dom_classes": [],
            "_model_module": "@jupyter-widgets/controls",
            "_model_module_version": "1.5.0",
            "_model_name": "FloatProgressModel",
            "_view_count": null,
            "_view_module": "@jupyter-widgets/controls",
            "_view_module_version": "1.5.0",
            "_view_name": "ProgressView",
            "bar_style": "success",
            "description": "",
            "description_tooltip": null,
            "layout": "IPY_MODEL_95e076d8175046b69e72dcb18677cda2",
            "max": 170498071,
            "min": 0,
            "orientation": "horizontal",
            "style": "IPY_MODEL_03afbcc8bc0e462392876e9f90d24424",
            "value": 170498071
          }
        },
        "ed948e6ed19d4271b81d2396edf4bf3f": {
          "model_module": "@jupyter-widgets/controls",
          "model_name": "HTMLModel",
          "model_module_version": "1.5.0",
          "state": {
            "_dom_classes": [],
            "_model_module": "@jupyter-widgets/controls",
            "_model_module_version": "1.5.0",
            "_model_name": "HTMLModel",
            "_view_count": null,
            "_view_module": "@jupyter-widgets/controls",
            "_view_module_version": "1.5.0",
            "_view_name": "HTMLView",
            "description": "",
            "description_tooltip": null,
            "layout": "IPY_MODEL_23b59cbe0a284a679cbd8d7abc8ac813",
            "placeholder": "​",
            "style": "IPY_MODEL_5ccd0a78fd7f44abb67011e1d94f9298",
            "value": " 170498071/170498071 [00:01&lt;00:00, 92194675.67it/s]"
          }
        },
        "e34b64419466481baeb881404161ef8b": {
          "model_module": "@jupyter-widgets/base",
          "model_name": "LayoutModel",
          "model_module_version": "1.2.0",
          "state": {
            "_model_module": "@jupyter-widgets/base",
            "_model_module_version": "1.2.0",
            "_model_name": "LayoutModel",
            "_view_count": null,
            "_view_module": "@jupyter-widgets/base",
            "_view_module_version": "1.2.0",
            "_view_name": "LayoutView",
            "align_content": null,
            "align_items": null,
            "align_self": null,
            "border": null,
            "bottom": null,
            "display": null,
            "flex": null,
            "flex_flow": null,
            "grid_area": null,
            "grid_auto_columns": null,
            "grid_auto_flow": null,
            "grid_auto_rows": null,
            "grid_column": null,
            "grid_gap": null,
            "grid_row": null,
            "grid_template_areas": null,
            "grid_template_columns": null,
            "grid_template_rows": null,
            "height": null,
            "justify_content": null,
            "justify_items": null,
            "left": null,
            "margin": null,
            "max_height": null,
            "max_width": null,
            "min_height": null,
            "min_width": null,
            "object_fit": null,
            "object_position": null,
            "order": null,
            "overflow": null,
            "overflow_x": null,
            "overflow_y": null,
            "padding": null,
            "right": null,
            "top": null,
            "visibility": null,
            "width": null
          }
        },
        "aa6bdc94425040e4b8a7d9c33cc032a4": {
          "model_module": "@jupyter-widgets/base",
          "model_name": "LayoutModel",
          "model_module_version": "1.2.0",
          "state": {
            "_model_module": "@jupyter-widgets/base",
            "_model_module_version": "1.2.0",
            "_model_name": "LayoutModel",
            "_view_count": null,
            "_view_module": "@jupyter-widgets/base",
            "_view_module_version": "1.2.0",
            "_view_name": "LayoutView",
            "align_content": null,
            "align_items": null,
            "align_self": null,
            "border": null,
            "bottom": null,
            "display": null,
            "flex": null,
            "flex_flow": null,
            "grid_area": null,
            "grid_auto_columns": null,
            "grid_auto_flow": null,
            "grid_auto_rows": null,
            "grid_column": null,
            "grid_gap": null,
            "grid_row": null,
            "grid_template_areas": null,
            "grid_template_columns": null,
            "grid_template_rows": null,
            "height": null,
            "justify_content": null,
            "justify_items": null,
            "left": null,
            "margin": null,
            "max_height": null,
            "max_width": null,
            "min_height": null,
            "min_width": null,
            "object_fit": null,
            "object_position": null,
            "order": null,
            "overflow": null,
            "overflow_x": null,
            "overflow_y": null,
            "padding": null,
            "right": null,
            "top": null,
            "visibility": null,
            "width": null
          }
        },
        "d74f115cefbf4cf88c5cf1bb71e7b424": {
          "model_module": "@jupyter-widgets/controls",
          "model_name": "DescriptionStyleModel",
          "model_module_version": "1.5.0",
          "state": {
            "_model_module": "@jupyter-widgets/controls",
            "_model_module_version": "1.5.0",
            "_model_name": "DescriptionStyleModel",
            "_view_count": null,
            "_view_module": "@jupyter-widgets/base",
            "_view_module_version": "1.2.0",
            "_view_name": "StyleView",
            "description_width": ""
          }
        },
        "95e076d8175046b69e72dcb18677cda2": {
          "model_module": "@jupyter-widgets/base",
          "model_name": "LayoutModel",
          "model_module_version": "1.2.0",
          "state": {
            "_model_module": "@jupyter-widgets/base",
            "_model_module_version": "1.2.0",
            "_model_name": "LayoutModel",
            "_view_count": null,
            "_view_module": "@jupyter-widgets/base",
            "_view_module_version": "1.2.0",
            "_view_name": "LayoutView",
            "align_content": null,
            "align_items": null,
            "align_self": null,
            "border": null,
            "bottom": null,
            "display": null,
            "flex": null,
            "flex_flow": null,
            "grid_area": null,
            "grid_auto_columns": null,
            "grid_auto_flow": null,
            "grid_auto_rows": null,
            "grid_column": null,
            "grid_gap": null,
            "grid_row": null,
            "grid_template_areas": null,
            "grid_template_columns": null,
            "grid_template_rows": null,
            "height": null,
            "justify_content": null,
            "justify_items": null,
            "left": null,
            "margin": null,
            "max_height": null,
            "max_width": null,
            "min_height": null,
            "min_width": null,
            "object_fit": null,
            "object_position": null,
            "order": null,
            "overflow": null,
            "overflow_x": null,
            "overflow_y": null,
            "padding": null,
            "right": null,
            "top": null,
            "visibility": null,
            "width": null
          }
        },
        "03afbcc8bc0e462392876e9f90d24424": {
          "model_module": "@jupyter-widgets/controls",
          "model_name": "ProgressStyleModel",
          "model_module_version": "1.5.0",
          "state": {
            "_model_module": "@jupyter-widgets/controls",
            "_model_module_version": "1.5.0",
            "_model_name": "ProgressStyleModel",
            "_view_count": null,
            "_view_module": "@jupyter-widgets/base",
            "_view_module_version": "1.2.0",
            "_view_name": "StyleView",
            "bar_color": null,
            "description_width": ""
          }
        },
        "23b59cbe0a284a679cbd8d7abc8ac813": {
          "model_module": "@jupyter-widgets/base",
          "model_name": "LayoutModel",
          "model_module_version": "1.2.0",
          "state": {
            "_model_module": "@jupyter-widgets/base",
            "_model_module_version": "1.2.0",
            "_model_name": "LayoutModel",
            "_view_count": null,
            "_view_module": "@jupyter-widgets/base",
            "_view_module_version": "1.2.0",
            "_view_name": "LayoutView",
            "align_content": null,
            "align_items": null,
            "align_self": null,
            "border": null,
            "bottom": null,
            "display": null,
            "flex": null,
            "flex_flow": null,
            "grid_area": null,
            "grid_auto_columns": null,
            "grid_auto_flow": null,
            "grid_auto_rows": null,
            "grid_column": null,
            "grid_gap": null,
            "grid_row": null,
            "grid_template_areas": null,
            "grid_template_columns": null,
            "grid_template_rows": null,
            "height": null,
            "justify_content": null,
            "justify_items": null,
            "left": null,
            "margin": null,
            "max_height": null,
            "max_width": null,
            "min_height": null,
            "min_width": null,
            "object_fit": null,
            "object_position": null,
            "order": null,
            "overflow": null,
            "overflow_x": null,
            "overflow_y": null,
            "padding": null,
            "right": null,
            "top": null,
            "visibility": null,
            "width": null
          }
        },
        "5ccd0a78fd7f44abb67011e1d94f9298": {
          "model_module": "@jupyter-widgets/controls",
          "model_name": "DescriptionStyleModel",
          "model_module_version": "1.5.0",
          "state": {
            "_model_module": "@jupyter-widgets/controls",
            "_model_module_version": "1.5.0",
            "_model_name": "DescriptionStyleModel",
            "_view_count": null,
            "_view_module": "@jupyter-widgets/base",
            "_view_module_version": "1.2.0",
            "_view_name": "StyleView",
            "description_width": ""
          }
        },
        "6b1ef5bbf56f4b99a911d369c84c60b9": {
          "model_module": "@jupyter-widgets/controls",
          "model_name": "VBoxModel",
          "model_module_version": "1.5.0",
          "state": {
            "_dom_classes": [],
            "_model_module": "@jupyter-widgets/controls",
            "_model_module_version": "1.5.0",
            "_model_name": "VBoxModel",
            "_view_count": null,
            "_view_module": "@jupyter-widgets/controls",
            "_view_module_version": "1.5.0",
            "_view_name": "VBoxView",
            "box_style": "",
            "children": [
              "IPY_MODEL_2ba89a1c0bce4975b189838828110de0",
              "IPY_MODEL_88fdb5930c714fe7a19ef3735c9fedb5"
            ],
            "layout": "IPY_MODEL_30859d25b6634e1daeb166df4186213f"
          }
        },
        "2ba89a1c0bce4975b189838828110de0": {
          "model_module": "@jupyter-widgets/controls",
          "model_name": "LabelModel",
          "model_module_version": "1.5.0",
          "state": {
            "_dom_classes": [],
            "_model_module": "@jupyter-widgets/controls",
            "_model_module_version": "1.5.0",
            "_model_name": "LabelModel",
            "_view_count": null,
            "_view_module": "@jupyter-widgets/controls",
            "_view_module_version": "1.5.0",
            "_view_name": "LabelView",
            "description": "",
            "description_tooltip": null,
            "layout": "IPY_MODEL_37c82402f3e94b878b83acc7287fe353",
            "placeholder": "​",
            "style": "IPY_MODEL_96b212138bf045c38bd9ec40b109a999",
            "value": "Waiting for wandb.init()...\r"
          }
        },
        "88fdb5930c714fe7a19ef3735c9fedb5": {
          "model_module": "@jupyter-widgets/controls",
          "model_name": "FloatProgressModel",
          "model_module_version": "1.5.0",
          "state": {
            "_dom_classes": [],
            "_model_module": "@jupyter-widgets/controls",
            "_model_module_version": "1.5.0",
            "_model_name": "FloatProgressModel",
            "_view_count": null,
            "_view_module": "@jupyter-widgets/controls",
            "_view_module_version": "1.5.0",
            "_view_name": "ProgressView",
            "bar_style": "",
            "description": "",
            "description_tooltip": null,
            "layout": "IPY_MODEL_778b59f5d03c42539cb392a4a273bebf",
            "max": 1,
            "min": 0,
            "orientation": "horizontal",
            "style": "IPY_MODEL_d166192fc7674e04aeae4ececb038670",
            "value": 1
          }
        },
        "30859d25b6634e1daeb166df4186213f": {
          "model_module": "@jupyter-widgets/base",
          "model_name": "LayoutModel",
          "model_module_version": "1.2.0",
          "state": {
            "_model_module": "@jupyter-widgets/base",
            "_model_module_version": "1.2.0",
            "_model_name": "LayoutModel",
            "_view_count": null,
            "_view_module": "@jupyter-widgets/base",
            "_view_module_version": "1.2.0",
            "_view_name": "LayoutView",
            "align_content": null,
            "align_items": null,
            "align_self": null,
            "border": null,
            "bottom": null,
            "display": null,
            "flex": null,
            "flex_flow": null,
            "grid_area": null,
            "grid_auto_columns": null,
            "grid_auto_flow": null,
            "grid_auto_rows": null,
            "grid_column": null,
            "grid_gap": null,
            "grid_row": null,
            "grid_template_areas": null,
            "grid_template_columns": null,
            "grid_template_rows": null,
            "height": null,
            "justify_content": null,
            "justify_items": null,
            "left": null,
            "margin": null,
            "max_height": null,
            "max_width": null,
            "min_height": null,
            "min_width": null,
            "object_fit": null,
            "object_position": null,
            "order": null,
            "overflow": null,
            "overflow_x": null,
            "overflow_y": null,
            "padding": null,
            "right": null,
            "top": null,
            "visibility": null,
            "width": null
          }
        },
        "37c82402f3e94b878b83acc7287fe353": {
          "model_module": "@jupyter-widgets/base",
          "model_name": "LayoutModel",
          "model_module_version": "1.2.0",
          "state": {
            "_model_module": "@jupyter-widgets/base",
            "_model_module_version": "1.2.0",
            "_model_name": "LayoutModel",
            "_view_count": null,
            "_view_module": "@jupyter-widgets/base",
            "_view_module_version": "1.2.0",
            "_view_name": "LayoutView",
            "align_content": null,
            "align_items": null,
            "align_self": null,
            "border": null,
            "bottom": null,
            "display": null,
            "flex": null,
            "flex_flow": null,
            "grid_area": null,
            "grid_auto_columns": null,
            "grid_auto_flow": null,
            "grid_auto_rows": null,
            "grid_column": null,
            "grid_gap": null,
            "grid_row": null,
            "grid_template_areas": null,
            "grid_template_columns": null,
            "grid_template_rows": null,
            "height": null,
            "justify_content": null,
            "justify_items": null,
            "left": null,
            "margin": null,
            "max_height": null,
            "max_width": null,
            "min_height": null,
            "min_width": null,
            "object_fit": null,
            "object_position": null,
            "order": null,
            "overflow": null,
            "overflow_x": null,
            "overflow_y": null,
            "padding": null,
            "right": null,
            "top": null,
            "visibility": null,
            "width": null
          }
        },
        "96b212138bf045c38bd9ec40b109a999": {
          "model_module": "@jupyter-widgets/controls",
          "model_name": "DescriptionStyleModel",
          "model_module_version": "1.5.0",
          "state": {
            "_model_module": "@jupyter-widgets/controls",
            "_model_module_version": "1.5.0",
            "_model_name": "DescriptionStyleModel",
            "_view_count": null,
            "_view_module": "@jupyter-widgets/base",
            "_view_module_version": "1.2.0",
            "_view_name": "StyleView",
            "description_width": ""
          }
        },
        "778b59f5d03c42539cb392a4a273bebf": {
          "model_module": "@jupyter-widgets/base",
          "model_name": "LayoutModel",
          "model_module_version": "1.2.0",
          "state": {
            "_model_module": "@jupyter-widgets/base",
            "_model_module_version": "1.2.0",
            "_model_name": "LayoutModel",
            "_view_count": null,
            "_view_module": "@jupyter-widgets/base",
            "_view_module_version": "1.2.0",
            "_view_name": "LayoutView",
            "align_content": null,
            "align_items": null,
            "align_self": null,
            "border": null,
            "bottom": null,
            "display": null,
            "flex": null,
            "flex_flow": null,
            "grid_area": null,
            "grid_auto_columns": null,
            "grid_auto_flow": null,
            "grid_auto_rows": null,
            "grid_column": null,
            "grid_gap": null,
            "grid_row": null,
            "grid_template_areas": null,
            "grid_template_columns": null,
            "grid_template_rows": null,
            "height": null,
            "justify_content": null,
            "justify_items": null,
            "left": null,
            "margin": null,
            "max_height": null,
            "max_width": null,
            "min_height": null,
            "min_width": null,
            "object_fit": null,
            "object_position": null,
            "order": null,
            "overflow": null,
            "overflow_x": null,
            "overflow_y": null,
            "padding": null,
            "right": null,
            "top": null,
            "visibility": null,
            "width": null
          }
        },
        "d166192fc7674e04aeae4ececb038670": {
          "model_module": "@jupyter-widgets/controls",
          "model_name": "ProgressStyleModel",
          "model_module_version": "1.5.0",
          "state": {
            "_model_module": "@jupyter-widgets/controls",
            "_model_module_version": "1.5.0",
            "_model_name": "ProgressStyleModel",
            "_view_count": null,
            "_view_module": "@jupyter-widgets/base",
            "_view_module_version": "1.2.0",
            "_view_name": "StyleView",
            "bar_color": null,
            "description_width": ""
          }
        }
      }
    }
  },
  "nbformat": 4,
  "nbformat_minor": 0
}